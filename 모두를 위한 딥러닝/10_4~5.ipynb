{
  "nbformat": 4,
  "nbformat_minor": 0,
  "metadata": {
    "colab": {
      "name": "10-4~5.ipynb",
      "provenance": [],
      "collapsed_sections": [
        "0kcpS0DKS-Fc"
      ],
      "authorship_tag": "ABX9TyNOHnc6SN9KGCd/dVfnnYYx"
    },
    "kernelspec": {
      "name": "python3",
      "display_name": "Python 3"
    },
    "language_info": {
      "name": "python"
    },
    "accelerator": "GPU"
  },
  "cells": [
    {
      "cell_type": "markdown",
      "metadata": {
        "id": "0kcpS0DKS-Fc"
      },
      "source": [
        "# Lab-10-4-1 ImageFolder1\n"
      ]
    },
    {
      "cell_type": "code",
      "metadata": {
        "colab": {
          "base_uri": "https://localhost:8080/"
        },
        "id": "BHDk5-G1S6tV",
        "outputId": "f4628e1f-9299-4d3f-c780-2cf3fe3e7176"
      },
      "source": [
        "!git clone https://github.com/deeplearningzerotoall/PyTorch"
      ],
      "execution_count": 1,
      "outputs": [
        {
          "output_type": "stream",
          "text": [
            "Cloning into 'PyTorch'...\n",
            "remote: Enumerating objects: 1899, done.\u001b[K\n",
            "remote: Total 1899 (delta 0), reused 0 (delta 0), pack-reused 1899\u001b[K\n",
            "Receiving objects: 100% (1899/1899), 80.33 MiB | 22.64 MiB/s, done.\n",
            "Resolving deltas: 100% (242/242), done.\n"
          ],
          "name": "stdout"
        }
      ]
    },
    {
      "cell_type": "code",
      "metadata": {
        "id": "y274_EAkTyfr"
      },
      "source": [
        "import torchvision\n",
        "import torch\n",
        "from torchvision import transforms\n",
        "\n",
        "from torch.utils.data import DataLoader\n",
        "from matplotlib.pyplot import imshow"
      ],
      "execution_count": 2,
      "outputs": []
    },
    {
      "cell_type": "code",
      "metadata": {
        "id": "YkLCibJ5UCn8"
      },
      "source": [
        "%matplotlib inline"
      ],
      "execution_count": 3,
      "outputs": []
    },
    {
      "cell_type": "code",
      "metadata": {
        "id": "XicjlakVUHTC"
      },
      "source": [
        "trans = transforms.Compose([\n",
        "     transforms.Resize((64, 128))                       \n",
        "])\n",
        "\n",
        "train_data = torchvision.datasets.ImageFolder(root = 'PyTorch/custom_data/origin_data',\n",
        "                                              transform = trans)\n"
      ],
      "execution_count": 4,
      "outputs": []
    },
    {
      "cell_type": "markdown",
      "metadata": {
        "id": "VgIaLsEmU8FO"
      },
      "source": [
        "data size is 512 x 256 : so Big"
      ]
    },
    {
      "cell_type": "code",
      "metadata": {
        "colab": {
          "base_uri": "https://localhost:8080/"
        },
        "id": "WjOPnxwsUZzi",
        "outputId": "f3ddd0e0-395f-4f70-f2f9-c6a7382f5e2e"
      },
      "source": [
        "for num, value in enumerate(train_data):\n",
        "  data, label = value\n",
        "  print(num, data, label)\n",
        "\n",
        "  if(label == 0):\n",
        "    data.save('PyTorch/custom_data/origin_data/gray/%d_%d.jpeg'%(num,label))\n",
        "  else:\n",
        "    data.save('PyTorch/custom_data/origin_data/red/%d_%d.jpeg'%(num, label))"
      ],
      "execution_count": 5,
      "outputs": [
        {
          "output_type": "stream",
          "text": [
            "0 <PIL.Image.Image image mode=RGB size=128x64 at 0x7F1F70328210> 0\n",
            "1 <PIL.Image.Image image mode=RGB size=128x64 at 0x7F1F7031A710> 0\n",
            "2 <PIL.Image.Image image mode=RGB size=128x64 at 0x7F1F70AD8650> 0\n",
            "3 <PIL.Image.Image image mode=RGB size=128x64 at 0x7F1F7031A890> 0\n",
            "4 <PIL.Image.Image image mode=RGB size=128x64 at 0x7F1F7031AB50> 0\n",
            "5 <PIL.Image.Image image mode=RGB size=128x64 at 0x7F1F7031AC10> 0\n",
            "6 <PIL.Image.Image image mode=RGB size=128x64 at 0x7F1F7031ABD0> 0\n",
            "7 <PIL.Image.Image image mode=RGB size=128x64 at 0x7F1F7031AD90> 0\n",
            "8 <PIL.Image.Image image mode=RGB size=128x64 at 0x7F1F7031AC50> 0\n",
            "9 <PIL.Image.Image image mode=RGB size=128x64 at 0x7F1F7031AA50> 0\n",
            "10 <PIL.Image.Image image mode=RGB size=128x64 at 0x7F1F7031AE10> 0\n",
            "11 <PIL.Image.Image image mode=RGB size=128x64 at 0x7F1F7031AAD0> 0\n",
            "12 <PIL.Image.Image image mode=RGB size=128x64 at 0x7F1F7031A8D0> 0\n",
            "13 <PIL.Image.Image image mode=RGB size=128x64 at 0x7F1F7031A950> 0\n",
            "14 <PIL.Image.Image image mode=RGB size=128x64 at 0x7F1F7031AA10> 0\n",
            "15 <PIL.Image.Image image mode=RGB size=128x64 at 0x7F1F7031ACD0> 0\n",
            "16 <PIL.Image.Image image mode=RGB size=128x64 at 0x7F1F7031AFD0> 0\n",
            "17 <PIL.Image.Image image mode=RGB size=128x64 at 0x7F1F7031A910> 0\n",
            "18 <PIL.Image.Image image mode=RGB size=128x64 at 0x7F1F7031ADD0> 0\n",
            "19 <PIL.Image.Image image mode=RGB size=128x64 at 0x7F1F7031A710> 0\n",
            "20 <PIL.Image.Image image mode=RGB size=128x64 at 0x7F1F7031AF90> 0\n",
            "21 <PIL.Image.Image image mode=RGB size=128x64 at 0x7F1F7031AB10> 0\n",
            "22 <PIL.Image.Image image mode=RGB size=128x64 at 0x7F1F702A7550> 0\n",
            "23 <PIL.Image.Image image mode=RGB size=128x64 at 0x7F1F7031AD50> 0\n",
            "24 <PIL.Image.Image image mode=RGB size=128x64 at 0x7F1F702A75D0> 0\n",
            "25 <PIL.Image.Image image mode=RGB size=128x64 at 0x7F1F702A7510> 0\n",
            "26 <PIL.Image.Image image mode=RGB size=128x64 at 0x7F1F702A76D0> 0\n",
            "27 <PIL.Image.Image image mode=RGB size=128x64 at 0x7F1F702A7550> 0\n",
            "28 <PIL.Image.Image image mode=RGB size=128x64 at 0x7F1F702A7850> 0\n",
            "29 <PIL.Image.Image image mode=RGB size=128x64 at 0x7F1F702A7610> 0\n",
            "30 <PIL.Image.Image image mode=RGB size=128x64 at 0x7F1F702A7790> 0\n",
            "31 <PIL.Image.Image image mode=RGB size=128x64 at 0x7F1F702A79D0> 0\n",
            "32 <PIL.Image.Image image mode=RGB size=128x64 at 0x7F1F702A7750> 0\n",
            "33 <PIL.Image.Image image mode=RGB size=128x64 at 0x7F1F702A7650> 0\n",
            "34 <PIL.Image.Image image mode=RGB size=128x64 at 0x7F1F702A7B50> 0\n",
            "35 <PIL.Image.Image image mode=RGB size=128x64 at 0x7F1F702A7590> 0\n",
            "36 <PIL.Image.Image image mode=RGB size=128x64 at 0x7F1F702A7C50> 0\n",
            "37 <PIL.Image.Image image mode=RGB size=128x64 at 0x7F1F702A7CD0> 0\n",
            "38 <PIL.Image.Image image mode=RGB size=128x64 at 0x7F1F702A7BD0> 0\n",
            "39 <PIL.Image.Image image mode=RGB size=128x64 at 0x7F1F702A7DD0> 0\n",
            "40 <PIL.Image.Image image mode=RGB size=128x64 at 0x7F1F702A7C90> 0\n",
            "41 <PIL.Image.Image image mode=RGB size=128x64 at 0x7F1F702A7D10> 0\n",
            "42 <PIL.Image.Image image mode=RGB size=128x64 at 0x7F1F702A75D0> 0\n",
            "43 <PIL.Image.Image image mode=RGB size=128x64 at 0x7F1F70314A10> 0\n",
            "44 <PIL.Image.Image image mode=RGB size=128x64 at 0x7F1F70328210> 0\n",
            "45 <PIL.Image.Image image mode=RGB size=128x64 at 0x7F1F7031AA50> 0\n",
            "46 <PIL.Image.Image image mode=RGB size=128x64 at 0x7F1FC6F702D0> 0\n",
            "47 <PIL.Image.Image image mode=RGB size=128x64 at 0x7F1F7031A890> 0\n",
            "48 <PIL.Image.Image image mode=RGB size=128x64 at 0x7F1F7031AAD0> 0\n",
            "49 <PIL.Image.Image image mode=RGB size=128x64 at 0x7F1F7031AC90> 0\n",
            "50 <PIL.Image.Image image mode=RGB size=128x64 at 0x7F1F7031A910> 0\n",
            "51 <PIL.Image.Image image mode=RGB size=128x64 at 0x7F1F7031ADD0> 0\n",
            "52 <PIL.Image.Image image mode=RGB size=128x64 at 0x7F1F7031AFD0> 0\n",
            "53 <PIL.Image.Image image mode=RGB size=128x64 at 0x7F1F7031A8D0> 0\n",
            "54 <PIL.Image.Image image mode=RGB size=128x64 at 0x7F1F7031AA50> 0\n",
            "55 <PIL.Image.Image image mode=RGB size=128x64 at 0x7F1F7031AC50> 0\n",
            "56 <PIL.Image.Image image mode=RGB size=128x64 at 0x7F1F7031AD90> 0\n",
            "57 <PIL.Image.Image image mode=RGB size=128x64 at 0x7F1F7031AA90> 0\n",
            "58 <PIL.Image.Image image mode=RGB size=128x64 at 0x7F1F7031AE50> 0\n",
            "59 <PIL.Image.Image image mode=RGB size=128x64 at 0x7F1F7031A750> 0\n",
            "60 <PIL.Image.Image image mode=RGB size=128x64 at 0x7F1F7031AE10> 0\n",
            "61 <PIL.Image.Image image mode=RGB size=128x64 at 0x7F1F7031AF90> 0\n",
            "62 <PIL.Image.Image image mode=RGB size=128x64 at 0x7F1F7031ACD0> 0\n",
            "63 <PIL.Image.Image image mode=RGB size=128x64 at 0x7F1F7031A090> 0\n",
            "64 <PIL.Image.Image image mode=RGB size=128x64 at 0x7F1F7031A950> 0\n",
            "65 <PIL.Image.Image image mode=RGB size=128x64 at 0x7F1F7031AB10> 0\n",
            "66 <PIL.Image.Image image mode=RGB size=128x64 at 0x7F1F702A7550> 0\n",
            "67 <PIL.Image.Image image mode=RGB size=128x64 at 0x7F1F702A7490> 0\n",
            "68 <PIL.Image.Image image mode=RGB size=128x64 at 0x7F1F702A7210> 0\n",
            "69 <PIL.Image.Image image mode=RGB size=128x64 at 0x7F1F702A7050> 0\n",
            "70 <PIL.Image.Image image mode=RGB size=128x64 at 0x7F1F702A77D0> 0\n",
            "71 <PIL.Image.Image image mode=RGB size=128x64 at 0x7F1F702A7290> 0\n",
            "72 <PIL.Image.Image image mode=RGB size=128x64 at 0x7F1F702A7FD0> 0\n",
            "73 <PIL.Image.Image image mode=RGB size=128x64 at 0x7F1F702A7150> 0\n",
            "74 <PIL.Image.Image image mode=RGB size=128x64 at 0x7F1F702A7390> 0\n",
            "75 <PIL.Image.Image image mode=RGB size=128x64 at 0x7F1F702A7750> 0\n",
            "76 <PIL.Image.Image image mode=RGB size=128x64 at 0x7F1F702A7A10> 0\n",
            "77 <PIL.Image.Image image mode=RGB size=128x64 at 0x7F1F702A7C50> 0\n",
            "78 <PIL.Image.Image image mode=RGB size=128x64 at 0x7F1F702A7950> 0\n",
            "79 <PIL.Image.Image image mode=RGB size=128x64 at 0x7F1F702A7410> 0\n",
            "80 <PIL.Image.Image image mode=RGB size=128x64 at 0x7F1F702A7550> 0\n",
            "81 <PIL.Image.Image image mode=RGB size=128x64 at 0x7F1F702A7CD0> 0\n",
            "82 <PIL.Image.Image image mode=RGB size=128x64 at 0x7F1F702A76D0> 0\n",
            "83 <PIL.Image.Image image mode=RGB size=128x64 at 0x7F1F702A7B90> 0\n",
            "84 <PIL.Image.Image image mode=RGB size=128x64 at 0x7F1F702A70D0> 0\n",
            "85 <PIL.Image.Image image mode=RGB size=128x64 at 0x7F1F70AD8650> 0\n",
            "86 <PIL.Image.Image image mode=RGB size=128x64 at 0x7F1F70328090> 0\n",
            "87 <PIL.Image.Image image mode=RGB size=128x64 at 0x7F1FC6F702D0> 0\n",
            "88 <PIL.Image.Image image mode=RGB size=128x64 at 0x7F1F70314A10> 0\n",
            "89 <PIL.Image.Image image mode=RGB size=128x64 at 0x7F1F7031A710> 0\n",
            "90 <PIL.Image.Image image mode=RGB size=128x64 at 0x7F1F7031A7D0> 0\n",
            "91 <PIL.Image.Image image mode=RGB size=128x64 at 0x7F1F7031A9D0> 0\n",
            "92 <PIL.Image.Image image mode=RGB size=128x64 at 0x7F1F7031AF10> 0\n",
            "93 <PIL.Image.Image image mode=RGB size=128x64 at 0x7F1F7031AFD0> 0\n",
            "94 <PIL.Image.Image image mode=RGB size=128x64 at 0x7F1F7031AB50> 0\n",
            "95 <PIL.Image.Image image mode=RGB size=128x64 at 0x7F1F7031AE50> 0\n",
            "96 <PIL.Image.Image image mode=RGB size=128x64 at 0x7F1F7031AE90> 0\n",
            "97 <PIL.Image.Image image mode=RGB size=128x64 at 0x7F1F7031ADD0> 0\n",
            "98 <PIL.Image.Image image mode=RGB size=128x64 at 0x7F1F7031A6D0> 0\n",
            "99 <PIL.Image.Image image mode=RGB size=128x64 at 0x7F1F7031A950> 0\n",
            "100 <PIL.Image.Image image mode=RGB size=128x64 at 0x7F1F7031AF90> 0\n",
            "101 <PIL.Image.Image image mode=RGB size=128x64 at 0x7F1F7031A710> 0\n",
            "102 <PIL.Image.Image image mode=RGB size=128x64 at 0x7F1F7031AD90> 0\n",
            "103 <PIL.Image.Image image mode=RGB size=128x64 at 0x7F1F7031A090> 0\n",
            "104 <PIL.Image.Image image mode=RGB size=128x64 at 0x7F1F7031AB10> 0\n",
            "105 <PIL.Image.Image image mode=RGB size=128x64 at 0x7F1F7031AD50> 0\n",
            "106 <PIL.Image.Image image mode=RGB size=128x64 at 0x7F1F702A7490> 0\n",
            "107 <PIL.Image.Image image mode=RGB size=128x64 at 0x7F1F7031A750> 0\n",
            "108 <PIL.Image.Image image mode=RGB size=128x64 at 0x7F1F702A7050> 0\n",
            "109 <PIL.Image.Image image mode=RGB size=128x64 at 0x7F1F702A7590> 0\n",
            "110 <PIL.Image.Image image mode=RGB size=128x64 at 0x7F1F702A7390> 0\n",
            "111 <PIL.Image.Image image mode=RGB size=128x64 at 0x7F1F702A7210> 0\n",
            "112 <PIL.Image.Image image mode=RGB size=128x64 at 0x7F1F702A7450> 0\n",
            "113 <PIL.Image.Image image mode=RGB size=128x64 at 0x7F1F702A7FD0> 0\n",
            "114 <PIL.Image.Image image mode=RGB size=128x64 at 0x7F1F702A77D0> 0\n",
            "115 <PIL.Image.Image image mode=RGB size=128x64 at 0x7F1F702A7150> 0\n",
            "116 <PIL.Image.Image image mode=RGB size=128x64 at 0x7F1F702A73D0> 0\n",
            "117 <PIL.Image.Image image mode=RGB size=128x64 at 0x7F1F702A7110> 0\n",
            "118 <PIL.Image.Image image mode=RGB size=128x64 at 0x7F1F702A7550> 0\n",
            "119 <PIL.Image.Image image mode=RGB size=128x64 at 0x7F1F702A7610> 0\n",
            "120 <PIL.Image.Image image mode=RGB size=128x64 at 0x7F1F702A7250> 0\n",
            "121 <PIL.Image.Image image mode=RGB size=128x64 at 0x7F1F702A7090> 0\n",
            "122 <PIL.Image.Image image mode=RGB size=128x64 at 0x7F1F702A7C50> 0\n",
            "123 <PIL.Image.Image image mode=RGB size=128x64 at 0x7F1F702A72D0> 0\n",
            "124 <PIL.Image.Image image mode=RGB size=128x64 at 0x7F1F702A7C10> 0\n",
            "125 <PIL.Image.Image image mode=RGB size=128x64 at 0x7F1F702A7D90> 0\n",
            "126 <PIL.Image.Image image mode=RGB size=128x64 at 0x7F1F702A7290> 0\n",
            "127 <PIL.Image.Image image mode=RGB size=128x64 at 0x7F1FC7D45950> 0\n",
            "128 <PIL.Image.Image image mode=RGB size=128x64 at 0x7F1F70328210> 0\n",
            "129 <PIL.Image.Image image mode=RGB size=128x64 at 0x7F1F70328050> 0\n",
            "130 <PIL.Image.Image image mode=RGB size=128x64 at 0x7F1F703088D0> 0\n",
            "131 <PIL.Image.Image image mode=RGB size=128x64 at 0x7F1F7031AFD0> 0\n",
            "132 <PIL.Image.Image image mode=RGB size=128x64 at 0x7F1F70AD8650> 0\n",
            "133 <PIL.Image.Image image mode=RGB size=128x64 at 0x7F1F7031AC90> 0\n",
            "134 <PIL.Image.Image image mode=RGB size=128x64 at 0x7F1F7031AFD0> 0\n",
            "135 <PIL.Image.Image image mode=RGB size=128x64 at 0x7F1F7031AF90> 0\n",
            "136 <PIL.Image.Image image mode=RGB size=128x64 at 0x7F1F7031AC50> 0\n",
            "137 <PIL.Image.Image image mode=RGB size=128x64 at 0x7F1F7031AB90> 0\n",
            "138 <PIL.Image.Image image mode=RGB size=128x64 at 0x7F1F7031AD90> 0\n",
            "139 <PIL.Image.Image image mode=RGB size=128x64 at 0x7F1F7031A9D0> 0\n",
            "140 <PIL.Image.Image image mode=RGB size=128x64 at 0x7F1F7031A750> 0\n",
            "141 <PIL.Image.Image image mode=RGB size=128x64 at 0x7F1F7031A710> 0\n",
            "142 <PIL.Image.Image image mode=RGB size=128x64 at 0x7F1F7031A7D0> 0\n",
            "143 <PIL.Image.Image image mode=RGB size=128x64 at 0x7F1F7031AED0> 0\n",
            "144 <PIL.Image.Image image mode=RGB size=128x64 at 0x7F1F7031AD10> 0\n",
            "145 <PIL.Image.Image image mode=RGB size=128x64 at 0x7F1F7031A090> 0\n",
            "146 <PIL.Image.Image image mode=RGB size=128x64 at 0x7F1F7031AE10> 0\n",
            "147 <PIL.Image.Image image mode=RGB size=128x64 at 0x7F1F7031AB10> 0\n",
            "148 <PIL.Image.Image image mode=RGB size=128x64 at 0x7F1F702A7A90> 0\n",
            "149 <PIL.Image.Image image mode=RGB size=128x64 at 0x7F1F7031A6D0> 0\n",
            "150 <PIL.Image.Image image mode=RGB size=128x64 at 0x7F1F702A7450> 0\n",
            "151 <PIL.Image.Image image mode=RGB size=128x64 at 0x7F1F702A7690> 0\n",
            "152 <PIL.Image.Image image mode=RGB size=128x64 at 0x7F1F702A7150> 0\n",
            "153 <PIL.Image.Image image mode=RGB size=128x64 at 0x7F1F702A7210> 0\n",
            "154 <PIL.Image.Image image mode=RGB size=128x64 at 0x7F1F702A7110> 0\n",
            "155 <PIL.Image.Image image mode=RGB size=128x64 at 0x7F1F702A7550> 0\n",
            "156 <PIL.Image.Image image mode=RGB size=128x64 at 0x7F1F702A73D0> 0\n",
            "157 <PIL.Image.Image image mode=RGB size=128x64 at 0x7F1F702A7250> 0\n",
            "158 <PIL.Image.Image image mode=RGB size=128x64 at 0x7F1F702A7B50> 0\n",
            "159 <PIL.Image.Image image mode=RGB size=128x64 at 0x7F1F702A7C50> 0\n",
            "160 <PIL.Image.Image image mode=RGB size=128x64 at 0x7F1F702A72D0> 0\n",
            "161 <PIL.Image.Image image mode=RGB size=128x64 at 0x7F1F702A7C10> 0\n",
            "162 <PIL.Image.Image image mode=RGB size=128x64 at 0x7F1F702A79D0> 0\n",
            "163 <PIL.Image.Image image mode=RGB size=128x64 at 0x7F1F702A7810> 0\n",
            "164 <PIL.Image.Image image mode=RGB size=128x64 at 0x7F1F702A7390> 0\n",
            "165 <PIL.Image.Image image mode=RGB size=128x64 at 0x7F1F702A7A10> 0\n",
            "166 <PIL.Image.Image image mode=RGB size=128x64 at 0x7F1F702A7710> 0\n",
            "167 <PIL.Image.Image image mode=RGB size=128x64 at 0x7F1F702A7190> 0\n",
            "168 <PIL.Image.Image image mode=RGB size=128x64 at 0x7F1F702A7D90> 0\n",
            "169 <PIL.Image.Image image mode=RGB size=128x64 at 0x7F1F702A7050> 0\n",
            "170 <PIL.Image.Image image mode=RGB size=128x64 at 0x7F1F70314A10> 0\n",
            "171 <PIL.Image.Image image mode=RGB size=128x64 at 0x7F1F70328090> 0\n",
            "172 <PIL.Image.Image image mode=RGB size=128x64 at 0x7F1F703088D0> 0\n",
            "173 <PIL.Image.Image image mode=RGB size=128x64 at 0x7F1F70328050> 0\n",
            "174 <PIL.Image.Image image mode=RGB size=128x64 at 0x7F1F7031AFD0> 0\n",
            "175 <PIL.Image.Image image mode=RGB size=128x64 at 0x7F1FC7D45950> 0\n",
            "176 <PIL.Image.Image image mode=RGB size=128x64 at 0x7F1F7031AD50> 0\n",
            "177 <PIL.Image.Image image mode=RGB size=128x64 at 0x7F1F7031A710> 0\n",
            "178 <PIL.Image.Image image mode=RGB size=128x64 at 0x7F1F7031AE50> 0\n",
            "179 <PIL.Image.Image image mode=RGB size=128x64 at 0x7F1F7031A090> 0\n",
            "180 <PIL.Image.Image image mode=RGB size=128x64 at 0x7F1F7031A9D0> 0\n",
            "181 <PIL.Image.Image image mode=RGB size=128x64 at 0x7F1F7031A6D0> 0\n",
            "182 <PIL.Image.Image image mode=RGB size=128x64 at 0x7F1F7031A790> 0\n",
            "183 <PIL.Image.Image image mode=RGB size=128x64 at 0x7F1F7031AF10> 0\n",
            "184 <PIL.Image.Image image mode=RGB size=128x64 at 0x7F1F7031AB10> 0\n",
            "185 <PIL.Image.Image image mode=RGB size=128x64 at 0x7F1F7031AC50> 0\n",
            "186 <PIL.Image.Image image mode=RGB size=128x64 at 0x7F1F7031AED0> 0\n",
            "187 <PIL.Image.Image image mode=RGB size=128x64 at 0x7F1F7031AC90> 0\n",
            "188 <PIL.Image.Image image mode=RGB size=128x64 at 0x7F1F7031AA10> 0\n",
            "189 <PIL.Image.Image image mode=RGB size=128x64 at 0x7F1F7031AE10> 0\n",
            "190 <PIL.Image.Image image mode=RGB size=128x64 at 0x7F1F7031A950> 0\n",
            "191 <PIL.Image.Image image mode=RGB size=128x64 at 0x7F1F7031AA90> 0\n",
            "192 <PIL.Image.Image image mode=RGB size=128x64 at 0x7F1F7031AD90> 0\n",
            "193 <PIL.Image.Image image mode=RGB size=128x64 at 0x7F1F702A7D50> 0\n",
            "194 <PIL.Image.Image image mode=RGB size=128x64 at 0x7F1F7031A890> 0\n",
            "195 <PIL.Image.Image image mode=RGB size=128x64 at 0x7F1F702A7DD0> 0\n",
            "196 <PIL.Image.Image image mode=RGB size=128x64 at 0x7F1F702A77D0> 0\n",
            "197 <PIL.Image.Image image mode=RGB size=128x64 at 0x7F1F702A7D50> 0\n",
            "198 <PIL.Image.Image image mode=RGB size=128x64 at 0x7F1F702A7450> 0\n",
            "199 <PIL.Image.Image image mode=RGB size=128x64 at 0x7F1F702A7CD0> 0\n",
            "200 <PIL.Image.Image image mode=RGB size=128x64 at 0x7F1F702A71D0> 0\n",
            "201 <PIL.Image.Image image mode=RGB size=128x64 at 0x7F1F702A7A90> 0\n",
            "202 <PIL.Image.Image image mode=RGB size=128x64 at 0x7F1F702A7050> 0\n",
            "203 <PIL.Image.Image image mode=RGB size=128x64 at 0x7F1F702A7210> 0\n",
            "204 <PIL.Image.Image image mode=RGB size=128x64 at 0x7F1F702A7610> 0\n",
            "205 <PIL.Image.Image image mode=RGB size=128x64 at 0x7F1F702A7590> 0\n",
            "206 <PIL.Image.Image image mode=RGB size=128x64 at 0x7F1F702A7A50> 0\n",
            "207 <PIL.Image.Image image mode=RGB size=128x64 at 0x7F1F702A7E50> 0\n",
            "208 <PIL.Image.Image image mode=RGB size=128x64 at 0x7F1F702A7F50> 0\n",
            "209 <PIL.Image.Image image mode=RGB size=128x64 at 0x7F1F70AD8650> 0\n",
            "210 <PIL.Image.Image image mode=RGB size=128x64 at 0x7F1F70328050> 0\n",
            "211 <PIL.Image.Image image mode=RGB size=128x64 at 0x7F1FC7456150> 0\n",
            "212 <PIL.Image.Image image mode=RGB size=128x64 at 0x7F1F70328210> 0\n",
            "213 <PIL.Image.Image image mode=RGB size=128x64 at 0x7F1F70314A10> 0\n",
            "214 <PIL.Image.Image image mode=RGB size=128x64 at 0x7F1F7031A7D0> 0\n",
            "215 <PIL.Image.Image image mode=RGB size=128x64 at 0x7F1F7031AF90> 0\n",
            "216 <PIL.Image.Image image mode=RGB size=128x64 at 0x7F1F7031AA10> 0\n",
            "217 <PIL.Image.Image image mode=RGB size=128x64 at 0x7F1F7031AF10> 0\n",
            "218 <PIL.Image.Image image mode=RGB size=128x64 at 0x7F1F7031AED0> 0\n",
            "219 <PIL.Image.Image image mode=RGB size=128x64 at 0x7F1F7031A910> 0\n",
            "220 <PIL.Image.Image image mode=RGB size=128x64 at 0x7F1F7031A950> 0\n",
            "221 <PIL.Image.Image image mode=RGB size=128x64 at 0x7F1F7031AE90> 0\n",
            "222 <PIL.Image.Image image mode=RGB size=128x64 at 0x7F1F7031AE10> 0\n",
            "223 <PIL.Image.Image image mode=RGB size=128x64 at 0x7F1F7031AC10> 0\n",
            "224 <PIL.Image.Image image mode=RGB size=128x64 at 0x7F1F7031A890> 0\n",
            "225 <PIL.Image.Image image mode=RGB size=128x64 at 0x7F1F7031AFD0> 0\n",
            "226 <PIL.Image.Image image mode=RGB size=128x64 at 0x7F1F7031AD10> 0\n",
            "227 <PIL.Image.Image image mode=RGB size=128x64 at 0x7F1F7031A750> 0\n",
            "228 <PIL.Image.Image image mode=RGB size=128x64 at 0x7F1F7031A790> 0\n",
            "229 <PIL.Image.Image image mode=RGB size=128x64 at 0x7F1F7031AB10> 0\n",
            "230 <PIL.Image.Image image mode=RGB size=128x64 at 0x7F1F7031AD90> 0\n",
            "231 <PIL.Image.Image image mode=RGB size=128x64 at 0x7F1F702A7B90> 0\n",
            "232 <PIL.Image.Image image mode=RGB size=128x64 at 0x7F1F702A7D50> 0\n",
            "233 <PIL.Image.Image image mode=RGB size=128x64 at 0x7F1F702A7550> 0\n",
            "234 <PIL.Image.Image image mode=RGB size=128x64 at 0x7F1F702A7410> 0\n",
            "235 <PIL.Image.Image image mode=RGB size=128x64 at 0x7F1F702A7050> 0\n",
            "236 <PIL.Image.Image image mode=RGB size=128x64 at 0x7F1F702A7A90> 0\n",
            "237 <PIL.Image.Image image mode=RGB size=128x64 at 0x7F1F702A75D0> 0\n",
            "238 <PIL.Image.Image image mode=RGB size=128x64 at 0x7F1F702A7910> 0\n",
            "239 <PIL.Image.Image image mode=RGB size=128x64 at 0x7F1F702A7B50> 0\n",
            "240 <PIL.Image.Image image mode=RGB size=128x64 at 0x7F1F702A7C90> 0\n",
            "241 <PIL.Image.Image image mode=RGB size=128x64 at 0x7F1F702A73D0> 0\n",
            "242 <PIL.Image.Image image mode=RGB size=128x64 at 0x7F1F702A77D0> 0\n",
            "243 <PIL.Image.Image image mode=RGB size=128x64 at 0x7F1F702A7850> 0\n",
            "244 <PIL.Image.Image image mode=RGB size=128x64 at 0x7F1F702A7250> 0\n",
            "245 <PIL.Image.Image image mode=RGB size=128x64 at 0x7F1F702A7F90> 0\n",
            "246 <PIL.Image.Image image mode=RGB size=128x64 at 0x7F1F702A7710> 0\n",
            "247 <PIL.Image.Image image mode=RGB size=128x64 at 0x7F1F702A7A50> 0\n",
            "248 <PIL.Image.Image image mode=RGB size=128x64 at 0x7F1F702A7E90> 0\n",
            "249 <PIL.Image.Image image mode=RGB size=128x64 at 0x7F1F70328090> 0\n",
            "250 <PIL.Image.Image image mode=RGB size=128x64 at 0x7F1F7034F290> 0\n",
            "251 <PIL.Image.Image image mode=RGB size=128x64 at 0x7F1FC6F702D0> 0\n",
            "252 <PIL.Image.Image image mode=RGB size=128x64 at 0x7F1F703088D0> 0\n",
            "253 <PIL.Image.Image image mode=RGB size=128x64 at 0x7F1F70314A10> 0\n",
            "254 <PIL.Image.Image image mode=RGB size=128x64 at 0x7F1F7031AF10> 0\n",
            "255 <PIL.Image.Image image mode=RGB size=128x64 at 0x7F1F7031AB90> 0\n",
            "256 <PIL.Image.Image image mode=RGB size=128x64 at 0x7F1F7031A890> 0\n",
            "257 <PIL.Image.Image image mode=RGB size=128x64 at 0x7F1F7031A690> 0\n",
            "258 <PIL.Image.Image image mode=RGB size=128x64 at 0x7F1F7031AB10> 0\n",
            "259 <PIL.Image.Image image mode=RGB size=128x64 at 0x7F1F7031AF50> 0\n",
            "260 <PIL.Image.Image image mode=RGB size=128x64 at 0x7F1F7031AE50> 0\n",
            "261 <PIL.Image.Image image mode=RGB size=128x64 at 0x7F1F7031A790> 0\n",
            "262 <PIL.Image.Image image mode=RGB size=128x64 at 0x7F1F7031AFD0> 0\n",
            "263 <PIL.Image.Image image mode=RGB size=128x64 at 0x7F1F7031ACD0> 0\n",
            "264 <PIL.Image.Image image mode=RGB size=128x64 at 0x7F1F7031A750> 0\n",
            "265 <PIL.Image.Image image mode=RGB size=128x64 at 0x7F1F7031AC50> 0\n",
            "266 <PIL.Image.Image image mode=RGB size=128x64 at 0x7F1F7031AF90> 0\n",
            "267 <PIL.Image.Image image mode=RGB size=128x64 at 0x7F1F7031AC90> 0\n",
            "268 <PIL.Image.Image image mode=RGB size=128x64 at 0x7F1F7031AD90> 0\n",
            "269 <PIL.Image.Image image mode=RGB size=128x64 at 0x7F1F7031AA90> 0\n",
            "270 <PIL.Image.Image image mode=RGB size=128x64 at 0x7F1F7031AAD0> 0\n",
            "271 <PIL.Image.Image image mode=RGB size=128x64 at 0x7F1F702A7F50> 0\n",
            "272 <PIL.Image.Image image mode=RGB size=128x64 at 0x7F1F702A7D10> 0\n",
            "273 <PIL.Image.Image image mode=RGB size=128x64 at 0x7F1F702A7050> 0\n",
            "274 <PIL.Image.Image image mode=RGB size=128x64 at 0x7F1F702A7D90> 0\n",
            "275 <PIL.Image.Image image mode=RGB size=128x64 at 0x7F1F702AE3D0> 0\n",
            "276 <PIL.Image.Image image mode=RGB size=128x64 at 0x7F1F702AE2D0> 0\n",
            "277 <PIL.Image.Image image mode=RGB size=128x64 at 0x7F1F702AE650> 0\n",
            "278 <PIL.Image.Image image mode=RGB size=128x64 at 0x7F1F702AE9D0> 0\n",
            "279 <PIL.Image.Image image mode=RGB size=128x64 at 0x7F1F702B1210> 0\n",
            "280 <PIL.Image.Image image mode=RGB size=128x64 at 0x7F1F702AEB50> 0\n",
            "281 <PIL.Image.Image image mode=RGB size=128x64 at 0x7F1F702AEA50> 0\n",
            "282 <PIL.Image.Image image mode=RGB size=128x64 at 0x7F1F702AE890> 0\n",
            "283 <PIL.Image.Image image mode=RGB size=128x64 at 0x7F1F702AE950> 0\n",
            "284 <PIL.Image.Image image mode=RGB size=128x64 at 0x7F1F702AE850> 0\n",
            "285 <PIL.Image.Image image mode=RGB size=128x64 at 0x7F1F702AEC50> 0\n",
            "286 <PIL.Image.Image image mode=RGB size=128x64 at 0x7F1F702AE410> 0\n",
            "287 <PIL.Image.Image image mode=RGB size=128x64 at 0x7F1F702AED10> 0\n",
            "288 <PIL.Image.Image image mode=RGB size=128x64 at 0x7F1F702AE610> 0\n",
            "289 <PIL.Image.Image image mode=RGB size=128x64 at 0x7F1F702AEDD0> 0\n",
            "290 <PIL.Image.Image image mode=RGB size=128x64 at 0x7F1F702AE6D0> 0\n",
            "291 <PIL.Image.Image image mode=RGB size=128x64 at 0x7F1F702AE290> 0\n",
            "292 <PIL.Image.Image image mode=RGB size=128x64 at 0x7F1F702AEA10> 0\n",
            "293 <PIL.Image.Image image mode=RGB size=128x64 at 0x7F1F702AEE90> 0\n",
            "294 <PIL.Image.Image image mode=RGB size=128x64 at 0x7F1F702AEC10> 0\n",
            "295 <PIL.Image.Image image mode=RGB size=128x64 at 0x7F1F702AE590> 0\n",
            "296 <PIL.Image.Image image mode=RGB size=128x64 at 0x7F1F702AEF90> 0\n",
            "297 <PIL.Image.Image image mode=RGB size=128x64 at 0x7F1F702AE1D0> 0\n",
            "298 <PIL.Image.Image image mode=RGB size=128x64 at 0x7F1F702AE050> 0\n",
            "299 <PIL.Image.Image image mode=RGB size=128x64 at 0x7F1F702AE910> 0\n",
            "300 <PIL.Image.Image image mode=RGB size=128x64 at 0x7F1F702AEA90> 0\n",
            "301 <PIL.Image.Image image mode=RGB size=128x64 at 0x7F1F702AE390> 0\n",
            "302 <PIL.Image.Image image mode=RGB size=128x64 at 0x7F1F702AE7D0> 0\n",
            "303 <PIL.Image.Image image mode=RGB size=128x64 at 0x7F1F702AE150> 0\n",
            "304 <PIL.Image.Image image mode=RGB size=128x64 at 0x7F1F702AE190> 0\n",
            "305 <PIL.Image.Image image mode=RGB size=128x64 at 0x7F1F702AE8D0> 0\n",
            "306 <PIL.Image.Image image mode=RGB size=128x64 at 0x7F1F702AE250> 0\n",
            "307 <PIL.Image.Image image mode=RGB size=128x64 at 0x7F1F702A7110> 0\n",
            "308 <PIL.Image.Image image mode=RGB size=128x64 at 0x7F1F702A77D0> 0\n",
            "309 <PIL.Image.Image image mode=RGB size=128x64 at 0x7F1F702A7A10> 0\n",
            "310 <PIL.Image.Image image mode=RGB size=128x64 at 0x7F1F702A7850> 0\n",
            "311 <PIL.Image.Image image mode=RGB size=128x64 at 0x7F1F702A7C90> 0\n",
            "312 <PIL.Image.Image image mode=RGB size=128x64 at 0x7F1F702A7110> 0\n",
            "313 <PIL.Image.Image image mode=RGB size=128x64 at 0x7F1F702A7A90> 0\n",
            "314 <PIL.Image.Image image mode=RGB size=128x64 at 0x7F1F702A73D0> 0\n",
            "315 <PIL.Image.Image image mode=RGB size=128x64 at 0x7F1F702A7210> 0\n",
            "316 <PIL.Image.Image image mode=RGB size=128x64 at 0x7F1F702A7E50> 0\n",
            "317 <PIL.Image.Image image mode=RGB size=128x64 at 0x7F1F702A7FD0> 0\n",
            "318 <PIL.Image.Image image mode=RGB size=128x64 at 0x7F1F702A7150> 0\n",
            "319 <PIL.Image.Image image mode=RGB size=128x64 at 0x7F1F70314A10> 0\n",
            "320 <PIL.Image.Image image mode=RGB size=128x64 at 0x7F1F70328050> 0\n",
            "321 <PIL.Image.Image image mode=RGB size=128x64 at 0x7F1FC7D45950> 0\n",
            "322 <PIL.Image.Image image mode=RGB size=128x64 at 0x7F1F7031AB10> 0\n",
            "323 <PIL.Image.Image image mode=RGB size=128x64 at 0x7F1FC6F702D0> 0\n",
            "324 <PIL.Image.Image image mode=RGB size=128x64 at 0x7F1F7031AA50> 0\n",
            "325 <PIL.Image.Image image mode=RGB size=128x64 at 0x7F1F7031A750> 0\n",
            "326 <PIL.Image.Image image mode=RGB size=128x64 at 0x7F1F7031AD50> 0\n",
            "327 <PIL.Image.Image image mode=RGB size=128x64 at 0x7F1F7031AC10> 0\n",
            "328 <PIL.Image.Image image mode=RGB size=128x64 at 0x7F1F7031AC90> 1\n",
            "329 <PIL.Image.Image image mode=RGB size=128x64 at 0x7F1F7031AA90> 1\n",
            "330 <PIL.Image.Image image mode=RGB size=128x64 at 0x7F1F7031A910> 1\n",
            "331 <PIL.Image.Image image mode=RGB size=128x64 at 0x7F1F7031AB10> 1\n",
            "332 <PIL.Image.Image image mode=RGB size=128x64 at 0x7F1F7031A8D0> 1\n",
            "333 <PIL.Image.Image image mode=RGB size=128x64 at 0x7F1F7031AE50> 1\n",
            "334 <PIL.Image.Image image mode=RGB size=128x64 at 0x7F1F7031ACD0> 1\n",
            "335 <PIL.Image.Image image mode=RGB size=128x64 at 0x7F1F7031AF90> 1\n",
            "336 <PIL.Image.Image image mode=RGB size=128x64 at 0x7F1F7031A890> 1\n",
            "337 <PIL.Image.Image image mode=RGB size=128x64 at 0x7F1F7031AD90> 1\n",
            "338 <PIL.Image.Image image mode=RGB size=128x64 at 0x7F1F7031AA10> 1\n",
            "339 <PIL.Image.Image image mode=RGB size=128x64 at 0x7F1F7031AF10> 1\n",
            "340 <PIL.Image.Image image mode=RGB size=128x64 at 0x7F1F7031AE90> 1\n",
            "341 <PIL.Image.Image image mode=RGB size=128x64 at 0x7F1F702AEB90> 1\n",
            "342 <PIL.Image.Image image mode=RGB size=128x64 at 0x7F1F7031AAD0> 1\n",
            "343 <PIL.Image.Image image mode=RGB size=128x64 at 0x7F1F702AE890> 1\n",
            "344 <PIL.Image.Image image mode=RGB size=128x64 at 0x7F1F702AE450> 1\n",
            "345 <PIL.Image.Image image mode=RGB size=128x64 at 0x7F1F702AE690> 1\n",
            "346 <PIL.Image.Image image mode=RGB size=128x64 at 0x7F1F702AEF10> 1\n",
            "347 <PIL.Image.Image image mode=RGB size=128x64 at 0x7F1F702AE6D0> 1\n",
            "348 <PIL.Image.Image image mode=RGB size=128x64 at 0x7F1F702AEA50> 1\n",
            "349 <PIL.Image.Image image mode=RGB size=128x64 at 0x7F1F702AEE50> 1\n",
            "350 <PIL.Image.Image image mode=RGB size=128x64 at 0x7F1F702AE290> 1\n",
            "351 <PIL.Image.Image image mode=RGB size=128x64 at 0x7F1F702AE0D0> 1\n",
            "352 <PIL.Image.Image image mode=RGB size=128x64 at 0x7F1F702AE490> 1\n",
            "353 <PIL.Image.Image image mode=RGB size=128x64 at 0x7F1F702AE610> 1\n",
            "354 <PIL.Image.Image image mode=RGB size=128x64 at 0x7F1F702AEED0> 1\n",
            "355 <PIL.Image.Image image mode=RGB size=128x64 at 0x7F1F702AEF90> 1\n",
            "356 <PIL.Image.Image image mode=RGB size=128x64 at 0x7F1F702AE050> 1\n",
            "357 <PIL.Image.Image image mode=RGB size=128x64 at 0x7F1F702AE390> 1\n",
            "358 <PIL.Image.Image image mode=RGB size=128x64 at 0x7F1F702AE190> 1\n",
            "359 <PIL.Image.Image image mode=RGB size=128x64 at 0x7F1F702AE590> 1\n",
            "360 <PIL.Image.Image image mode=RGB size=128x64 at 0x7F1F702AE310> 1\n",
            "361 <PIL.Image.Image image mode=RGB size=128x64 at 0x7F1F702AEA10> 1\n",
            "362 <PIL.Image.Image image mode=RGB size=128x64 at 0x7F1F702AE250> 1\n",
            "363 <PIL.Image.Image image mode=RGB size=128x64 at 0x7F1F702AE750> 1\n",
            "364 <PIL.Image.Image image mode=RGB size=128x64 at 0x7F1FC7D45950> 1\n",
            "365 <PIL.Image.Image image mode=RGB size=128x64 at 0x7F1F7034F290> 1\n",
            "366 <PIL.Image.Image image mode=RGB size=128x64 at 0x7F1F703088D0> 1\n",
            "367 <PIL.Image.Image image mode=RGB size=128x64 at 0x7F1FC6F702D0> 1\n",
            "368 <PIL.Image.Image image mode=RGB size=128x64 at 0x7F1F70328090> 1\n",
            "369 <PIL.Image.Image image mode=RGB size=128x64 at 0x7F1F7031A710> 1\n",
            "370 <PIL.Image.Image image mode=RGB size=128x64 at 0x7F1F7031AFD0> 1\n",
            "371 <PIL.Image.Image image mode=RGB size=128x64 at 0x7F1F702A70D0> 1\n",
            "372 <PIL.Image.Image image mode=RGB size=128x64 at 0x7F1F702A7450> 1\n",
            "373 <PIL.Image.Image image mode=RGB size=128x64 at 0x7F1F702A7DD0> 1\n",
            "374 <PIL.Image.Image image mode=RGB size=128x64 at 0x7F1F702A7290> 1\n",
            "375 <PIL.Image.Image image mode=RGB size=128x64 at 0x7F1F702A7B10> 1\n",
            "376 <PIL.Image.Image image mode=RGB size=128x64 at 0x7F1F702A7ED0> 1\n",
            "377 <PIL.Image.Image image mode=RGB size=128x64 at 0x7F1F702A78D0> 1\n",
            "378 <PIL.Image.Image image mode=RGB size=128x64 at 0x7F1F702A7190> 1\n",
            "379 <PIL.Image.Image image mode=RGB size=128x64 at 0x7F1F702A76D0> 1\n",
            "380 <PIL.Image.Image image mode=RGB size=128x64 at 0x7F1F702A71D0> 1\n",
            "381 <PIL.Image.Image image mode=RGB size=128x64 at 0x7F1F702A7C90> 1\n",
            "382 <PIL.Image.Image image mode=RGB size=128x64 at 0x7F1F702A7D10> 1\n",
            "383 <PIL.Image.Image image mode=RGB size=128x64 at 0x7F1F702A7B50> 1\n",
            "384 <PIL.Image.Image image mode=RGB size=128x64 at 0x7F1F702A7690> 1\n",
            "385 <PIL.Image.Image image mode=RGB size=128x64 at 0x7F1F702A7AD0> 1\n",
            "386 <PIL.Image.Image image mode=RGB size=128x64 at 0x7F1F702A7210> 1\n",
            "387 <PIL.Image.Image image mode=RGB size=128x64 at 0x7F1F702A7550> 1\n",
            "388 <PIL.Image.Image image mode=RGB size=128x64 at 0x7F1F702A7810> 1\n",
            "389 <PIL.Image.Image image mode=RGB size=128x64 at 0x7F1F702A7410> 1\n",
            "390 <PIL.Image.Image image mode=RGB size=128x64 at 0x7F1F702A7E10> 1\n",
            "391 <PIL.Image.Image image mode=RGB size=128x64 at 0x7F1F702A7FD0> 1\n",
            "392 <PIL.Image.Image image mode=RGB size=128x64 at 0x7F1F702A7CD0> 1\n",
            "393 <PIL.Image.Image image mode=RGB size=128x64 at 0x7F1F702A7490> 1\n",
            "394 <PIL.Image.Image image mode=RGB size=128x64 at 0x7F1F702A73D0> 1\n",
            "395 <PIL.Image.Image image mode=RGB size=128x64 at 0x7F1F702A7110> 1\n",
            "396 <PIL.Image.Image image mode=RGB size=128x64 at 0x7F1F702A7F90> 1\n",
            "397 <PIL.Image.Image image mode=RGB size=128x64 at 0x7F1F702A7B90> 1\n",
            "398 <PIL.Image.Image image mode=RGB size=128x64 at 0x7F1F702A7A50> 1\n",
            "399 <PIL.Image.Image image mode=RGB size=128x64 at 0x7F1F702A7310> 1\n",
            "400 <PIL.Image.Image image mode=RGB size=128x64 at 0x7F1F702A7510> 1\n",
            "401 <PIL.Image.Image image mode=RGB size=128x64 at 0x7F1F702A75D0> 1\n",
            "402 <PIL.Image.Image image mode=RGB size=128x64 at 0x7F1F7034F290> 1\n",
            "403 <PIL.Image.Image image mode=RGB size=128x64 at 0x7F1F70AD8650> 1\n",
            "404 <PIL.Image.Image image mode=RGB size=128x64 at 0x7F1F703088D0> 1\n",
            "405 <PIL.Image.Image image mode=RGB size=128x64 at 0x7F1FC6F702D0> 1\n",
            "406 <PIL.Image.Image image mode=RGB size=128x64 at 0x7F1F702A7850> 1\n",
            "407 <PIL.Image.Image image mode=RGB size=128x64 at 0x7F1FC7D45950> 1\n",
            "408 <PIL.Image.Image image mode=RGB size=128x64 at 0x7F1F702A78D0> 1\n",
            "409 <PIL.Image.Image image mode=RGB size=128x64 at 0x7F1F702A7ED0> 1\n",
            "410 <PIL.Image.Image image mode=RGB size=128x64 at 0x7F1F702A75D0> 1\n",
            "411 <PIL.Image.Image image mode=RGB size=128x64 at 0x7F1F702A7E50> 1\n",
            "412 <PIL.Image.Image image mode=RGB size=128x64 at 0x7F1F702A76D0> 1\n",
            "413 <PIL.Image.Image image mode=RGB size=128x64 at 0x7F1F702A74D0> 1\n",
            "414 <PIL.Image.Image image mode=RGB size=128x64 at 0x7F1F702A77D0> 1\n",
            "415 <PIL.Image.Image image mode=RGB size=128x64 at 0x7F1F702A7690> 1\n",
            "416 <PIL.Image.Image image mode=RGB size=128x64 at 0x7F1F702A7610> 1\n",
            "417 <PIL.Image.Image image mode=RGB size=128x64 at 0x7F1F702A7A90> 1\n",
            "418 <PIL.Image.Image image mode=RGB size=128x64 at 0x7F1F702A7BD0> 1\n",
            "419 <PIL.Image.Image image mode=RGB size=128x64 at 0x7F1F702A7910> 1\n",
            "420 <PIL.Image.Image image mode=RGB size=128x64 at 0x7F1F702A7B50> 1\n",
            "421 <PIL.Image.Image image mode=RGB size=128x64 at 0x7F1F702A7850> 1\n",
            "422 <PIL.Image.Image image mode=RGB size=128x64 at 0x7F1F702A7250> 1\n",
            "423 <PIL.Image.Image image mode=RGB size=128x64 at 0x7F1F702A7B10> 1\n",
            "424 <PIL.Image.Image image mode=RGB size=128x64 at 0x7F1F702A7310> 1\n",
            "425 <PIL.Image.Image image mode=RGB size=128x64 at 0x7F1F702A7110> 1\n",
            "426 <PIL.Image.Image image mode=RGB size=128x64 at 0x7F1F702A7790> 1\n",
            "427 <PIL.Image.Image image mode=RGB size=128x64 at 0x7F1F702A7050> 1\n",
            "428 <PIL.Image.Image image mode=RGB size=128x64 at 0x7F1F702A7A10> 1\n",
            "429 <PIL.Image.Image image mode=RGB size=128x64 at 0x7F1F702A7990> 1\n",
            "430 <PIL.Image.Image image mode=RGB size=128x64 at 0x7F1F702A7E10> 1\n",
            "431 <PIL.Image.Image image mode=RGB size=128x64 at 0x7F1F702A7090> 1\n",
            "432 <PIL.Image.Image image mode=RGB size=128x64 at 0x7F1F702A7510> 1\n",
            "433 <PIL.Image.Image image mode=RGB size=128x64 at 0x7F1F702A73D0> 1\n",
            "434 <PIL.Image.Image image mode=RGB size=128x64 at 0x7F1F702A7F90> 1\n",
            "435 <PIL.Image.Image image mode=RGB size=128x64 at 0x7F1F702AEE90> 1\n",
            "436 <PIL.Image.Image image mode=RGB size=128x64 at 0x7F1F702A7CD0> 1\n",
            "437 <PIL.Image.Image image mode=RGB size=128x64 at 0x7F1F702AE690> 1\n",
            "438 <PIL.Image.Image image mode=RGB size=128x64 at 0x7F1F702AE850> 1\n",
            "439 <PIL.Image.Image image mode=RGB size=128x64 at 0x7F1F702AEC50> 1\n",
            "440 <PIL.Image.Image image mode=RGB size=128x64 at 0x7F1F702AEE50> 1\n",
            "441 <PIL.Image.Image image mode=RGB size=128x64 at 0x7F1F70AD8650> 1\n",
            "442 <PIL.Image.Image image mode=RGB size=128x64 at 0x7F1F702A77D0> 1\n",
            "443 <PIL.Image.Image image mode=RGB size=128x64 at 0x7F1FC7D45950> 1\n",
            "444 <PIL.Image.Image image mode=RGB size=128x64 at 0x7F1FC6F702D0> 1\n",
            "445 <PIL.Image.Image image mode=RGB size=128x64 at 0x7F1F70314A10> 1\n",
            "446 <PIL.Image.Image image mode=RGB size=128x64 at 0x7F1F702A7D50> 1\n",
            "447 <PIL.Image.Image image mode=RGB size=128x64 at 0x7F1F702A77D0> 1\n",
            "448 <PIL.Image.Image image mode=RGB size=128x64 at 0x7F1F702A7DD0> 1\n",
            "449 <PIL.Image.Image image mode=RGB size=128x64 at 0x7F1F702A7810> 1\n",
            "450 <PIL.Image.Image image mode=RGB size=128x64 at 0x7F1F702A76D0> 1\n",
            "451 <PIL.Image.Image image mode=RGB size=128x64 at 0x7F1F702A74D0> 1\n",
            "452 <PIL.Image.Image image mode=RGB size=128x64 at 0x7F1F702A7490> 1\n",
            "453 <PIL.Image.Image image mode=RGB size=128x64 at 0x7F1F702A7B90> 1\n",
            "454 <PIL.Image.Image image mode=RGB size=128x64 at 0x7F1F702A7690> 1\n",
            "455 <PIL.Image.Image image mode=RGB size=128x64 at 0x7F1F702A7BD0> 1\n",
            "456 <PIL.Image.Image image mode=RGB size=128x64 at 0x7F1F702A7FD0> 1\n",
            "457 <PIL.Image.Image image mode=RGB size=128x64 at 0x7F1F702A7F10> 1\n",
            "458 <PIL.Image.Image image mode=RGB size=128x64 at 0x7F1F702A7A10> 1\n",
            "459 <PIL.Image.Image image mode=RGB size=128x64 at 0x7F1F702A7C90> 1\n",
            "460 <PIL.Image.Image image mode=RGB size=128x64 at 0x7F1F702A7D10> 1\n",
            "461 <PIL.Image.Image image mode=RGB size=128x64 at 0x7F1F702A7750> 1\n",
            "462 <PIL.Image.Image image mode=RGB size=128x64 at 0x7F1F702A7A50> 1\n",
            "463 <PIL.Image.Image image mode=RGB size=128x64 at 0x7F1F702A7510> 1\n",
            "464 <PIL.Image.Image image mode=RGB size=128x64 at 0x7F1F702A7F90> 1\n",
            "465 <PIL.Image.Image image mode=RGB size=128x64 at 0x7F1F702A7790> 1\n",
            "466 <PIL.Image.Image image mode=RGB size=128x64 at 0x7F1F702A7CD0> 1\n",
            "467 <PIL.Image.Image image mode=RGB size=128x64 at 0x7F1F702A7850> 1\n",
            "468 <PIL.Image.Image image mode=RGB size=128x64 at 0x7F1F702A7310> 1\n",
            "469 <PIL.Image.Image image mode=RGB size=128x64 at 0x7F1F702A7D50> 1\n",
            "470 <PIL.Image.Image image mode=RGB size=128x64 at 0x7F1F702A73D0> 1\n",
            "471 <PIL.Image.Image image mode=RGB size=128x64 at 0x7F1F702A7B10> 1\n",
            "472 <PIL.Image.Image image mode=RGB size=128x64 at 0x7F1F702A7A90> 1\n",
            "473 <PIL.Image.Image image mode=RGB size=128x64 at 0x7F1F702A7990> 1\n",
            "474 <PIL.Image.Image image mode=RGB size=128x64 at 0x7F1F702A7090> 1\n",
            "475 <PIL.Image.Image image mode=RGB size=128x64 at 0x7F1F702AE2D0> 1\n",
            "476 <PIL.Image.Image image mode=RGB size=128x64 at 0x7F1F702A7AD0> 1\n",
            "477 <PIL.Image.Image image mode=RGB size=128x64 at 0x7F1F702AEB90> 1\n",
            "478 <PIL.Image.Image image mode=RGB size=128x64 at 0x7F1F702AE910> 1\n",
            "479 <PIL.Image.Image image mode=RGB size=128x64 at 0x7F1F702AE410> 1\n",
            "480 <PIL.Image.Image image mode=RGB size=128x64 at 0x7F1F702AED10> 1\n",
            "481 <PIL.Image.Image image mode=RGB size=128x64 at 0x7F1F702AE110> 1\n",
            "482 <PIL.Image.Image image mode=RGB size=128x64 at 0x7F1FC6F702D0> 1\n",
            "483 <PIL.Image.Image image mode=RGB size=128x64 at 0x7F1F70328210> 1\n",
            "484 <PIL.Image.Image image mode=RGB size=128x64 at 0x7F1FC7D45950> 1\n",
            "485 <PIL.Image.Image image mode=RGB size=128x64 at 0x7F1F70328090> 1\n",
            "486 <PIL.Image.Image image mode=RGB size=128x64 at 0x7F1F702A76D0> 1\n",
            "487 <PIL.Image.Image image mode=RGB size=128x64 at 0x7F1F702AE650> 1\n",
            "488 <PIL.Image.Image image mode=RGB size=128x64 at 0x7F1F702AEC90> 1\n",
            "489 <PIL.Image.Image image mode=RGB size=128x64 at 0x7F1F702AE450> 1\n",
            "490 <PIL.Image.Image image mode=RGB size=128x64 at 0x7F1F702AE550> 1\n",
            "491 <PIL.Image.Image image mode=RGB size=128x64 at 0x7F1F702AEF10> 1\n",
            "492 <PIL.Image.Image image mode=RGB size=128x64 at 0x7F1F702AEA50> 1\n",
            "493 <PIL.Image.Image image mode=RGB size=128x64 at 0x7F1F702AE3D0> 1\n",
            "494 <PIL.Image.Image image mode=RGB size=128x64 at 0x7F1F702AEF50> 1\n",
            "495 <PIL.Image.Image image mode=RGB size=128x64 at 0x7F1F702AEE90> 1\n",
            "496 <PIL.Image.Image image mode=RGB size=128x64 at 0x7F1F702AE890> 1\n",
            "497 <PIL.Image.Image image mode=RGB size=128x64 at 0x7F1F702AEB10> 1\n",
            "498 <PIL.Image.Image image mode=RGB size=128x64 at 0x7F1F702AE210> 1\n",
            "499 <PIL.Image.Image image mode=RGB size=128x64 at 0x7F1F702AED90> 1\n",
            "500 <PIL.Image.Image image mode=RGB size=128x64 at 0x7F1F702AEF90> 1\n",
            "501 <PIL.Image.Image image mode=RGB size=128x64 at 0x7F1F702AE7D0> 1\n",
            "502 <PIL.Image.Image image mode=RGB size=128x64 at 0x7F1F702AE610> 1\n",
            "503 <PIL.Image.Image image mode=RGB size=128x64 at 0x7F1F702AE590> 1\n",
            "504 <PIL.Image.Image image mode=RGB size=128x64 at 0x7F1F702AE9D0> 1\n",
            "505 <PIL.Image.Image image mode=RGB size=128x64 at 0x7F1F702AE510> 1\n",
            "506 <PIL.Image.Image image mode=RGB size=128x64 at 0x7F1F702AEE10> 1\n",
            "507 <PIL.Image.Image image mode=RGB size=128x64 at 0x7F1F702AEFD0> 1\n",
            "508 <PIL.Image.Image image mode=RGB size=128x64 at 0x7F1F702AEC10> 1\n",
            "509 <PIL.Image.Image image mode=RGB size=128x64 at 0x7F1F702AE990> 1\n",
            "510 <PIL.Image.Image image mode=RGB size=128x64 at 0x7F1F702AE190> 1\n",
            "511 <PIL.Image.Image image mode=RGB size=128x64 at 0x7F1F702AEAD0> 1\n",
            "512 <PIL.Image.Image image mode=RGB size=128x64 at 0x7F1F702AEB50> 1\n",
            "513 <PIL.Image.Image image mode=RGB size=128x64 at 0x7F1F702AEC50> 1\n",
            "514 <PIL.Image.Image image mode=RGB size=128x64 at 0x7F1F702AE150> 1\n",
            "515 <PIL.Image.Image image mode=RGB size=128x64 at 0x7F1F702AED50> 1\n",
            "516 <PIL.Image.Image image mode=RGB size=128x64 at 0x7F1F702AEDD0> 1\n",
            "517 <PIL.Image.Image image mode=RGB size=128x64 at 0x7F1F702AE410> 1\n",
            "518 <PIL.Image.Image image mode=RGB size=128x64 at 0x7F1F702AE090> 1\n",
            "519 <PIL.Image.Image image mode=RGB size=128x64 at 0x7F1F702AE690> 1\n",
            "520 <PIL.Image.Image image mode=RGB size=128x64 at 0x7F1F7031AF90> 1\n",
            "521 <PIL.Image.Image image mode=RGB size=128x64 at 0x7F1F70328050> 1\n",
            "522 <PIL.Image.Image image mode=RGB size=128x64 at 0x7F1F702AEE90> 1\n",
            "523 <PIL.Image.Image image mode=RGB size=128x64 at 0x7F1F70328090> 1\n",
            "524 <PIL.Image.Image image mode=RGB size=128x64 at 0x7F1F70314A10> 1\n",
            "525 <PIL.Image.Image image mode=RGB size=128x64 at 0x7F1F702AEA90> 1\n",
            "526 <PIL.Image.Image image mode=RGB size=128x64 at 0x7F1F702AEE90> 1\n",
            "527 <PIL.Image.Image image mode=RGB size=128x64 at 0x7F1F702AE2D0> 1\n",
            "528 <PIL.Image.Image image mode=RGB size=128x64 at 0x7F1F702AE890> 1\n",
            "529 <PIL.Image.Image image mode=RGB size=128x64 at 0x7F1F702AE950> 1\n",
            "530 <PIL.Image.Image image mode=RGB size=128x64 at 0x7F1F702AE6D0> 1\n",
            "531 <PIL.Image.Image image mode=RGB size=128x64 at 0x7F1F702AE210> 1\n",
            "532 <PIL.Image.Image image mode=RGB size=128x64 at 0x7F1F702AE8D0> 1\n",
            "533 <PIL.Image.Image image mode=RGB size=128x64 at 0x7F1F702AEF50> 1\n",
            "534 <PIL.Image.Image image mode=RGB size=128x64 at 0x7F1F702AE650> 1\n",
            "535 <PIL.Image.Image image mode=RGB size=128x64 at 0x7F1F702AE850> 1\n",
            "536 <PIL.Image.Image image mode=RGB size=128x64 at 0x7F1F702AE3D0> 1\n",
            "537 <PIL.Image.Image image mode=RGB size=128x64 at 0x7F1F702AE4D0> 1\n",
            "538 <PIL.Image.Image image mode=RGB size=128x64 at 0x7F1F702AE450> 1\n",
            "539 <PIL.Image.Image image mode=RGB size=128x64 at 0x7F1F702AE190> 1\n",
            "540 <PIL.Image.Image image mode=RGB size=128x64 at 0x7F1F702AEC50> 1\n",
            "541 <PIL.Image.Image image mode=RGB size=128x64 at 0x7F1F702AE710> 1\n",
            "542 <PIL.Image.Image image mode=RGB size=128x64 at 0x7F1F702AEB50> 1\n",
            "543 <PIL.Image.Image image mode=RGB size=128x64 at 0x7F1F702AE410> 1\n",
            "544 <PIL.Image.Image image mode=RGB size=128x64 at 0x7F1F702AE350> 1\n",
            "545 <PIL.Image.Image image mode=RGB size=128x64 at 0x7F1F702AEA10> 1\n",
            "546 <PIL.Image.Image image mode=RGB size=128x64 at 0x7F1F702AE550> 1\n",
            "547 <PIL.Image.Image image mode=RGB size=128x64 at 0x7F1F702AEAD0> 1\n",
            "548 <PIL.Image.Image image mode=RGB size=128x64 at 0x7F1F702AEC90> 1\n",
            "549 <PIL.Image.Image image mode=RGB size=128x64 at 0x7F1F702AE9D0> 1\n",
            "550 <PIL.Image.Image image mode=RGB size=128x64 at 0x7F1F702AE810> 1\n"
          ],
          "name": "stdout"
        }
      ]
    },
    {
      "cell_type": "markdown",
      "metadata": {
        "id": "4zhj9uD2V6vc"
      },
      "source": [
        "data shape : 3 x 64 x 128"
      ]
    },
    {
      "cell_type": "code",
      "metadata": {
        "id": "2T5mRinsUxn6"
      },
      "source": [
        "import torch.nn as nn\n",
        "import torch.nn.functional as F\n",
        "import torch.optim as optim"
      ],
      "execution_count": 6,
      "outputs": []
    },
    {
      "cell_type": "code",
      "metadata": {
        "id": "Mrj5sMv7WaVB"
      },
      "source": [
        "device = 'cuda' if torch.cuda.is_available() else 'cpu'\n",
        "\n",
        "torch.manual_seed(777)\n",
        "if device == 'cuda':\n",
        "  torch.cuda.manual_seed_all(777)\n"
      ],
      "execution_count": 7,
      "outputs": []
    },
    {
      "cell_type": "code",
      "metadata": {
        "id": "zf9_5l7pWkpa"
      },
      "source": [
        "trans = transforms.Compose([\n",
        "                            transforms.ToTensor()\n",
        "])\n",
        "\n",
        "train_data = torchvision.datasets.ImageFolder(root = 'PyTorch/custom_data/train_data', transform = trans)\n"
      ],
      "execution_count": 8,
      "outputs": []
    },
    {
      "cell_type": "code",
      "metadata": {
        "id": "hB_70IJyWxxp"
      },
      "source": [
        "data_loader = DataLoader(dataset = train_data, batch_size = 8, shuffle = True, num_workers = 2)"
      ],
      "execution_count": 9,
      "outputs": []
    },
    {
      "cell_type": "code",
      "metadata": {
        "id": "S4lmqMY6W5Yz"
      },
      "source": [
        "class CNN(nn.Module):\n",
        "  def __init__(self):\n",
        "    super(CNN, self).__init__()\n",
        "    self.layer1 = nn.Sequential(\n",
        "        nn.Conv2d(3, 6, 5),   # default of stride = 1, padding = 0    / [3, 6, 60, 124]\n",
        "        nn.ReLU(),  \n",
        "        nn.MaxPool2d(2)  # [3, 6, 30, 62]\n",
        "    )\n",
        "\n",
        "    self.layer2 = nn.Sequential(\n",
        "        nn.Conv2d(6, 16, 5),  # [3, 16, 26, 58]    \n",
        "        nn.ReLU(),   \n",
        "        nn.MaxPool2d(2) # [3, 16, 13, 29]\n",
        "    )\n",
        "\n",
        "    self.layer3 = nn.Sequential(\n",
        "        nn.Linear(16*13*29, 120),\n",
        "        nn.ReLU(),\n",
        "        nn.Linear(120, 22)\n",
        "    )\n",
        "  \n",
        "  def forward(self, x):\n",
        "    out = self.layer1(x)\n",
        "    #print(out.shape)\n",
        "    out = self.layer2(out)\n",
        "    #print(out.shape)\n",
        "    out = out.view(out.shape[0] , -1)\n",
        "    #print(out.shape)\n",
        "    out = self.layer3(out)\n",
        "    return out\n",
        "    "
      ],
      "execution_count": 10,
      "outputs": []
    },
    {
      "cell_type": "code",
      "metadata": {
        "colab": {
          "base_uri": "https://localhost:8080/"
        },
        "id": "fPJB--sMX9VO",
        "outputId": "49edc09e-3536-47f7-d370-d2e9b824c2be"
      },
      "source": [
        "# testing\n",
        "\n",
        "net = CNN().to(device)\n",
        "test_input = (torch.Tensor(3, 3, 64, 128)).to(device)\n",
        "test_out = net((test_input))\n",
        "test_out.shape"
      ],
      "execution_count": 11,
      "outputs": [
        {
          "output_type": "execute_result",
          "data": {
            "text/plain": [
              "torch.Size([3, 22])"
            ]
          },
          "metadata": {
            "tags": []
          },
          "execution_count": 11
        }
      ]
    },
    {
      "cell_type": "code",
      "metadata": {
        "id": "F3LDupIfYbuc"
      },
      "source": [
        "optimizer = optim.Adam(net.parameters(), lr = 0.00005)\n",
        "loss_func = nn.CrossEntropyLoss().to(device)\n"
      ],
      "execution_count": 12,
      "outputs": []
    },
    {
      "cell_type": "code",
      "metadata": {
        "colab": {
          "base_uri": "https://localhost:8080/"
        },
        "id": "5oqp09BxZDje",
        "outputId": "08800590-2c31-461b-9ec0-b7b8bd12e044"
      },
      "source": [
        "total_batch = len(data_loader)\n",
        "\n",
        "epochs = 5\n",
        "for epoch in range(epochs):\n",
        "  avg_cost = 0\n",
        "  for num, data in enumerate(data_loader):\n",
        "    imgs, labels = data\n",
        "    imgs = imgs.to(device)\n",
        "    labels = labels.to(device)\n",
        "    optimizer.zero_grad()\n",
        "    out = net(imgs)\n",
        "    loss = loss_func(out, labels)\n",
        "    loss.backward()\n",
        "    optimizer.step()\n",
        "\n",
        "    avg_cost += loss / total_batch\n",
        "\n",
        "  print('[Epoch: {}] cost = {}'.format(epoch+1, avg_cost))\n",
        "\n",
        "print('Learning finished')"
      ],
      "execution_count": 13,
      "outputs": [
        {
          "output_type": "stream",
          "text": [
            "[Epoch: 1] cost = 1.7277435064315796\n",
            "[Epoch: 2] cost = 0.59367835521698\n",
            "[Epoch: 3] cost = 0.4158935248851776\n",
            "[Epoch: 4] cost = 0.20667481422424316\n",
            "[Epoch: 5] cost = 0.0909244641661644\n",
            "Learning finished\n"
          ],
          "name": "stdout"
        }
      ]
    },
    {
      "cell_type": "code",
      "metadata": {
        "id": "MXNsJNglZjFk"
      },
      "source": [
        "import os\n",
        "os.mkdir(\"/content/PyTorch/model\") \n",
        "torch.save(net.state_dict(), \"/content/PyTorch/model/model.pth\")"
      ],
      "execution_count": 14,
      "outputs": []
    },
    {
      "cell_type": "code",
      "metadata": {
        "id": "cdAe4XQ7ZwH7"
      },
      "source": [
        "new_net = CNN().to(device)"
      ],
      "execution_count": 15,
      "outputs": []
    },
    {
      "cell_type": "code",
      "metadata": {
        "colab": {
          "base_uri": "https://localhost:8080/"
        },
        "id": "9kvgLRL7alfx",
        "outputId": "45e2afe8-e5eb-48d6-f8b1-75b58572d60e"
      },
      "source": [
        "new_net.load_state_dict(torch.load('/content/PyTorch/model/model.pth'))"
      ],
      "execution_count": 16,
      "outputs": [
        {
          "output_type": "execute_result",
          "data": {
            "text/plain": [
              "<All keys matched successfully>"
            ]
          },
          "metadata": {
            "tags": []
          },
          "execution_count": 16
        }
      ]
    },
    {
      "cell_type": "code",
      "metadata": {
        "colab": {
          "base_uri": "https://localhost:8080/"
        },
        "id": "nPtbTWMNaqJH",
        "outputId": "47fa7080-4c55-49a9-d4d4-2ff9c7889705"
      },
      "source": [
        "print(net.layer1[0])\n",
        "print(new_net.layer1[0])\n",
        "\n",
        "print(net.layer1[0].weight[0][0][0])\n",
        "print(new_net.layer1[0].weight[0][0][0])\n",
        "\n",
        "net.layer1[0].weight[0] == new_net.layer1[0].weight[0]"
      ],
      "execution_count": 17,
      "outputs": [
        {
          "output_type": "stream",
          "text": [
            "Conv2d(3, 6, kernel_size=(5, 5), stride=(1, 1))\n",
            "Conv2d(3, 6, kernel_size=(5, 5), stride=(1, 1))\n",
            "tensor([-0.0872,  0.0074, -0.0129, -0.0169,  0.0976], device='cuda:0',\n",
            "       grad_fn=<SelectBackward>)\n",
            "tensor([-0.0872,  0.0074, -0.0129, -0.0169,  0.0976], device='cuda:0',\n",
            "       grad_fn=<SelectBackward>)\n"
          ],
          "name": "stdout"
        },
        {
          "output_type": "execute_result",
          "data": {
            "text/plain": [
              "tensor([[[True, True, True, True, True],\n",
              "         [True, True, True, True, True],\n",
              "         [True, True, True, True, True],\n",
              "         [True, True, True, True, True],\n",
              "         [True, True, True, True, True]],\n",
              "\n",
              "        [[True, True, True, True, True],\n",
              "         [True, True, True, True, True],\n",
              "         [True, True, True, True, True],\n",
              "         [True, True, True, True, True],\n",
              "         [True, True, True, True, True]],\n",
              "\n",
              "        [[True, True, True, True, True],\n",
              "         [True, True, True, True, True],\n",
              "         [True, True, True, True, True],\n",
              "         [True, True, True, True, True],\n",
              "         [True, True, True, True, True]]], device='cuda:0')"
            ]
          },
          "metadata": {
            "tags": []
          },
          "execution_count": 17
        }
      ]
    },
    {
      "cell_type": "code",
      "metadata": {
        "id": "n1tTLvSsa8gl"
      },
      "source": [
        "trans = torchvision.transforms.Compose([\n",
        "                                        transforms.Resize((64, 128)),\n",
        "                                        transforms.ToTensor()\n",
        "])\n",
        "\n",
        "test_data = torchvision.datasets.ImageFolder(root = '/content/PyTorch/custom_data/test_data', transform = trans)\n"
      ],
      "execution_count": 18,
      "outputs": []
    },
    {
      "cell_type": "code",
      "metadata": {
        "id": "BsEkoNvMbXTS"
      },
      "source": [
        "test_set = DataLoader(dataset = test_data, batch_size = len(test_data))"
      ],
      "execution_count": 19,
      "outputs": []
    },
    {
      "cell_type": "code",
      "metadata": {
        "colab": {
          "base_uri": "https://localhost:8080/"
        },
        "id": "8b6fXhTMbbVc",
        "outputId": "b9df56fa-ce7b-4796-b281-9ed11de9545b"
      },
      "source": [
        "with torch.no_grad():\n",
        "  for num, data in enumerate(test_set):\n",
        "    imgs, labels = data\n",
        "    imgs = imgs.to(device)\n",
        "    labels = labels.to(device)\n",
        "\n",
        "    prediction = net(imgs)\n",
        "\n",
        "    correct_prediction = torch.argmax(prediction, 1) == labels\n",
        "\n",
        "    accuracy = correct_prediction.float().mean()\n",
        "\n",
        "    print(\"Accuracy: \", accuracy.item())"
      ],
      "execution_count": 20,
      "outputs": [
        {
          "output_type": "stream",
          "text": [
            "Accuracy:  1.0\n"
          ],
          "name": "stdout"
        }
      ]
    },
    {
      "cell_type": "markdown",
      "metadata": {
        "id": "bjbNu76BcB1B"
      },
      "source": [
        "# Lab-10-5-1 Advnaced CNN(VGG)"
      ]
    },
    {
      "cell_type": "code",
      "metadata": {
        "id": "A1F3jqTLbz_V"
      },
      "source": [
        "import torch.utils.model_zoo as model_zoo"
      ],
      "execution_count": 21,
      "outputs": []
    },
    {
      "cell_type": "code",
      "metadata": {
        "id": "ZNTi3n2U0j2A"
      },
      "source": [
        "__all__ = [\n",
        "    'VGG', 'vgg11', 'vgg11_bn', 'vgg13', 'vgg13_bn', 'vgg16', 'vgg16_bn',\n",
        "    'vgg19_bn', 'vgg19',\n",
        "]\n",
        "\n",
        "\n",
        "model_urls = {\n",
        "    'vgg11': 'https://download.pytorch.org/models/vgg11-bbd30ac9.pth',\n",
        "    'vgg13': 'https://download.pytorch.org/models/vgg13-c768596a.pth',\n",
        "    'vgg16': 'https://download.pytorch.org/models/vgg16-397923af.pth',\n",
        "    'vgg19': 'https://download.pytorch.org/models/vgg19-dcbb9e9d.pth',\n",
        "    'vgg11_bn': 'https://download.pytorch.org/models/vgg11_bn-6002323d.pth',\n",
        "    'vgg13_bn': 'https://download.pytorch.org/models/vgg13_bn-abd245e5.pth',\n",
        "    'vgg16_bn': 'https://download.pytorch.org/models/vgg16_bn-6c64b313.pth',\n",
        "    'vgg19_bn': 'https://download.pytorch.org/models/vgg19_bn-c79401a0.pth',\n",
        "}"
      ],
      "execution_count": 22,
      "outputs": []
    },
    {
      "cell_type": "code",
      "metadata": {
        "id": "YuPzZuRK0l3s"
      },
      "source": [
        "class VGG(nn.Module):\n",
        "  def __init__(self, features, num_classes = 1000, init_weights = True):\n",
        "    super(VGG, self).__init__()\n",
        "\n",
        "    self.features = features # convolution layer\n",
        "\n",
        "    self.avgpool = nn.AdaptiveAvgPool2d((7, 7))\n",
        "\n",
        "    self.classifier = nn.Sequential(\n",
        "        nn.Linear(512 * 7 * 7 , 4096),\n",
        "        nn.ReLU(),\n",
        "        nn.Dropout(),\n",
        "        nn.Linear(4096, 4096),\n",
        "        nn.ReLU(True),\n",
        "        nn.Dropout(),\n",
        "        nn.Linear(4096, num_classes)\n",
        "    ) # FC layer\n",
        "\n",
        "    if init_weights:\n",
        "      self._initialize_weights()\n",
        "\n",
        "  def forward(self, x):\n",
        "    x = self.features(x) # Convolution\n",
        "    x = self.avgpool(x) # avgpool\n",
        "    x = x.view(x.size(0), -1) \n",
        "    x = self.classifier(x) # FC layer\n",
        "    return x\n",
        "\n",
        "  def _initialize_weights(self):\n",
        "    for m in self.modules():  # features가 넘겨준 값을 하나씩 return\n",
        "      if isinstance(m, nn.Conv2d):\n",
        "        nn.init.kaiming_normal_(m.weight, mode = 'fan_out', nonlinearity = 'relu')    \n",
        "          # normalize the convolution layer\n",
        "\n",
        "        if m.bias is not None:\n",
        "          nn.init.constant_(m.bias, 0) # in VGG, bias = 0\n",
        "      \n",
        "      elif isinstance(m, nn.BatchNorm2d):\n",
        "        # Normalize\n",
        "        nn.init.constant_(m.weight, 1)  \n",
        "        nn.init.constant_(m.bias, 0)\n",
        "      \n",
        "      elif isinstance(m, nn.Linear):\n",
        "        # Normalize\n",
        "        nn.init.normal_(m.weight, 0, 0.01)\n",
        "        nn.init.constant_(m.bias, 0)\n",
        "      "
      ],
      "execution_count": 48,
      "outputs": []
    },
    {
      "cell_type": "code",
      "metadata": {
        "id": "TB0lCy0q1u5Z"
      },
      "source": [
        "def make_layers(cfg, batch_norm = False):\n",
        "  layers = []\n",
        "  in_channels = 3\n",
        "\n",
        "  for v in cfg:\n",
        "    if v == 'M':\n",
        "      layers += [nn.MaxPool2d(kernel_size=2, stride=2)]\n",
        "\n",
        "    else:\n",
        "      conv2d = nn.Conv2d(in_channels, v, kernel_size = 3, padding = 1)\n",
        "      if batch_norm:\n",
        "        layers += [conv2d, nn.BatchNorm2d(v), nn.ReLU(inplace = True)]\n",
        "\n",
        "      else:\n",
        "        layers += [conv2d, nn.ReLU(inplace = True)]\n",
        "      in_channels = v\n",
        "\n",
        "  return nn.Sequential(*layers)"
      ],
      "execution_count": 49,
      "outputs": []
    },
    {
      "cell_type": "code",
      "metadata": {
        "id": "6Br9j3VI3Bb1"
      },
      "source": [
        "cfg = {\n",
        "    'A': [64, 'M', 128, 'M', 256, 256, 'M', 512, 512, 'M', 512, 512, 'M'], #8 + 3 =11 == vgg11\n",
        "    'B': [64, 64, 'M', 128, 128, 'M', 256, 256, 'M', 512, 512, 'M', 512, 512, 'M'], # 10 + 3 = vgg 13\n",
        "    'D': [64, 64, 'M', 128, 128, 'M', 256, 256, 256, 'M', 512, 512, 512, 'M', 512, 512, 512, 'M'], #13 + 3 = vgg 16\n",
        "    'E': [64, 64, 'M', 128, 128, 'M', 256, 256, 256, 256, 'M', 512, 512, 512, 512, 'M', 512, 512, 512, 512, 'M'], # 16 +3 =vgg 19\n",
        "    'custom' : [64,64,64,'M',128,128,128,'M',256,256,256,'M']\n",
        "}"
      ],
      "execution_count": 50,
      "outputs": []
    },
    {
      "cell_type": "code",
      "metadata": {
        "id": "68rObIZz3fKQ"
      },
      "source": [
        "conv = make_layers(cfg['custom'], batch_norm = True)"
      ],
      "execution_count": 51,
      "outputs": []
    },
    {
      "cell_type": "code",
      "metadata": {
        "colab": {
          "base_uri": "https://localhost:8080/"
        },
        "id": "WaYwTSUL4U9K",
        "outputId": "c5f752c8-fcc0-4c51-865c-2249ae242a8b"
      },
      "source": [
        "conv"
      ],
      "execution_count": 52,
      "outputs": [
        {
          "output_type": "execute_result",
          "data": {
            "text/plain": [
              "Sequential(\n",
              "  (0): Conv2d(3, 64, kernel_size=(3, 3), stride=(1, 1), padding=(1, 1))\n",
              "  (1): BatchNorm2d(64, eps=1e-05, momentum=0.1, affine=True, track_running_stats=True)\n",
              "  (2): ReLU(inplace=True)\n",
              "  (3): Conv2d(64, 64, kernel_size=(3, 3), stride=(1, 1), padding=(1, 1))\n",
              "  (4): BatchNorm2d(64, eps=1e-05, momentum=0.1, affine=True, track_running_stats=True)\n",
              "  (5): ReLU(inplace=True)\n",
              "  (6): Conv2d(64, 64, kernel_size=(3, 3), stride=(1, 1), padding=(1, 1))\n",
              "  (7): BatchNorm2d(64, eps=1e-05, momentum=0.1, affine=True, track_running_stats=True)\n",
              "  (8): ReLU(inplace=True)\n",
              "  (9): MaxPool2d(kernel_size=2, stride=2, padding=0, dilation=1, ceil_mode=False)\n",
              "  (10): Conv2d(64, 128, kernel_size=(3, 3), stride=(1, 1), padding=(1, 1))\n",
              "  (11): BatchNorm2d(128, eps=1e-05, momentum=0.1, affine=True, track_running_stats=True)\n",
              "  (12): ReLU(inplace=True)\n",
              "  (13): Conv2d(128, 128, kernel_size=(3, 3), stride=(1, 1), padding=(1, 1))\n",
              "  (14): BatchNorm2d(128, eps=1e-05, momentum=0.1, affine=True, track_running_stats=True)\n",
              "  (15): ReLU(inplace=True)\n",
              "  (16): Conv2d(128, 128, kernel_size=(3, 3), stride=(1, 1), padding=(1, 1))\n",
              "  (17): BatchNorm2d(128, eps=1e-05, momentum=0.1, affine=True, track_running_stats=True)\n",
              "  (18): ReLU(inplace=True)\n",
              "  (19): MaxPool2d(kernel_size=2, stride=2, padding=0, dilation=1, ceil_mode=False)\n",
              "  (20): Conv2d(128, 256, kernel_size=(3, 3), stride=(1, 1), padding=(1, 1))\n",
              "  (21): BatchNorm2d(256, eps=1e-05, momentum=0.1, affine=True, track_running_stats=True)\n",
              "  (22): ReLU(inplace=True)\n",
              "  (23): Conv2d(256, 256, kernel_size=(3, 3), stride=(1, 1), padding=(1, 1))\n",
              "  (24): BatchNorm2d(256, eps=1e-05, momentum=0.1, affine=True, track_running_stats=True)\n",
              "  (25): ReLU(inplace=True)\n",
              "  (26): Conv2d(256, 256, kernel_size=(3, 3), stride=(1, 1), padding=(1, 1))\n",
              "  (27): BatchNorm2d(256, eps=1e-05, momentum=0.1, affine=True, track_running_stats=True)\n",
              "  (28): ReLU(inplace=True)\n",
              "  (29): MaxPool2d(kernel_size=2, stride=2, padding=0, dilation=1, ceil_mode=False)\n",
              ")"
            ]
          },
          "metadata": {
            "tags": []
          },
          "execution_count": 52
        }
      ]
    },
    {
      "cell_type": "code",
      "metadata": {
        "id": "hf_qJGRH4W_I"
      },
      "source": [
        "CNN = VGG(make_layers(cfg['custom']), num_classes = 10, init_weights = True)"
      ],
      "execution_count": 53,
      "outputs": []
    },
    {
      "cell_type": "code",
      "metadata": {
        "colab": {
          "base_uri": "https://localhost:8080/"
        },
        "id": "YKhDQtq45MGX",
        "outputId": "e88df6a9-4f7f-4d33-f184-399a55dd5c9e"
      },
      "source": [
        "CNN"
      ],
      "execution_count": 54,
      "outputs": [
        {
          "output_type": "execute_result",
          "data": {
            "text/plain": [
              "VGG(\n",
              "  (features): Sequential(\n",
              "    (0): Conv2d(3, 64, kernel_size=(3, 3), stride=(1, 1), padding=(1, 1))\n",
              "    (1): ReLU(inplace=True)\n",
              "    (2): Conv2d(64, 64, kernel_size=(3, 3), stride=(1, 1), padding=(1, 1))\n",
              "    (3): ReLU(inplace=True)\n",
              "    (4): Conv2d(64, 64, kernel_size=(3, 3), stride=(1, 1), padding=(1, 1))\n",
              "    (5): ReLU(inplace=True)\n",
              "    (6): MaxPool2d(kernel_size=2, stride=2, padding=0, dilation=1, ceil_mode=False)\n",
              "    (7): Conv2d(64, 128, kernel_size=(3, 3), stride=(1, 1), padding=(1, 1))\n",
              "    (8): ReLU(inplace=True)\n",
              "    (9): Conv2d(128, 128, kernel_size=(3, 3), stride=(1, 1), padding=(1, 1))\n",
              "    (10): ReLU(inplace=True)\n",
              "    (11): Conv2d(128, 128, kernel_size=(3, 3), stride=(1, 1), padding=(1, 1))\n",
              "    (12): ReLU(inplace=True)\n",
              "    (13): MaxPool2d(kernel_size=2, stride=2, padding=0, dilation=1, ceil_mode=False)\n",
              "    (14): Conv2d(128, 256, kernel_size=(3, 3), stride=(1, 1), padding=(1, 1))\n",
              "    (15): ReLU(inplace=True)\n",
              "    (16): Conv2d(256, 256, kernel_size=(3, 3), stride=(1, 1), padding=(1, 1))\n",
              "    (17): ReLU(inplace=True)\n",
              "    (18): Conv2d(256, 256, kernel_size=(3, 3), stride=(1, 1), padding=(1, 1))\n",
              "    (19): ReLU(inplace=True)\n",
              "    (20): MaxPool2d(kernel_size=2, stride=2, padding=0, dilation=1, ceil_mode=False)\n",
              "  )\n",
              "  (avgpool): AdaptiveAvgPool2d(output_size=(7, 7))\n",
              "  (classifier): Sequential(\n",
              "    (0): Linear(in_features=25088, out_features=4096, bias=True)\n",
              "    (1): ReLU()\n",
              "    (2): Dropout(p=0.5, inplace=False)\n",
              "    (3): Linear(in_features=4096, out_features=4096, bias=True)\n",
              "    (4): ReLU(inplace=True)\n",
              "    (5): Dropout(p=0.5, inplace=False)\n",
              "    (6): Linear(in_features=4096, out_features=10, bias=True)\n",
              "  )\n",
              ")"
            ]
          },
          "metadata": {
            "tags": []
          },
          "execution_count": 54
        }
      ]
    },
    {
      "cell_type": "markdown",
      "metadata": {
        "id": "fnQiDsA86OsI"
      },
      "source": [
        "# Lab-10-5-2 VGG for cifar10"
      ]
    },
    {
      "cell_type": "code",
      "metadata": {
        "colab": {
          "base_uri": "https://localhost:8080/"
        },
        "id": "OKDR8QtJ5qKc",
        "outputId": "337a9730-327e-462f-817b-507255f9aa98"
      },
      "source": [
        "transform = transforms.Compose(\n",
        "    [transforms.ToTensor(),\n",
        "     transforms.Normalize((0.5, 0.5, 0.5), (0.5, 0.5, 0.5))]\n",
        ")\n",
        "\n",
        "trainset = torchvision.datasets.CIFAR10(root = './data', train=True,\n",
        "                                        download = True, transform = transform)\n",
        "\n",
        "trainloader = torch.utils.data.DataLoader(trainset, batch_size = 512,\n",
        "                                          shuffle= True, num_workers=2)\n",
        "\n",
        "testset = torchvision.datasets.CIFAR10(root = './data', train=False,\n",
        "                                        download = True, transform = transform)\n",
        "\n",
        "testloader = torch.utils.data.DataLoader(testset, batch_size = 4,\n",
        "                                         shuffle = False, num_workers = 2)\n",
        "\n",
        "\n",
        "classes = ('plane', 'car', 'bird', 'cat',\n",
        "           'deer', 'dog', 'frog', 'horse', 'ship', 'truck')"
      ],
      "execution_count": 78,
      "outputs": [
        {
          "output_type": "stream",
          "text": [
            "Files already downloaded and verified\n",
            "Files already downloaded and verified\n"
          ],
          "name": "stdout"
        }
      ]
    },
    {
      "cell_type": "code",
      "metadata": {
        "colab": {
          "base_uri": "https://localhost:8080/",
          "height": 286
        },
        "id": "XIyGG4Ej7AZk",
        "outputId": "2dc35190-2266-4f45-d820-e34bfe55fea7"
      },
      "source": [
        "import matplotlib.pyplot as plt\n",
        "import numpy as np\n",
        "%matplotlib inline\n",
        "\n",
        "\n",
        "def imshow(img):\n",
        "  img = img / 2 + 0.5 # unnormalize\n",
        "  npimg = img.numpy()\n",
        "  plt.imshow(np.transpose(npimg, (1, 2, 0)))\n",
        "  plt.show()\n",
        "\n",
        "# get some random training images\n",
        "dataiter = iter(trainloader)\n",
        "images, labels = dataiter.next()\n",
        "\n",
        "imshow(torchvision.utils.make_grid(images))\n",
        "print(' '.join('%5s' % classes[labels[j]] for j in range(4)))"
      ],
      "execution_count": 79,
      "outputs": [
        {
          "output_type": "display_data",
          "data": {
            "image/png": "[encoded data removed]",
            "text/plain": [
              "<Figure size 432x288 with 1 Axes>"
            ]
          },
          "metadata": {
            "tags": [],
            "needs_background": "light"
          }
        },
        {
          "output_type": "stream",
          "text": [
            "truck   car   dog horse\n"
          ],
          "name": "stdout"
        }
      ]
    },
    {
      "cell_type": "code",
      "metadata": {
        "id": "orpyZ4Jt79z3"
      },
      "source": [
        "import torchvision.models.vgg as vgg"
      ],
      "execution_count": 80,
      "outputs": []
    },
    {
      "cell_type": "code",
      "metadata": {
        "id": "4QgNpr2w8MJ-"
      },
      "source": [
        "cfg = [32, 32, 'M', 64, 64, 128, 128, 128, 'M', 256, 256, 256, 512, 512, 512, 'M']\n",
        "\n",
        "# 32 x 32 => 16 x 16 => 8 x 8 => 4 x 4"
      ],
      "execution_count": 81,
      "outputs": []
    },
    {
      "cell_type": "code",
      "metadata": {
        "id": "K4ZqYD3r8TwV"
      },
      "source": [
        "class VGG(nn.Module):\n",
        "  def __init__(self, features, num_classes = 1000, init_weights = True):\n",
        "    super(VGG, self).__init__()\n",
        "\n",
        "    self.features = features # convolution layer\n",
        "\n",
        "    # self.avgpool = nn.AdaptiveAvgPool2d((7, 7))\n",
        "\n",
        "    self.classifier = nn.Sequential(\n",
        "        nn.Linear(512 * 4 * 4 , 4096),\n",
        "        nn.ReLU(),\n",
        "        nn.Dropout(),\n",
        "        nn.Linear(4096, 4096),\n",
        "        nn.ReLU(True),\n",
        "        nn.Dropout(),\n",
        "        nn.Linear(4096, num_classes)\n",
        "    ) # FC layer\n",
        "\n",
        "    if init_weights:\n",
        "      self._initialize_weights()\n",
        "\n",
        "  def forward(self, x):\n",
        "    x = self.features(x) # Convolution\n",
        "    # x = self.avgpool(x) # avgpool\n",
        "    x = x.view(x.size(0), -1) \n",
        "    x = self.classifier(x) # FC layer\n",
        "    return x\n",
        "\n",
        "  def _initialize_weights(self):\n",
        "    for m in self.modules():  # features가 넘겨준 값을 하나씩 return\n",
        "      if isinstance(m, nn.Conv2d):\n",
        "        nn.init.kaiming_normal_(m.weight, mode = 'fan_out', nonlinearity = 'relu')    \n",
        "          # normalize the convolution layer\n",
        "\n",
        "        if m.bias is not None:\n",
        "          nn.init.constant_(m.bias, 0) # in VGG, bias = 0\n",
        "      \n",
        "      elif isinstance(m, nn.BatchNorm2d):\n",
        "        # Normalize\n",
        "        nn.init.constant_(m.weight, 1)  \n",
        "        nn.init.constant_(m.bias, 0)\n",
        "      \n",
        "      elif isinstance(m, nn.Linear):\n",
        "        # Normalize\n",
        "        nn.init.normal_(m.weight, 0, 0.01)\n",
        "        nn.init.constant_(m.bias, 0)\n",
        "      "
      ],
      "execution_count": 82,
      "outputs": []
    },
    {
      "cell_type": "code",
      "metadata": {
        "id": "GtFQHs0l8wAB"
      },
      "source": [
        "vgg16 = VGG(vgg.make_layers(cfg), 10, True).to(device)"
      ],
      "execution_count": 83,
      "outputs": []
    },
    {
      "cell_type": "code",
      "metadata": {
        "colab": {
          "base_uri": "https://localhost:8080/"
        },
        "id": "CxKLJqk480xE",
        "outputId": "24cea8a8-30d1-4da2-a3d4-ec29a74a3780"
      },
      "source": [
        "a = torch.Tensor(1, 3, 32, 32).to(device)\n",
        "out = vgg16(a)\n",
        "print(out)"
      ],
      "execution_count": 84,
      "outputs": [
        {
          "output_type": "stream",
          "text": [
            "tensor([[nan, nan, nan, nan, nan, nan, nan, nan, nan, nan]], device='cuda:0',\n",
            "       grad_fn=<AddmmBackward>)\n"
          ],
          "name": "stdout"
        }
      ]
    },
    {
      "cell_type": "code",
      "metadata": {
        "id": "aeWpPMgY853u"
      },
      "source": [
        "criterion = nn.CrossEntropyLoss().to(device)\n",
        "optimizer = torch.optim.SGD(vgg16.parameters(), lr = 0.005, momentum = 0.9)\n",
        "\n",
        "lr_sche = optim.lr_scheduler.StepLR(optimizer, step_size = 5, gamma = 0.9)\n",
        "# schedular step을 5번 지나갈 때 마다 learning rate에 0.9를 곱하시오."
      ],
      "execution_count": 85,
      "outputs": []
    },
    {
      "cell_type": "code",
      "metadata": {
        "colab": {
          "base_uri": "https://localhost:8080/"
        },
        "id": "J2JzXkby9Tnc",
        "outputId": "ef7a1bbe-0cc5-4a0e-fbe6-16813cef15bf"
      },
      "source": [
        "print(len(trainloader))\n",
        "\n",
        "epochs = 10\n",
        "\n",
        "\n",
        "for epoch in range(epochs):\n",
        "  running_loss =0\n",
        "  \n",
        "  for i, data in enumerate(trainloader, 0):\n",
        "    inputs, labels = data\n",
        "    inputs = inputs.to(device)\n",
        "    labels = labels.to(device)\n",
        "\n",
        "    optimizer.zero_grad()\n",
        "\n",
        "    outputs = vgg16(inputs)\n",
        "    loss = criterion(outputs, labels)\n",
        "    loss.backward()\n",
        "    optimizer.step()\n",
        "\n",
        "    running_loss += loss.item()\n",
        "    if i % 30 == 29: # print every 2000 mini-batches\n",
        "      print('[%d, %d] loss : %.3f'%(epoch+1, i+1, running_loss / 30))\n",
        "  lr_sche.step()\n",
        "\n",
        "print('Finished Training')"
      ],
      "execution_count": 86,
      "outputs": [
        {
          "output_type": "stream",
          "text": [
            "98\n",
            "[1, 30] loss : 2.302\n",
            "[1, 60] loss : 4.601\n",
            "[1, 90] loss : 6.894\n",
            "[2, 30] loss : 2.243\n",
            "[2, 60] loss : 4.401\n",
            "[2, 90] loss : 6.439\n",
            "[3, 30] loss : 1.909\n",
            "[3, 60] loss : 3.730\n",
            "[3, 90] loss : 5.490\n",
            "[4, 30] loss : 1.679\n",
            "[4, 60] loss : 3.344\n",
            "[4, 90] loss : 4.978\n",
            "[5, 30] loss : 1.586\n",
            "[5, 60] loss : 3.095\n",
            "[5, 90] loss : 4.579\n",
            "[6, 30] loss : 1.476\n",
            "[6, 60] loss : 2.918\n",
            "[6, 90] loss : 4.295\n",
            "[7, 30] loss : 1.369\n",
            "[7, 60] loss : 2.708\n",
            "[7, 90] loss : 4.019\n",
            "[8, 30] loss : 1.265\n",
            "[8, 60] loss : 2.528\n",
            "[8, 90] loss : 3.817\n",
            "[9, 30] loss : 1.177\n",
            "[9, 60] loss : 2.370\n",
            "[9, 90] loss : 3.508\n",
            "[10, 30] loss : 1.138\n",
            "[10, 60] loss : 2.248\n",
            "[10, 90] loss : 3.322\n",
            "Finished Training\n"
          ],
          "name": "stdout"
        }
      ]
    },
    {
      "cell_type": "code",
      "metadata": {
        "id": "eB4m-soh-gPI"
      },
      "source": [
        "dataiter = iter(testloader)\n",
        "images, labels = dataiter.next()\n",
        "\n",
        "# print images\n",
        "imshow(torchvision.utils.make_grid(images))\n",
        "print('GroundTruth: ', ' '.join('%5s' % classes[labels[j]] for j in range(4)))"
      ],
      "execution_count": 86,
      "outputs": []
    },
    {
      "cell_type": "code",
      "metadata": {
        "id": "z_FuFUcn-_l-"
      },
      "source": [
        "\n",
        "outputs = vgg16(images.to(device))"
      ],
      "execution_count": 87,
      "outputs": []
    },
    {
      "cell_type": "code",
      "metadata": {
        "colab": {
          "base_uri": "https://localhost:8080/"
        },
        "id": "RNqOGQHS_Akx",
        "outputId": "9a01a8a8-cba8-4e69-feed-29f9e7d1fc83"
      },
      "source": [
        "_, predicted = torch.max(outputs, 1)\n",
        "\n",
        "print('Predicted: ', ' '.join('%5s' % classes[predicted[j]]\n",
        "                              for j in range(4)))"
      ],
      "execution_count": 88,
      "outputs": [
        {
          "output_type": "stream",
          "text": [
            "Predicted:  plane   car   dog horse\n"
          ],
          "name": "stdout"
        }
      ]
    },
    {
      "cell_type": "code",
      "metadata": {
        "colab": {
          "base_uri": "https://localhost:8080/"
        },
        "id": "mRUHJfx5_B2B",
        "outputId": "8d72630c-6310-4853-ee0e-395192bdd91a"
      },
      "source": [
        "correct = 0\n",
        "total = 0\n",
        "\n",
        "with torch.no_grad():\n",
        "    for data in testloader:\n",
        "        images, labels = data\n",
        "        images = images.to(device)\n",
        "        labels = labels.to(device)\n",
        "        outputs = vgg16(images)\n",
        "        \n",
        "        _, predicted = torch.max(outputs.data, 1)\n",
        "        \n",
        "        total += labels.size(0)\n",
        "        \n",
        "        correct += (predicted == labels).sum().item()\n",
        "\n",
        "print('Accuracy of the network on the 10000 test images: %d %%' % (\n",
        "    100 * correct / total))"
      ],
      "execution_count": 89,
      "outputs": [
        {
          "output_type": "stream",
          "text": [
            "Accuracy of the network on the 10000 test images: 61 %\n"
          ],
          "name": "stdout"
        }
      ]
    },
    {
      "cell_type": "markdown",
      "metadata": {
        "id": "6ZWzYtcsBHUg"
      },
      "source": [
        "시간 관계상 epoch 수가 너무 낮아서 정확도가 낮게 나옴.\n",
        "50회 돌리면 76%까지 향상되는 것을 알 수 있었음."
      ]
    }
  ]
}