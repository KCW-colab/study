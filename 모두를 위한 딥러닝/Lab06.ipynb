{
  "nbformat": 4,
  "nbformat_minor": 0,
  "metadata": {
    "colab": {
      "name": "Lab06.ipynb",
      "provenance": [],
      "collapsed_sections": [],
      "authorship_tag": "ABX9TyOkObXWpg9VMO2OpBu/UGXU"
    },
    "kernelspec": {
      "name": "python3",
      "display_name": "Python 3"
    },
    "language_info": {
      "name": "python"
    }
  },
  "cells": [
    {
      "cell_type": "markdown",
      "metadata": {
        "id": "4bXldO7Br6ps"
      },
      "source": [
        "# Lab-06 Softmax Classification\n"
      ]
    },
    {
      "cell_type": "code",
      "metadata": {
        "colab": {
          "base_uri": "https://localhost:8080/"
        },
        "id": "RcB0h0hpr0Ff",
        "outputId": "35cfc896-9271-4676-c538-b107f9bcf7c0"
      },
      "source": [
        "import torch\n",
        "import torch.nn as nn\n",
        "import torch.nn.functional as F\n",
        "import torch.optim as optim\n",
        "\n",
        "# For reproducibility\n",
        "torch.manual_seed(1)\n"
      ],
      "execution_count": 13,
      "outputs": [
        {
          "output_type": "execute_result",
          "data": {
            "text/plain": [
              "<torch._C.Generator at 0x7f19bf115930>"
            ]
          },
          "metadata": {
            "tags": []
          },
          "execution_count": 13
        }
      ]
    },
    {
      "cell_type": "markdown",
      "metadata": {
        "id": "v5pmz6ErtG_m"
      },
      "source": [
        "## Softmax\n",
        "\n",
        "$$ P(class = i) = e^i / \\sum e^i $$"
      ]
    },
    {
      "cell_type": "code",
      "metadata": {
        "id": "yLjdDsSSsWH9"
      },
      "source": [
        "z = torch.FloatTensor([1, 2, 3])"
      ],
      "execution_count": 14,
      "outputs": []
    },
    {
      "cell_type": "code",
      "metadata": {
        "colab": {
          "base_uri": "https://localhost:8080/"
        },
        "id": "dESn846-tOib",
        "outputId": "0d7fdc5f-c459-4443-8fd4-112b1e1ff5b2"
      },
      "source": [
        "# Pytorch has a softmax function.\n",
        "hypothesis = F.softmax(z, dim=0)\n",
        "print(hypothesis)"
      ],
      "execution_count": 15,
      "outputs": [
        {
          "output_type": "stream",
          "text": [
            "tensor([0.0900, 0.2447, 0.6652])\n"
          ],
          "name": "stdout"
        }
      ]
    },
    {
      "cell_type": "code",
      "metadata": {
        "colab": {
          "base_uri": "https://localhost:8080/"
        },
        "id": "lI8zhPSotUYI",
        "outputId": "760164be-8c7e-45b0-8207-d943268a69ba"
      },
      "source": [
        "hypothesis.sum() # = 1, Since they are probabilities."
      ],
      "execution_count": 16,
      "outputs": [
        {
          "output_type": "execute_result",
          "data": {
            "text/plain": [
              "tensor(1.)"
            ]
          },
          "metadata": {
            "tags": []
          },
          "execution_count": 16
        }
      ]
    },
    {
      "cell_type": "markdown",
      "metadata": {
        "id": "YqzEcyB9uO48"
      },
      "source": [
        "## Cross Entropy\n",
        "\n",
        "$$ H(P, Q) = -\\mathbb{E}_{x \\sim P(X)} log Q(x) = -\\sum_{x \\in \\mathcal{X}}P(X)logQ(x) $$ "
      ]
    },
    {
      "cell_type": "markdown",
      "metadata": {
        "id": "Z8Yr7_qeww_V"
      },
      "source": [
        "For multi-class classification, we use the cross entropy loss.\n",
        "\n",
        "$$ L = 1/N \\sum -ylog(\\hat{y})$$\n",
        "\n",
        "where $\\hat{y}$ is the predicted probability and $y$ is the correct probability (0 or 1)."
      ]
    },
    {
      "cell_type": "code",
      "metadata": {
        "colab": {
          "base_uri": "https://localhost:8080/"
        },
        "id": "qcq2kYfdtWUV",
        "outputId": "33fddbf1-d091-454a-c538-d08a0b320776"
      },
      "source": [
        "z = torch.rand(3, 5, requires_grad=True)\n",
        "hypothesis = F.softmax(z, dim=1)\n",
        "print(hypothesis)"
      ],
      "execution_count": 17,
      "outputs": [
        {
          "output_type": "stream",
          "text": [
            "tensor([[0.2645, 0.1639, 0.1855, 0.2585, 0.1277],\n",
            "        [0.2430, 0.1624, 0.2322, 0.1930, 0.1694],\n",
            "        [0.2226, 0.1986, 0.2326, 0.1594, 0.1868]], grad_fn=<SoftmaxBackward>)\n"
          ],
          "name": "stdout"
        }
      ]
    },
    {
      "cell_type": "code",
      "metadata": {
        "colab": {
          "base_uri": "https://localhost:8080/"
        },
        "id": "L0g7FczNxRmO",
        "outputId": "e347e04c-59eb-465d-8ced-36cf34cc8606"
      },
      "source": [
        "y = torch.randint(5, (3,)).long()\n",
        "print(y)"
      ],
      "execution_count": 18,
      "outputs": [
        {
          "output_type": "stream",
          "text": [
            "tensor([0, 2, 1])\n"
          ],
          "name": "stdout"
        }
      ]
    },
    {
      "cell_type": "code",
      "metadata": {
        "colab": {
          "base_uri": "https://localhost:8080/"
        },
        "id": "eDwGMSXGxWr4",
        "outputId": "bccef014-b7df-4cb1-9dae-a3e73240068f"
      },
      "source": [
        "y_one_hot = torch.zeros_like(hypothesis)\n",
        "y_one_hot.scatter_(1, y.unsqueeze(1), 1) # 앞에 1은 dim=1  |y| = (3,) => (3, 1)\n",
        "# _는 inplace 함수                             "
      ],
      "execution_count": 24,
      "outputs": [
        {
          "output_type": "execute_result",
          "data": {
            "text/plain": [
              "tensor([[1., 0., 0., 0., 0.],\n",
              "        [0., 0., 1., 0., 0.],\n",
              "        [0., 1., 0., 0., 0.]])"
            ]
          },
          "metadata": {
            "tags": []
          },
          "execution_count": 24
        }
      ]
    },
    {
      "cell_type": "code",
      "metadata": {
        "colab": {
          "base_uri": "https://localhost:8080/"
        },
        "id": "6rIHaa6Yx7T0",
        "outputId": "a19467e4-b113-4a51-e823-4c94dedec940"
      },
      "source": [
        "cost = (y_one_hot * -torch.log(hypothesis)).sum(dim=1).mean()\n",
        "print(cost)"
      ],
      "execution_count": 23,
      "outputs": [
        {
          "output_type": "stream",
          "text": [
            "tensor(1.4689, grad_fn=<MeanBackward0>)\n"
          ],
          "name": "stdout"
        }
      ]
    },
    {
      "cell_type": "markdown",
      "metadata": {
        "id": "5_mPvISky2wi"
      },
      "source": [
        "## Cross-entropy Loss with torch.nn.functional"
      ]
    },
    {
      "cell_type": "code",
      "metadata": {
        "colab": {
          "base_uri": "https://localhost:8080/"
        },
        "id": "l8GF-3AryBlk",
        "outputId": "6470fbed-14ce-44b3-fca8-e5a1777d8588"
      },
      "source": [
        "# Low level\n",
        "torch.log(F.softmax(z, dim=1))"
      ],
      "execution_count": 25,
      "outputs": [
        {
          "output_type": "execute_result",
          "data": {
            "text/plain": [
              "tensor([[-1.3301, -1.8084, -1.6846, -1.3530, -2.0584],\n",
              "        [-1.4147, -1.8174, -1.4602, -1.6450, -1.7758],\n",
              "        [-1.5025, -1.6165, -1.4586, -1.8360, -1.6776]], grad_fn=<LogBackward>)"
            ]
          },
          "metadata": {
            "tags": []
          },
          "execution_count": 25
        }
      ]
    },
    {
      "cell_type": "code",
      "metadata": {
        "colab": {
          "base_uri": "https://localhost:8080/"
        },
        "id": "LRjJjkn8y2X2",
        "outputId": "5e0b1555-2c5f-44bb-88b2-b8777263ebf3"
      },
      "source": [
        "# High level\n",
        "F.log_softmax(z, dim=1)"
      ],
      "execution_count": 26,
      "outputs": [
        {
          "output_type": "execute_result",
          "data": {
            "text/plain": [
              "tensor([[-1.3301, -1.8084, -1.6846, -1.3530, -2.0584],\n",
              "        [-1.4147, -1.8174, -1.4602, -1.6450, -1.7758],\n",
              "        [-1.5025, -1.6165, -1.4586, -1.8360, -1.6776]],\n",
              "       grad_fn=<LogSoftmaxBackward>)"
            ]
          },
          "metadata": {
            "tags": []
          },
          "execution_count": 26
        }
      ]
    },
    {
      "cell_type": "code",
      "metadata": {
        "colab": {
          "base_uri": "https://localhost:8080/"
        },
        "id": "K3PCWFLty8s7",
        "outputId": "2860d6ed-b07a-43fa-ecd9-3a08e5ad69c5"
      },
      "source": [
        "# Low level\n",
        "(y_one_hot * -torch.log(F.softmax(z, dim=1))).sum(dim=1).mean()"
      ],
      "execution_count": 27,
      "outputs": [
        {
          "output_type": "execute_result",
          "data": {
            "text/plain": [
              "tensor(1.4689, grad_fn=<MeanBackward0>)"
            ]
          },
          "metadata": {
            "tags": []
          },
          "execution_count": 27
        }
      ]
    },
    {
      "cell_type": "code",
      "metadata": {
        "colab": {
          "base_uri": "https://localhost:8080/"
        },
        "id": "Bu7I2g8UzInb",
        "outputId": "a34d3fc1-559f-4512-cb13-62139c7f0673"
      },
      "source": [
        "# High level\n",
        "F.nll_loss(F.log_softmax(z, dim=1), y) # negative log likelihood"
      ],
      "execution_count": 30,
      "outputs": [
        {
          "output_type": "execute_result",
          "data": {
            "text/plain": [
              "tensor(1.4689, grad_fn=<NllLossBackward>)"
            ]
          },
          "metadata": {
            "tags": []
          },
          "execution_count": 30
        }
      ]
    },
    {
      "cell_type": "markdown",
      "metadata": {
        "id": "DFnLQXbVzPeD"
      },
      "source": [
        "PyTorch also has F.cross_entropy that combines F.log_softmax() and F.nll_loss()"
      ]
    },
    {
      "cell_type": "code",
      "metadata": {
        "colab": {
          "base_uri": "https://localhost:8080/"
        },
        "id": "h8W2BlswzMIs",
        "outputId": "7640b0fa-0cd4-4ab9-cf71-21ccff734834"
      },
      "source": [
        "F.cross_entropy(z, y)"
      ],
      "execution_count": 29,
      "outputs": [
        {
          "output_type": "execute_result",
          "data": {
            "text/plain": [
              "tensor(1.4689, grad_fn=<NllLossBackward>)"
            ]
          },
          "metadata": {
            "tags": []
          },
          "execution_count": 29
        }
      ]
    },
    {
      "cell_type": "code",
      "metadata": {
        "id": "3bbP48b5zPAm"
      },
      "source": [
        "x_train=[[1, 2, 1, 1],\n",
        "         [2, 1, 3, 2],\n",
        "         [3, 1, 3, 4],\n",
        "         [4, 1, 5, 5],\n",
        "         [1, 7, 5, 5],\n",
        "         [1, 2, 5, 6],\n",
        "         [1, 6, 6, 6],\n",
        "         [1, 7, 7, 7]]\n",
        "y_train = [2, 2, 2, 1, 1, 1, 0, 0]\n",
        "x_train = torch.FloatTensor(x_train)\n",
        "y_train = torch.LongTensor(y_train)"
      ],
      "execution_count": 31,
      "outputs": []
    },
    {
      "cell_type": "code",
      "metadata": {
        "colab": {
          "base_uri": "https://localhost:8080/"
        },
        "id": "EeFwVrky0HZh",
        "outputId": "b3e27d3f-aee1-4012-fabc-e033f764a553"
      },
      "source": [
        "# initialize model\n",
        "W = torch.zeros((4, 3), requires_grad=True)\n",
        "b = torch.zeros(1, requires_grad=True)\n",
        "# setting optimizer\n",
        "optimizer = optim.SGD([W, b], lr=0.1)\n",
        "\n",
        "nb_epochs = 1000\n",
        "for epoch in range(nb_epochs + 1):\n",
        "\n",
        "  # Calculate Cost(1)\n",
        "  hypothesis = F.softmax(x_train.matmul(W) + b, dim=1) # or .mm or @\n",
        "  y_one_hot = torch.zeros_like(hypothesis)\n",
        "  y_one_hot.scatter_(1, y_train.unsqueeze(1), 1)\n",
        "  cost = (y_one_hot * -torch.log(F.softmax(hypothesis, dim=1))).sum(dim=1).mean()\n",
        "\n",
        "  # update H(x) using cost\n",
        "  optimizer.zero_grad()\n",
        "  cost.backward()\n",
        "  optimizer.step()\n",
        "\n",
        "  # print log per 100\n",
        "  if epoch % 100 == 0:\n",
        "    print('Epoch {:4d}/{} Cost: {:.6f}'.format(epoch, nb_epochs, cost.item()))"
      ],
      "execution_count": 34,
      "outputs": [
        {
          "output_type": "stream",
          "text": [
            "Epoch    0/1000 Cost: 1.098612\n",
            "Epoch  100/1000 Cost: 0.901535\n",
            "Epoch  200/1000 Cost: 0.839114\n",
            "Epoch  300/1000 Cost: 0.807826\n",
            "Epoch  400/1000 Cost: 0.788472\n",
            "Epoch  500/1000 Cost: 0.774822\n",
            "Epoch  600/1000 Cost: 0.764449\n",
            "Epoch  700/1000 Cost: 0.756191\n",
            "Epoch  800/1000 Cost: 0.749398\n",
            "Epoch  900/1000 Cost: 0.743671\n",
            "Epoch 1000/1000 Cost: 0.738749\n"
          ],
          "name": "stdout"
        }
      ]
    },
    {
      "cell_type": "code",
      "metadata": {
        "colab": {
          "base_uri": "https://localhost:8080/"
        },
        "id": "AwJQspAM1QXS",
        "outputId": "328f478b-a700-47e6-f161-8be6de8bb6bc"
      },
      "source": [
        "# initialize model\n",
        "W = torch.zeros((4, 3), requires_grad=True)\n",
        "b = torch.zeros(1, requires_grad=True)\n",
        "# setting optimizer\n",
        "optimizer = optim.SGD([W, b], lr=0.1)\n",
        "\n",
        "nb_epochs = 1000\n",
        "for epoch in range(nb_epochs + 1):\n",
        "\n",
        "  # Calculate Cost(1)\n",
        "  z = x_train.matmul(W) + b\n",
        "  cost = F.cross_entropy(z, y_train)\n",
        "\n",
        "  # update H(x) using cost\n",
        "  optimizer.zero_grad()\n",
        "  cost.backward()\n",
        "  optimizer.step()\n",
        "\n",
        "  # print log per 100\n",
        "  if epoch % 100 == 0:\n",
        "    print('Epoch {:4d}/{} Cost: {:.6f}'.format(epoch, nb_epochs, cost.item()))"
      ],
      "execution_count": 36,
      "outputs": [
        {
          "output_type": "stream",
          "text": [
            "Epoch    0/1000 Cost: 1.098612\n",
            "Epoch  100/1000 Cost: 0.761050\n",
            "Epoch  200/1000 Cost: 0.689991\n",
            "Epoch  300/1000 Cost: 0.643229\n",
            "Epoch  400/1000 Cost: 0.604117\n",
            "Epoch  500/1000 Cost: 0.568255\n",
            "Epoch  600/1000 Cost: 0.533922\n",
            "Epoch  700/1000 Cost: 0.500291\n",
            "Epoch  800/1000 Cost: 0.466908\n",
            "Epoch  900/1000 Cost: 0.433507\n",
            "Epoch 1000/1000 Cost: 0.399962\n"
          ],
          "name": "stdout"
        }
      ]
    },
    {
      "cell_type": "markdown",
      "metadata": {
        "id": "I9SRAagI2Jty"
      },
      "source": [
        "## High-level Implementation with nn.Module"
      ]
    },
    {
      "cell_type": "code",
      "metadata": {
        "id": "GNcsps5b10Xg"
      },
      "source": [
        "class SoftmaxClassifierModel(nn.Module):\n",
        "  def __init__(self):\n",
        "    super().__init__()\n",
        "    self.linear = nn.Linear(4, 3) # Output size 3\n",
        "\n",
        "  def forward(self, x):\n",
        "    return self.linear(x)\n",
        "    "
      ],
      "execution_count": 37,
      "outputs": []
    },
    {
      "cell_type": "code",
      "metadata": {
        "id": "sWk-V-IY2ZMu"
      },
      "source": [
        "model = SoftmaxClassifierModel()"
      ],
      "execution_count": 38,
      "outputs": []
    },
    {
      "cell_type": "code",
      "metadata": {
        "colab": {
          "base_uri": "https://localhost:8080/"
        },
        "id": "VTDJQ0Nc2aaz",
        "outputId": "a77553ed-c5b7-4ffd-fb52-f808fcef73c1"
      },
      "source": [
        "optimizer = optim.SGD(model.parameters(), lr=0.1)\n",
        "\n",
        "nb_epochs = 1000\n",
        "for epoch in range(nb_epochs + 1):\n",
        "\n",
        "  # Calculate H(x)\n",
        "  prediction = model(x_train)\n",
        "\n",
        "  # cost calculate\n",
        "  cost = F.cross_entropy(prediction, y_train)\n",
        "\n",
        "  # update H(x) using cost\n",
        "  optimizer.zero_grad()\n",
        "  cost.backward()\n",
        "  optimizer.step()\n",
        "\n",
        "  # print log per 100\n",
        "  if epoch % 100 == 0:\n",
        "    print('Epoch {:4d}/{} Cost: {:.6f}'.format(epoch, nb_epochs, cost.item()))"
      ],
      "execution_count": 39,
      "outputs": [
        {
          "output_type": "stream",
          "text": [
            "Epoch    0/1000 Cost: 1.849513\n",
            "Epoch  100/1000 Cost: 0.689894\n",
            "Epoch  200/1000 Cost: 0.609259\n",
            "Epoch  300/1000 Cost: 0.551218\n",
            "Epoch  400/1000 Cost: 0.500141\n",
            "Epoch  500/1000 Cost: 0.451947\n",
            "Epoch  600/1000 Cost: 0.405051\n",
            "Epoch  700/1000 Cost: 0.358733\n",
            "Epoch  800/1000 Cost: 0.312912\n",
            "Epoch  900/1000 Cost: 0.269521\n",
            "Epoch 1000/1000 Cost: 0.241922\n"
          ],
          "name": "stdout"
        }
      ]
    },
    {
      "cell_type": "code",
      "metadata": {
        "id": "6FJi2ysg24xN"
      },
      "source": [
        ""
      ],
      "execution_count": null,
      "outputs": []
    }
  ]
}