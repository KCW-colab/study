{
  "nbformat": 4,
  "nbformat_minor": 0,
  "metadata": {
    "colab": {
      "name": "Lab-01-1 Tensor Manipulation.ipynb",
      "provenance": [],
      "collapsed_sections": [],
      "authorship_tag": "ABX9TyMVuQhHC3fY/v05YbQBFo0n"
    },
    "kernelspec": {
      "name": "python3",
      "display_name": "Python 3"
    },
    "language_info": {
      "name": "python"
    }
  },
  "cells": [
    {
      "cell_type": "code",
      "metadata": {
        "id": "LhVzrZZklV_J"
      },
      "source": [
        "import numpy as np\n",
        "import torch"
      ],
      "execution_count": 1,
      "outputs": []
    },
    {
      "cell_type": "code",
      "metadata": {
        "colab": {
          "base_uri": "https://localhost:8080/"
        },
        "id": "fgzGk71ipKt5",
        "outputId": "69cc873a-7671-4201-c4e1-c44aa4ea6670"
      },
      "source": [
        "t = np.array([0., 1., 2., 3., 4., 5., 6.])\n",
        "print(t)"
      ],
      "execution_count": 2,
      "outputs": [
        {
          "output_type": "stream",
          "text": [
            "[0. 1. 2. 3. 4. 5. 6.]\n"
          ],
          "name": "stdout"
        }
      ]
    },
    {
      "cell_type": "code",
      "metadata": {
        "colab": {
          "base_uri": "https://localhost:8080/"
        },
        "id": "ILRYp_UzpRLc",
        "outputId": "8a3e5a2e-8215-40be-d785-1b1308947aa3"
      },
      "source": [
        "print('Rank of t:', t.ndim)\n",
        "print('Shape of t:', t.shape)"
      ],
      "execution_count": 4,
      "outputs": [
        {
          "output_type": "stream",
          "text": [
            "Rank of t: 1\n",
            "Shape of t: (7,)\n"
          ],
          "name": "stdout"
        }
      ]
    },
    {
      "cell_type": "code",
      "metadata": {
        "colab": {
          "base_uri": "https://localhost:8080/"
        },
        "id": "BOnNqD72pWon",
        "outputId": "c9016529-e4f2-4b0b-bcf4-0f885db10d1e"
      },
      "source": [
        "print('t[0] t[1] t[-1] =', t[0], t[1], t[-1]) # Element\n",
        "print('t[2:5] t[4:-1] = ', t[2:5], t[4:-1]) # Slicing\n",
        "print('t[:2] t[3:]  = ', t[:2], t[3:]) # Slicing"
      ],
      "execution_count": 6,
      "outputs": [
        {
          "output_type": "stream",
          "text": [
            "t[0] t[1] t[-1] = 0.0 1.0 6.0\n",
            "t[2:5] t[4:-1] =  [2. 3. 4.] [4. 5.]\n",
            "t[:2] t[3:]  =  [0. 1.] [3. 4. 5. 6.]\n"
          ],
          "name": "stdout"
        }
      ]
    },
    {
      "cell_type": "code",
      "metadata": {
        "colab": {
          "base_uri": "https://localhost:8080/"
        },
        "id": "_lFsx38IppPv",
        "outputId": "1edfa4d8-2592-4942-df71-6cf1d45a08f5"
      },
      "source": [
        "t = np.array([[1., 2., 3.], [4., 5. ,6.], [7., 8., 9.], [10., 11., 12.]])\n",
        "print(t)"
      ],
      "execution_count": 7,
      "outputs": [
        {
          "output_type": "stream",
          "text": [
            "[[ 1.  2.  3.]\n",
            " [ 4.  5.  6.]\n",
            " [ 7.  8.  9.]\n",
            " [10. 11. 12.]]\n"
          ],
          "name": "stdout"
        }
      ]
    },
    {
      "cell_type": "code",
      "metadata": {
        "colab": {
          "base_uri": "https://localhost:8080/"
        },
        "id": "3aqJY8lMqiqn",
        "outputId": "bd8543c6-af25-4d39-95a0-7dc69ecef43f"
      },
      "source": [
        "print('Rank of t:', t.ndim)\n",
        "print('Shape of t:', t.shape)"
      ],
      "execution_count": 8,
      "outputs": [
        {
          "output_type": "stream",
          "text": [
            "Rank of t: 2\n",
            "Shape of t: (4, 3)\n"
          ],
          "name": "stdout"
        }
      ]
    },
    {
      "cell_type": "code",
      "metadata": {
        "colab": {
          "base_uri": "https://localhost:8080/"
        },
        "id": "_uwc7iIYqnsE",
        "outputId": "98a09ea8-1310-4fa3-8763-353d91467825"
      },
      "source": [
        "t = torch.FloatTensor([0., 1., 2., 3., 4., 5., 6.])\n",
        "print(t)"
      ],
      "execution_count": 9,
      "outputs": [
        {
          "output_type": "stream",
          "text": [
            "tensor([0., 1., 2., 3., 4., 5., 6.])\n"
          ],
          "name": "stdout"
        }
      ]
    },
    {
      "cell_type": "code",
      "metadata": {
        "colab": {
          "base_uri": "https://localhost:8080/"
        },
        "id": "3WaEDVQ7q68I",
        "outputId": "20ac339f-2140-4a8f-8f6d-7f96af4dd853"
      },
      "source": [
        "print(t.dim()) # rank\n",
        "print(t.shape) # shape\n",
        "print(t.size()) # shape\n",
        "print(t[0], t[1], t[-1]) # Element\n",
        "print(t[2:5], t[4:-1]) # Slicing\n",
        "print(t[:2], t[3:]) # Slicing"
      ],
      "execution_count": 10,
      "outputs": [
        {
          "output_type": "stream",
          "text": [
            "1\n",
            "torch.Size([7])\n",
            "torch.Size([7])\n",
            "tensor(0.) tensor(1.) tensor(6.)\n",
            "tensor([2., 3., 4.]) tensor([4., 5.])\n",
            "tensor([0., 1.]) tensor([3., 4., 5., 6.])\n"
          ],
          "name": "stdout"
        }
      ]
    },
    {
      "cell_type": "code",
      "metadata": {
        "colab": {
          "base_uri": "https://localhost:8080/"
        },
        "id": "1fx9_BG9rGzP",
        "outputId": "fea7d5ac-a876-4324-8063-0ea3bbdd3c0b"
      },
      "source": [
        "t = torch.FloatTensor([[1., 2., 3.], [4., 5. ,6.], [7., 8., 9.], [10., 11., 12.]])\n",
        "print(t)"
      ],
      "execution_count": 11,
      "outputs": [
        {
          "output_type": "stream",
          "text": [
            "tensor([[ 1.,  2.,  3.],\n",
            "        [ 4.,  5.,  6.],\n",
            "        [ 7.,  8.,  9.],\n",
            "        [10., 11., 12.]])\n"
          ],
          "name": "stdout"
        }
      ]
    },
    {
      "cell_type": "code",
      "metadata": {
        "colab": {
          "base_uri": "https://localhost:8080/"
        },
        "id": "MeZ_mJr_rdPz",
        "outputId": "d10827b4-d972-43d5-a1d9-7591cb8f399b"
      },
      "source": [
        "print(t.dim()) # rank\n",
        "print(t.size()) # shape\n",
        "print(t[:, 1]) \n",
        "print(t[:, 1].size()) \n",
        "print(t[:, :-1])"
      ],
      "execution_count": 12,
      "outputs": [
        {
          "output_type": "stream",
          "text": [
            "2\n",
            "torch.Size([4, 3])\n",
            "tensor([ 2.,  5.,  8., 11.])\n",
            "torch.Size([4])\n",
            "tensor([[ 1.,  2.],\n",
            "        [ 4.,  5.],\n",
            "        [ 7.,  8.],\n",
            "        [10., 11.]])\n"
          ],
          "name": "stdout"
        }
      ]
    },
    {
      "cell_type": "markdown",
      "metadata": {
        "id": "oE9-Z61Wr5hK"
      },
      "source": [
        "- Broadcasting"
      ]
    },
    {
      "cell_type": "code",
      "metadata": {
        "colab": {
          "base_uri": "https://localhost:8080/"
        },
        "id": "ZSwPwXc0ron-",
        "outputId": "41073bf9-374f-40bc-d19d-3f3bb58210ea"
      },
      "source": [
        "# Same shape\n",
        "m1 = torch.FloatTensor([[3, 3]])\n",
        "m2 = torch.FloatTensor([[2, 2]])\n",
        "print(m1 + m2)"
      ],
      "execution_count": 14,
      "outputs": [
        {
          "output_type": "stream",
          "text": [
            "tensor([[5., 5.]])\n"
          ],
          "name": "stdout"
        }
      ]
    },
    {
      "cell_type": "code",
      "metadata": {
        "colab": {
          "base_uri": "https://localhost:8080/"
        },
        "id": "-6OPOKQ9sBUl",
        "outputId": "81c4bb63-584d-46c5-dcfc-c4706798f601"
      },
      "source": [
        "# Vector + scaler\n",
        "m1 = torch.FloatTensor([[1, 2]]) # |m1| = (1, 2)  and |m2| = (1,) => (1, 2)\n",
        "m2 = torch.FloatTensor([3]) # 3 -> [[3, 3]]\n",
        "print(m1 + m2)"
      ],
      "execution_count": 20,
      "outputs": [
        {
          "output_type": "stream",
          "text": [
            "tensor([[4., 5.]])\n"
          ],
          "name": "stdout"
        }
      ]
    },
    {
      "cell_type": "code",
      "metadata": {
        "colab": {
          "base_uri": "https://localhost:8080/"
        },
        "id": "f11TH6u3sKjD",
        "outputId": "86bd7289-c94a-4069-ed4f-d9deb49aad18"
      },
      "source": [
        "# 2 x 1 Vector + 1 x 2 Vector\n",
        "m1 = torch.FloatTensor([[1, 2]]) # |m1| = (1, 2)     => (2, 2)\n",
        "m2 = torch.FloatTensor([[3], [4]]) # |m2| = (2, 1)   => (2, 2)\n",
        "'''\n",
        "[1, 2] + [3, 3]\n",
        "[1, 2] + [4, 4]\n",
        "'''\n",
        "print(m1 + m2)\n"
      ],
      "execution_count": 21,
      "outputs": [
        {
          "output_type": "stream",
          "text": [
            "tensor([[4., 5.],\n",
            "        [5., 6.]])\n"
          ],
          "name": "stdout"
        }
      ]
    },
    {
      "cell_type": "code",
      "metadata": {
        "colab": {
          "base_uri": "https://localhost:8080/"
        },
        "id": "mgVjR57DsUZS",
        "outputId": "2e68036e-27ed-4c90-db0a-53173bb25939"
      },
      "source": [
        "print()\n",
        "print('-' * 10)\n",
        "print('Mul vs Matmul')\n",
        "print('-' * 10)\n",
        "m1 = torch.FloatTensor([[1, 2], [3, 4]])\n",
        "m2 = torch.FloatTensor([[1], [2]])\n",
        "print(\"Shape of Matrix 1:\", m1.shape) # 2 x 2\n",
        "print(\"Shape of Matrix 2:\", m2.shape) # 2 x 1\n",
        "print(m1.matmul(m2)) # 2 x 1\n",
        "\n",
        "m1 = torch.FloatTensor([[1, 2], [3, 4]])\n",
        "m2 = torch.FloatTensor([[1], [2]])\n",
        "print(\"Shape of Matrix 1:\", m1.shape) # 2 x 2\n",
        "print(\"Shape of Matrix 2:\", m2.shape) # 2 x 1      => 2 x 2 (Broad Casting)\n",
        "'''\n",
        "[1 2]   x  [1 1]\n",
        "[3 4]   x  [2 2]\n",
        "'''\n",
        "print(m1 + m2) # 2 x 2\n",
        "print(m1.mul(m2)) \n"
      ],
      "execution_count": 23,
      "outputs": [
        {
          "output_type": "stream",
          "text": [
            "\n",
            "----------\n",
            "Mul vs Matmul\n",
            "----------\n",
            "Shape of Matrix 1: torch.Size([2, 2])\n",
            "Shape of Matrix 2: torch.Size([2, 1])\n",
            "tensor([[ 5.],\n",
            "        [11.]])\n",
            "Shape of Matrix 1: torch.Size([2, 2])\n",
            "Shape of Matrix 2: torch.Size([2, 1])\n",
            "tensor([[2., 3.],\n",
            "        [5., 6.]])\n",
            "tensor([[1., 2.],\n",
            "        [6., 8.]])\n"
          ],
          "name": "stdout"
        }
      ]
    },
    {
      "cell_type": "markdown",
      "metadata": {
        "id": "K3avY_N9uf0s"
      },
      "source": [
        "- Mean"
      ]
    },
    {
      "cell_type": "code",
      "metadata": {
        "colab": {
          "base_uri": "https://localhost:8080/"
        },
        "id": "xJAtYydztp1m",
        "outputId": "7abbb745-dec3-4c6d-e91a-0021b9647c42"
      },
      "source": [
        "t = torch.FloatTensor([1, 2])\n",
        "print(t.mean())"
      ],
      "execution_count": 24,
      "outputs": [
        {
          "output_type": "stream",
          "text": [
            "tensor(1.5000)\n"
          ],
          "name": "stdout"
        }
      ]
    },
    {
      "cell_type": "code",
      "metadata": {
        "colab": {
          "base_uri": "https://localhost:8080/"
        },
        "id": "ycTuEtqZukfs",
        "outputId": "6cbe571a-5a6c-4618-b3cf-6190aa76327b"
      },
      "source": [
        "# Can`t use mean() on integers\n",
        "t = torch.LongTensor([1, 2]) # integers tensor\n",
        "try:\n",
        "  print(t.mean())\n",
        "except Exception as exc:\n",
        "  print(exc)"
      ],
      "execution_count": 25,
      "outputs": [
        {
          "output_type": "stream",
          "text": [
            "Can only calculate the mean of floating types. Got Long instead.\n"
          ],
          "name": "stdout"
        }
      ]
    },
    {
      "cell_type": "markdown",
      "metadata": {
        "id": "LmCT6VYXuxMT"
      },
      "source": [
        "You can also ues t.mean for higher rank tensors to get mean of all elements, or mean by particular dimension"
      ]
    },
    {
      "cell_type": "code",
      "metadata": {
        "colab": {
          "base_uri": "https://localhost:8080/"
        },
        "id": "_mZSIOVWuuvc",
        "outputId": "7a870822-9810-4c16-800a-d71ea8450d45"
      },
      "source": [
        "t = torch.FloatTensor([[1, 2], [3, 4]])\n",
        "print(t)"
      ],
      "execution_count": 26,
      "outputs": [
        {
          "output_type": "stream",
          "text": [
            "tensor([[1., 2.],\n",
            "        [3., 4.]])\n"
          ],
          "name": "stdout"
        }
      ]
    },
    {
      "cell_type": "code",
      "metadata": {
        "colab": {
          "base_uri": "https://localhost:8080/"
        },
        "id": "lfFfxgo0u8sJ",
        "outputId": "ecf049f8-9d32-4cbf-baff-51c01ee578e8"
      },
      "source": [
        "print(t.mean())\n",
        "print(t.mean(dim=0)) # column 끼리의 합(2, 2) => (1, 2) \n",
        "print(t.mean(dim=1)) # row 끼리의 합(2, 2) => (2, 1)\n",
        "print(t.mean(dim=-1))"
      ],
      "execution_count": 29,
      "outputs": [
        {
          "output_type": "stream",
          "text": [
            "tensor(2.5000)\n",
            "tensor([2., 3.])\n",
            "tensor([1.5000, 3.5000])\n",
            "tensor([1.5000, 3.5000])\n"
          ],
          "name": "stdout"
        }
      ]
    },
    {
      "cell_type": "markdown",
      "metadata": {
        "id": "B9b-ynrCwE87"
      },
      "source": [
        "- Sum"
      ]
    },
    {
      "cell_type": "code",
      "metadata": {
        "colab": {
          "base_uri": "https://localhost:8080/"
        },
        "id": "-epXY3zXvBr_",
        "outputId": "952ee1c9-68a0-4371-89b9-098a81331cc3"
      },
      "source": [
        "t = torch.FloatTensor([[1, 2], [3, 4]])\n",
        "print(t)"
      ],
      "execution_count": 30,
      "outputs": [
        {
          "output_type": "stream",
          "text": [
            "tensor([[1., 2.],\n",
            "        [3., 4.]])\n"
          ],
          "name": "stdout"
        }
      ]
    },
    {
      "cell_type": "code",
      "metadata": {
        "colab": {
          "base_uri": "https://localhost:8080/"
        },
        "id": "RZdEI25-wJYG",
        "outputId": "61a2f610-dcb5-476b-a08d-128a3b87c8bd"
      },
      "source": [
        "print(t.sum())\n",
        "print(t.sum(dim=0))\n",
        "print(t.sum(dim=1))\n",
        "print(t.sum(dim=-1))"
      ],
      "execution_count": 31,
      "outputs": [
        {
          "output_type": "stream",
          "text": [
            "tensor(10.)\n",
            "tensor([4., 6.])\n",
            "tensor([3., 7.])\n",
            "tensor([3., 7.])\n"
          ],
          "name": "stdout"
        }
      ]
    },
    {
      "cell_type": "markdown",
      "metadata": {
        "id": "SVGlaPpqwd3G"
      },
      "source": [
        "- Max and Argmax"
      ]
    },
    {
      "cell_type": "code",
      "metadata": {
        "colab": {
          "base_uri": "https://localhost:8080/"
        },
        "id": "Lc_Z_E4dwNX8",
        "outputId": "53838839-dc1e-41ed-bb12-9d6d395d736e"
      },
      "source": [
        "t = torch.FloatTensor([[5, 100], [101, 8]])\n",
        "print(t)"
      ],
      "execution_count": 39,
      "outputs": [
        {
          "output_type": "stream",
          "text": [
            "tensor([[  5., 100.],\n",
            "        [101.,   8.]])\n"
          ],
          "name": "stdout"
        }
      ]
    },
    {
      "cell_type": "markdown",
      "metadata": {
        "id": "wQIN2QIxwki6"
      },
      "source": [
        "The max operator returns one value if it is called without an argument."
      ]
    },
    {
      "cell_type": "code",
      "metadata": {
        "colab": {
          "base_uri": "https://localhost:8080/"
        },
        "id": "KpzoUrz-wjqw",
        "outputId": "97b97dc3-654c-4dd8-9669-b9b61b0f7134"
      },
      "source": [
        "print(t.max()) # Returns one value: max"
      ],
      "execution_count": 40,
      "outputs": [
        {
          "output_type": "stream",
          "text": [
            "tensor(101.)\n"
          ],
          "name": "stdout"
        }
      ]
    },
    {
      "cell_type": "markdown",
      "metadata": {
        "id": "z9hID-Iiw0hi"
      },
      "source": [
        "The max operator returns 2 values when called with dimension specified. The first value is the maximum value, and the second value is the argmax: the index of the element with maximum value."
      ]
    },
    {
      "cell_type": "code",
      "metadata": {
        "colab": {
          "base_uri": "https://localhost:8080/"
        },
        "id": "2Q4v29vzwtWy",
        "outputId": "473732f3-40ab-4d2d-e458-e99e0a854cd8"
      },
      "source": [
        "print(t.max(dim = 0)) # Returns two values : max and argmax\n",
        "print('Max: ', t.max(dim=0)[0]) # column 중에서 가장 큰 값을 뽑아옴\n",
        "print('Argmax: ', t.max(dim=0)[1]) # max value index"
      ],
      "execution_count": 42,
      "outputs": [
        {
          "output_type": "stream",
          "text": [
            "torch.return_types.max(\n",
            "values=tensor([101., 100.]),\n",
            "indices=tensor([1, 0]))\n",
            "Max:  tensor([101., 100.])\n",
            "Argmax:  tensor([1, 0])\n"
          ],
          "name": "stdout"
        }
      ]
    },
    {
      "cell_type": "code",
      "metadata": {
        "colab": {
          "base_uri": "https://localhost:8080/"
        },
        "id": "67xzsmArxKkX",
        "outputId": "563de95f-19a3-4fde-c1ba-a62a7825c646"
      },
      "source": [
        "print(t.max(dim=1))\n",
        "print(t.max(dim=-1))"
      ],
      "execution_count": 43,
      "outputs": [
        {
          "output_type": "stream",
          "text": [
            "torch.return_types.max(\n",
            "values=tensor([100., 101.]),\n",
            "indices=tensor([1, 0]))\n",
            "torch.return_types.max(\n",
            "values=tensor([100., 101.]),\n",
            "indices=tensor([1, 0]))\n"
          ],
          "name": "stdout"
        }
      ]
    },
    {
      "cell_type": "code",
      "metadata": {
        "id": "XjT87nuoxO1B"
      },
      "source": [
        ""
      ],
      "execution_count": null,
      "outputs": []
    }
  ]
}