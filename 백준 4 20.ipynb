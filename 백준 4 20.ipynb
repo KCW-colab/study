{
  "nbformat": 4,
  "nbformat_minor": 0,
  "metadata": {
    "colab": {
      "name": "Untitled1.ipynb",
      "provenance": [],
      "collapsed_sections": []
    },
    "kernelspec": {
      "name": "python3",
      "display_name": "Python 3"
    },
    "language_info": {
      "name": "python"
    }
  },
  "cells": [
    {
      "cell_type": "markdown",
      "metadata": {
        "id": "25Qov7dW8XLW"
      },
      "source": [
        "2748번 해설:\n",
        "피보나치 수열은 전 2개의 값의 합을 구하는 것이다 따라서 최초에 2개의 값을 0과 1로 지정해주면 그 다음은 리스트를 채우는 형식으로 진행하면 된다. 2가지 버전으로 해보았는데 함수로 짜는 경우 값이 다 저장되지 않고 부를 때 마다 새로새로 계산을 해야하므로 시간초과가 나옴을 알 수 있다.\n"
      ]
    },
    {
      "cell_type": "code",
      "metadata": {
        "colab": {
          "base_uri": "https://localhost:8080/"
        },
        "id": "-JJTibr96x17",
        "outputId": "797aaa0d-24aa-4736-805f-5352bb228504"
      },
      "source": [
        "# 2748\n",
        "X = []\n",
        "X.append(0)\n",
        "X.append(1)\n",
        "n = int(input())\n",
        "\n",
        "for i in range(2,n+1):\n",
        "  X.append(X[i-1] + X[i-2])\n",
        "\n",
        "print(X[n])"
      ],
      "execution_count": 12,
      "outputs": [
        {
          "output_type": "stream",
          "text": [
            "90\n",
            "2880067194370816120\n"
          ],
          "name": "stdout"
        }
      ]
    },
    {
      "cell_type": "code",
      "metadata": {
        "colab": {
          "base_uri": "https://localhost:8080/"
        },
        "id": "VJyDzL3e6OlL",
        "outputId": "0e7bba01-6d3a-4c01-e98f-8288139ded8f"
      },
      "source": [
        "def fibonacci(n):\n",
        "  if n == 0:\n",
        "    return 0\n",
        "  \n",
        "  elif n == 1:\n",
        "    return 1\n",
        "\n",
        "  elif n >= 2:\n",
        "    return fibonacci(n-1) + fibonacci(n-2)\n",
        "\n",
        "n = int(input())\n",
        "\n",
        "print(fibonacci(n))"
      ],
      "execution_count": 11,
      "outputs": [
        {
          "output_type": "stream",
          "text": [
            "10\n",
            "55\n"
          ],
          "name": "stdout"
        }
      ]
    },
    {
      "cell_type": "markdown",
      "metadata": {
        "id": "YBe1cHLr_MKJ"
      },
      "source": [
        "1085번 해설:\n",
        "\n",
        "간단하다 그냥 가장 가까운 직사각형의 변까지의 수직거리를 재면 끝.\n"
      ]
    },
    {
      "cell_type": "code",
      "metadata": {
        "colab": {
          "base_uri": "https://localhost:8080/"
        },
        "id": "k0ANGoqe-TXV",
        "outputId": "2c2dc2f2-edfd-4fed-a131-f094d0b51495"
      },
      "source": [
        "# 1085\n",
        "\n",
        "x, y, w, h = map(int, input().split())\n",
        "\n",
        "print(min(abs(w-x), abs(x), abs(h-y), abs(y)))"
      ],
      "execution_count": 13,
      "outputs": [
        {
          "output_type": "stream",
          "text": [
            "6 2 10 3\n",
            "1\n"
          ],
          "name": "stdout"
        }
      ]
    },
    {
      "cell_type": "code",
      "metadata": {
        "id": "FdWiJNaL_FG-"
      },
      "source": [
        ""
      ],
      "execution_count": null,
      "outputs": []
    }
  ]
}