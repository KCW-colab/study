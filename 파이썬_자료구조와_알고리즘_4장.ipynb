{
  "nbformat": 4,
  "nbformat_minor": 0,
  "metadata": {
    "colab": {
      "name": "파이썬 자료구조와 알고리즘 4장.ipynb",
      "provenance": [],
      "collapsed_sections": []
    },
    "kernelspec": {
      "name": "python3",
      "display_name": "Python 3"
    },
    "language_info": {
      "name": "python"
    }
  },
  "cells": [
    {
      "cell_type": "markdown",
      "metadata": {
        "id": "Rtzy2HU7WsSv"
      },
      "source": [
        "# 4.1 모듈"
      ]
    },
    {
      "cell_type": "code",
      "metadata": {
        "colab": {
          "base_uri": "https://localhost:8080/"
        },
        "id": "pHY3NSSHQapl",
        "outputId": "2040d295-33e3-4a18-875b-2e82db6b5b8b"
      },
      "source": [
        "# 나쁜 예 (가변 객체를 기본값으로 사용해선 안 된다.)\n",
        "\n",
        "def append(number, number_list = []):\n",
        "  number_list.append(number)\n",
        "  return number_list\n",
        "\n",
        "append(5)"
      ],
      "execution_count": null,
      "outputs": [
        {
          "output_type": "execute_result",
          "data": {
            "text/plain": [
              "[5]"
            ]
          },
          "metadata": {
            "tags": []
          },
          "execution_count": 1
        }
      ]
    },
    {
      "cell_type": "code",
      "metadata": {
        "colab": {
          "base_uri": "https://localhost:8080/"
        },
        "id": "F107uMJfabz0",
        "outputId": "571f93e8-affa-4d95-a0b5-16d507461062"
      },
      "source": [
        "append(7) # 예상결과 [7]\n",
        "append(2) # 예상결과 [2]"
      ],
      "execution_count": null,
      "outputs": [
        {
          "output_type": "execute_result",
          "data": {
            "text/plain": [
              "[5, 7, 2]"
            ]
          },
          "metadata": {
            "tags": []
          },
          "execution_count": 2
        }
      ]
    },
    {
      "cell_type": "code",
      "metadata": {
        "colab": {
          "base_uri": "https://localhost:8080/"
        },
        "id": "4t-9YRxlahMV",
        "outputId": "c0511f7b-48e9-42a0-f6c0-8773011092af"
      },
      "source": [
        "# 좋은 예\n",
        "def append(number, number_list = None):\n",
        "  if number_list is None:\n",
        "    number_list = []\n",
        "  number_list.append(number)\n",
        "  return number_list\n",
        "\n",
        "append(5)"
      ],
      "execution_count": null,
      "outputs": [
        {
          "output_type": "execute_result",
          "data": {
            "text/plain": [
              "[5]"
            ]
          },
          "metadata": {
            "tags": []
          },
          "execution_count": 3
        }
      ]
    },
    {
      "cell_type": "code",
      "metadata": {
        "colab": {
          "base_uri": "https://localhost:8080/"
        },
        "id": "DoQmDBYgatOo",
        "outputId": "c6cad507-20d3-4305-e6bb-5b4a8b81ca11"
      },
      "source": [
        "print(append(7))\n",
        "print(append(5))"
      ],
      "execution_count": null,
      "outputs": [
        {
          "output_type": "stream",
          "text": [
            "[7]\n",
            "[5]\n"
          ],
          "name": "stdout"
        }
      ]
    },
    {
      "cell_type": "markdown",
      "metadata": {
        "id": "t5qMomT5diL0"
      },
      "source": [
        "# 4.2 제어문"
      ]
    },
    {
      "cell_type": "code",
      "metadata": {
        "colab": {
          "base_uri": "https://localhost:8080/"
        },
        "id": "-l21_CAsavht",
        "outputId": "f635f4bd-9b4f-4943-c218-6971d4180511"
      },
      "source": [
        "x = int(input(\"숫자를 입력하세요: \"))\n",
        "if x < 0:\n",
        "  x = 0\n",
        "  print(\"음수를 입력하여 x를 0으로 변경\")\n",
        "elif x == 0:\n",
        "  print(\"0이 입력되었음.\")\n",
        "elif x == 1:\n",
        "  print(\"1이 입력되었음.\") \n",
        "else: \n",
        "  print(\"2 이상의 숫자가 입력되었음.\") "
      ],
      "execution_count": null,
      "outputs": [
        {
          "output_type": "stream",
          "text": [
            "숫자를 입력하세요: -3\n",
            "음수를 입력하여 x를 0으로 변경\n"
          ],
          "name": "stdout"
        }
      ]
    },
    {
      "cell_type": "code",
      "metadata": {
        "colab": {
          "base_uri": "https://localhost:8080/"
        },
        "id": "g0WxT_OWdI-t",
        "outputId": "de70d4ca-cb4e-420a-ba8f-96dccf45364f"
      },
      "source": [
        "names = ['버피', '윌로', '잰더', '자일스']\n",
        "for name in names:\n",
        "  print(name)"
      ],
      "execution_count": null,
      "outputs": [
        {
          "output_type": "stream",
          "text": [
            "버피\n",
            "윌로\n",
            "잰더\n",
            "자일스\n"
          ],
          "name": "stdout"
        }
      ]
    },
    {
      "cell_type": "code",
      "metadata": {
        "colab": {
          "base_uri": "https://localhost:8080/",
          "height": 35
        },
        "id": "Xaz5ni4vdgJn",
        "outputId": "da1d981e-9950-47b1-cad6-70611985b784"
      },
      "source": [
        "string1, string2, string3 = '', '괴물', '외계인'\n",
        "non_null = string1 or string2 or string3\n",
        "non_null # ''이 빈 문자열이라 False라서 넘어감"
      ],
      "execution_count": null,
      "outputs": [
        {
          "output_type": "execute_result",
          "data": {
            "application/vnd.google.colaboratory.intrinsic+json": {
              "type": "string"
            },
            "text/plain": [
              "'괴물'"
            ]
          },
          "metadata": {
            "tags": []
          },
          "execution_count": 14
        }
      ]
    },
    {
      "cell_type": "code",
      "metadata": {
        "colab": {
          "base_uri": "https://localhost:8080/",
          "height": 35
        },
        "id": "-6T_rYufdthN",
        "outputId": "dc0c1591-62b3-4347-c215-e0ba150769e5"
      },
      "source": [
        "# 암묵적인 False 사용법에 대한 rule 설정\n",
        "# 좋은 예\n",
        "'''\n",
        "if not users:\n",
        "  print(\"사용자가 없습니다.\")\n",
        "\n",
        "if foo == 0:\n",
        "  handle_zero()\n",
        "\n",
        "if i % 10 == 0:\n",
        "  handle_multiple_of_len()\n",
        "'''"
      ],
      "execution_count": null,
      "outputs": [
        {
          "output_type": "execute_result",
          "data": {
            "application/vnd.google.colaboratory.intrinsic+json": {
              "type": "string"
            },
            "text/plain": [
              "'\\nif not users:\\n  print(\"사용자가 없습니다.\")\\n\\nif foo == 0:\\n  handle_zero()\\n\\nif i % 10 == 0:\\n  handle_multiple_of_len()\\n'"
            ]
          },
          "metadata": {
            "tags": []
          },
          "execution_count": 16
        }
      ]
    },
    {
      "cell_type": "code",
      "metadata": {
        "colab": {
          "base_uri": "https://localhost:8080/",
          "height": 35
        },
        "id": "Jthwe9FdeffN",
        "outputId": "ee244b08-b386-4738-9206-7989398a97d8"
      },
      "source": [
        "# 나쁜 예\n",
        "\n",
        "'''\n",
        "if len(users) == 0:\n",
        "  print(\"사용자가 없습니다.\")\n",
        "\n",
        "if foo is not None and not foo:\n",
        "  handle_zero()\n",
        "\n",
        "if not i % 10:\n",
        "  handle_multiple_of_len()\n",
        "\n",
        "'''\n"
      ],
      "execution_count": null,
      "outputs": [
        {
          "output_type": "execute_result",
          "data": {
            "application/vnd.google.colaboratory.intrinsic+json": {
              "type": "string"
            },
            "text/plain": [
              "'\\nif len(users) == 0:\\n  print(\"사용자가 없습니다.\")\\n\\nif foo is not None and not foo:\\n  handle_zero()\\n\\nif not i % 10:\\n  handle_multiple_of_len()\\n\\n'"
            ]
          },
          "metadata": {
            "tags": []
          },
          "execution_count": 17
        }
      ]
    },
    {
      "cell_type": "code",
      "metadata": {
        "colab": {
          "base_uri": "https://localhost:8080/"
        },
        "id": "JjuTu9y_ezae",
        "outputId": "65bbb1e6-36aa-4916-99a6-be0b211cfb42"
      },
      "source": [
        "a = [1, 2, 3]\n",
        "def f(a):\n",
        "  while a:\n",
        "    yield a.pop()\n",
        "\n",
        "print(next(f(a)))\n",
        "print(next(f(a)))\n",
        "print(next(f(a)))"
      ],
      "execution_count": null,
      "outputs": [
        {
          "output_type": "stream",
          "text": [
            "3\n",
            "2\n",
            "1\n"
          ],
          "name": "stdout"
        }
      ]
    },
    {
      "cell_type": "code",
      "metadata": {
        "colab": {
          "base_uri": "https://localhost:8080/"
        },
        "id": "rYmye0dyfRpy",
        "outputId": "16ad8428-69be-4e4b-d7ea-3476ba33c44b"
      },
      "source": [
        "def fib_generator():\n",
        "  a, b = 0, 1\n",
        "  while True:\n",
        "    yield b\n",
        "    a, b = b, a+b\n",
        "\n",
        "fib = fib_generator()\n",
        "print(next(fib))\n",
        "print(next(fib))\n",
        "print(next(fib))\n",
        "print(next(fib))"
      ],
      "execution_count": null,
      "outputs": [
        {
          "output_type": "stream",
          "text": [
            "1\n",
            "1\n",
            "2\n",
            "3\n"
          ],
          "name": "stdout"
        }
      ]
    },
    {
      "cell_type": "code",
      "metadata": {
        "colab": {
          "base_uri": "https://localhost:8080/"
        },
        "id": "vTBvwMHJfr7U",
        "outputId": "e20b6d7f-0b19-4d51-f4e4-94276184bd20"
      },
      "source": [
        "for i in range(10):\n",
        "  if i == 4:\n",
        "    break\n",
        "  print(i)\n",
        "else:\n",
        "  print(\"for문 종료!\")"
      ],
      "execution_count": null,
      "outputs": [
        {
          "output_type": "stream",
          "text": [
            "0\n",
            "1\n",
            "2\n",
            "3\n"
          ],
          "name": "stdout"
        }
      ]
    },
    {
      "cell_type": "code",
      "metadata": {
        "colab": {
          "base_uri": "https://localhost:8080/"
        },
        "id": "CegOsaPDgZxg",
        "outputId": "b22de137-2a3c-4e07-836a-0241e0cdc64b"
      },
      "source": [
        "for i in range(10):\n",
        "  if i % 2 == 0:\n",
        "    continue\n",
        "  print(i)\n",
        "else:\n",
        "  print('for문 종료!')"
      ],
      "execution_count": null,
      "outputs": [
        {
          "output_type": "stream",
          "text": [
            "1\n",
            "3\n",
            "5\n",
            "7\n",
            "9\n",
            "for문 종료!\n"
          ],
          "name": "stdout"
        }
      ]
    },
    {
      "cell_type": "code",
      "metadata": {
        "colab": {
          "base_uri": "https://localhost:8080/"
        },
        "id": "gCGve3OFgihT",
        "outputId": "99281a89-c629-46d0-b0e9-235b5cd73968"
      },
      "source": [
        "range(10)"
      ],
      "execution_count": null,
      "outputs": [
        {
          "output_type": "execute_result",
          "data": {
            "text/plain": [
              "range(0, 10)"
            ]
          },
          "metadata": {
            "tags": []
          },
          "execution_count": 27
        }
      ]
    },
    {
      "cell_type": "code",
      "metadata": {
        "colab": {
          "base_uri": "https://localhost:8080/"
        },
        "id": "elqnHWXfgk_z",
        "outputId": "2af0cb5c-c967-43cf-9ef4-9c658c9b3bf8"
      },
      "source": [
        "range(0, 10, 3)"
      ],
      "execution_count": null,
      "outputs": [
        {
          "output_type": "execute_result",
          "data": {
            "text/plain": [
              "range(0, 10, 3)"
            ]
          },
          "metadata": {
            "tags": []
          },
          "execution_count": 30
        }
      ]
    },
    {
      "cell_type": "code",
      "metadata": {
        "id": "MDqGaFhegmH2"
      },
      "source": [
        "import sys\n",
        "\n",
        "def grep_word_from_files():\n",
        "  word = sys.argv[1]\n",
        "  for filename in sys.argv[2:]:\n",
        "    with open(filename) as file:\n",
        "      for lino, line in enumerate(file, start = 1):\n",
        "        if word in line:\n",
        "          print(\"{0}:{1}:{2:.40}\".format(\n",
        "              filename, lino, line.strip()\n",
        "          ))\n",
        "\n",
        "if len(sys.argv) < 2:\n",
        "  print(\"Usage: python {0} [word] [file ...]\".format(sys.argv[0]))\n",
        "  sys.exit()\n",
        "\n",
        "else:\n",
        "  grep_word_from_files()"
      ],
      "execution_count": null,
      "outputs": []
    },
    {
      "cell_type": "code",
      "metadata": {
        "colab": {
          "base_uri": "https://localhost:8080/"
        },
        "id": "Psv66HWohNIo",
        "outputId": "21739400-d07e-415c-b0e1-bb42e366d5cf"
      },
      "source": [
        "a = [1, 2, 3, 4, 5]\n",
        "b = ['a', 'b','c', 'd']\n",
        "zip(a, b)"
      ],
      "execution_count": null,
      "outputs": [
        {
          "output_type": "execute_result",
          "data": {
            "text/plain": [
              "<zip at 0x7f96674f2b40>"
            ]
          },
          "metadata": {
            "tags": []
          },
          "execution_count": 33
        }
      ]
    },
    {
      "cell_type": "code",
      "metadata": {
        "colab": {
          "base_uri": "https://localhost:8080/"
        },
        "id": "OWHQWW6ahZqS",
        "outputId": "448e2fe8-36eb-4540-87f7-7f9740c5d8a3"
      },
      "source": [
        "list(zip(a, b))"
      ],
      "execution_count": null,
      "outputs": [
        {
          "output_type": "execute_result",
          "data": {
            "text/plain": [
              "[(1, 'a'), (2, 'b'), (3, 'c'), (4, 'd')]"
            ]
          },
          "metadata": {
            "tags": []
          },
          "execution_count": 34
        }
      ]
    },
    {
      "cell_type": "code",
      "metadata": {
        "colab": {
          "base_uri": "https://localhost:8080/"
        },
        "id": "dhQMiWtnhbwx",
        "outputId": "03b93991-fcdc-4f24-c88d-8a0672d737c6"
      },
      "source": [
        "def cube(x) : return x*x*x\n",
        "\n",
        "list(map(cube, range(1, 11)))"
      ],
      "execution_count": null,
      "outputs": [
        {
          "output_type": "execute_result",
          "data": {
            "text/plain": [
              "[1, 8, 27, 64, 125, 216, 343, 512, 729, 1000]"
            ]
          },
          "metadata": {
            "tags": []
          },
          "execution_count": 35
        }
      ]
    },
    {
      "cell_type": "code",
      "metadata": {
        "colab": {
          "base_uri": "https://localhost:8080/"
        },
        "id": "R4ke89Wnhh9e",
        "outputId": "6b3e7e8f-1348-4009-bdc1-b266c2d0cfb0"
      },
      "source": [
        "seq = range(8)\n",
        "def square(x): return x*x\n",
        "list(zip(seq, map(square, seq)))"
      ],
      "execution_count": null,
      "outputs": [
        {
          "output_type": "execute_result",
          "data": {
            "text/plain": [
              "[(0, 0), (1, 1), (2, 4), (3, 9), (4, 16), (5, 25), (6, 36), (7, 49)]"
            ]
          },
          "metadata": {
            "tags": []
          },
          "execution_count": 36
        }
      ]
    },
    {
      "cell_type": "code",
      "metadata": {
        "colab": {
          "base_uri": "https://localhost:8080/"
        },
        "id": "aPgkep20hoBn",
        "outputId": "f43b4df2-b36c-4cbf-ff17-550ea6a211e3"
      },
      "source": [
        "def area(b, h):\n",
        "  return .5 * b* h\n",
        "\n",
        "area(5, 4)"
      ],
      "execution_count": null,
      "outputs": [
        {
          "output_type": "execute_result",
          "data": {
            "text/plain": [
              "10.0"
            ]
          },
          "metadata": {
            "tags": []
          },
          "execution_count": 37
        }
      ]
    },
    {
      "cell_type": "code",
      "metadata": {
        "colab": {
          "base_uri": "https://localhost:8080/"
        },
        "id": "mnefBqslh0o5",
        "outputId": "f618ae76-b539-4a44-bcc8-4d5a4d5c163e"
      },
      "source": [
        "area = lambda b, h: .5*h*b\n",
        "\n",
        "area(5, 4)"
      ],
      "execution_count": null,
      "outputs": [
        {
          "output_type": "execute_result",
          "data": {
            "text/plain": [
              "10.0"
            ]
          },
          "metadata": {
            "tags": []
          },
          "execution_count": 38
        }
      ]
    },
    {
      "cell_type": "code",
      "metadata": {
        "colab": {
          "base_uri": "https://localhost:8080/"
        },
        "id": "lW2U875Mh5lV",
        "outputId": "ddf5a1fa-625b-4387-b6d9-d9a23538fd73"
      },
      "source": [
        "import collections\n",
        "minus_one_dict = collections.defaultdict(lambda: -1)\n",
        "point_zero_dict = collections.defaultdict(lambda: (0, 0))\n",
        "message_dict = collections.defaultdict(lambda: \"No message\")\n",
        "\n",
        "print(minus_one_dict)\n",
        "print(point_zero_dict)\n",
        "print(message_dict)"
      ],
      "execution_count": null,
      "outputs": [
        {
          "output_type": "stream",
          "text": [
            "defaultdict(<function <lambda> at 0x7f96674db4d0>, {})\n",
            "defaultdict(<function <lambda> at 0x7f9667501dd0>, {})\n",
            "defaultdict(<function <lambda> at 0x7f96675018c0>, {})\n"
          ],
          "name": "stdout"
        }
      ]
    },
    {
      "cell_type": "markdown",
      "metadata": {
        "id": "uwB8bk_WiTMt"
      },
      "source": [
        "# 4.3 파일 처리"
      ]
    },
    {
      "cell_type": "code",
      "metadata": {
        "id": "CcD5k9Z6jIxd"
      },
      "source": [
        "def get_int(msg):\n",
        "  while True:\n",
        "    try:\n",
        "      i = int(input(msg))\n",
        "      return i\n",
        "    except ValueError as err:\n",
        "      print(err)\n",
        "    "
      ],
      "execution_count": null,
      "outputs": []
    },
    {
      "cell_type": "code",
      "metadata": {
        "colab": {
          "base_uri": "https://localhost:8080/"
        },
        "id": "XOnKyjRXjqYU",
        "outputId": "f5cb6cf7-1140-473c-d785-9a07ea45e1af"
      },
      "source": [
        "age = get_int(\"Enter your age: \")"
      ],
      "execution_count": null,
      "outputs": [
        {
          "output_type": "stream",
          "text": [
            "Enter your age: g\n",
            "invalid literal for int() with base 10: 'g'\n",
            "Enter your age: e\n",
            "invalid literal for int() with base 10: 'e'\n",
            "Enter your age: G\n",
            "invalid literal for int() with base 10: 'G'\n",
            "Enter your age: 30\n"
          ],
          "name": "stdout"
        }
      ]
    },
    {
      "cell_type": "code",
      "metadata": {
        "colab": {
          "base_uri": "https://localhost:8080/"
        },
        "id": "vS93qpVRjtak",
        "outputId": "18abf3df-eb67-4f89-f28b-8a9874e6d35f"
      },
      "source": [
        "age"
      ],
      "execution_count": null,
      "outputs": [
        {
          "output_type": "execute_result",
          "data": {
            "text/plain": [
              "30"
            ]
          },
          "metadata": {
            "tags": []
          },
          "execution_count": 47
        }
      ]
    },
    {
      "cell_type": "code",
      "metadata": {
        "colab": {
          "base_uri": "https://localhost:8080/"
        },
        "id": "Z9ZAF9UDjuJe",
        "outputId": "778774b1-de41-4b7a-eb82-e54e41e8368d"
      },
      "source": [
        "import os\n",
        "import sys\n",
        "import shutil\n",
        "\n",
        "def change_file_ext():\n",
        "  if len(sys.argv) < 2:\n",
        "    print(\"Usage: python {} filename.old_ext 'new_ext'\".format(sys.argv[0]))\n",
        "\n",
        "    sys.exit()\n",
        "\n",
        "  name = os.path.splitext(sys.argv[1])[0] + '.' + sys.argv[2]\n",
        "  print(name) \n",
        "\n",
        "  try:\n",
        "    shutil.copyfile(sys.argv[1], name)\n",
        "  \n",
        "  except OSError as err:\n",
        "    print(err)\n",
        "\n",
        "change_file_ext()"
      ],
      "execution_count": null,
      "outputs": [
        {
          "output_type": "stream",
          "text": [
            "-f./root/.local/share/jupyter/runtime/kernel-97178228-0eeb-4b2a-aa1b-4907718a77ed.json\n",
            "[Errno 2] No such file or directory: '-f'\n"
          ],
          "name": "stdout"
        }
      ]
    },
    {
      "cell_type": "code",
      "metadata": {
        "id": "WyzOehmEkBVh"
      },
      "source": [
        "import pickle\n",
        "x = {}\n",
        "x[\"name\"] = \"아스틴\"\n",
        "x['age'] = 23\n",
        "with open(\"name.pkl\", \"wb\") as f: # 피클링\n",
        "  pickle.dump(x, f)"
      ],
      "execution_count": 1,
      "outputs": []
    },
    {
      "cell_type": "code",
      "metadata": {
        "id": "eiaJ-oVvQ5Da"
      },
      "source": [
        "with open('name.pkl', 'rb') as f: # 언피클링\n",
        "  name = pickle.load(f)"
      ],
      "execution_count": 2,
      "outputs": []
    },
    {
      "cell_type": "code",
      "metadata": {
        "colab": {
          "base_uri": "https://localhost:8080/"
        },
        "id": "M-tidZvqRCdg",
        "outputId": "4cbe55ee-cf20-45a6-f4b4-e5623d1a38c8"
      },
      "source": [
        "name"
      ],
      "execution_count": 3,
      "outputs": [
        {
          "output_type": "execute_result",
          "data": {
            "text/plain": [
              "{'age': 23, 'name': '아스틴'}"
            ]
          },
          "metadata": {
            "tags": []
          },
          "execution_count": 3
        }
      ]
    },
    {
      "cell_type": "code",
      "metadata": {
        "colab": {
          "base_uri": "https://localhost:8080/"
        },
        "id": "FtBSg19VRDH0",
        "outputId": "c6444dd4-71ac-44da-8c07-ec5ce6565006"
      },
      "source": [
        "import struct\n",
        "abc = struct.pack('>hhl', 1, 2, 3)\n",
        "abc"
      ],
      "execution_count": 4,
      "outputs": [
        {
          "output_type": "execute_result",
          "data": {
            "text/plain": [
              "b'\\x00\\x01\\x00\\x02\\x00\\x00\\x00\\x03'"
            ]
          },
          "metadata": {
            "tags": []
          },
          "execution_count": 4
        }
      ]
    },
    {
      "cell_type": "code",
      "metadata": {
        "colab": {
          "base_uri": "https://localhost:8080/"
        },
        "id": "T-nbIIKNTtaL",
        "outputId": "b8daa45f-fe31-482d-f09d-17db611e3867"
      },
      "source": [
        "struct.unpack('>hhl', abc)"
      ],
      "execution_count": 5,
      "outputs": [
        {
          "output_type": "execute_result",
          "data": {
            "text/plain": [
              "(1, 2, 3)"
            ]
          },
          "metadata": {
            "tags": []
          },
          "execution_count": 5
        }
      ]
    },
    {
      "cell_type": "code",
      "metadata": {
        "colab": {
          "base_uri": "https://localhost:8080/"
        },
        "id": "puIriuwUTxVP",
        "outputId": "46564983-675e-43a6-910e-31e10fc0ea1d"
      },
      "source": [
        "struct.calcsize('>hhl')"
      ],
      "execution_count": 6,
      "outputs": [
        {
          "output_type": "execute_result",
          "data": {
            "text/plain": [
              "8"
            ]
          },
          "metadata": {
            "tags": []
          },
          "execution_count": 6
        }
      ]
    },
    {
      "cell_type": "code",
      "metadata": {
        "colab": {
          "base_uri": "https://localhost:8080/"
        },
        "id": "Tf5YdWmfTz6_",
        "outputId": "0c5b50eb-89f9-497e-ab42-f05611a29e66"
      },
      "source": [
        "while True:\n",
        "  try:\n",
        "    x = int(input(\"숫자를 입력하세요: \"))\n",
        "    break\n",
        "  except ValueError:\n",
        "    print(\"숫자가 아닙니다. 다시 입력해주세요!\")\n"
      ],
      "execution_count": 7,
      "outputs": [
        {
          "output_type": "stream",
          "text": [
            "숫자를 입력하세요: a\n",
            "숫자가 아닙니다. 다시 입력해주세요!\n",
            "숫자를 입력하세요: -\n",
            "숫자가 아닙니다. 다시 입력해주세요!\n",
            "숫자를 입력하세요: 12\n"
          ],
          "name": "stdout"
        }
      ]
    },
    {
      "cell_type": "code",
      "metadata": {
        "colab": {
          "base_uri": "https://localhost:8080/",
          "height": 257
        },
        "id": "GvxmmgfSUMNl",
        "outputId": "e5cc90de-5a16-4111-9b60-80bc849cdc20"
      },
      "source": [
        "\n",
        "import string\n",
        "import sys\n",
        "try:\n",
        "  1/0 # ZeroDIvisionError 발생\n",
        "  f = open('myfile.txt')\n",
        "  s = f.readline()\n",
        "  i = int(string.strip(s))\n",
        "except IOError as err:\n",
        "  # errno, strerror = err.args\n",
        "  print(arr)\n",
        "except ValueError:\n",
        "  print(\"데이터를 숫자로 변환할 수 없습니다.\")\n",
        "except:\n",
        "  print(\"예외 발생: {0}\".format(sys.exc_info()[0]))\n",
        "  raise"
      ],
      "execution_count": 11,
      "outputs": [
        {
          "output_type": "stream",
          "text": [
            "예외 발생: <class 'ZeroDivisionError'>\n"
          ],
          "name": "stdout"
        },
        {
          "output_type": "error",
          "ename": "ZeroDivisionError",
          "evalue": "ignored",
          "traceback": [
            "\u001b[0;31m---------------------------------------------------------------------------\u001b[0m",
            "\u001b[0;31mZeroDivisionError\u001b[0m                         Traceback (most recent call last)",
            "\u001b[0;32m<ipython-input-11-047c90b708f9>\u001b[0m in \u001b[0;36m<module>\u001b[0;34m()\u001b[0m\n\u001b[1;32m      3\u001b[0m \u001b[0;32mimport\u001b[0m \u001b[0msys\u001b[0m\u001b[0;34m\u001b[0m\u001b[0;34m\u001b[0m\u001b[0m\n\u001b[1;32m      4\u001b[0m \u001b[0;32mtry\u001b[0m\u001b[0;34m:\u001b[0m\u001b[0;34m\u001b[0m\u001b[0;34m\u001b[0m\u001b[0m\n\u001b[0;32m----> 5\u001b[0;31m   \u001b[0;36m1\u001b[0m\u001b[0;34m/\u001b[0m\u001b[0;36m0\u001b[0m \u001b[0;31m# ZeroDIvisionError 발생\u001b[0m\u001b[0;34m\u001b[0m\u001b[0;34m\u001b[0m\u001b[0m\n\u001b[0m\u001b[1;32m      6\u001b[0m   \u001b[0mf\u001b[0m \u001b[0;34m=\u001b[0m \u001b[0mopen\u001b[0m\u001b[0;34m(\u001b[0m\u001b[0;34m'myfile.txt'\u001b[0m\u001b[0;34m)\u001b[0m\u001b[0;34m\u001b[0m\u001b[0;34m\u001b[0m\u001b[0m\n\u001b[1;32m      7\u001b[0m   \u001b[0ms\u001b[0m \u001b[0;34m=\u001b[0m \u001b[0mf\u001b[0m\u001b[0;34m.\u001b[0m\u001b[0mreadline\u001b[0m\u001b[0;34m(\u001b[0m\u001b[0;34m)\u001b[0m\u001b[0;34m\u001b[0m\u001b[0;34m\u001b[0m\u001b[0m\n",
            "\u001b[0;31mZeroDivisionError\u001b[0m: division by zero"
          ]
        }
      ]
    },
    {
      "cell_type": "code",
      "metadata": {
        "id": "-CJsGS-WUzEu"
      },
      "source": [
        ""
      ],
      "execution_count": null,
      "outputs": []
    }
  ]
}