{
  "nbformat": 4,
  "nbformat_minor": 0,
  "metadata": {
    "colab": {
      "name": "cs231n Deep Learning Software.ipynb",
      "provenance": [],
      "collapsed_sections": []
    },
    "kernelspec": {
      "name": "python3",
      "display_name": "Python 3"
    },
    "language_info": {
      "name": "python"
    },
    "widgets": {
      "application/vnd.jupyter.widget-state+json": {
        "db2ddccf9cfa410d886b77edb3b044df": {
          "model_module": "@jupyter-widgets/controls",
          "model_name": "HBoxModel",
          "state": {
            "_view_name": "HBoxView",
            "_dom_classes": [],
            "_model_name": "HBoxModel",
            "_view_module": "@jupyter-widgets/controls",
            "_model_module_version": "1.5.0",
            "_view_count": null,
            "_view_module_version": "1.5.0",
            "box_style": "",
            "layout": "IPY_MODEL_5709d596753b4052bd350ec1c46b676f",
            "_model_module": "@jupyter-widgets/controls",
            "children": [
              "IPY_MODEL_f5b521df875141a49154beff5b6b6c81",
              "IPY_MODEL_8aef6894245446b68be98d8e42f9e19d"
            ]
          }
        },
        "5709d596753b4052bd350ec1c46b676f": {
          "model_module": "@jupyter-widgets/base",
          "model_name": "LayoutModel",
          "state": {
            "_view_name": "LayoutView",
            "grid_template_rows": null,
            "right": null,
            "justify_content": null,
            "_view_module": "@jupyter-widgets/base",
            "overflow": null,
            "_model_module_version": "1.2.0",
            "_view_count": null,
            "flex_flow": null,
            "width": null,
            "min_width": null,
            "border": null,
            "align_items": null,
            "bottom": null,
            "_model_module": "@jupyter-widgets/base",
            "top": null,
            "grid_column": null,
            "overflow_y": null,
            "overflow_x": null,
            "grid_auto_flow": null,
            "grid_area": null,
            "grid_template_columns": null,
            "flex": null,
            "_model_name": "LayoutModel",
            "justify_items": null,
            "grid_row": null,
            "max_height": null,
            "align_content": null,
            "visibility": null,
            "align_self": null,
            "height": null,
            "min_height": null,
            "padding": null,
            "grid_auto_rows": null,
            "grid_gap": null,
            "max_width": null,
            "order": null,
            "_view_module_version": "1.2.0",
            "grid_template_areas": null,
            "object_position": null,
            "object_fit": null,
            "grid_auto_columns": null,
            "margin": null,
            "display": null,
            "left": null
          }
        },
        "f5b521df875141a49154beff5b6b6c81": {
          "model_module": "@jupyter-widgets/controls",
          "model_name": "FloatProgressModel",
          "state": {
            "_view_name": "ProgressView",
            "style": "IPY_MODEL_f2932ce906234ee4a41a1e08be88baed",
            "_dom_classes": [],
            "description": "100%",
            "_model_name": "FloatProgressModel",
            "bar_style": "success",
            "max": 244418560,
            "_view_module": "@jupyter-widgets/controls",
            "_model_module_version": "1.5.0",
            "value": 244418560,
            "_view_count": null,
            "_view_module_version": "1.5.0",
            "orientation": "horizontal",
            "min": 0,
            "description_tooltip": null,
            "_model_module": "@jupyter-widgets/controls",
            "layout": "IPY_MODEL_45eb38b0b3de471787a00fcb2553f08b"
          }
        },
        "8aef6894245446b68be98d8e42f9e19d": {
          "model_module": "@jupyter-widgets/controls",
          "model_name": "HTMLModel",
          "state": {
            "_view_name": "HTMLView",
            "style": "IPY_MODEL_b1fb238272fe458080ac1d70249a6c8e",
            "_dom_classes": [],
            "description": "",
            "_model_name": "HTMLModel",
            "placeholder": "​",
            "_view_module": "@jupyter-widgets/controls",
            "_model_module_version": "1.5.0",
            "value": " 233M/233M [00:20&lt;00:00, 11.7MB/s]",
            "_view_count": null,
            "_view_module_version": "1.5.0",
            "description_tooltip": null,
            "_model_module": "@jupyter-widgets/controls",
            "layout": "IPY_MODEL_0c299912a0744d9eac24535c499b93ae"
          }
        },
        "f2932ce906234ee4a41a1e08be88baed": {
          "model_module": "@jupyter-widgets/controls",
          "model_name": "ProgressStyleModel",
          "state": {
            "_view_name": "StyleView",
            "_model_name": "ProgressStyleModel",
            "description_width": "initial",
            "_view_module": "@jupyter-widgets/base",
            "_model_module_version": "1.5.0",
            "_view_count": null,
            "_view_module_version": "1.2.0",
            "bar_color": null,
            "_model_module": "@jupyter-widgets/controls"
          }
        },
        "45eb38b0b3de471787a00fcb2553f08b": {
          "model_module": "@jupyter-widgets/base",
          "model_name": "LayoutModel",
          "state": {
            "_view_name": "LayoutView",
            "grid_template_rows": null,
            "right": null,
            "justify_content": null,
            "_view_module": "@jupyter-widgets/base",
            "overflow": null,
            "_model_module_version": "1.2.0",
            "_view_count": null,
            "flex_flow": null,
            "width": null,
            "min_width": null,
            "border": null,
            "align_items": null,
            "bottom": null,
            "_model_module": "@jupyter-widgets/base",
            "top": null,
            "grid_column": null,
            "overflow_y": null,
            "overflow_x": null,
            "grid_auto_flow": null,
            "grid_area": null,
            "grid_template_columns": null,
            "flex": null,
            "_model_name": "LayoutModel",
            "justify_items": null,
            "grid_row": null,
            "max_height": null,
            "align_content": null,
            "visibility": null,
            "align_self": null,
            "height": null,
            "min_height": null,
            "padding": null,
            "grid_auto_rows": null,
            "grid_gap": null,
            "max_width": null,
            "order": null,
            "_view_module_version": "1.2.0",
            "grid_template_areas": null,
            "object_position": null,
            "object_fit": null,
            "grid_auto_columns": null,
            "margin": null,
            "display": null,
            "left": null
          }
        },
        "b1fb238272fe458080ac1d70249a6c8e": {
          "model_module": "@jupyter-widgets/controls",
          "model_name": "DescriptionStyleModel",
          "state": {
            "_view_name": "StyleView",
            "_model_name": "DescriptionStyleModel",
            "description_width": "",
            "_view_module": "@jupyter-widgets/base",
            "_model_module_version": "1.5.0",
            "_view_count": null,
            "_view_module_version": "1.2.0",
            "_model_module": "@jupyter-widgets/controls"
          }
        },
        "0c299912a0744d9eac24535c499b93ae": {
          "model_module": "@jupyter-widgets/base",
          "model_name": "LayoutModel",
          "state": {
            "_view_name": "LayoutView",
            "grid_template_rows": null,
            "right": null,
            "justify_content": null,
            "_view_module": "@jupyter-widgets/base",
            "overflow": null,
            "_model_module_version": "1.2.0",
            "_view_count": null,
            "flex_flow": null,
            "width": null,
            "min_width": null,
            "border": null,
            "align_items": null,
            "bottom": null,
            "_model_module": "@jupyter-widgets/base",
            "top": null,
            "grid_column": null,
            "overflow_y": null,
            "overflow_x": null,
            "grid_auto_flow": null,
            "grid_area": null,
            "grid_template_columns": null,
            "flex": null,
            "_model_name": "LayoutModel",
            "justify_items": null,
            "grid_row": null,
            "max_height": null,
            "align_content": null,
            "visibility": null,
            "align_self": null,
            "height": null,
            "min_height": null,
            "padding": null,
            "grid_auto_rows": null,
            "grid_gap": null,
            "max_width": null,
            "order": null,
            "_view_module_version": "1.2.0",
            "grid_template_areas": null,
            "object_position": null,
            "object_fit": null,
            "grid_auto_columns": null,
            "margin": null,
            "display": null,
            "left": null
          }
        },
        "ee2a80ad755d44688f6c001a9a1ff1bf": {
          "model_module": "@jupyter-widgets/controls",
          "model_name": "HBoxModel",
          "state": {
            "_view_name": "HBoxView",
            "_dom_classes": [],
            "_model_name": "HBoxModel",
            "_view_module": "@jupyter-widgets/controls",
            "_model_module_version": "1.5.0",
            "_view_count": null,
            "_view_module_version": "1.5.0",
            "box_style": "",
            "layout": "IPY_MODEL_99ea1c5221ac455bbfd8129866e57f7a",
            "_model_module": "@jupyter-widgets/controls",
            "children": [
              "IPY_MODEL_6ff68f290c8042bd9e935a892f59fbab",
              "IPY_MODEL_e1b94b077d494da28d3dad6364ad243b"
            ]
          }
        },
        "99ea1c5221ac455bbfd8129866e57f7a": {
          "model_module": "@jupyter-widgets/base",
          "model_name": "LayoutModel",
          "state": {
            "_view_name": "LayoutView",
            "grid_template_rows": null,
            "right": null,
            "justify_content": null,
            "_view_module": "@jupyter-widgets/base",
            "overflow": null,
            "_model_module_version": "1.2.0",
            "_view_count": null,
            "flex_flow": null,
            "width": null,
            "min_width": null,
            "border": null,
            "align_items": null,
            "bottom": null,
            "_model_module": "@jupyter-widgets/base",
            "top": null,
            "grid_column": null,
            "overflow_y": null,
            "overflow_x": null,
            "grid_auto_flow": null,
            "grid_area": null,
            "grid_template_columns": null,
            "flex": null,
            "_model_name": "LayoutModel",
            "justify_items": null,
            "grid_row": null,
            "max_height": null,
            "align_content": null,
            "visibility": null,
            "align_self": null,
            "height": null,
            "min_height": null,
            "padding": null,
            "grid_auto_rows": null,
            "grid_gap": null,
            "max_width": null,
            "order": null,
            "_view_module_version": "1.2.0",
            "grid_template_areas": null,
            "object_position": null,
            "object_fit": null,
            "grid_auto_columns": null,
            "margin": null,
            "display": null,
            "left": null
          }
        },
        "6ff68f290c8042bd9e935a892f59fbab": {
          "model_module": "@jupyter-widgets/controls",
          "model_name": "FloatProgressModel",
          "state": {
            "_view_name": "ProgressView",
            "style": "IPY_MODEL_955ccac7136547439a4f7470db4b96e7",
            "_dom_classes": [],
            "description": "100%",
            "_model_name": "FloatProgressModel",
            "bar_style": "success",
            "max": 553433881,
            "_view_module": "@jupyter-widgets/controls",
            "_model_module_version": "1.5.0",
            "value": 553433881,
            "_view_count": null,
            "_view_module_version": "1.5.0",
            "orientation": "horizontal",
            "min": 0,
            "description_tooltip": null,
            "_model_module": "@jupyter-widgets/controls",
            "layout": "IPY_MODEL_58cc0b83677f499e8d286c4039f24a18"
          }
        },
        "e1b94b077d494da28d3dad6364ad243b": {
          "model_module": "@jupyter-widgets/controls",
          "model_name": "HTMLModel",
          "state": {
            "_view_name": "HTMLView",
            "style": "IPY_MODEL_e9d66e73a27448308accecf434e28612",
            "_dom_classes": [],
            "description": "",
            "_model_name": "HTMLModel",
            "placeholder": "​",
            "_view_module": "@jupyter-widgets/controls",
            "_model_module_version": "1.5.0",
            "value": " 528M/528M [00:07&lt;00:00, 70.3MB/s]",
            "_view_count": null,
            "_view_module_version": "1.5.0",
            "description_tooltip": null,
            "_model_module": "@jupyter-widgets/controls",
            "layout": "IPY_MODEL_f26ef9aa7a2a4671b54b89921fa70690"
          }
        },
        "955ccac7136547439a4f7470db4b96e7": {
          "model_module": "@jupyter-widgets/controls",
          "model_name": "ProgressStyleModel",
          "state": {
            "_view_name": "StyleView",
            "_model_name": "ProgressStyleModel",
            "description_width": "initial",
            "_view_module": "@jupyter-widgets/base",
            "_model_module_version": "1.5.0",
            "_view_count": null,
            "_view_module_version": "1.2.0",
            "bar_color": null,
            "_model_module": "@jupyter-widgets/controls"
          }
        },
        "58cc0b83677f499e8d286c4039f24a18": {
          "model_module": "@jupyter-widgets/base",
          "model_name": "LayoutModel",
          "state": {
            "_view_name": "LayoutView",
            "grid_template_rows": null,
            "right": null,
            "justify_content": null,
            "_view_module": "@jupyter-widgets/base",
            "overflow": null,
            "_model_module_version": "1.2.0",
            "_view_count": null,
            "flex_flow": null,
            "width": null,
            "min_width": null,
            "border": null,
            "align_items": null,
            "bottom": null,
            "_model_module": "@jupyter-widgets/base",
            "top": null,
            "grid_column": null,
            "overflow_y": null,
            "overflow_x": null,
            "grid_auto_flow": null,
            "grid_area": null,
            "grid_template_columns": null,
            "flex": null,
            "_model_name": "LayoutModel",
            "justify_items": null,
            "grid_row": null,
            "max_height": null,
            "align_content": null,
            "visibility": null,
            "align_self": null,
            "height": null,
            "min_height": null,
            "padding": null,
            "grid_auto_rows": null,
            "grid_gap": null,
            "max_width": null,
            "order": null,
            "_view_module_version": "1.2.0",
            "grid_template_areas": null,
            "object_position": null,
            "object_fit": null,
            "grid_auto_columns": null,
            "margin": null,
            "display": null,
            "left": null
          }
        },
        "e9d66e73a27448308accecf434e28612": {
          "model_module": "@jupyter-widgets/controls",
          "model_name": "DescriptionStyleModel",
          "state": {
            "_view_name": "StyleView",
            "_model_name": "DescriptionStyleModel",
            "description_width": "",
            "_view_module": "@jupyter-widgets/base",
            "_model_module_version": "1.5.0",
            "_view_count": null,
            "_view_module_version": "1.2.0",
            "_model_module": "@jupyter-widgets/controls"
          }
        },
        "f26ef9aa7a2a4671b54b89921fa70690": {
          "model_module": "@jupyter-widgets/base",
          "model_name": "LayoutModel",
          "state": {
            "_view_name": "LayoutView",
            "grid_template_rows": null,
            "right": null,
            "justify_content": null,
            "_view_module": "@jupyter-widgets/base",
            "overflow": null,
            "_model_module_version": "1.2.0",
            "_view_count": null,
            "flex_flow": null,
            "width": null,
            "min_width": null,
            "border": null,
            "align_items": null,
            "bottom": null,
            "_model_module": "@jupyter-widgets/base",
            "top": null,
            "grid_column": null,
            "overflow_y": null,
            "overflow_x": null,
            "grid_auto_flow": null,
            "grid_area": null,
            "grid_template_columns": null,
            "flex": null,
            "_model_name": "LayoutModel",
            "justify_items": null,
            "grid_row": null,
            "max_height": null,
            "align_content": null,
            "visibility": null,
            "align_self": null,
            "height": null,
            "min_height": null,
            "padding": null,
            "grid_auto_rows": null,
            "grid_gap": null,
            "max_width": null,
            "order": null,
            "_view_module_version": "1.2.0",
            "grid_template_areas": null,
            "object_position": null,
            "object_fit": null,
            "grid_auto_columns": null,
            "margin": null,
            "display": null,
            "left": null
          }
        },
        "26ceeca5f8504f569633f8dcfa39a999": {
          "model_module": "@jupyter-widgets/controls",
          "model_name": "HBoxModel",
          "state": {
            "_view_name": "HBoxView",
            "_dom_classes": [],
            "_model_name": "HBoxModel",
            "_view_module": "@jupyter-widgets/controls",
            "_model_module_version": "1.5.0",
            "_view_count": null,
            "_view_module_version": "1.5.0",
            "box_style": "",
            "layout": "IPY_MODEL_2d2b38e0effb460f8065547c7c47312d",
            "_model_module": "@jupyter-widgets/controls",
            "children": [
              "IPY_MODEL_c287b9e5de82447e9441f521896bb4b7",
              "IPY_MODEL_e464d3c5d4be482987fe8e8a39f6d5dc"
            ]
          }
        },
        "2d2b38e0effb460f8065547c7c47312d": {
          "model_module": "@jupyter-widgets/base",
          "model_name": "LayoutModel",
          "state": {
            "_view_name": "LayoutView",
            "grid_template_rows": null,
            "right": null,
            "justify_content": null,
            "_view_module": "@jupyter-widgets/base",
            "overflow": null,
            "_model_module_version": "1.2.0",
            "_view_count": null,
            "flex_flow": null,
            "width": null,
            "min_width": null,
            "border": null,
            "align_items": null,
            "bottom": null,
            "_model_module": "@jupyter-widgets/base",
            "top": null,
            "grid_column": null,
            "overflow_y": null,
            "overflow_x": null,
            "grid_auto_flow": null,
            "grid_area": null,
            "grid_template_columns": null,
            "flex": null,
            "_model_name": "LayoutModel",
            "justify_items": null,
            "grid_row": null,
            "max_height": null,
            "align_content": null,
            "visibility": null,
            "align_self": null,
            "height": null,
            "min_height": null,
            "padding": null,
            "grid_auto_rows": null,
            "grid_gap": null,
            "max_width": null,
            "order": null,
            "_view_module_version": "1.2.0",
            "grid_template_areas": null,
            "object_position": null,
            "object_fit": null,
            "grid_auto_columns": null,
            "margin": null,
            "display": null,
            "left": null
          }
        },
        "c287b9e5de82447e9441f521896bb4b7": {
          "model_module": "@jupyter-widgets/controls",
          "model_name": "FloatProgressModel",
          "state": {
            "_view_name": "ProgressView",
            "style": "IPY_MODEL_1c4663b98a0e426cad5d8091214ba1b8",
            "_dom_classes": [],
            "description": "100%",
            "_model_name": "FloatProgressModel",
            "bar_style": "success",
            "max": 178728960,
            "_view_module": "@jupyter-widgets/controls",
            "_model_module_version": "1.5.0",
            "value": 178728960,
            "_view_count": null,
            "_view_module_version": "1.5.0",
            "orientation": "horizontal",
            "min": 0,
            "description_tooltip": null,
            "_model_module": "@jupyter-widgets/controls",
            "layout": "IPY_MODEL_d5bf6f1d03344e6ca26fb8811c44270c"
          }
        },
        "e464d3c5d4be482987fe8e8a39f6d5dc": {
          "model_module": "@jupyter-widgets/controls",
          "model_name": "HTMLModel",
          "state": {
            "_view_name": "HTMLView",
            "style": "IPY_MODEL_8724411a7a5d4276b25e08e1d9528e6e",
            "_dom_classes": [],
            "description": "",
            "_model_name": "HTMLModel",
            "placeholder": "​",
            "_view_module": "@jupyter-widgets/controls",
            "_model_module_version": "1.5.0",
            "value": " 170M/170M [00:06&lt;00:00, 28.8MB/s]",
            "_view_count": null,
            "_view_module_version": "1.5.0",
            "description_tooltip": null,
            "_model_module": "@jupyter-widgets/controls",
            "layout": "IPY_MODEL_71b94364198343538027541a1d43c1c9"
          }
        },
        "1c4663b98a0e426cad5d8091214ba1b8": {
          "model_module": "@jupyter-widgets/controls",
          "model_name": "ProgressStyleModel",
          "state": {
            "_view_name": "StyleView",
            "_model_name": "ProgressStyleModel",
            "description_width": "initial",
            "_view_module": "@jupyter-widgets/base",
            "_model_module_version": "1.5.0",
            "_view_count": null,
            "_view_module_version": "1.2.0",
            "bar_color": null,
            "_model_module": "@jupyter-widgets/controls"
          }
        },
        "d5bf6f1d03344e6ca26fb8811c44270c": {
          "model_module": "@jupyter-widgets/base",
          "model_name": "LayoutModel",
          "state": {
            "_view_name": "LayoutView",
            "grid_template_rows": null,
            "right": null,
            "justify_content": null,
            "_view_module": "@jupyter-widgets/base",
            "overflow": null,
            "_model_module_version": "1.2.0",
            "_view_count": null,
            "flex_flow": null,
            "width": null,
            "min_width": null,
            "border": null,
            "align_items": null,
            "bottom": null,
            "_model_module": "@jupyter-widgets/base",
            "top": null,
            "grid_column": null,
            "overflow_y": null,
            "overflow_x": null,
            "grid_auto_flow": null,
            "grid_area": null,
            "grid_template_columns": null,
            "flex": null,
            "_model_name": "LayoutModel",
            "justify_items": null,
            "grid_row": null,
            "max_height": null,
            "align_content": null,
            "visibility": null,
            "align_self": null,
            "height": null,
            "min_height": null,
            "padding": null,
            "grid_auto_rows": null,
            "grid_gap": null,
            "max_width": null,
            "order": null,
            "_view_module_version": "1.2.0",
            "grid_template_areas": null,
            "object_position": null,
            "object_fit": null,
            "grid_auto_columns": null,
            "margin": null,
            "display": null,
            "left": null
          }
        },
        "8724411a7a5d4276b25e08e1d9528e6e": {
          "model_module": "@jupyter-widgets/controls",
          "model_name": "DescriptionStyleModel",
          "state": {
            "_view_name": "StyleView",
            "_model_name": "DescriptionStyleModel",
            "description_width": "",
            "_view_module": "@jupyter-widgets/base",
            "_model_module_version": "1.5.0",
            "_view_count": null,
            "_view_module_version": "1.2.0",
            "_model_module": "@jupyter-widgets/controls"
          }
        },
        "71b94364198343538027541a1d43c1c9": {
          "model_module": "@jupyter-widgets/base",
          "model_name": "LayoutModel",
          "state": {
            "_view_name": "LayoutView",
            "grid_template_rows": null,
            "right": null,
            "justify_content": null,
            "_view_module": "@jupyter-widgets/base",
            "overflow": null,
            "_model_module_version": "1.2.0",
            "_view_count": null,
            "flex_flow": null,
            "width": null,
            "min_width": null,
            "border": null,
            "align_items": null,
            "bottom": null,
            "_model_module": "@jupyter-widgets/base",
            "top": null,
            "grid_column": null,
            "overflow_y": null,
            "overflow_x": null,
            "grid_auto_flow": null,
            "grid_area": null,
            "grid_template_columns": null,
            "flex": null,
            "_model_name": "LayoutModel",
            "justify_items": null,
            "grid_row": null,
            "max_height": null,
            "align_content": null,
            "visibility": null,
            "align_self": null,
            "height": null,
            "min_height": null,
            "padding": null,
            "grid_auto_rows": null,
            "grid_gap": null,
            "max_width": null,
            "order": null,
            "_view_module_version": "1.2.0",
            "grid_template_areas": null,
            "object_position": null,
            "object_fit": null,
            "grid_auto_columns": null,
            "margin": null,
            "display": null,
            "left": null
          }
        }
      }
    }
  },
  "cells": [
    {
      "cell_type": "markdown",
      "metadata": {
        "id": "UlxGNnSK7pLl"
      },
      "source": [
        "# Computational Graphs\n"
      ]
    },
    {
      "cell_type": "markdown",
      "metadata": {
        "id": "bhPljmoX7tlb"
      },
      "source": [
        "**Numpy**"
      ]
    },
    {
      "cell_type": "code",
      "metadata": {
        "id": "OKNlikuz7kqj"
      },
      "source": [
        "import numpy as np\n",
        "np.random.seed(0)\n",
        "\n",
        "N, D = 3, 4\n",
        "x = np.random.randn(N, D)\n",
        "y = np.random.randn(N, D)\n",
        "z = np.random.randn(N, D)\n",
        "\n",
        "a = x * y\n",
        "b = a + z\n",
        "c = np.sum(b)\n",
        "\n",
        "grad_c = 1.0\n",
        "grad_b = grad_c * np.ones((N, D))\n",
        "grad_a = grad_b.copy()\n",
        "grad_z = grad_b.copy()\n",
        "grad_x = grad_a * y\n",
        "grad_y = grad_a * x"
      ],
      "execution_count": 1,
      "outputs": []
    },
    {
      "cell_type": "markdown",
      "metadata": {
        "id": "L4eVc6gm8Mx3"
      },
      "source": [
        "**Tensorflow**"
      ]
    },
    {
      "cell_type": "code",
      "metadata": {
        "colab": {
          "base_uri": "https://localhost:8080/",
          "height": 176
        },
        "id": "K9eK1FGT8H6u",
        "outputId": "0d3b4964-0aba-4ea9-afd4-bb97b4ef1f8b"
      },
      "source": [
        "'''\n",
        "# tensorflow가 업데이트 되면서 placeholder가 사라짐\n",
        "# 따라서 다른 방법을 강구해야함.\n",
        "import numpy as np\n",
        "np.random.seed(0)\n",
        "import tensorflow.compat.v1 as tf\n",
        "tf.disable_v2_behavior()\n",
        "\n",
        "tensorflow의 버전을 낮춰주는 방법\n",
        "\n",
        "N, D =  3000, 4000\n",
        "\n",
        "with tf.device('/gpu:0'): # run this code using gpu\n",
        "  x = tf.placeholder(tf.float32)\n",
        "  y = tf.placeholder(tf.float32)\n",
        "  z = tf.placeholder(tf.float32)\n",
        "\n",
        "  a = x * y\n",
        "  b = a + z\n",
        "  c = tf.reduce_sum(b)\n",
        "\n",
        "grad_x, grad_y, grad_z = tf.gradients(c, [x, y, z])\n",
        "\n",
        "with tf.Session() as sess:\n",
        "  values = {\n",
        "      x: np.random.randn(N, D),\n",
        "      y: np.random.randn(N, D),\n",
        "      z: np.random.randn(N, D)\n",
        "  }\n",
        "  out = sess.run([c, grad_x, grad_y, grad_z], feed_dict = values)\n",
        "  c_val, grad_x_val, grad_y_val, grad_z_val = out\n",
        "'''"
      ],
      "execution_count": 12,
      "outputs": [
        {
          "output_type": "execute_result",
          "data": {
            "application/vnd.google.colaboratory.intrinsic+json": {
              "type": "string"
            },
            "text/plain": [
              "\"\\n# tensorflow가 업데이트 되면서 placeholder가 사라짐\\n# 따라서 다른 방법을 강구해야함.\\nimport numpy as np\\nnp.random.seed(0)\\nimport tensorflow.compat.v1 as tf\\ntf.disable_v2_behavior()\\n\\ntensorflow의 버전을 낮춰주는 방법\\n\\nN, D =  3000, 4000\\n\\nwith tf.device('/gpu:0'): # run this code using gpu\\n  x = tf.placeholder(tf.float32)\\n  y = tf.placeholder(tf.float32)\\n  z = tf.placeholder(tf.float32)\\n\\n  a = x * y\\n  b = a + z\\n  c = tf.reduce_sum(b)\\n\\ngrad_x, grad_y, grad_z = tf.gradients(c, [x, y, z])\\n\\nwith tf.Session() as sess:\\n  values = {\\n      x: np.random.randn(N, D),\\n      y: np.random.randn(N, D),\\n      z: np.random.randn(N, D)\\n  }\\n  out = sess.run([c, grad_x, grad_y, grad_z], feed_dict = values)\\n  c_val, grad_x_val, grad_y_val, grad_z_val = out\\n\""
            ]
          },
          "metadata": {
            "tags": []
          },
          "execution_count": 12
        }
      ]
    },
    {
      "cell_type": "markdown",
      "metadata": {
        "id": "n-b37odhRCX7"
      },
      "source": [
        "**PyTorch**"
      ]
    },
    {
      "cell_type": "code",
      "metadata": {
        "colab": {
          "base_uri": "https://localhost:8080/",
          "height": 106
        },
        "id": "8QqO46f78s2_",
        "outputId": "196cf165-f44d-4d1a-8ab6-8771d39ee448"
      },
      "source": [
        "'''\n",
        "import torch\n",
        "from torch.autograd import Variable\n",
        "\n",
        "N, D = 3, 4\n",
        "\n",
        "x = Variable(torch.randn(N, D).cuda(), requires_grad = True)\n",
        "y = Variable(torch.randn(N, D).cuda(), requires_grad = True)\n",
        "z = Variable(torch.randn(N, D).cuda(), requires_grad = True)\n",
        "\n",
        "a = x * y\n",
        "b = a + z\n",
        "c = torch.sum(b)\n",
        "\n",
        "c.backward()\n",
        "\n",
        "print(x.grad.data)\n",
        "print(y.grad.data)\n",
        "print(z.grad.data)\n",
        "'''"
      ],
      "execution_count": 5,
      "outputs": [
        {
          "output_type": "execute_result",
          "data": {
            "application/vnd.google.colaboratory.intrinsic+json": {
              "type": "string"
            },
            "text/plain": [
              "'\\nimport torch\\nfrom torch.autograd import Variable\\n\\nN, D = 3, 4\\n\\nx = Variable(torch.randn(N, D).cuda(), requires_grad = True)\\ny = Variable(torch.randn(N, D).cuda(), requires_grad = True)\\nz = Variable(torch.randn(N, D).cuda(), requires_grad = True)\\n\\na = x * y\\nb = a + z\\nc = torch.sum(b)\\n\\nc.backward()\\n\\nprint(x.grad.data)\\nprint(y.grad.data)\\nprint(z.grad.data)\\n'"
            ]
          },
          "metadata": {
            "tags": []
          },
          "execution_count": 5
        }
      ]
    },
    {
      "cell_type": "code",
      "metadata": {
        "colab": {
          "base_uri": "https://localhost:8080/",
          "height": 213
        },
        "id": "QDngk6p8RVEf",
        "outputId": "a76ac906-b3c5-420b-9762-f7d09d781aba"
      },
      "source": [
        "'''\n",
        "# tensorflow의 버전이 바뀌면서 관련 내용도 많이 바뀐듯함.\n",
        "# fc layer + Relu training network\n",
        "# loss function : L2\n",
        "import tensorflow.compat.v1 as tf\n",
        "tf.disable_v2_behavior()\n",
        "\n",
        "N, D, H = 64, 1000, 100\n",
        "x = tf.placeholder(tf.float32, shape=(N, D))\n",
        "y = tf.placeholder(tf.float32, shape=(N, D))\n",
        "\n",
        "init = tf.contrib.layers.xavier_initializer()\n",
        "h = tf.layers.dense(inputs = x, units = H, activation = tf.nn.relu,\n",
        "                    kernel_initializer = init)\n",
        "y_pred = tf.layer.dense(inputs=h, units=D,\n",
        "                        kernel_initializer=init)\n",
        "\n",
        "h = tf.maximum(tf.matmul(x, w1), 0)\n",
        "y_pred = tf.matmul(h, w2)\n",
        "diff = y_pred - y\n",
        "loss = tf.losses.mean_squared_error(y_pred, y)\n",
        "\n",
        "optimizer = tf.train.GradientDescentOptimizer(1e-3)\n",
        "updates = optimizer.minimize(loss)\n",
        "\n",
        "with tf.Session() as sess:\n",
        "  sess.run(tf.global_variables_initializer())\n",
        "  values = {x: np.random.randn(N, D),\n",
        "            y: np.random.randn(N, D),}\n",
        "  losses = []\n",
        "  for t in range(50):\n",
        "    loss_val, = sess.run([loss, updates], feed_dict=values)\n",
        "'''"
      ],
      "execution_count": 25,
      "outputs": [
        {
          "output_type": "execute_result",
          "data": {
            "application/vnd.google.colaboratory.intrinsic+json": {
              "type": "string"
            },
            "text/plain": [
              "'\\n# tensorflow의 버전이 바뀌면서 관련 내용도 많이 바뀐듯함.\\n# fc layer + Relu training network\\n# loss function : L2\\nimport tensorflow.compat.v1 as tf\\ntf.disable_v2_behavior()\\n\\nN, D, H = 64, 1000, 100\\nx = tf.placeholder(tf.float32, shape=(N, D))\\ny = tf.placeholder(tf.float32, shape=(N, D))\\n\\ninit = tf.contrib.layers.xavier_initializer()\\nh = tf.layers.dense(inputs = x, units = H, activation = tf.nn.relu,\\n                    kernel_initializer = init)\\ny_pred = tf.layer.dense(inputs=h, units=D,\\n                        kernel_initializer=init)\\n\\nh = tf.maximum(tf.matmul(x, w1), 0)\\ny_pred = tf.matmul(h, w2)\\ndiff = y_pred - y\\nloss = tf.losses.mean_squared_error(y_pred, y)\\n\\noptimizer = tf.train.GradientDescentOptimizer(1e-3)\\nupdates = optimizer.minimize(loss)\\n\\nwith tf.Session() as sess:\\n  sess.run(tf.global_variables_initializer())\\n  values = {x: np.random.randn(N, D),\\n            y: np.random.randn(N, D),}\\n  losses = []\\n  for t in range(50):\\n    loss_val, = sess.run([loss, updates], feed_dict=values)\\n'"
            ]
          },
          "metadata": {
            "tags": []
          },
          "execution_count": 25
        }
      ]
    },
    {
      "cell_type": "code",
      "metadata": {
        "colab": {
          "base_uri": "https://localhost:8080/",
          "height": 123
        },
        "id": "a6LOv_7YSFJf",
        "outputId": "a4dbfa0a-e0be-473a-97aa-05f74e8dd232"
      },
      "source": [
        "'''\n",
        "from keras.models import Sequential\n",
        "from keras.layers.core import Dense, Activation\n",
        "from keras.optimizers import SGD\n",
        "\n",
        "N, D, H = 64, 1000, 100\n",
        "\n",
        "model = Sequential()\n",
        "model.add(Dense(input_dim=D, output_dim=H))\n",
        "model.add(Activation('relu'))\n",
        "model.add(Dense(input_dim=H, output_dim=D))\n",
        "\n",
        "optimizer = SGD(lr=1e0)\n",
        "model.compile(loss = \"mean_squared_error\",\n",
        "              optimizer=optimizer)\n",
        "\n",
        "x = np.random.randn(N, D)\n",
        "y = np.random.randn(N, D)\n",
        "history = model.fit(x, y, nb_epoch=50,\n",
        "                    batch_size = N, verbose = 0)\n",
        "'''"
      ],
      "execution_count": 27,
      "outputs": [
        {
          "output_type": "execute_result",
          "data": {
            "application/vnd.google.colaboratory.intrinsic+json": {
              "type": "string"
            },
            "text/plain": [
              "'\\nfrom keras.models import Sequential\\nfrom keras.layers.core import Dense, Activation\\nfrom keras.optimizers import SGD\\n\\nN, D, H = 64, 1000, 100\\n\\nmodel = Sequential()\\nmodel.add(Dense(input_dim=D, output_dim=H))\\nmodel.add(Activation(\\'relu\\'))\\nmodel.add(Dense(input_dim=H, output_dim=D))\\n\\noptimizer = SGD(lr=1e0)\\nmodel.compile(loss = \"mean_squared_error\",\\n              optimizer=optimizer)\\n\\nx = np.random.randn(N, D)\\ny = np.random.randn(N, D)\\nhistory = model.fit(x, y, nb_epoch=50,\\n                    batch_size = N, verbose = 0)\\n'"
            ]
          },
          "metadata": {
            "tags": []
          },
          "execution_count": 27
        }
      ]
    },
    {
      "cell_type": "code",
      "metadata": {
        "id": "pMPAMDixa7EV"
      },
      "source": [
        "# 2-layer network by PyTorch tensor\n",
        "import torch\n",
        "\n",
        "dtype = torch.FloatTensor \n",
        "# if you want to use gpu\n",
        "# torch.cuda.FloatTensor\n",
        "\n",
        "N, D_in, H, D_out = 64, 1000, 100, 10\n",
        "x = torch.randn(N, D_in).type(dtype)\n",
        "y = torch.randn(N, D_out).type(dtype)\n",
        "w1 = torch.randn(D_in, H).type(dtype)\n",
        "w2 = torch.randn(H, D_out).type(dtype)\n",
        "\n",
        "learning_rate = 1e-6\n",
        "for t in range(500):\n",
        "  h = x.mm(w1)\n",
        "  h_relu = h.clamp(min=0)\n",
        "  y_pred = h_relu.mm(w2)\n",
        "  loss = (y_pred - y).pow(2).sum()\n",
        "\n",
        "  grad_y_pred = 2.0 * (y_pred - y)\n",
        "  grad_w2 = h_relu.t().mm(grad_y_pred)\n",
        "  grad_h_relu = grad_y_pred.mm(w2.t())\n",
        "  grad_h = grad_h_relu.clone()\n",
        "  grad_h[h < 0] = 0\n",
        "  grad_w1 = x.t().mm(grad_h)\n",
        "\n",
        "  w1 -= learning_rate * grad_w1\n",
        "  w2 -= learning_rate * grad_w2"
      ],
      "execution_count": 28,
      "outputs": []
    },
    {
      "cell_type": "code",
      "metadata": {
        "colab": {
          "base_uri": "https://localhost:8080/",
          "height": 141
        },
        "id": "yODgrbRFeFdk",
        "outputId": "b5815578-c396-45cc-b188-2e383dde53e4"
      },
      "source": [
        "# Autograd\n",
        "'''\n",
        "import torch\n",
        "from torch.autograd import Variable\n",
        "\n",
        "N, D_in, H, D_out = 64, 1000, 100, 10\n",
        "x = Variable(torch.randn(N, D_in), requires_grad = False)\n",
        "y = Variable(torch.randn(N, D_out), requires_grad = False)\n",
        "w1 = Variable(torch.randn(D_in, H), requires_grad = True)\n",
        "w2 = Variable(torch.randn(H, D_out), requires_grad = True)\n",
        "\n",
        "learning_rate = 1e-6\n",
        "for t in range(500):\n",
        "  y_pred = x.mm(w1).clamp(min=0).mm(w2)\n",
        "  loss = (y_pred - y).pow(2).sum()\n",
        "\n",
        "  if w1.grad: w1.grad.data.zero_()\n",
        "  if w2.grad: w2.grad.data.zero_()\n",
        "  loss.backward()\n",
        "\n",
        "  w1.data -= learning_rate * w1.grad.data\n",
        "  w2.data -= learning_rate * w2.grad.data\n",
        "'''"
      ],
      "execution_count": 32,
      "outputs": [
        {
          "output_type": "execute_result",
          "data": {
            "application/vnd.google.colaboratory.intrinsic+json": {
              "type": "string"
            },
            "text/plain": [
              "'\\nimport torch\\nfrom torch.autograd import Variable\\n\\nN, D_in, H, D_out = 64, 1000, 100, 10\\nx = Variable(torch.randn(N, D_in), requires_grad = False)\\ny = Variable(torch.randn(N, D_out), requires_grad = False)\\nw1 = Variable(torch.randn(D_in, H), requires_grad = True)\\nw2 = Variable(torch.randn(H, D_out), requires_grad = True)\\n\\nlearning_rate = 1e-6\\nfor t in range(500):\\n  y_pred = x.mm(w1).clamp(min=0).mm(w2)\\n  loss = (y_pred - y).pow(2).sum()\\n\\n  if w1.grad: w1.grad.data.zero_()\\n  if w2.grad: w2.grad.data.zero_()\\n  loss.backward()\\n\\n  w1.data -= learning_rate * w1.grad.data\\n  w2.data -= learning_rate * w2.grad.data\\n'"
            ]
          },
          "metadata": {
            "tags": []
          },
          "execution_count": 32
        }
      ]
    },
    {
      "cell_type": "code",
      "metadata": {
        "colab": {
          "base_uri": "https://localhost:8080/"
        },
        "id": "WvIzRbVRfJMZ",
        "outputId": "9bc4d099-51e4-4c47-da3c-5ce83afa74c9"
      },
      "source": [
        "# PyTorch : nn\n",
        "\n",
        "import torch\n",
        "from torch.autograd import Variable\n",
        "\n",
        "N, D_in, H, D_out = 64, 1000, 100, 10\n",
        "x = Variable(torch.randn(N, D_in))\n",
        "y = Variable(torch.randn(N, D_out), requires_grad = False)\n",
        "\n",
        "model = torch.nn.Sequential(\n",
        "    torch.nn.Linear(D_in, H),\n",
        "    torch.nn.ReLU(),\n",
        "    torch.nn.Linear(H, D_out))\n",
        "loss_fn = torch.nn.MSELoss(size_average=False)\n",
        "\n",
        "learning_rate = 1e-4\n",
        "optimizer = torch.optim.Adam(model.parameters(),\n",
        "                             lr = learning_rate)\n",
        "\n",
        "for t in range(500):\n",
        "  y_pred = model(x)\n",
        "  loss = loss_fn(y_pred, y)\n",
        "\n",
        "  optimizer.zero_grad()\n",
        "  loss.backward()\n",
        "\n",
        "  optimizer.step() # model parameter update\n",
        "  '''\n",
        "  for param in model.parameters():\n",
        "    param.data -= learning_rate * param.grad.data\n",
        "  '''"
      ],
      "execution_count": 34,
      "outputs": [
        {
          "output_type": "stream",
          "text": [
            "/usr/local/lib/python3.7/dist-packages/torch/nn/_reduction.py:42: UserWarning: size_average and reduce args will be deprecated, please use reduction='sum' instead.\n",
            "  warnings.warn(warning.format(ret))\n"
          ],
          "name": "stderr"
        }
      ]
    },
    {
      "cell_type": "code",
      "metadata": {
        "colab": {
          "base_uri": "https://localhost:8080/"
        },
        "id": "FzPy_Vt1gazb",
        "outputId": "1a9a89ca-04e3-4105-bf53-bfe790bc5930"
      },
      "source": [
        "# Define new Modules\n",
        "# nn module class\n",
        "from torch.utils.data import TensorDataset, DataLoader\n",
        "class TwoLayerNet(torch.nn.Module):\n",
        "  def __init__(self, D_in, H, D_out):\n",
        "    super(TwoLayerNet, self).__init__()\n",
        "    self.linear1 = torch.nn.Linear(D_in, H)\n",
        "    self.linear2 = torch.nn.Linear(H, D_out)\n",
        "\n",
        "  def forward(self, x):\n",
        "    h_relu = self.linear1(x).clamp(min=0)\n",
        "    y_pred = self.linear2(h_relu)\n",
        "    return y_pred\n",
        "\n",
        "N, D_in, H, D_out = 64, 1000, 100, 10\n",
        "\n",
        "x = Variable(torch.randn(N, D_in))\n",
        "y = Variable(torch.randn(N, D_out), requires_grad = False)\n",
        "\n",
        "loader = DataLoader(TensorDataset(x, y), batch_size = 8)\n",
        "\n",
        "model = TwoLayerNet(D_in, H, D_out)\n",
        "\n",
        "criterion = torch.nn.MSELoss(size_average=False)\n",
        "optimizer = torch.optim.SGD(model.parameters(), lr = 1e-4)\n",
        "\n",
        "for epoch in range(10):\n",
        "  for x_batch, y_batch in loader:\n",
        "    x_var, y_var = Variable(x), Variable(y)\n",
        "    y_pred = model(x_var)\n",
        "    loss = criterion(y_pred, y_var)\n",
        "\n",
        "    optimizer.zero_grad()\n",
        "    loss.backward()\n",
        "    optimizer.step()"
      ],
      "execution_count": 37,
      "outputs": [
        {
          "output_type": "stream",
          "text": [
            "/usr/local/lib/python3.7/dist-packages/torch/nn/_reduction.py:42: UserWarning: size_average and reduce args will be deprecated, please use reduction='sum' instead.\n",
            "  warnings.warn(warning.format(ret))\n"
          ],
          "name": "stderr"
        }
      ]
    },
    {
      "cell_type": "code",
      "metadata": {
        "colab": {
          "base_uri": "https://localhost:8080/",
          "height": 238,
          "referenced_widgets": [
            "db2ddccf9cfa410d886b77edb3b044df",
            "5709d596753b4052bd350ec1c46b676f",
            "f5b521df875141a49154beff5b6b6c81",
            "8aef6894245446b68be98d8e42f9e19d",
            "f2932ce906234ee4a41a1e08be88baed",
            "45eb38b0b3de471787a00fcb2553f08b",
            "b1fb238272fe458080ac1d70249a6c8e",
            "0c299912a0744d9eac24535c499b93ae",
            "ee2a80ad755d44688f6c001a9a1ff1bf",
            "99ea1c5221ac455bbfd8129866e57f7a",
            "6ff68f290c8042bd9e935a892f59fbab",
            "e1b94b077d494da28d3dad6364ad243b",
            "955ccac7136547439a4f7470db4b96e7",
            "58cc0b83677f499e8d286c4039f24a18",
            "e9d66e73a27448308accecf434e28612",
            "f26ef9aa7a2a4671b54b89921fa70690",
            "26ceeca5f8504f569633f8dcfa39a999",
            "2d2b38e0effb460f8065547c7c47312d",
            "c287b9e5de82447e9441f521896bb4b7",
            "e464d3c5d4be482987fe8e8a39f6d5dc",
            "1c4663b98a0e426cad5d8091214ba1b8",
            "d5bf6f1d03344e6ca26fb8811c44270c",
            "8724411a7a5d4276b25e08e1d9528e6e",
            "71b94364198343538027541a1d43c1c9"
          ]
        },
        "id": "tfiynYl5hucb",
        "outputId": "2639accd-44d7-46c8-ecc1-e88f2d9cd0c4"
      },
      "source": [
        "# PyTorch : Pretrained Models\n",
        "\n",
        "import torch\n",
        "import torchvision\n",
        "\n",
        "alexnet = torchvision.models.alexnet(pretrained = True)\n",
        "vgg16 = torchvision.models.vgg16(pretrained = True)\n",
        "resnet101 = torchvision.models.resnet101(pretrained = True)"
      ],
      "execution_count": 38,
      "outputs": [
        {
          "output_type": "stream",
          "text": [
            "Downloading: \"https://download.pytorch.org/models/alexnet-owt-4df8aa71.pth\" to /root/.cache/torch/hub/checkpoints/alexnet-owt-4df8aa71.pth\n"
          ],
          "name": "stderr"
        },
        {
          "output_type": "display_data",
          "data": {
            "application/vnd.jupyter.widget-view+json": {
              "model_id": "db2ddccf9cfa410d886b77edb3b044df",
              "version_minor": 0,
              "version_major": 2
            },
            "text/plain": [
              "HBox(children=(FloatProgress(value=0.0, max=244418560.0), HTML(value='')))"
            ]
          },
          "metadata": {
            "tags": []
          }
        },
        {
          "output_type": "stream",
          "text": [
            "\n"
          ],
          "name": "stdout"
        },
        {
          "output_type": "stream",
          "text": [
            "Downloading: \"https://download.pytorch.org/models/vgg16-397923af.pth\" to /root/.cache/torch/hub/checkpoints/vgg16-397923af.pth\n"
          ],
          "name": "stderr"
        },
        {
          "output_type": "display_data",
          "data": {
            "application/vnd.jupyter.widget-view+json": {
              "model_id": "ee2a80ad755d44688f6c001a9a1ff1bf",
              "version_minor": 0,
              "version_major": 2
            },
            "text/plain": [
              "HBox(children=(FloatProgress(value=0.0, max=553433881.0), HTML(value='')))"
            ]
          },
          "metadata": {
            "tags": []
          }
        },
        {
          "output_type": "stream",
          "text": [
            "\n"
          ],
          "name": "stdout"
        },
        {
          "output_type": "stream",
          "text": [
            "Downloading: \"https://download.pytorch.org/models/resnet101-5d3b4d8f.pth\" to /root/.cache/torch/hub/checkpoints/resnet101-5d3b4d8f.pth\n"
          ],
          "name": "stderr"
        },
        {
          "output_type": "display_data",
          "data": {
            "application/vnd.jupyter.widget-view+json": {
              "model_id": "26ceeca5f8504f569633f8dcfa39a999",
              "version_minor": 0,
              "version_major": 2
            },
            "text/plain": [
              "HBox(children=(FloatProgress(value=0.0, max=178728960.0), HTML(value='')))"
            ]
          },
          "metadata": {
            "tags": []
          }
        },
        {
          "output_type": "stream",
          "text": [
            "\n"
          ],
          "name": "stdout"
        }
      ]
    },
    {
      "cell_type": "markdown",
      "metadata": {
        "id": "nlyFmaK0jRHy"
      },
      "source": [
        "TF -> 2 step\n",
        "\n",
        "1. make up graph\n",
        "2. iteration this graph\n",
        "(static computational graph)\n",
        "\n",
        "PyTorch\n",
        "1. make up new graph for forward pass\n",
        "(dynamic computational graph)\n"
      ]
    },
    {
      "cell_type": "code",
      "metadata": {
        "id": "Npy20OcYit4h"
      },
      "source": [
        ""
      ],
      "execution_count": null,
      "outputs": []
    }
  ]
}