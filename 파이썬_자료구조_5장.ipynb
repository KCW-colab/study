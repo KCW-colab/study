{
  "nbformat": 4,
  "nbformat_minor": 0,
  "metadata": {
    "colab": {
      "name": "파이썬 자료구조 5장.ipynb",
      "provenance": [],
      "collapsed_sections": []
    },
    "kernelspec": {
      "name": "python3",
      "display_name": "Python 3"
    },
    "language_info": {
      "name": "python"
    }
  },
  "cells": [
    {
      "cell_type": "markdown",
      "metadata": {
        "id": "T83WD6OiD9MS"
      },
      "source": [
        "# 객체지향 설계"
      ]
    },
    {
      "cell_type": "code",
      "metadata": {
        "colab": {
          "base_uri": "https://localhost:8080/"
        },
        "id": "S4WNu1dzC_PF",
        "outputId": "ec2e551b-5f66-4e6e-fbff-aed67751eb7c"
      },
      "source": [
        "import collections\n",
        "\n",
        "circle = collections.namedtuple(\"Circle\", \"x y radius\")\n",
        "circle"
      ],
      "execution_count": null,
      "outputs": [
        {
          "output_type": "execute_result",
          "data": {
            "text/plain": [
              "__main__.Circle"
            ]
          },
          "metadata": {
            "tags": []
          },
          "execution_count": 1
        }
      ]
    },
    {
      "cell_type": "code",
      "metadata": {
        "colab": {
          "base_uri": "https://localhost:8080/"
        },
        "id": "_Dq2Bb1zEFdq",
        "outputId": "7e0b2cd8-afd2-4b70-ba3a-61857b2712e6"
      },
      "source": [
        "circle = circle(13, 84, 9)\n",
        "circle"
      ],
      "execution_count": null,
      "outputs": [
        {
          "output_type": "execute_result",
          "data": {
            "text/plain": [
              "Circle(x=13, y=84, radius=9)"
            ]
          },
          "metadata": {
            "tags": []
          },
          "execution_count": 2
        }
      ]
    },
    {
      "cell_type": "markdown",
      "metadata": {
        "id": "kMnPrQXWF0BT"
      },
      "source": [
        "# 클래스와 객체"
      ]
    },
    {
      "cell_type": "code",
      "metadata": {
        "colab": {
          "base_uri": "https://localhost:8080/"
        },
        "id": "0sUhY0NfEN_9",
        "outputId": "d22fc570-a7a4-4d69-9f3c-a17fb55db8d7"
      },
      "source": [
        "class ClassName:\n",
        "  # 문장 1\n",
        "  # ... \n",
        "  # 문장 n\n",
        "  pass\n",
        "\n",
        "X = ClassName()\n",
        "X"
      ],
      "execution_count": null,
      "outputs": [
        {
          "output_type": "execute_result",
          "data": {
            "text/plain": [
              "<__main__.ClassName at 0x7f233cad67d0>"
            ]
          },
          "metadata": {
            "tags": []
          },
          "execution_count": 4
        }
      ]
    },
    {
      "cell_type": "markdown",
      "metadata": {
        "id": "i8j_LfQ4F2B6"
      },
      "source": [
        "# 객체지향 프로그래밍의 원리"
      ]
    },
    {
      "cell_type": "code",
      "metadata": {
        "colab": {
          "base_uri": "https://localhost:8080/",
          "height": 35
        },
        "id": "kNHvyB1sEz-F",
        "outputId": "d680559c-c471-41a4-eedd-5b299f972f9b"
      },
      "source": [
        "# 좋은 예\n",
        "# 한 클래스가 다른 클래스를 상속받지 않으면, 파이썬의 최상위 클래스인 object를 명시적으로 표기하는 것을 권장\n",
        "class SampleClass(object):\n",
        "  pass\n",
        "\n",
        "class OuterClass(object):\n",
        "  class InnerClass(object):\n",
        "    pass\n",
        "\n",
        "'''\n",
        "class ChildClass(ParentClass):\n",
        "  ## 부모 클래스 상속 ##\n",
        "  \n",
        "'''"
      ],
      "execution_count": null,
      "outputs": [
        {
          "output_type": "execute_result",
          "data": {
            "application/vnd.google.colaboratory.intrinsic+json": {
              "type": "string"
            },
            "text/plain": [
              "'\\nclass ChildClass(ParentClass):\\n  ## 부모 클래스 상속 ##\\n  \\n'"
            ]
          },
          "metadata": {
            "tags": []
          },
          "execution_count": 7
        }
      ]
    },
    {
      "cell_type": "code",
      "metadata": {
        "id": "MFRw8U_mGbc0"
      },
      "source": [
        "# 나쁜 예\n",
        "class SampleClass:\n",
        "  pass\n",
        "\n",
        "class OuterClass:\n",
        "  class InnerClass:\n",
        "    pass"
      ],
      "execution_count": null,
      "outputs": []
    },
    {
      "cell_type": "code",
      "metadata": {
        "colab": {
          "base_uri": "https://localhost:8080/"
        },
        "id": "IHH4r0TDGvrT",
        "outputId": "3a3a9e45-e2a7-46e8-f11a-68aa65a1a773"
      },
      "source": [
        "class Symbol(object):\n",
        "  def __init__(self, value):\n",
        "    self.value = value\n",
        "\n",
        "x = Symbol(\"Py\")\n",
        "y = Symbol(\"Py\")\n",
        "\n",
        "symbols = set()\n",
        "symbols.add(x)\n",
        "symbols.add(y)\n",
        "\n",
        "print(x is y)\n",
        "print(x == y)\n",
        "print(len(symbols))"
      ],
      "execution_count": null,
      "outputs": [
        {
          "output_type": "stream",
          "text": [
            "False\n",
            "False\n",
            "2\n"
          ],
          "name": "stdout"
        }
      ]
    },
    {
      "cell_type": "code",
      "metadata": {
        "colab": {
          "base_uri": "https://localhost:8080/",
          "height": 239
        },
        "id": "5LHcTIetHSOR",
        "outputId": "43090adb-5806-4a67-d16e-6cfdedda7d61"
      },
      "source": [
        "class Symbol(object):\n",
        "  def __init__(self, value):\n",
        "    self.value = value\n",
        "\n",
        "  def __eq__(self, other):\n",
        "    if isinstance(self, other.__class__):\n",
        "      return self.value == other.value\n",
        "    else:\n",
        "      return NotImplemented\n",
        "\n",
        "x = Symbol(\"Py\")\n",
        "y = Symbol(\"Py\")\n",
        "\n",
        "symbols = set()\n",
        "symbols.add(x)\n",
        "symbols.add(y)\n",
        "\n",
        "print(x is y)\n",
        "print(x == y)\n",
        "print(len(symbols))"
      ],
      "execution_count": null,
      "outputs": [
        {
          "output_type": "error",
          "ename": "TypeError",
          "evalue": "ignored",
          "traceback": [
            "\u001b[0;31m---------------------------------------------------------------------------\u001b[0m",
            "\u001b[0;31mTypeError\u001b[0m                                 Traceback (most recent call last)",
            "\u001b[0;32m<ipython-input-10-ae41ebeaad40>\u001b[0m in \u001b[0;36m<module>\u001b[0;34m()\u001b[0m\n\u001b[1;32m     13\u001b[0m \u001b[0;34m\u001b[0m\u001b[0m\n\u001b[1;32m     14\u001b[0m \u001b[0msymbols\u001b[0m \u001b[0;34m=\u001b[0m \u001b[0mset\u001b[0m\u001b[0;34m(\u001b[0m\u001b[0;34m)\u001b[0m\u001b[0;34m\u001b[0m\u001b[0;34m\u001b[0m\u001b[0m\n\u001b[0;32m---> 15\u001b[0;31m \u001b[0msymbols\u001b[0m\u001b[0;34m.\u001b[0m\u001b[0madd\u001b[0m\u001b[0;34m(\u001b[0m\u001b[0mx\u001b[0m\u001b[0;34m)\u001b[0m\u001b[0;34m\u001b[0m\u001b[0;34m\u001b[0m\u001b[0m\n\u001b[0m\u001b[1;32m     16\u001b[0m \u001b[0msymbols\u001b[0m\u001b[0;34m.\u001b[0m\u001b[0madd\u001b[0m\u001b[0;34m(\u001b[0m\u001b[0my\u001b[0m\u001b[0;34m)\u001b[0m\u001b[0;34m\u001b[0m\u001b[0;34m\u001b[0m\u001b[0m\n\u001b[1;32m     17\u001b[0m \u001b[0;34m\u001b[0m\u001b[0m\n",
            "\u001b[0;31mTypeError\u001b[0m: unhashable type: 'Symbol'"
          ]
        }
      ]
    },
    {
      "cell_type": "code",
      "metadata": {
        "colab": {
          "base_uri": "https://localhost:8080/"
        },
        "id": "eqyr2gMYH1ls",
        "outputId": "58e57e85-d7b4-4ece-b606-a9bd5d0f5867"
      },
      "source": [
        "class Symbol(object):\n",
        "  def __init__(self, value):\n",
        "    self.value = value\n",
        "\n",
        "  def __eq__(self, other):\n",
        "    if isinstance(self, other.__class__):\n",
        "      return self.value == other.value\n",
        "    else:\n",
        "      return NotImplemented\n",
        "\n",
        "  def __hash__(self):\n",
        "    return hash(self.value)\n",
        "x = Symbol(\"Py\")\n",
        "y = Symbol(\"Py\")\n",
        "\n",
        "symbols = set()\n",
        "symbols.add(x)\n",
        "symbols.add(y)\n",
        "\n",
        "print(x is y)\n",
        "print(x == y)\n",
        "print(len(symbols))"
      ],
      "execution_count": null,
      "outputs": [
        {
          "output_type": "stream",
          "text": [
            "False\n",
            "True\n",
            "1\n"
          ],
          "name": "stdout"
        }
      ]
    },
    {
      "cell_type": "code",
      "metadata": {
        "id": "vGBn3F4KImEa"
      },
      "source": [
        "import math\n",
        "\n",
        "class Point(object):\n",
        "  def __init__(self, x = 0, y = 0):\n",
        "    self.x = x # 데이터 속성 (attribute)\n",
        "    self.y = y\n",
        "\n",
        "  def distance_from_origin(self): # 메서드 속성\n",
        "    return math.hypot(self.x, self.y)\n",
        "\n",
        "  def __eq__(self, other):\n",
        "    return self.x == other.x and self.y == other.y\n",
        "\n",
        "  def __repr__(self):\n",
        "    return \"point ({0.x!r}, {0.y!r})\".format(self)\n",
        "\n",
        "  def __str__(self):\n",
        "    return \"({0.x!r}, {0.y!r})\".format(self)\n",
        "\n",
        "class Circle(Point):\n",
        "  def __init__(self, radius, x = 0, y = 0):\n",
        "    super().__init__(x, y) # 생성 및 초기화\n",
        "    self.radius = radius\n",
        "\n",
        "  def edge_distance_from_origin(self):\n",
        "    return abs(self.distance_from_origin() - self.radius)\n",
        "\n",
        "  def area(self):\n",
        "    return math.pi*(self.radius**2)\n",
        "\n",
        "  def circumference(self):\n",
        "    return 2*math.pi*self.radius\n",
        "\n",
        "  def __eq__(self, other):\n",
        "    return self.radius == other.radius and super().__eq__(other)\n",
        "\n",
        "  def __repr__(self):\n",
        "    return \"circle ({0.radius!r}, {0.x!r}, {0.y!r})\".format(self)\n",
        "\n",
        "  def __str__(self):\n",
        "    return repr(self)"
      ],
      "execution_count": null,
      "outputs": []
    },
    {
      "cell_type": "code",
      "metadata": {
        "colab": {
          "base_uri": "https://localhost:8080/"
        },
        "id": "IS8xOCXyLAjF",
        "outputId": "6ffd1e25-5bc1-4e08-978a-57041a97bd4a"
      },
      "source": [
        "a = Point(3, 4)\n",
        "a"
      ],
      "execution_count": null,
      "outputs": [
        {
          "output_type": "execute_result",
          "data": {
            "text/plain": [
              "point (3, 4)"
            ]
          },
          "metadata": {
            "tags": []
          },
          "execution_count": 16
        }
      ]
    },
    {
      "cell_type": "code",
      "metadata": {
        "colab": {
          "base_uri": "https://localhost:8080/",
          "height": 35
        },
        "id": "QxE9UqRqLIaR",
        "outputId": "41a901f2-bd53-428b-e624-dac088ad6213"
      },
      "source": [
        "repr(a)"
      ],
      "execution_count": null,
      "outputs": [
        {
          "output_type": "execute_result",
          "data": {
            "application/vnd.google.colaboratory.intrinsic+json": {
              "type": "string"
            },
            "text/plain": [
              "'point (3, 4)'"
            ]
          },
          "metadata": {
            "tags": []
          },
          "execution_count": 17
        }
      ]
    },
    {
      "cell_type": "code",
      "metadata": {
        "colab": {
          "base_uri": "https://localhost:8080/",
          "height": 35
        },
        "id": "WYwbjGzSLZmH",
        "outputId": "50d4dcfd-e185-4a93-a7a9-75e514f96c7a"
      },
      "source": [
        "str(a)"
      ],
      "execution_count": null,
      "outputs": [
        {
          "output_type": "execute_result",
          "data": {
            "application/vnd.google.colaboratory.intrinsic+json": {
              "type": "string"
            },
            "text/plain": [
              "'(3, 4)'"
            ]
          },
          "metadata": {
            "tags": []
          },
          "execution_count": 18
        }
      ]
    },
    {
      "cell_type": "code",
      "metadata": {
        "colab": {
          "base_uri": "https://localhost:8080/"
        },
        "id": "WGLfLcAqLabh",
        "outputId": "4eb528d2-4163-4819-d012-4c7e18b29a04"
      },
      "source": [
        "a.distance_from_origin()"
      ],
      "execution_count": null,
      "outputs": [
        {
          "output_type": "execute_result",
          "data": {
            "text/plain": [
              "5.0"
            ]
          },
          "metadata": {
            "tags": []
          },
          "execution_count": 19
        }
      ]
    },
    {
      "cell_type": "code",
      "metadata": {
        "colab": {
          "base_uri": "https://localhost:8080/"
        },
        "id": "8BHmxbw3LcIh",
        "outputId": "899fdbd7-e264-4017-a448-788d0e5492df"
      },
      "source": [
        "c = Circle(3, 2, 1)\n",
        "c"
      ],
      "execution_count": null,
      "outputs": [
        {
          "output_type": "execute_result",
          "data": {
            "text/plain": [
              "circle (3, 2, 1)"
            ]
          },
          "metadata": {
            "tags": []
          },
          "execution_count": 33
        }
      ]
    },
    {
      "cell_type": "code",
      "metadata": {
        "colab": {
          "base_uri": "https://localhost:8080/",
          "height": 35
        },
        "id": "KAmpz43ZLhd5",
        "outputId": "3ca8f3ed-ae1a-49ab-83c2-2b020a20bbea"
      },
      "source": [
        "repr(c)"
      ],
      "execution_count": null,
      "outputs": [
        {
          "output_type": "execute_result",
          "data": {
            "application/vnd.google.colaboratory.intrinsic+json": {
              "type": "string"
            },
            "text/plain": [
              "'circle (3, 2, 1)'"
            ]
          },
          "metadata": {
            "tags": []
          },
          "execution_count": 34
        }
      ]
    },
    {
      "cell_type": "code",
      "metadata": {
        "colab": {
          "base_uri": "https://localhost:8080/",
          "height": 35
        },
        "id": "L-gpIrV7Lvtp",
        "outputId": "f9e0a85a-181d-406f-a04f-5e81a5a7bd6c"
      },
      "source": [
        "str(c)"
      ],
      "execution_count": null,
      "outputs": [
        {
          "output_type": "execute_result",
          "data": {
            "application/vnd.google.colaboratory.intrinsic+json": {
              "type": "string"
            },
            "text/plain": [
              "'circle (3, 2)'"
            ]
          },
          "metadata": {
            "tags": []
          },
          "execution_count": 23
        }
      ]
    },
    {
      "cell_type": "code",
      "metadata": {
        "colab": {
          "base_uri": "https://localhost:8080/"
        },
        "id": "ov5NZtzhLwX4",
        "outputId": "4078bc78-e499-4524-f580-82712eb49315"
      },
      "source": [
        "c.circumference()"
      ],
      "execution_count": null,
      "outputs": [
        {
          "output_type": "execute_result",
          "data": {
            "text/plain": [
              "18.84955592153876"
            ]
          },
          "metadata": {
            "tags": []
          },
          "execution_count": 24
        }
      ]
    },
    {
      "cell_type": "code",
      "metadata": {
        "colab": {
          "base_uri": "https://localhost:8080/"
        },
        "id": "7X5VBNUiLx_J",
        "outputId": "b2b4c347-542d-4ac5-8fe9-e14e295be270"
      },
      "source": [
        "c.edge_distance_from_origin()"
      ],
      "execution_count": null,
      "outputs": [
        {
          "output_type": "execute_result",
          "data": {
            "text/plain": [
              "0.7639320225002102"
            ]
          },
          "metadata": {
            "tags": []
          },
          "execution_count": 25
        }
      ]
    },
    {
      "cell_type": "code",
      "metadata": {
        "colab": {
          "base_uri": "https://localhost:8080/"
        },
        "id": "G9u1Nb5jLzHw",
        "outputId": "cd93fe01-a4b0-4855-d04c-e64ddcdc6cda"
      },
      "source": [
        "math.sqrt(5) - 3 "
      ],
      "execution_count": null,
      "outputs": [
        {
          "output_type": "execute_result",
          "data": {
            "text/plain": [
              "-0.7639320225002102"
            ]
          },
          "metadata": {
            "tags": []
          },
          "execution_count": 29
        }
      ]
    },
    {
      "cell_type": "code",
      "metadata": {
        "colab": {
          "base_uri": "https://localhost:8080/"
        },
        "id": "fCJd_7GsL-FY",
        "outputId": "ac382006-dfcb-4c04-d80e-4e9e64b2b3ec"
      },
      "source": [
        "print(c.radius)\n",
        "print(c.x)\n",
        "print(c.y)"
      ],
      "execution_count": null,
      "outputs": [
        {
          "output_type": "stream",
          "text": [
            "3\n",
            "2\n",
            "1\n"
          ],
          "name": "stdout"
        }
      ]
    },
    {
      "cell_type": "markdown",
      "metadata": {
        "id": "IZYylsi4M0-P"
      },
      "source": [
        "# 디자인 패턴"
      ]
    },
    {
      "cell_type": "code",
      "metadata": {
        "colab": {
          "base_uri": "https://localhost:8080/",
          "height": 35
        },
        "id": "rFh4t6oeMJz4",
        "outputId": "ae17737d-fc1a-4460-afbd-dbefc208b099"
      },
      "source": [
        "'''\n",
        "class C(object):\n",
        "  @my_decorator\n",
        "  def method(self):\n",
        "    # 메서드 내용\n",
        "'''\n"
      ],
      "execution_count": null,
      "outputs": [
        {
          "output_type": "execute_result",
          "data": {
            "application/vnd.google.colaboratory.intrinsic+json": {
              "type": "string"
            },
            "text/plain": [
              "'\\nclass C(object):\\n  @my_decorator\\n  def method(self):\\n    # 메서드 내용\\n'"
            ]
          },
          "metadata": {
            "tags": []
          },
          "execution_count": 38
        }
      ]
    },
    {
      "cell_type": "code",
      "metadata": {
        "colab": {
          "base_uri": "https://localhost:8080/",
          "height": 35
        },
        "id": "alCEKAPXM8ae",
        "outputId": "433b54b8-e85a-4d96-9832-35b83be19556"
      },
      "source": [
        "'''\n",
        "# 위 코드가 뜻하는 바\n",
        "class C(object):\n",
        "  def method(self):\n",
        "    # 메서드 내용\n",
        "\n",
        "  method = my_decorator(method)\n",
        "'''"
      ],
      "execution_count": null,
      "outputs": [
        {
          "output_type": "execute_result",
          "data": {
            "application/vnd.google.colaboratory.intrinsic+json": {
              "type": "string"
            },
            "text/plain": [
              "'\\n# 위 코드가 뜻하는 바\\nclass C(object):\\n  def method(self):\\n    # 메서드 내용\\n\\n  method = my_decorator(method)\\n'"
            ]
          },
          "metadata": {
            "tags": []
          },
          "execution_count": 40
        }
      ]
    },
    {
      "cell_type": "code",
      "metadata": {
        "colab": {
          "base_uri": "https://localhost:8080/"
        },
        "id": "bnourobDNMZO",
        "outputId": "19edb731-faef-4ebe-8995-1942eacf1716"
      },
      "source": [
        "import random\n",
        "import time\n",
        "\n",
        "def benchmark(func):\n",
        "  def wrapper(*args, **kwargs):\n",
        "    t = time.perf_counter()\n",
        "    res = func(*args, **kwargs)\n",
        "    print(\"{0} {1}\".format(func.__name__, time.perf_counter() - t))\n",
        "  return wrapper\n",
        "\n",
        "@benchmark\n",
        "def random_tree(n):\n",
        "  temp = [n for n in range(n)]\n",
        "  for i in range(n+1):\n",
        "    temp[random.choice(temp)] = random.choice(temp)\n",
        "\n",
        "  return temp\n",
        "# 위 데코레이터의 의미는 random_tree를 먼저 돌리고 나서 그에 해당하는 변수들로 benchmark 함수를 재 실행함.\n",
        "\n",
        "random_tree(10000)"
      ],
      "execution_count": null,
      "outputs": [
        {
          "output_type": "stream",
          "text": [
            "random_tree 0.02333153699964896\n"
          ],
          "name": "stdout"
        }
      ]
    },
    {
      "cell_type": "code",
      "metadata": {
        "colab": {
          "base_uri": "https://localhost:8080/"
        },
        "id": "CSbwyANeOEPn",
        "outputId": "72f3e889-1b50-4a00-bec3-1223850785e1"
      },
      "source": [
        "class A(object):\n",
        "  _hello = True\n",
        "\n",
        "  def foo(self, x):\n",
        "    print(\"foo({0}, {1}) 실행\".format(self, x))\n",
        "\n",
        "  @classmethod\n",
        "  def class_foo(cls, x):\n",
        "    print(\"class_foo({0}, {1}) 실행 : {2}\".format(cls, x, cls._hello))\n",
        "\n",
        "  @staticmethod\n",
        "  def static_foo(x):\n",
        "    print(\"static_foo({0})\".format(x))\n",
        "\n",
        "a = A()\n",
        "a.foo(1)\n",
        "a.class_foo(2)\n",
        "A.class_foo(2)\n",
        "a.static_foo(3)\n",
        "A.static_foo(3)"
      ],
      "execution_count": null,
      "outputs": [
        {
          "output_type": "stream",
          "text": [
            "foo(<__main__.A object at 0x7f233c95ffd0>, 1) 실행\n",
            "class_foo(<class '__main__.A'>, 2) 실행 : True\n",
            "class_foo(<class '__main__.A'>, 2) 실행 : True\n",
            "static_foo(3)\n",
            "static_foo(3)\n"
          ],
          "name": "stdout"
        }
      ]
    },
    {
      "cell_type": "code",
      "metadata": {
        "colab": {
          "base_uri": "https://localhost:8080/",
          "height": 35
        },
        "id": "yWEPaaHJYKQb",
        "outputId": "ad26ccbc-4a25-40d1-a8eb-3fbc9af35f67"
      },
      "source": [
        "class C:\n",
        "  def __init__(self, name):\n",
        "    self._name = name\n",
        "  \n",
        "  @property\n",
        "  def name(self):\n",
        "    return self._name\n",
        "\n",
        "  @name.setter\n",
        "  def name(self, new_name):\n",
        "    self._name = \"{0} >> {1}\".format(self._name, new_name)\n",
        "\n",
        "c = C(\"진\")\n",
        "c._name"
      ],
      "execution_count": null,
      "outputs": [
        {
          "output_type": "execute_result",
          "data": {
            "application/vnd.google.colaboratory.intrinsic+json": {
              "type": "string"
            },
            "text/plain": [
              "'진'"
            ]
          },
          "metadata": {
            "tags": []
          },
          "execution_count": 56
        }
      ]
    },
    {
      "cell_type": "code",
      "metadata": {
        "colab": {
          "base_uri": "https://localhost:8080/",
          "height": 35
        },
        "id": "gtVxmns9ZKuj",
        "outputId": "f6df68a7-0f63-4e02-9759-48ed7a4b44d9"
      },
      "source": [
        "c.name"
      ],
      "execution_count": null,
      "outputs": [
        {
          "output_type": "execute_result",
          "data": {
            "application/vnd.google.colaboratory.intrinsic+json": {
              "type": "string"
            },
            "text/plain": [
              "'진'"
            ]
          },
          "metadata": {
            "tags": []
          },
          "execution_count": 57
        }
      ]
    },
    {
      "cell_type": "code",
      "metadata": {
        "id": "6A9aE9zGZQrR"
      },
      "source": [
        "c.name = \"아스틴\""
      ],
      "execution_count": null,
      "outputs": []
    },
    {
      "cell_type": "code",
      "metadata": {
        "colab": {
          "base_uri": "https://localhost:8080/",
          "height": 35
        },
        "id": "O9fbhZqEZThK",
        "outputId": "a1f57e12-ccbb-46b3-8f4b-6be0249ef285"
      },
      "source": [
        "c.name # \"진 >> 아스틴\" 이라는 글 자체가 self._name 으로 갱신됨."
      ],
      "execution_count": null,
      "outputs": [
        {
          "output_type": "execute_result",
          "data": {
            "application/vnd.google.colaboratory.intrinsic+json": {
              "type": "string"
            },
            "text/plain": [
              "'진 >> 아스틴'"
            ]
          },
          "metadata": {
            "tags": []
          },
          "execution_count": 59
        }
      ]
    },
    {
      "cell_type": "code",
      "metadata": {
        "colab": {
          "base_uri": "https://localhost:8080/",
          "height": 35
        },
        "id": "KLuWJgvYZcR5",
        "outputId": "0103fa36-3392-48c2-fdcc-215d82bd7b2d"
      },
      "source": [
        "c.name = \"하이\"\n",
        "c.name  "
      ],
      "execution_count": null,
      "outputs": [
        {
          "output_type": "execute_result",
          "data": {
            "application/vnd.google.colaboratory.intrinsic+json": {
              "type": "string"
            },
            "text/plain": [
              "'진 >> 아스틴 >> 하이'"
            ]
          },
          "metadata": {
            "tags": []
          },
          "execution_count": 61
        }
      ]
    },
    {
      "cell_type": "code",
      "metadata": {
        "colab": {
          "base_uri": "https://localhost:8080/"
        },
        "id": "eqpd2-TsZhog",
        "outputId": "737c624a-1c70-4f2b-b4bc-3f477c6649b2"
      },
      "source": [
        "class Subscriber(object):\n",
        "  def __init__(self, name):\n",
        "    self.name = name\n",
        "  \n",
        "  def update(self, message):\n",
        "    print(\"{0}, {1}\".format(self.name, message))\n",
        "\n",
        "class Publisher(object):\n",
        "  def __init__(self):\n",
        "    self.subscribers = set()\n",
        "  \n",
        "  def register(self, who):\n",
        "    self.subscribers.add(who)\n",
        "\n",
        "  def unregister(self, who):\n",
        "    self.subscribers.discard(who)\n",
        "\n",
        "  def dispatch(self, message):\n",
        "    for subscriber in self.subscribers:\n",
        "      subscriber.update(message)\n",
        "\n",
        "pub = Publisher()\n",
        "\n",
        "astin = Subscriber(\"아스틴\")\n",
        "james = Subscriber(\"제임스\")\n",
        "jeff = Subscriber(\"제프\")\n",
        "\n",
        "pub.register(astin)\n",
        "pub.register(james)\n",
        "pub.register(jeff)\n",
        "\n",
        "pub.dispatch(\"점심시간입니다.\")\n",
        "pub.unregister(jeff)\n",
        "pub.dispatch(\"퇴근시간입니다.\")"
      ],
      "execution_count": null,
      "outputs": [
        {
          "output_type": "stream",
          "text": [
            "제프, 점심시간입니다.\n",
            "아스틴, 점심시간입니다.\n",
            "제임스, 점심시간입니다.\n",
            "아스틴, 퇴근시간입니다.\n",
            "제임스, 퇴근시간입니다.\n"
          ],
          "name": "stdout"
        }
      ]
    },
    {
      "cell_type": "markdown",
      "metadata": {
        "id": "8nzlic33hp7L"
      },
      "source": [
        "https://starriet.medium.com/%ED%8C%8C%EC%9D%B4%EC%8D%AC-getattr-%EC%99%80-getattribute-%EC%9D%98-%EC%B0%A8%EC%9D%B4-46ef0174e8e0\n",
        "\n",
        "getattr에 대한 자세한 설명"
      ]
    },
    {
      "cell_type": "code",
      "metadata": {
        "colab": {
          "base_uri": "https://localhost:8080/"
        },
        "id": "9hBTHzffaffT",
        "outputId": "1e32cf81-9417-4fe8-be2b-566fabbcdc86"
      },
      "source": [
        "class SubscriberOne(object):\n",
        "  def __init__(self, name):\n",
        "    self.name = name\n",
        "\n",
        "  def update(self, message):\n",
        "    print(\"{0}, {1}\".format(self.name, message))\n",
        "\n",
        "class SubscriberTwo(object):\n",
        "  def __init__(self, name):\n",
        "    self.name = name\n",
        "\n",
        "  def receive(self, message):\n",
        "    print(\"{0}, {1}\".format(self.name, message))\n",
        "\n",
        "class Publisher(object):\n",
        "  def __init__(self):\n",
        "    self.subscribers = dict()\n",
        "\n",
        "  def register(self, who, callback = None):\n",
        "    if callback is None:\n",
        "      callback = getattr(who, 'update')\n",
        "    self.subscribers[who] = callback\n",
        "\n",
        "  def unregister(self, who):\n",
        "    del self.subscribers[who]\n",
        "\n",
        "  def dispatch(self, message):\n",
        "    for subscriber, callback in self.subscribers.items():\n",
        "      \n",
        "      callback(message)\n",
        "\n",
        "pub = Publisher()\n",
        "\n",
        "astin = SubscriberOne(\"아스틴\")\n",
        "james = SubscriberTwo(\"제임스\")\n",
        "jeff = SubscriberOne(\"제프\")\n",
        "\n",
        "pub.register(astin, astin.update)\n",
        "pub.register(james, james.receive)\n",
        "pub.register(jeff)\n",
        "\n",
        "pub.dispatch(\"점심시간입니다.\")\n",
        "pub.unregister(jeff)\n",
        "pub.dispatch(\"퇴근시간입니다.\")\n",
        "\n"
      ],
      "execution_count": null,
      "outputs": [
        {
          "output_type": "stream",
          "text": [
            "아스틴, 점심시간입니다.\n",
            "제임스, 점심시간입니다.\n",
            "제프, 점심시간입니다.\n",
            "아스틴, 퇴근시간입니다.\n",
            "제임스, 퇴근시간입니다.\n"
          ],
          "name": "stdout"
        }
      ]
    },
    {
      "cell_type": "code",
      "metadata": {
        "id": "YZ9oR4chePko",
        "colab": {
          "base_uri": "https://localhost:8080/"
        },
        "outputId": "71b96656-bbaa-47cf-e255-9535c08252ce"
      },
      "source": [
        "class Subscriber(object):\n",
        "  def __init__(self, name):\n",
        "    self.name = name\n",
        "\n",
        "  def update(self, message):\n",
        "    print(\"{0}, {1}\".format(self.name, message))\n",
        "\n",
        "class Publisher(object):\n",
        "  def __init__(self, events):\n",
        "    self.subscribers = {event : dict() for event in events}\n",
        "\n",
        "  def get_subscribers(self, event):\n",
        "    return self.subscribers[event]\n",
        "\n",
        "  def register(self, event, who, callback = None):\n",
        "    if callback is None:\n",
        "      callback = getattr(who, 'update')\n",
        "    self.get_subscribers(event)[who] = callback\n",
        "\n",
        "  def unregister(self, event, who):\n",
        "    del self.get_subscribers(event)[who]\n",
        "\n",
        "  def dispatch(self, event, message):\n",
        "    for subscriber, callback in self.get_subscribers(event).items():\n",
        "      callback(message)\n",
        "\n",
        "\n",
        "pub = Publisher([\"점심\", \"퇴근\"])\n",
        "\n",
        "astin = Subscriber(\"아스틴\")\n",
        "james = Subscriber(\"제임스\")\n",
        "jeff = Subscriber(\"제프\")\n",
        "\n",
        "pub.register(\"점심\", astin)\n",
        "pub.register(\"퇴근\", astin)\n",
        "pub.register(\"퇴근\", james)\n",
        "pub.register(\"점심\", jeff)\n",
        "\n",
        "pub.dispatch(\"점심\", \"점심시간입니다.\")\n",
        "pub.dispatch(\"퇴근\", \"퇴근시간입니다.\")"
      ],
      "execution_count": 1,
      "outputs": [
        {
          "output_type": "stream",
          "text": [
            "아스틴, 점심시간입니다.\n",
            "제프, 점심시간입니다.\n",
            "아스틴, 퇴근시간입니다.\n",
            "제임스, 퇴근시간입니다.\n"
          ],
          "name": "stdout"
        }
      ]
    },
    {
      "cell_type": "code",
      "metadata": {
        "colab": {
          "base_uri": "https://localhost:8080/"
        },
        "id": "M-RmRNxcbESZ",
        "outputId": "74ba7f05-76ef-46c5-8f3a-05a2f329d52a"
      },
      "source": [
        "class SinEx:\n",
        "  _sing = None\n",
        "\n",
        "  def __new__(self, *args, **kwargs):\n",
        "    if not self._sing:\n",
        "      self._sing = super(SinEx, self).__new__(self, *args, *kwargs)\n",
        "    return self._sing\n",
        "\n",
        "x = SinEx()\n",
        "x"
      ],
      "execution_count": 2,
      "outputs": [
        {
          "output_type": "execute_result",
          "data": {
            "text/plain": [
              "<__main__.SinEx at 0x7f585a6935d0>"
            ]
          },
          "metadata": {
            "tags": []
          },
          "execution_count": 2
        }
      ]
    },
    {
      "cell_type": "code",
      "metadata": {
        "colab": {
          "base_uri": "https://localhost:8080/"
        },
        "id": "a57qDZBUcWtN",
        "outputId": "d1b10e1b-46b3-4acb-e7eb-3435c7d73cb2"
      },
      "source": [
        "y = SinEx()\n",
        "x == y"
      ],
      "execution_count": 3,
      "outputs": [
        {
          "output_type": "execute_result",
          "data": {
            "text/plain": [
              "True"
            ]
          },
          "metadata": {
            "tags": []
          },
          "execution_count": 3
        }
      ]
    },
    {
      "cell_type": "code",
      "metadata": {
        "colab": {
          "base_uri": "https://localhost:8080/"
        },
        "id": "OGsMVCm2cf19",
        "outputId": "aa9bf04a-1324-458d-aa52-c5b76e308eef"
      },
      "source": [
        "y"
      ],
      "execution_count": 4,
      "outputs": [
        {
          "output_type": "execute_result",
          "data": {
            "text/plain": [
              "<__main__.SinEx at 0x7f585a6935d0>"
            ]
          },
          "metadata": {
            "tags": []
          },
          "execution_count": 4
        }
      ]
    }
  ]
}