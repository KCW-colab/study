{
  "nbformat": 4,
  "nbformat_minor": 0,
  "metadata": {
    "colab": {
      "name": "수빅4/12과제 .ipynb",
      "provenance": [],
      "collapsed_sections": []
    },
    "kernelspec": {
      "name": "python3",
      "display_name": "Python 3"
    },
    "language_info": {
      "name": "python"
    }
  },
  "cells": [
    {
      "cell_type": "code",
      "metadata": {
        "colab": {
          "base_uri": "https://localhost:8080/"
        },
        "id": "tknLl72cXO2q",
        "outputId": "4e1cb70b-85d3-4f1b-d02a-a000e8d3ec5d"
      },
      "source": [
        "# 1번\n",
        "# (x−1, 2y+x) r = 0.5\n",
        "# x = 1 , y = 2\n",
        "\n",
        "def f_x(x):\n",
        "  return x-1\n",
        "\n",
        "def f_y(x, y):\n",
        "  return 2*y + x\n",
        "\n",
        "def gradient_discent(x, y, r):\n",
        "  new_x = x - r*f_x(x)\n",
        "  new_y = y - r*f_y(x,y)\n",
        "  return new_x, new_y\n",
        "x = 1\n",
        "y = 2\n",
        "for i in range(10):\n",
        "  print(gradient_discent(x, y, 0.5))\n",
        "  x, y = gradient_discent(x, y, 0.5)\n",
        "  \n"
      ],
      "execution_count": null,
      "outputs": [
        {
          "output_type": "stream",
          "text": [
            "(1.0, -0.5)\n",
            "(1.0, -0.5)\n",
            "(1.0, -0.5)\n",
            "(1.0, -0.5)\n",
            "(1.0, -0.5)\n",
            "(1.0, -0.5)\n",
            "(1.0, -0.5)\n",
            "(1.0, -0.5)\n",
            "(1.0, -0.5)\n",
            "(1.0, -0.5)\n"
          ],
          "name": "stdout"
        }
      ]
    },
    {
      "cell_type": "code",
      "metadata": {
        "colab": {
          "base_uri": "https://localhost:8080/",
          "height": 294
        },
        "id": "BwE5L3eoYNwy",
        "outputId": "3e68879f-0d38-4e3a-c702-737c3709dae5"
      },
      "source": [
        "# 2번\n",
        "import matplotlib.pyplot as plt\n",
        "\n",
        "step1 = [i for i in range(1, 11)]\n",
        "step2 = [i for i in range(1, 12)]\n",
        "\n",
        "f1 = [100, 99, 98, 97, 96, 95, 94, 93, 92, 91]\n",
        "f2 = [100, 50, 75, 60, 65, 45, 75, 110, 90, 85]\n",
        "f3 = [100, 80, 65, 50, 40, 35, 31, 29, 28, 27.5, 27.3]\n",
        "f4 = [100, 80, 60, 40, 20, 0, -20, -40, -60, -80, -100]\n",
        "\n",
        "fig = plt.figure()\n",
        "ax1 = fig.add_subplot(2, 2, 1)\n",
        "ax2 = fig.add_subplot(2, 2, 2)\n",
        "ax3 = fig.add_subplot(2, 2, 3)\n",
        "ax4 = fig.add_subplot(2, 2, 4)\n",
        "\n",
        "ax1.plot(step1, f1)\n",
        "ax1.set_title(\"f1\")\n",
        "\n",
        "ax2.plot(step1, f2)\n",
        "ax2.set_title(\"f2\")\n",
        "\n",
        "ax3.plot(step2, f3)\n",
        "ax3.set_title(\"f3\")\n",
        "\n",
        "ax4.plot(step2, f4)\n",
        "ax4.set_title(\"f4\")\n",
        "\n",
        "plt.subplots_adjust(left=0.125, bottom=0.1, right=0.9, top=0.9, wspace=0.2, hspace=0.5)\n",
        "\n",
        "plt.show()"
      ],
      "execution_count": null,
      "outputs": [
        {
          "output_type": "display_data",
          "data": {
            "image/png": "[encoded data removed]",
            "text/plain": [
              "<Figure size 432x288 with 4 Axes>"
            ]
          },
          "metadata": {
            "tags": [],
            "needs_background": "light"
          }
        }
      ]
    },
    {
      "cell_type": "code",
      "metadata": {
        "colab": {
          "base_uri": "https://localhost:8080/",
          "height": 269
        },
        "id": "UZodNaSBnj8O",
        "outputId": "af6e283b-5c3b-4000-e154-2d0282417260"
      },
      "source": [
        "# 3번 \n",
        "import matplotlib as mpl\n",
        "mpl.use('PDF')\n",
        "import numpy as np\n",
        "import matplotlib.pyplot as plt\n",
        "from numpy import linalg as LA\n",
        "\n",
        "def func(x,y):\n",
        "  return (x - 5.0)**2 + (y + 2.0)**2 - 2.0*x*y\n",
        "\n",
        "def func_grad(vx,vy):\n",
        "  dfdx = 2.0*vx - 10.0 - 2.0*vy\n",
        "  dfdy = 2.0*vy + 4.0 - 2*vx\n",
        "  return np.array([dfdx,dfdy])\n",
        "\n",
        "#prepare for contour plot\n",
        "xlist = np.linspace(0, 5, 26)\n",
        "ylist = np.linspace(0, 5, 26)\n",
        "x, y = np.meshgrid(xlist, ylist)\n",
        "z = func(x,y)\n",
        "lev = np.linspace(0,20,21)\n",
        "\n",
        "#iterate location\n",
        "v_init = np.array([0,2])\n",
        "num_iter = 10\n",
        "values = np.zeros([num_iter,2])\n",
        "for gamma in [0.001, 0.01, 0.1, 0.2, 0.5, 1]:\n",
        "  values[0,:] = v_init\n",
        "  v = v_init\n",
        "\n",
        "  # actual gradient descent algorithm\n",
        "  for i in range(1,num_iter):\n",
        "    v = v - gamma * func_grad(v[0],v[1])\n",
        "    values[i,:] = v\n",
        "\n",
        "  #plotting\n",
        "  plt.contour(x,y,z,levels=lev)\n",
        "  plt.plot(values[:,0],values[:,1],'r-')\n",
        "  plt.plot(values[:,0],values[:,1],'bo')\n",
        "  grad_norm = LA.norm(func_grad(v[0],v[1]))\n",
        "  title = \"gamma %0.2f | final grad %0.3f\" % (gamma,grad_norm)\n",
        "  plt.title(title)\n",
        "  file = \"f1, gd-%0.2f.pdf\"%(gamma)\n",
        "  plt.savefig(file, bbox_inches='tight')\n",
        "  plt.clf()\n",
        "  plt.cla()\n"
      ],
      "execution_count": null,
      "outputs": [
        {
          "output_type": "display_data",
          "data": {
            "image/png": "[encoded data removed]",
            "text/plain": [
              "<Figure size 432x288 with 1 Axes>"
            ]
          },
          "metadata": {
            "tags": [],
            "needs_background": "light"
          }
        }
      ]
    },
    {
      "cell_type": "code",
      "metadata": {
        "colab": {
          "base_uri": "https://localhost:8080/",
          "height": 729
        },
        "id": "hczgORnhqrUo",
        "outputId": "cb7248d3-2cc1-4602-a013-5ff73eada4b3"
      },
      "source": [
        "# 3번 \n",
        "import matplotlib as mpl\n",
        "mpl.use('PDF')\n",
        "import numpy as np\n",
        "import matplotlib.pyplot as plt\n",
        "from numpy import linalg as LA\n",
        "\n",
        "def func(x,y):\n",
        "  return (1.0 - (y - 4.0))**2 + 20*((x + 6.0) - (y - 4.0)**2)**2\n",
        "\n",
        "def func_grad(vx,vy):\n",
        "  dfdx = 40*(vx - (vy - 4.0)**2 + 6)\n",
        "  dfdy = -80 * (-(vy-4.0)**2 + vx + 6)*(vy-4) -2*(5-vy)\n",
        "  return np.array([dfdx,dfdy])\n",
        "\n",
        "#prepare for contour plot\n",
        "xlist = np.linspace(0, 5, 26)\n",
        "ylist = np.linspace(0, 5, 26)\n",
        "x, y = np.meshgrid(xlist, ylist)\n",
        "z = func(x,y)\n",
        "lev = np.linspace(0,20,21)\n",
        "\n",
        "#iterate location\n",
        "v_init = np.array([2,0])\n",
        "num_iter = 100\n",
        "values = np.zeros([num_iter,2])\n",
        "for gamma in [0.001, 0.01, 0.1, 0.2, 0.5, 1]:\n",
        "  values[0,:] = v_init\n",
        "  v = v_init\n",
        "\n",
        "  # actual gradient descent algorithm\n",
        "  for i in range(1,num_iter):\n",
        "    v = v - gamma * func_grad(v[0],v[1])\n",
        "    values[i,:] = v\n",
        "\n",
        "  #plotting\n",
        "  plt.contour(x,y,z,levels=lev)\n",
        "  plt.plot(values[:,0],values[:,1],'r-')\n",
        "  plt.plot(values[:,0],values[:,1],'bo')\n",
        "  grad_norm = LA.norm(func_grad(v[0],v[1]))\n",
        "  title = \"gamma %0.2f | final grad %0.3f\" % (gamma,grad_norm)\n",
        "  plt.title(title)\n",
        "  file = \"f2, gd-%0.2f.pdf\" % (gamma)\n",
        "  plt.savefig(file, bbox_inches='tight')\n",
        "  plt.clf()\n",
        "  plt.cla()\n"
      ],
      "execution_count": null,
      "outputs": [
        {
          "output_type": "stream",
          "text": [
            "/usr/local/lib/python3.7/dist-packages/ipykernel_launcher.py:13: RuntimeWarning: overflow encountered in double_scalars\n",
            "  del sys.path[0]\n",
            "/usr/local/lib/python3.7/dist-packages/ipykernel_launcher.py:33: RuntimeWarning: invalid value encountered in subtract\n",
            "/usr/local/lib/python3.7/dist-packages/ipykernel_launcher.py:12: RuntimeWarning: overflow encountered in double_scalars\n",
            "  if sys.path[0] == '':\n",
            "/usr/local/lib/python3.7/dist-packages/ipykernel_launcher.py:13: RuntimeWarning: overflow encountered in double_scalars\n",
            "  del sys.path[0]\n",
            "/usr/local/lib/python3.7/dist-packages/ipykernel_launcher.py:12: RuntimeWarning: invalid value encountered in double_scalars\n",
            "  if sys.path[0] == '':\n",
            "/usr/local/lib/python3.7/dist-packages/ipykernel_launcher.py:13: RuntimeWarning: invalid value encountered in double_scalars\n",
            "  del sys.path[0]\n",
            "/usr/local/lib/python3.7/dist-packages/ipykernel_launcher.py:12: RuntimeWarning: overflow encountered in double_scalars\n",
            "  if sys.path[0] == '':\n",
            "/usr/local/lib/python3.7/dist-packages/ipykernel_launcher.py:13: RuntimeWarning: overflow encountered in double_scalars\n",
            "  del sys.path[0]\n",
            "/usr/local/lib/python3.7/dist-packages/ipykernel_launcher.py:12: RuntimeWarning: invalid value encountered in double_scalars\n",
            "  if sys.path[0] == '':\n",
            "/usr/local/lib/python3.7/dist-packages/ipykernel_launcher.py:13: RuntimeWarning: invalid value encountered in double_scalars\n",
            "  del sys.path[0]\n",
            "/usr/local/lib/python3.7/dist-packages/ipykernel_launcher.py:13: RuntimeWarning: overflow encountered in double_scalars\n",
            "  del sys.path[0]\n",
            "/usr/local/lib/python3.7/dist-packages/ipykernel_launcher.py:33: RuntimeWarning: invalid value encountered in subtract\n",
            "/usr/local/lib/python3.7/dist-packages/ipykernel_launcher.py:13: RuntimeWarning: overflow encountered in double_scalars\n",
            "  del sys.path[0]\n",
            "/usr/local/lib/python3.7/dist-packages/ipykernel_launcher.py:33: RuntimeWarning: invalid value encountered in subtract\n"
          ],
          "name": "stderr"
        },
        {
          "output_type": "display_data",
          "data": {
            "image/png": "[encoded data removed]",
            "text/plain": [
              "<Figure size 432x288 with 1 Axes>"
            ]
          },
          "metadata": {
            "tags": [],
            "needs_background": "light"
          }
        }
      ]
    },
    {
      "cell_type": "code",
      "metadata": {
        "id": "1ybUI-x9vouV"
      },
      "source": [
        ""
      ],
      "execution_count": null,
      "outputs": []
    }
  ]
}