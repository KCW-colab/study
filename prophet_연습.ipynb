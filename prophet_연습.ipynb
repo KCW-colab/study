{
  "nbformat": 4,
  "nbformat_minor": 0,
  "metadata": {
    "colab": {
      "name": "prophet 연습.ipynb",
      "provenance": [],
      "authorship_tag": "ABX9TyOuNcW5ODlrEtvQvZU2CmGg",
      "include_colab_link": true
    },
    "kernelspec": {
      "name": "python3",
      "display_name": "Python 3"
    },
    "language_info": {
      "name": "python"
    }
  },
  "cells": [
    {
      "cell_type": "markdown",
      "metadata": {
        "id": "view-in-github",
        "colab_type": "text"
      },
      "source": [
        "<a href=\"https://colab.research.google.com/github/KCW-colab/welcome/blob/main/prophet_%EC%97%B0%EC%8A%B5.ipynb\" target=\"_parent\"><img src=\"https://colab.research.google.com/assets/colab-badge.svg\" alt=\"Open In Colab\"/></a>"
      ]
    },
    {
      "cell_type": "markdown",
      "metadata": {
        "id": "jhubG3RQuUS6"
      },
      "source": [
        "# https://machinelearningmastery.com/time-series-forecasting-with-prophet-in-python/"
      ]
    },
    {
      "cell_type": "code",
      "metadata": {
        "colab": {
          "base_uri": "https://localhost:8080/"
        },
        "id": "7BgVjIUEtXFZ",
        "outputId": "4b5d5b92-abf5-4cb9-95a7-70a79ce2a426"
      },
      "source": [
        "import fbprophet\n",
        "print(fbprophet.__version__)"
      ],
      "execution_count": null,
      "outputs": [
        {
          "output_type": "stream",
          "text": [
            "0.7.1\n"
          ],
          "name": "stdout"
        }
      ]
    },
    {
      "cell_type": "code",
      "metadata": {
        "id": "iYFy8fnEur4r"
      },
      "source": [
        "from pandas import *"
      ],
      "execution_count": null,
      "outputs": []
    },
    {
      "cell_type": "code",
      "metadata": {
        "colab": {
          "base_uri": "https://localhost:8080/"
        },
        "id": "iU-dIMkjtb61",
        "outputId": "1c9a5242-c335-4f49-ae73-0ad87adc0ff8"
      },
      "source": [
        "from pandas import read_csv\n",
        "path = 'https://raw.githubusercontent.com/jbrownlee/Datasets/master/monthly-car-sales.csv'\n",
        "df = read_csv(path, header = 0) # 0행을 header로 사용\n",
        "print(df.shape) \n",
        "print(df.head())\n"
      ],
      "execution_count": null,
      "outputs": [
        {
          "output_type": "stream",
          "text": [
            "(108, 2)\n",
            "     Month  Sales\n",
            "0  1960-01   6550\n",
            "1  1960-02   8728\n",
            "2  1960-03  12026\n",
            "3  1960-04  14395\n",
            "4  1960-05  14587\n"
          ],
          "name": "stdout"
        }
      ]
    },
    {
      "cell_type": "markdown",
      "metadata": {
        "id": "NegBBkn6t1JA"
      },
      "source": [
        "Load and Plot Dataset"
      ]
    },
    {
      "cell_type": "code",
      "metadata": {
        "colab": {
          "base_uri": "https://localhost:8080/",
          "height": 265
        },
        "id": "WjBY9o1NtqlJ",
        "outputId": "828cd48f-3501-4f47-cf16-04bbf871f594"
      },
      "source": [
        "from matplotlib import pyplot\n",
        "df.plot()\n",
        "pyplot.show()"
      ],
      "execution_count": null,
      "outputs": [
        {
          "output_type": "display_data",
          "data": {
            "image/png": "[encoded data removed]",
            "text/plain": [
              "<Figure size 432x288 with 1 Axes>"
            ]
          },
          "metadata": {
            "tags": [],
            "needs_background": "light"
          }
        }
      ]
    },
    {
      "cell_type": "markdown",
      "metadata": {
        "id": "DIsbHsLIuPfY"
      },
      "source": [
        "The Prophet() object takes arguments to configure the type of model you want, such as the type of growth, the type of seasonality, and more. \n",
        "\n",
        "By default, the model will work hard to figure out almost everything automatically.\n",
        "\n",
        "The first column must have the name ‘ds‘ and contain the date-times. \n",
        "\n",
        "The second column must have the name ‘y‘ and contain the observations.\n"
      ]
    },
    {
      "cell_type": "code",
      "metadata": {
        "id": "QQUph0uyt_Iq"
      },
      "source": [
        "# For example, we can modify our loaded car sales dataset to have this expected structure, as follows:\n",
        "\n",
        "df.columns = ['ds', 'y']\n",
        "df['ds'] = to_datetime(df['ds'])"
      ],
      "execution_count": null,
      "outputs": []
    },
    {
      "cell_type": "code",
      "metadata": {
        "colab": {
          "base_uri": "https://localhost:8080/"
        },
        "id": "FWu-2HaGu0Tq",
        "outputId": "e09480de-411c-4f49-e024-38e99b99f671"
      },
      "source": [
        "df['ds']"
      ],
      "execution_count": null,
      "outputs": [
        {
          "output_type": "execute_result",
          "data": {
            "text/plain": [
              "0     1960-01-01\n",
              "1     1960-02-01\n",
              "2     1960-03-01\n",
              "3     1960-04-01\n",
              "4     1960-05-01\n",
              "         ...    \n",
              "103   1968-08-01\n",
              "104   1968-09-01\n",
              "105   1968-10-01\n",
              "106   1968-11-01\n",
              "107   1968-12-01\n",
              "Name: ds, Length: 108, dtype: datetime64[ns]"
            ]
          },
          "metadata": {
            "tags": []
          },
          "execution_count": 14
        }
      ]
    },
    {
      "cell_type": "code",
      "metadata": {
        "colab": {
          "base_uri": "https://localhost:8080/"
        },
        "id": "HVgob_6lu3Ru",
        "outputId": "89921f97-a4fd-42d0-9017-cfd1f300d0e9"
      },
      "source": [
        "from fbprophet import Prophet\n",
        "model = Prophet(weekly_seasonality=True, daily_seasonality=True)\n",
        "model.fit(df)"
      ],
      "execution_count": null,
      "outputs": [
        {
          "output_type": "execute_result",
          "data": {
            "text/plain": [
              "<fbprophet.forecaster.Prophet at 0x7f6c0ea0cb10>"
            ]
          },
          "metadata": {
            "tags": []
          },
          "execution_count": 22
        }
      ]
    },
    {
      "cell_type": "markdown",
      "metadata": {
        "id": "AlDMzAIYvwaT"
      },
      "source": [
        "There are many ways to create this “forecast” DataFrame.\n",
        "\n",
        " In this case, we will loop over one year of dates, e.g. the last 12 months in the dataset, and create a string for each month. \n",
        " \n",
        " We will then convert the list of dates into a DataFrame and convert the string values into date-time objects."
      ]
    },
    {
      "cell_type": "code",
      "metadata": {
        "id": "NuvLBwUFu8XQ"
      },
      "source": [
        "# define the period for which we want a prediction\n",
        "\n",
        "future = list()\n",
        "for i in range(1, 13):\n",
        "  date = '1968-%02d' % i \n",
        "  future.append([date])\n",
        "\n",
        "future = DataFrame(future)\n",
        "future.columns = ['ds']\n",
        "future['ds'] = to_datetime(future['ds'])\n"
      ],
      "execution_count": null,
      "outputs": []
    },
    {
      "cell_type": "code",
      "metadata": {
        "colab": {
          "base_uri": "https://localhost:8080/"
        },
        "id": "s9pACnVBwIir",
        "outputId": "6ad6949f-6dc8-4a1c-9ad2-40a41ea27a5a"
      },
      "source": [
        "future['ds']"
      ],
      "execution_count": null,
      "outputs": [
        {
          "output_type": "execute_result",
          "data": {
            "text/plain": [
              "0    1968-01-01\n",
              "1    1968-02-01\n",
              "2    1968-03-01\n",
              "3    1968-04-01\n",
              "4    1968-05-01\n",
              "5    1968-06-01\n",
              "6    1968-07-01\n",
              "7    1968-08-01\n",
              "8    1968-09-01\n",
              "9    1968-10-01\n",
              "10   1968-11-01\n",
              "11   1968-12-01\n",
              "Name: ds, dtype: datetime64[ns]"
            ]
          },
          "metadata": {
            "tags": []
          },
          "execution_count": 18
        }
      ]
    },
    {
      "cell_type": "markdown",
      "metadata": {
        "id": "NiHHu2J9wRmb"
      },
      "source": [
        "The result of the predict() function is a DataFrame that contains many columns. \n",
        "\n",
        "Perhaps the most important columns are the forecast date time (‘ds‘), the forecasted value (‘yhat‘), and the lower and upper bounds on the predicted value (‘yhat_lower‘ and ‘yhat_upper‘) that provide uncertainty of the forecast."
      ]
    },
    {
      "cell_type": "code",
      "metadata": {
        "colab": {
          "base_uri": "https://localhost:8080/"
        },
        "id": "ptr3I8A_wKGr",
        "outputId": "da9c79d0-385f-4c57-c71c-7deb30ec5047"
      },
      "source": [
        "forecast = model.predict(future)\n",
        "# the forecasted value('yhat'), and the lower and upper bounds\n",
        "print(forecast[['ds', 'yhat', 'yhat_lower', 'yhat_upper']].head())\n"
      ],
      "execution_count": null,
      "outputs": [
        {
          "output_type": "stream",
          "text": [
            "          ds          yhat    yhat_lower    yhat_upper\n",
            "0 1968-01-01  14663.419982  12998.657449  16185.167390\n",
            "1 1968-02-01  15225.666899  13786.578527  16820.485464\n",
            "2 1968-03-01  20717.827765  19090.881700  22157.217135\n",
            "3 1968-04-01  23264.520345  21582.579582  24773.563860\n",
            "4 1968-05-01  24695.490912  23087.688065  26291.747272\n"
          ],
          "name": "stdout"
        }
      ]
    },
    {
      "cell_type": "markdown",
      "metadata": {
        "id": "7wVcL7lexopx"
      },
      "source": [
        "Next, a plot is created. \n",
        "\n",
        "We can see the training data are represented as black dots and the forecast is a blue line with upper and lower bounds in a blue shaded area."
      ]
    },
    {
      "cell_type": "code",
      "metadata": {
        "colab": {
          "base_uri": "https://localhost:8080/",
          "height": 441
        },
        "id": "_A5gawHkwZqa",
        "outputId": "efcee828-ba38-41a2-9a19-b5dfb611524b"
      },
      "source": [
        "# plot forecast\n",
        "model.plot(forecast)\n",
        "pyplot.show()"
      ],
      "execution_count": null,
      "outputs": [
        {
          "output_type": "display_data",
          "data": {
            "image/png": "[encoded data removed]",
            "text/plain": [
              "<Figure size 720x432 with 1 Axes>"
            ]
          },
          "metadata": {
            "tags": []
          }
        }
      ]
    },
    {
      "cell_type": "markdown",
      "metadata": {
        "id": "ckiifzZ6x2aw"
      },
      "source": [
        "In practice, we really want a forecast model to make a prediction beyond the training data.\n",
        "\n",
        "This is called an out-of-sample forecast.\n",
        "\n",
        "We can achieve this in the same way as an in-sample forecast and simply specify a different forecast period.\n",
        "\n",
        "In this case, a period beyond the end of the training dataset, starting 1969-01."
      ]
    },
    {
      "cell_type": "code",
      "metadata": {
        "colab": {
          "base_uri": "https://localhost:8080/"
        },
        "id": "fYPT2tlKyEeh",
        "outputId": "559490d0-957b-42b0-d044-293046dc7809"
      },
      "source": [
        "from pandas import read_csv\n",
        "from pandas import to_datetime\n",
        "from pandas import DataFrame\n",
        "from fbprophet import Prophet\n",
        "from matplotlib import pyplot\n",
        "# load data\n",
        "path = 'https://raw.githubusercontent.com/jbrownlee/Datasets/master/monthly-car-sales.csv'\n",
        "data = read_csv(path, header= 0)\n",
        "# prepare expected column names\n",
        "df.columns = ['ds', 'y']\n",
        "df['ds'] = to_datetime(df['ds'])\n",
        "print(df['ds'])"
      ],
      "execution_count": null,
      "outputs": [
        {
          "output_type": "stream",
          "text": [
            "0     1960-01-01\n",
            "1     1960-02-01\n",
            "2     1960-03-01\n",
            "3     1960-04-01\n",
            "4     1960-05-01\n",
            "         ...    \n",
            "103   1968-08-01\n",
            "104   1968-09-01\n",
            "105   1968-10-01\n",
            "106   1968-11-01\n",
            "107   1968-12-01\n",
            "Name: ds, Length: 108, dtype: datetime64[ns]\n"
          ],
          "name": "stdout"
        }
      ]
    },
    {
      "cell_type": "code",
      "metadata": {
        "colab": {
          "base_uri": "https://localhost:8080/"
        },
        "id": "vyBOg9SOylGB",
        "outputId": "ebb5a703-c4f0-4017-e8b2-913ce416627a"
      },
      "source": [
        "# define the model\n",
        "model = Prophet(weekly_seasonality=True, daily_seasonality=True)\n",
        "model.fit(df)"
      ],
      "execution_count": null,
      "outputs": [
        {
          "output_type": "execute_result",
          "data": {
            "text/plain": [
              "<fbprophet.forecaster.Prophet at 0x7f6c05c52f10>"
            ]
          },
          "metadata": {
            "tags": []
          },
          "execution_count": 35
        }
      ]
    },
    {
      "cell_type": "code",
      "metadata": {
        "id": "fJNrhBZ4xSpC"
      },
      "source": [
        "future = list()\n",
        "for i in range(1, 13):\n",
        "  date = '1969-%02d' % i\n",
        "  future.append([date])\n",
        "\n",
        "future = DataFrame(future)\n",
        "future.columns = ['ds']\n",
        "future['ds'] = to_datetime(future['ds'])\n"
      ],
      "execution_count": null,
      "outputs": []
    },
    {
      "cell_type": "markdown",
      "metadata": {
        "id": "oF7lS8qAzh5l"
      },
      "source": [
        "Running the example makes an out-of-sample forecast for the car sales data.\n",
        "\n",
        "The first five rows of the forecast are printed, although it is hard to get an idea of whether they are sensible or not."
      ]
    },
    {
      "cell_type": "code",
      "metadata": {
        "colab": {
          "base_uri": "https://localhost:8080/",
          "height": 549
        },
        "id": "CDqi17cGy8WO",
        "outputId": "03ad119d-6fd9-4050-b706-c598c1217abc"
      },
      "source": [
        "forecast = model.predict(future)\n",
        "print(forecast[['ds','yhat', 'yhat_lower', 'yhat_upper']].head())\n",
        "model.plot(forecast)\n",
        "pyplot.show()"
      ],
      "execution_count": null,
      "outputs": [
        {
          "output_type": "stream",
          "text": [
            "          ds          yhat    yhat_lower    yhat_upper\n",
            "0 1969-01-01  15944.771181  14331.457585  17483.177559\n",
            "1 1969-02-01  14891.642709  13346.399585  16447.143338\n",
            "2 1969-03-01  20341.406473  18766.867506  21767.401231\n",
            "3 1969-04-01  24000.103315  22342.432098  25497.257867\n",
            "4 1969-05-01  25362.473751  23829.772329  26758.762298\n"
          ],
          "name": "stdout"
        },
        {
          "output_type": "display_data",
          "data": {
            "image/png": "[encoded data removed]",
            "text/plain": [
              "<Figure size 720x432 with 1 Axes>"
            ]
          },
          "metadata": {
            "tags": []
          }
        }
      ]
    },
    {
      "cell_type": "markdown",
      "metadata": {
        "id": "-fZPXca9zncH"
      },
      "source": [
        "A plot is created to help us evaluate the prediction in the context of the training data.\n",
        "\n",
        "The new one-year forecast does look sensible, at least by eye.\n",
        "\n"
      ]
    },
    {
      "cell_type": "markdown",
      "metadata": {
        "id": "wKvE9r0Gzzr-"
      },
      "source": [
        "Then, fitting the model on the first portion of the data, using it to make predictions on the held-pack portion, and calculating an error measure, such as the mean absolute error across the forecasts. \n",
        "\n",
        "E.g. a simulated out-of-sample forecast.\n",
        "\n",
        "The score gives an estimate of how well we might expect the model to perform on average when making an out-of-sample forecast.\n",
        "\n",
        "We can do this with the samples data by creating a new DataFrame for training with the last 12 months removed."
      ]
    },
    {
      "cell_type": "code",
      "metadata": {
        "colab": {
          "base_uri": "https://localhost:8080/"
        },
        "id": "RqdTqC8CzQ3P",
        "outputId": "cd4a9102-d2db-4d17-f6eb-9fab83ff47b6"
      },
      "source": [
        "# create test dataset, remove last 12 months\n",
        "train = df.drop(df.index[-12:])\n",
        "print(train.tail())"
      ],
      "execution_count": null,
      "outputs": [
        {
          "output_type": "stream",
          "text": [
            "           ds      y\n",
            "91 1967-08-01  13434\n",
            "92 1967-09-01  13598\n",
            "93 1967-10-01  17187\n",
            "94 1967-11-01  16119\n",
            "95 1967-12-01  13713\n"
          ],
          "name": "stdout"
        }
      ]
    },
    {
      "cell_type": "markdown",
      "metadata": {
        "id": "O7BoehUq0Pmk"
      },
      "source": [
        "We can then retrieve the forecast values and the expected values from the original dataset and calculate a mean absolute error metric using the scikit-learn library."
      ]
    },
    {
      "cell_type": "code",
      "metadata": {
        "colab": {
          "base_uri": "https://localhost:8080/"
        },
        "id": "ODnh-70a0BtI",
        "outputId": "5a275855-5793-4112-caa3-5bb915c813ce"
      },
      "source": [
        "from sklearn.metrics import mean_absolute_error\n",
        "# calculate MAE between expected and predicted values for december\n",
        "y_true = df['y'][-12:].values\n",
        "y_pred = forecast['yhat'].values\n",
        "mae = mean_absolute_error(y_true, y_pred)\n",
        "print(mae)"
      ],
      "execution_count": null,
      "outputs": [
        {
          "output_type": "stream",
          "text": [
            "1173.6772606992079\n"
          ],
          "name": "stdout"
        }
      ]
    },
    {
      "cell_type": "markdown",
      "metadata": {
        "id": "5CI9kb6B0muc"
      },
      "source": [
        "It can also be helpful to plot the expected vs. predicted values to see how well the out-of-sample prediction matches the known values."
      ]
    },
    {
      "cell_type": "code",
      "metadata": {
        "colab": {
          "base_uri": "https://localhost:8080/",
          "height": 265
        },
        "id": "2cmYtXH40jFd",
        "outputId": "a4795ac2-a2f0-4f8e-d11a-f8694a274fc3"
      },
      "source": [
        "# plot expected vs actual\n",
        "pyplot.plot(y_true, label = 'Actual')\n",
        "pyplot.plot(y_pred, label = 'Predicted')\n",
        "pyplot.legend()\n",
        "pyplot.show()"
      ],
      "execution_count": null,
      "outputs": [
        {
          "output_type": "display_data",
          "data": {
            "image/png": "[encoded data removed]",
            "text/plain": [
              "<Figure size 432x288 with 1 Axes>"
            ]
          },
          "metadata": {
            "tags": [],
            "needs_background": "light"
          }
        }
      ]
    },
    {
      "cell_type": "markdown",
      "metadata": {
        "id": "mU8Mf2sf0-61"
      },
      "source": [
        "It confirms the training ends in the last month of 1967 and 1968 will be used as the hold-out dataset."
      ]
    }
  ]
}