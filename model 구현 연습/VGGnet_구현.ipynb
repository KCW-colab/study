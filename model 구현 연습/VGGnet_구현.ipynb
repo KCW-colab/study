{
  "nbformat": 4,
  "nbformat_minor": 0,
  "metadata": {
    "accelerator": "GPU",
    "colab": {
      "name": "VGGnet 구현.ipynb",
      "provenance": [],
      "collapsed_sections": [],
      "authorship_tag": "ABX9TyOgUnxmamDYAKTQtd4uaXzS"
    },
    "kernelspec": {
      "display_name": "Python 3",
      "name": "python3"
    },
    "language_info": {
      "name": "python"
    },
    "widgets": {
      "application/vnd.jupyter.widget-state+json": {
        "1a8e8a3a18594af5b90cee315dcefabb": {
          "model_module": "@jupyter-widgets/controls",
          "model_name": "HBoxModel",
          "state": {
            "_view_name": "HBoxView",
            "_dom_classes": [],
            "_model_name": "HBoxModel",
            "_view_module": "@jupyter-widgets/controls",
            "_model_module_version": "1.5.0",
            "_view_count": null,
            "_view_module_version": "1.5.0",
            "box_style": "",
            "layout": "IPY_MODEL_06692364b74a4f9fa9952ae0422d8ca4",
            "_model_module": "@jupyter-widgets/controls",
            "children": [
              "IPY_MODEL_9a62584482ca4cf9a4629327b23cb87d",
              "IPY_MODEL_d5e4efb3f66a4ffeaa1966ea00a94a3a"
            ]
          }
        },
        "06692364b74a4f9fa9952ae0422d8ca4": {
          "model_module": "@jupyter-widgets/base",
          "model_name": "LayoutModel",
          "state": {
            "_view_name": "LayoutView",
            "grid_template_rows": null,
            "right": null,
            "justify_content": null,
            "_view_module": "@jupyter-widgets/base",
            "overflow": null,
            "_model_module_version": "1.2.0",
            "_view_count": null,
            "flex_flow": null,
            "width": null,
            "min_width": null,
            "border": null,
            "align_items": null,
            "bottom": null,
            "_model_module": "@jupyter-widgets/base",
            "top": null,
            "grid_column": null,
            "overflow_y": null,
            "overflow_x": null,
            "grid_auto_flow": null,
            "grid_area": null,
            "grid_template_columns": null,
            "flex": null,
            "_model_name": "LayoutModel",
            "justify_items": null,
            "grid_row": null,
            "max_height": null,
            "align_content": null,
            "visibility": null,
            "align_self": null,
            "height": null,
            "min_height": null,
            "padding": null,
            "grid_auto_rows": null,
            "grid_gap": null,
            "max_width": null,
            "order": null,
            "_view_module_version": "1.2.0",
            "grid_template_areas": null,
            "object_position": null,
            "object_fit": null,
            "grid_auto_columns": null,
            "margin": null,
            "display": null,
            "left": null
          }
        },
        "9a62584482ca4cf9a4629327b23cb87d": {
          "model_module": "@jupyter-widgets/controls",
          "model_name": "FloatProgressModel",
          "state": {
            "_view_name": "ProgressView",
            "style": "IPY_MODEL_23591744b3774bceadb7e60470e41d44",
            "_dom_classes": [],
            "description": "",
            "_model_name": "FloatProgressModel",
            "bar_style": "success",
            "max": 170498071,
            "_view_module": "@jupyter-widgets/controls",
            "_model_module_version": "1.5.0",
            "value": 170498071,
            "_view_count": null,
            "_view_module_version": "1.5.0",
            "orientation": "horizontal",
            "min": 0,
            "description_tooltip": null,
            "_model_module": "@jupyter-widgets/controls",
            "layout": "IPY_MODEL_93a2f6aa0b46405bb64b540b4d40b62e"
          }
        },
        "d5e4efb3f66a4ffeaa1966ea00a94a3a": {
          "model_module": "@jupyter-widgets/controls",
          "model_name": "HTMLModel",
          "state": {
            "_view_name": "HTMLView",
            "style": "IPY_MODEL_035f682d564f417cb230d4691d6dc494",
            "_dom_classes": [],
            "description": "",
            "_model_name": "HTMLModel",
            "placeholder": "​",
            "_view_module": "@jupyter-widgets/controls",
            "_model_module_version": "1.5.0",
            "value": " 170499072/? [00:16&lt;00:00, 10093051.41it/s]",
            "_view_count": null,
            "_view_module_version": "1.5.0",
            "description_tooltip": null,
            "_model_module": "@jupyter-widgets/controls",
            "layout": "IPY_MODEL_595979af4d844fdbb666bfc7d5c8e067"
          }
        },
        "23591744b3774bceadb7e60470e41d44": {
          "model_module": "@jupyter-widgets/controls",
          "model_name": "ProgressStyleModel",
          "state": {
            "_view_name": "StyleView",
            "_model_name": "ProgressStyleModel",
            "description_width": "initial",
            "_view_module": "@jupyter-widgets/base",
            "_model_module_version": "1.5.0",
            "_view_count": null,
            "_view_module_version": "1.2.0",
            "bar_color": null,
            "_model_module": "@jupyter-widgets/controls"
          }
        },
        "93a2f6aa0b46405bb64b540b4d40b62e": {
          "model_module": "@jupyter-widgets/base",
          "model_name": "LayoutModel",
          "state": {
            "_view_name": "LayoutView",
            "grid_template_rows": null,
            "right": null,
            "justify_content": null,
            "_view_module": "@jupyter-widgets/base",
            "overflow": null,
            "_model_module_version": "1.2.0",
            "_view_count": null,
            "flex_flow": null,
            "width": null,
            "min_width": null,
            "border": null,
            "align_items": null,
            "bottom": null,
            "_model_module": "@jupyter-widgets/base",
            "top": null,
            "grid_column": null,
            "overflow_y": null,
            "overflow_x": null,
            "grid_auto_flow": null,
            "grid_area": null,
            "grid_template_columns": null,
            "flex": null,
            "_model_name": "LayoutModel",
            "justify_items": null,
            "grid_row": null,
            "max_height": null,
            "align_content": null,
            "visibility": null,
            "align_self": null,
            "height": null,
            "min_height": null,
            "padding": null,
            "grid_auto_rows": null,
            "grid_gap": null,
            "max_width": null,
            "order": null,
            "_view_module_version": "1.2.0",
            "grid_template_areas": null,
            "object_position": null,
            "object_fit": null,
            "grid_auto_columns": null,
            "margin": null,
            "display": null,
            "left": null
          }
        },
        "035f682d564f417cb230d4691d6dc494": {
          "model_module": "@jupyter-widgets/controls",
          "model_name": "DescriptionStyleModel",
          "state": {
            "_view_name": "StyleView",
            "_model_name": "DescriptionStyleModel",
            "description_width": "",
            "_view_module": "@jupyter-widgets/base",
            "_model_module_version": "1.5.0",
            "_view_count": null,
            "_view_module_version": "1.2.0",
            "_model_module": "@jupyter-widgets/controls"
          }
        },
        "595979af4d844fdbb666bfc7d5c8e067": {
          "model_module": "@jupyter-widgets/base",
          "model_name": "LayoutModel",
          "state": {
            "_view_name": "LayoutView",
            "grid_template_rows": null,
            "right": null,
            "justify_content": null,
            "_view_module": "@jupyter-widgets/base",
            "overflow": null,
            "_model_module_version": "1.2.0",
            "_view_count": null,
            "flex_flow": null,
            "width": null,
            "min_width": null,
            "border": null,
            "align_items": null,
            "bottom": null,
            "_model_module": "@jupyter-widgets/base",
            "top": null,
            "grid_column": null,
            "overflow_y": null,
            "overflow_x": null,
            "grid_auto_flow": null,
            "grid_area": null,
            "grid_template_columns": null,
            "flex": null,
            "_model_name": "LayoutModel",
            "justify_items": null,
            "grid_row": null,
            "max_height": null,
            "align_content": null,
            "visibility": null,
            "align_self": null,
            "height": null,
            "min_height": null,
            "padding": null,
            "grid_auto_rows": null,
            "grid_gap": null,
            "max_width": null,
            "order": null,
            "_view_module_version": "1.2.0",
            "grid_template_areas": null,
            "object_position": null,
            "object_fit": null,
            "grid_auto_columns": null,
            "margin": null,
            "display": null,
            "left": null
          }
        }
      }
    }
  },
  "cells": [
    {
      "cell_type": "markdown",
      "metadata": {
        "id": "3G07R_Um-MHG"
      },
      "source": [
        "- 참고 \n",
        "1. https://www.youtube.com/watch?v=ACmuBbuXn20\n",
        "\n",
        "2. https://blogofth-lee.tistory.com/265\n",
        "\n",
        "3. https://www.kaggle.com/willzy/vgg16-with-cifar10"
      ]
    },
    {
      "cell_type": "markdown",
      "metadata": {
        "id": "V3ZW-L4crWRR"
      },
      "source": [
        "- Torch library 정의\n",
        "- cifar10 데이터 불러와서 training_set과 test_set으로 분리\n",
        "- cifar10 데이터 내의 classes들 정의\n"
      ]
    },
    {
      "cell_type": "code",
      "metadata": {
        "id": "bm0p4_rdBoyf"
      },
      "source": [
        "import torch\n",
        "from torch import nn as nn\n",
        "import torchvision\n",
        "from torch.utils.data import DataLoader\n",
        "from torchvision import datasets\n",
        "from torchvision.transforms import ToTensor, Lambda\n",
        "import torchvision.transforms as transforms\n",
        "import torch.optim as optim\n",
        "from torch.utils.data.sampler import SubsetRandomSampler\n",
        "import random\n",
        "import os\n",
        "import numpy as np\n",
        "import matplotlib.pyplot as plt"
      ],
      "execution_count": 1,
      "outputs": []
    },
    {
      "cell_type": "code",
      "metadata": {
        "id": "kZPBo7egByBy"
      },
      "source": [
        "pretrained_model_path = './data/pretrained.model.pt'\n",
        "save_model_path = './data/'\n",
        "save_result_path = './data/results'\n",
        "validation_ratio = 0.1"
      ],
      "execution_count": 2,
      "outputs": []
    },
    {
      "cell_type": "code",
      "metadata": {
        "colab": {
          "base_uri": "https://localhost:8080/",
          "height": 174,
          "referenced_widgets": [
            "1a8e8a3a18594af5b90cee315dcefabb",
            "06692364b74a4f9fa9952ae0422d8ca4",
            "9a62584482ca4cf9a4629327b23cb87d",
            "d5e4efb3f66a4ffeaa1966ea00a94a3a",
            "23591744b3774bceadb7e60470e41d44",
            "93a2f6aa0b46405bb64b540b4d40b62e",
            "035f682d564f417cb230d4691d6dc494",
            "595979af4d844fdbb666bfc7d5c8e067"
          ]
        },
        "id": "2gzPYSASm6ux",
        "outputId": "6d5fc684-7b61-4aed-af7e-ab8b14603d26"
      },
      "source": [
        "\n",
        "\n",
        "training_data = datasets.CIFAR10(\n",
        "    root = \"data\",\n",
        "    train = True,\n",
        "    download = True,\n",
        "    transform = ToTensor()\n",
        ")\n",
        "\n",
        "validation_data = datasets.CIFAR10(\n",
        "    root = \"data\",\n",
        "    train = True,\n",
        "    download = True,\n",
        "    transform = ToTensor()\n",
        ")\n",
        "\n",
        "test_data = datasets.CIFAR10(\n",
        "    root = \"data\",\n",
        "    train=False,\n",
        "    download = True,\n",
        "    transform = ToTensor()\n",
        ")\n",
        "\n",
        "num_train = len(training_data)\n",
        "print(num_train)\n",
        "indices = list(range(num_train))\n",
        "split = int(np.floor(validation_ratio * num_train))\n",
        "\n",
        "np.random.seed(12)\n",
        "np.random.shuffle(indices)\n",
        "\n",
        "train_idx , valid_idx = indices[split:], indices[:split]\n",
        "train_sampler = SubsetRandomSampler(train_idx)\n",
        "valid_sampler = SubsetRandomSampler(valid_idx)\n",
        "\n",
        "trainloader = torch.utils.data.DataLoader(training_data,\n",
        "                                          batch_size = 32,\n",
        "                                          sampler=train_sampler,\n",
        "                                          num_workers=0)\n",
        "\n",
        "validloader = torch.utils.data.DataLoader(validation_data,\n",
        "                                          batch_size= 32, sampler=valid_sampler,\n",
        "                                          num_workers=0)\n",
        "\n",
        "testloader = torch.utils.data.DataLoader(test_data,\n",
        "                                          batch_size = 4,\n",
        "                                          shuffle = False,\n",
        "                                          num_workers=0)\n",
        "classes = ('plane', 'car', 'bird', 'cat', 'deer',\n",
        "           'dog', 'frog', 'horse', 'ship', 'truck')\n",
        "\n"
      ],
      "execution_count": 3,
      "outputs": [
        {
          "output_type": "stream",
          "text": [
            "Downloading https://www.cs.toronto.edu/~kriz/cifar-10-python.tar.gz to data/cifar-10-python.tar.gz\n"
          ],
          "name": "stdout"
        },
        {
          "output_type": "display_data",
          "data": {
            "application/vnd.jupyter.widget-view+json": {
              "model_id": "1a8e8a3a18594af5b90cee315dcefabb",
              "version_minor": 0,
              "version_major": 2
            },
            "text/plain": [
              "HBox(children=(FloatProgress(value=0.0, max=170498071.0), HTML(value='')))"
            ]
          },
          "metadata": {
            "tags": []
          }
        },
        {
          "output_type": "stream",
          "text": [
            "\n",
            "Extracting data/cifar-10-python.tar.gz to data\n",
            "Files already downloaded and verified\n",
            "Files already downloaded and verified\n",
            "50000\n"
          ],
          "name": "stdout"
        }
      ]
    },
    {
      "cell_type": "markdown",
      "metadata": {
        "id": "3eirUrbOrmCR"
      },
      "source": [
        "- cpu로 연산할 지 gpu로 연산할 지 설정"
      ]
    },
    {
      "cell_type": "markdown",
      "metadata": {
        "id": "kQ2sAh1wruZ4"
      },
      "source": [
        "- 몇 개의 testset 표시"
      ]
    },
    {
      "cell_type": "code",
      "metadata": {
        "colab": {
          "base_uri": "https://localhost:8080/"
        },
        "id": "SOKnIqGTuJfm",
        "outputId": "7a531b43-24f6-4610-e831-23ad6c4e6901"
      },
      "source": [
        "dataiter = iter(testloader)\n",
        "images, labels = dataiter.next()\n",
        "images.size()"
      ],
      "execution_count": 4,
      "outputs": [
        {
          "output_type": "execute_result",
          "data": {
            "text/plain": [
              "torch.Size([4, 3, 32, 32])"
            ]
          },
          "metadata": {
            "tags": []
          },
          "execution_count": 4
        }
      ]
    },
    {
      "cell_type": "code",
      "metadata": {
        "colab": {
          "base_uri": "https://localhost:8080/",
          "height": 286
        },
        "id": "H94vvjg-psoF",
        "outputId": "0f6c5fb3-7365-4733-9447-3a703146a376"
      },
      "source": [
        "import matplotlib.pyplot as plt\n",
        "\n",
        "%matplotlib inline\n",
        "\n",
        "def imshow(img):\n",
        "  img = img / 2 + 0.5\n",
        "  npimg = img.numpy()\n",
        "  plt.imshow(np.transpose(npimg, (1, 2, 0)))\n",
        "  plt.show()\n",
        "\n",
        "dataiter = iter(testloader)\n",
        "images, labels = dataiter.next()\n",
        "imshow(torchvision.utils.make_grid(images, nrow=2, padding=3))\n",
        "\n",
        "print(' '.join('%5s'%classes[labels[j]] for j in range(4)))"
      ],
      "execution_count": 5,
      "outputs": [
        {
          "output_type": "display_data",
          "data": {
            "image/png": "[encoded data removed]",
            "text/plain": [
              "<Figure size 432x288 with 1 Axes>"
            ]
          },
          "metadata": {
            "tags": [],
            "needs_background": "light"
          }
        },
        {
          "output_type": "stream",
          "text": [
            "  cat  ship  ship plane\n"
          ],
          "name": "stdout"
        }
      ]
    },
    {
      "cell_type": "markdown",
      "metadata": {
        "id": "lWoKkvK4x7CH"
      },
      "source": [
        "- 13개의 cnn 필터 + fully connected layer 3층\n",
        "- 3 x 3 filter 2회와 5 x 5 filter 1회의 결과가 같음(동일한 사이즈의 특성맵 산출) 따라서 3 x 3 filter를 2회 하는게 더 나음. \n",
        "(Hyperparameter 18개 vs 25개)"
      ]
    },
    {
      "cell_type": "code",
      "metadata": {
        "id": "zbe-H48nsqcM"
      },
      "source": [
        "VGG_list = [32, 32, 'M', 64, 64, \n",
        "            128, 128, 128, \n",
        "            'M', 256, 256, 256, \n",
        "            512, 512, 512, 'M'] \n",
        "# For cifar 10, modify the size of cnn.\n",
        "class VGGnet(nn.Module):\n",
        "  def __init__(self, in_channels, num_classes=10):\n",
        "    super(VGGnet, self).__init__()\n",
        "    self.in_channels = in_channels \n",
        "    # The order is very important.\n",
        "    # Since after declare variables, we can use the variables\n",
        "    self.conv_layers = self.create_cnn(VGG_list)\n",
        "   \n",
        "\n",
        "    self.fully_connected_layer = nn.Sequential(\n",
        "        nn.Linear(512*4*4, 4096),\n",
        "        nn.ReLU(),\n",
        "        nn.Dropout(p=0.5),\n",
        "        nn.Linear(4096, 4096),\n",
        "        nn.ReLU(),\n",
        "        nn.Dropout(p=0.5),\n",
        "        nn.Linear(4096, num_classes)\n",
        "    )\n",
        "  def forward(self, x):\n",
        "    x = self.conv_layers(x)\n",
        "    x = x.reshape(x.shape[0], -1) \n",
        "    # For Linear part, we must flatten output of cnn.\n",
        "    x = self.fully_connected_layer(x)\n",
        "    return x\n",
        "    \n",
        "  def create_cnn(self, architecture):\n",
        "    layers = []\n",
        "    in_channels = self.in_channels\n",
        "\n",
        "    for x in architecture:\n",
        "      if type(x) == int:\n",
        "        layers += [nn.Conv2d(in_channels = in_channels, out_channels = x,\n",
        "                             kernel_size=(3,3), stride = (1, 1), padding = (1, 1)),\n",
        "                   nn.BatchNorm2d(x),\n",
        "                   nn.ReLU()]\n",
        "\n",
        "        in_channels = x\n",
        "      elif x == \"M\":\n",
        "        layers += [nn.MaxPool2d(kernel_size=(2, 2), stride=(2, 2))]\n",
        "    \n",
        "\n",
        "    return nn.Sequential(*layers) # store unpacking layer list"
      ],
      "execution_count": 6,
      "outputs": []
    },
    {
      "cell_type": "code",
      "metadata": {
        "id": "toQJ_HuYqXFR"
      },
      "source": [
        "device = 'cuda' if torch.cuda.is_available() else 'cpu'\n",
        "\n",
        "torch.manual_seed(12)\n",
        "if device == 'cuda':\n",
        "  torch.cuda.manual_seed_all(12)"
      ],
      "execution_count": 7,
      "outputs": []
    },
    {
      "cell_type": "code",
      "metadata": {
        "colab": {
          "base_uri": "https://localhost:8080/"
        },
        "id": "7CCNcn1E91F4",
        "outputId": "53892099-aa12-47c1-9749-470251b6e8db"
      },
      "source": [
        "model = VGGnet(in_channels=3, num_classes=1000).to(device)\n",
        "\n",
        "x = torch.randn(1, 3, 32, 32).cuda()\n",
        "print(model(x).shape)"
      ],
      "execution_count": 8,
      "outputs": [
        {
          "output_type": "stream",
          "text": [
            "torch.Size([1, 1000])\n"
          ],
          "name": "stdout"
        }
      ]
    },
    {
      "cell_type": "code",
      "metadata": {
        "id": "8_NUMt0pvSDx"
      },
      "source": [
        "criterion = nn.CrossEntropyLoss().to(device)\n",
        "optimizer = torch.optim.Adam(model.parameters(), lr=0.0001, betas=(0.9, 0.999), eps=1e-10)\n",
        "\n",
        "lr_sche = optim.lr_scheduler.StepLR(optimizer, step_size=5, gamma=0.9)\n",
        "# For every 5 steps, reduce lr by x0.9 to learn."
      ],
      "execution_count": 9,
      "outputs": []
    },
    {
      "cell_type": "code",
      "metadata": {
        "colab": {
          "base_uri": "https://localhost:8080/"
        },
        "id": "AOroOSQSdTfb",
        "outputId": "4a0cb286-169c-485a-b7fe-b68304eb784d"
      },
      "source": [
        "print(len(trainloader))"
      ],
      "execution_count": 10,
      "outputs": [
        {
          "output_type": "stream",
          "text": [
            "1407\n"
          ],
          "name": "stdout"
        }
      ]
    },
    {
      "cell_type": "markdown",
      "metadata": {
        "id": "L-4IKVipZ_p3"
      },
      "source": [
        "- loss and accuracy\n",
        "\n",
        "1. just setting layer(do not add anything)\n",
        "  loss : 2.308, accuracy : 9%\n",
        "\n",
        "2. add ReLU\n",
        "  same\n",
        "\n",
        "3. add batchnorm\n",
        "  loss : 0.000114, accuracy : 67% \n",
        "\n",
        "4. Adam Batch size = 512 / epoch = 30 / lr = 0.001\n",
        "  accuracy : 40 %\n",
        "\n",
        "5. Batch size = 32 / epoch = 20 / Adam / lr = 0.0001\n",
        "  accuracy : 82%\n",
        "\n",
        "6. Batch size = 32 / epoch = 7 / Adam / lr = 0.0001\n",
        "  accuracy : 79%"
      ]
    },
    {
      "cell_type": "code",
      "metadata": {
        "colab": {
          "base_uri": "https://localhost:8080/"
        },
        "id": "W7TlWcIZddNE",
        "outputId": "4a2dc692-29b3-4711-9e8b-c4ecd229f613"
      },
      "source": [
        "epochs = 7\n",
        "\n",
        "train_losses = []\n",
        "train_accs = []\n",
        "\n",
        "valid_losses = []\n",
        "valid_accs = []\n",
        "\n",
        "train_total_batch = len(trainloader)\n",
        "valid_total_batch = len(validloader)\n",
        "for epoch in range(epochs):\n",
        "    \n",
        "    model.train()\n",
        "    \n",
        "\n",
        "    for i, data in enumerate(trainloader, 0): # start from 0\n",
        "        inputs, labels = data\n",
        "        inputs = inputs.to(device)\n",
        "        labels = labels.to(device)\n",
        "\n",
        "        optimizer.zero_grad()\n",
        "        outputs = model(inputs)\n",
        "        loss = criterion(outputs, labels)\n",
        "        loss.backward()\n",
        "        optimizer.step()\n",
        "\n",
        "    lr_sche.step()\n",
        "    # test with validation set if val_loader exist\n",
        "    with torch.no_grad():\n",
        "        model.eval()\n",
        "        loss, acc = 0, 0\n",
        "\n",
        "        for k, (X, Y) in enumerate(trainloader):\n",
        "            X , Y = X.to(device), Y.to(device)\n",
        "            \n",
        "            val_outputs = model(X)\n",
        "            val_correct_prediction = torch.argmax(val_outputs, 1) == Y\n",
        "            loss += criterion(val_outputs, Y)\n",
        "            acc += val_correct_prediction.float().mean()\n",
        "        \n",
        "        loss = loss / train_total_batch\n",
        "        acc = acc / train_total_batch\n",
        "\n",
        "        train_losses.append(loss)\n",
        "        train_accs.append(acc)\n",
        "        print('[Epoch %d-TRAIN] loss : %.5f, acc: %.2f'%((epoch+1), loss.item(), acc.item()))\n",
        "\n",
        "        loss, acc = 0, 0\n",
        "        for i, (X, Y) in enumerate(validloader):\n",
        "            X = X.to(device)\n",
        "            Y = Y.to(device)\n",
        "\n",
        "            prediction = model(X)\n",
        "            correct_prediction = torch.argmax(prediction, 1) == Y\n",
        "            loss += criterion(prediction, Y)\n",
        "            acc += correct_prediction.float().mean()\n",
        "        loss = loss / valid_total_batch\n",
        "        acc = acc / valid_total_batch\n",
        "\n",
        "        valid_losses.append(loss)\n",
        "        valid_accs.append(acc)\n",
        "        print('[Epoch %d-TRAIN] loss : %.5f, acc: %.2f'%((epoch+1), loss.item(), acc.item()))\n",
        "        print()\n",
        "\n",
        "print('finished')"
      ],
      "execution_count": 11,
      "outputs": [
        {
          "output_type": "stream",
          "text": [
            "[Epoch 1-TRAIN] loss : 1.18700, acc: 0.58\n",
            "[Epoch 1-TRAIN] loss : 1.21643, acc: 0.57\n",
            "\n",
            "[Epoch 2-TRAIN] loss : 0.94644, acc: 0.67\n",
            "[Epoch 2-TRAIN] loss : 1.03410, acc: 0.64\n",
            "\n",
            "[Epoch 3-TRAIN] loss : 0.74077, acc: 0.74\n",
            "[Epoch 3-TRAIN] loss : 0.85020, acc: 0.70\n",
            "\n",
            "[Epoch 4-TRAIN] loss : 0.57351, acc: 0.80\n",
            "[Epoch 4-TRAIN] loss : 0.74821, acc: 0.74\n",
            "\n",
            "[Epoch 5-TRAIN] loss : 0.43354, acc: 0.85\n",
            "[Epoch 5-TRAIN] loss : 0.63478, acc: 0.79\n",
            "\n",
            "[Epoch 6-TRAIN] loss : 0.38696, acc: 0.87\n",
            "[Epoch 6-TRAIN] loss : 0.64062, acc: 0.79\n",
            "\n",
            "[Epoch 7-TRAIN] loss : 0.31426, acc: 0.89\n",
            "[Epoch 7-TRAIN] loss : 0.64721, acc: 0.79\n",
            "\n",
            "finished\n"
          ],
          "name": "stdout"
        }
      ]
    },
    {
      "cell_type": "code",
      "metadata": {
        "colab": {
          "base_uri": "https://localhost:8080/"
        },
        "id": "TJxCMPHAURP0",
        "outputId": "f9e15367-c6ee-414b-e7c7-d89a8487a7be"
      },
      "source": [
        "import torchsummary\n",
        "torchsummary.summary(model, (3, 32, 32))"
      ],
      "execution_count": 12,
      "outputs": [
        {
          "output_type": "stream",
          "text": [
            "----------------------------------------------------------------\n",
            "        Layer (type)               Output Shape         Param #\n",
            "================================================================\n",
            "            Conv2d-1           [-1, 32, 32, 32]             896\n",
            "       BatchNorm2d-2           [-1, 32, 32, 32]              64\n",
            "              ReLU-3           [-1, 32, 32, 32]               0\n",
            "            Conv2d-4           [-1, 32, 32, 32]           9,248\n",
            "       BatchNorm2d-5           [-1, 32, 32, 32]              64\n",
            "              ReLU-6           [-1, 32, 32, 32]               0\n",
            "         MaxPool2d-7           [-1, 32, 16, 16]               0\n",
            "            Conv2d-8           [-1, 64, 16, 16]          18,496\n",
            "       BatchNorm2d-9           [-1, 64, 16, 16]             128\n",
            "             ReLU-10           [-1, 64, 16, 16]               0\n",
            "           Conv2d-11           [-1, 64, 16, 16]          36,928\n",
            "      BatchNorm2d-12           [-1, 64, 16, 16]             128\n",
            "             ReLU-13           [-1, 64, 16, 16]               0\n",
            "           Conv2d-14          [-1, 128, 16, 16]          73,856\n",
            "      BatchNorm2d-15          [-1, 128, 16, 16]             256\n",
            "             ReLU-16          [-1, 128, 16, 16]               0\n",
            "           Conv2d-17          [-1, 128, 16, 16]         147,584\n",
            "      BatchNorm2d-18          [-1, 128, 16, 16]             256\n",
            "             ReLU-19          [-1, 128, 16, 16]               0\n",
            "           Conv2d-20          [-1, 128, 16, 16]         147,584\n",
            "      BatchNorm2d-21          [-1, 128, 16, 16]             256\n",
            "             ReLU-22          [-1, 128, 16, 16]               0\n",
            "        MaxPool2d-23            [-1, 128, 8, 8]               0\n",
            "           Conv2d-24            [-1, 256, 8, 8]         295,168\n",
            "      BatchNorm2d-25            [-1, 256, 8, 8]             512\n",
            "             ReLU-26            [-1, 256, 8, 8]               0\n",
            "           Conv2d-27            [-1, 256, 8, 8]         590,080\n",
            "      BatchNorm2d-28            [-1, 256, 8, 8]             512\n",
            "             ReLU-29            [-1, 256, 8, 8]               0\n",
            "           Conv2d-30            [-1, 256, 8, 8]         590,080\n",
            "      BatchNorm2d-31            [-1, 256, 8, 8]             512\n",
            "             ReLU-32            [-1, 256, 8, 8]               0\n",
            "           Conv2d-33            [-1, 512, 8, 8]       1,180,160\n",
            "      BatchNorm2d-34            [-1, 512, 8, 8]           1,024\n",
            "             ReLU-35            [-1, 512, 8, 8]               0\n",
            "           Conv2d-36            [-1, 512, 8, 8]       2,359,808\n",
            "      BatchNorm2d-37            [-1, 512, 8, 8]           1,024\n",
            "             ReLU-38            [-1, 512, 8, 8]               0\n",
            "           Conv2d-39            [-1, 512, 8, 8]       2,359,808\n",
            "      BatchNorm2d-40            [-1, 512, 8, 8]           1,024\n",
            "             ReLU-41            [-1, 512, 8, 8]               0\n",
            "        MaxPool2d-42            [-1, 512, 4, 4]               0\n",
            "           Linear-43                 [-1, 4096]      33,558,528\n",
            "             ReLU-44                 [-1, 4096]               0\n",
            "          Dropout-45                 [-1, 4096]               0\n",
            "           Linear-46                 [-1, 4096]      16,781,312\n",
            "             ReLU-47                 [-1, 4096]               0\n",
            "          Dropout-48                 [-1, 4096]               0\n",
            "           Linear-49                 [-1, 1000]       4,097,000\n",
            "================================================================\n",
            "Total params: 62,252,296\n",
            "Trainable params: 62,252,296\n",
            "Non-trainable params: 0\n",
            "----------------------------------------------------------------\n",
            "Input size (MB): 0.01\n",
            "Forward/backward pass size (MB): 8.26\n",
            "Params size (MB): 237.47\n",
            "Estimated Total Size (MB): 245.74\n",
            "----------------------------------------------------------------\n"
          ],
          "name": "stdout"
        }
      ]
    },
    {
      "cell_type": "code",
      "metadata": {
        "colab": {
          "base_uri": "https://localhost:8080/",
          "height": 156
        },
        "id": "8ijC-uESdgCY",
        "outputId": "938ad517-a4a9-4476-ffeb-027e1b95a979"
      },
      "source": [
        "dataiter = iter(testloader) \n",
        "\n",
        "images, labels = dataiter.next() \n",
        "\n",
        "imshow(torchvision.utils.make_grid(images)) \n",
        "\n",
        "print('GT: ', ' '.join('%5s' % classes[labels[j]] for j in range(4)))\n",
        "\n"
      ],
      "execution_count": 13,
      "outputs": [
        {
          "output_type": "display_data",
          "data": {
            "image/png": "[encoded data removed]",
            "text/plain": [
              "<Figure size 432x288 with 1 Axes>"
            ]
          },
          "metadata": {
            "tags": [],
            "needs_background": "light"
          }
        },
        {
          "output_type": "stream",
          "text": [
            "GT:    cat  ship  ship plane\n"
          ],
          "name": "stdout"
        }
      ]
    },
    {
      "cell_type": "code",
      "metadata": {
        "id": "pEaCyQL7eyjg"
      },
      "source": [
        "outputs = model(images.to(device))\n"
      ],
      "execution_count": 14,
      "outputs": []
    },
    {
      "cell_type": "code",
      "metadata": {
        "colab": {
          "base_uri": "https://localhost:8080/"
        },
        "id": "1IIAwlyee3lb",
        "outputId": "592536e1-dd1c-4a7e-ae6d-8723407c041d"
      },
      "source": [
        "_, predicted = torch.max(outputs, 1) \n",
        "print('Predicted: ', ' '.join('%5s' % classes[predicted[j]] for j in range(4)))\n"
      ],
      "execution_count": 15,
      "outputs": [
        {
          "output_type": "stream",
          "text": [
            "Predicted:    cat  ship  ship plane\n"
          ],
          "name": "stdout"
        }
      ]
    },
    {
      "cell_type": "code",
      "metadata": {
        "colab": {
          "base_uri": "https://localhost:8080/"
        },
        "id": "g4m-_mJXe7AL",
        "outputId": "c3f15e0c-548f-412f-e2ce-e5684364ff19"
      },
      "source": [
        "correct = 0 \n",
        "total = 0 \n",
        "with torch.no_grad(): \n",
        "  model.eval()\n",
        "  for data in testloader: \n",
        "    images, labels = data \n",
        "    images = images.to(device)\n",
        "\n",
        "    labels = labels.to(device) \n",
        "    outputs = model(images)\n",
        "\n",
        "    _, predicted = torch.max(outputs.data, 1) \n",
        "    total += labels.size(0) \n",
        "    correct += (predicted == labels).sum().item() \n",
        "    \n",
        "  print('Acc : %d %%' % ( 100*correct / total))\n",
        "\n"
      ],
      "execution_count": 16,
      "outputs": [
        {
          "output_type": "stream",
          "text": [
            "Acc : 79 %\n"
          ],
          "name": "stdout"
        }
      ]
    },
    {
      "cell_type": "code",
      "metadata": {
        "id": "YIND9MWGfGkU"
      },
      "source": [
        "import matplotlib.pyplot as plt\n",
        "\n",
        "def plot_compare(train : list, valid : list, ylim = None, title = None) -> None:\n",
        "    plt.figure(figsize=(15, 10))\n",
        "    plt.plot(train, label = \"train_set\")\n",
        "    plt.plot(valid, label = \"valid_set\")\n",
        "    if ylim:\n",
        "        plt.ylim(ylim)\n",
        "    \n",
        "    if title:\n",
        "        plt.title(title)\n",
        "    plt.legend()\n",
        "    plt.grid('on')\n",
        "    plt.show()"
      ],
      "execution_count": 17,
      "outputs": []
    },
    {
      "cell_type": "code",
      "metadata": {
        "colab": {
          "base_uri": "https://localhost:8080/",
          "height": 890
        },
        "id": "ThX5OSZsmhR4",
        "outputId": "60ac9b9f-aee1-4b43-89ef-0024cc7ff7f1"
      },
      "source": [
        "plot_compare(train_losses, valid_losses, title = \"train vs valid loss at Epoch\")\n",
        "\n",
        "plot_compare(train_accs, valid_accs, [0, 1.0], title = \"train vs valid acc at Epoch\")"
      ],
      "execution_count": 18,
      "outputs": [
        {
          "output_type": "display_data",
          "data": {
            "image/png": "[encoded data removed]",
            "text/plain": [
              "<Figure size 1080x720 with 1 Axes>"
            ]
          },
          "metadata": {
            "tags": [],
            "needs_background": "light"
          }
        },
        {
          "output_type": "display_data",
          "data": {
            "image/png": "[encoded data removed]",
            "text/plain": [
              "<Figure size 1080x720 with 1 Axes>"
            ]
          },
          "metadata": {
            "tags": [],
            "needs_background": "light"
          }
        }
      ]
    },
    {
      "cell_type": "code",
      "metadata": {
        "id": "OyoB6HLAmw2R"
      },
      "source": [
        ""
      ],
      "execution_count": 18,
      "outputs": []
    }
  ]
}