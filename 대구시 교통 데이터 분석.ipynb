{
  "nbformat": 4,
  "nbformat_minor": 0,
  "metadata": {
    "colab": {
      "name": "수리적 빅데이터 개론 mid",
      "provenance": [],
      "collapsed_sections": [],
      "toc_visible": true
    },
    "kernelspec": {
      "display_name": "Python 3",
      "name": "python3"
    }
  },
  "cells": [
    {
      "cell_type": "markdown",
      "metadata": {
        "id": "Moz82dXf8hWF"
      },
      "source": [
        "### - 중간고사"
      ]
    },
    {
      "cell_type": "markdown",
      "metadata": {
        "id": "dNr0qWf_z_ab"
      },
      "source": [
        "\n",
        "본격적인 시작에 앞서, 필요한 외부 라이브러리 및 기타 명칭 정의\n",
        "\n"
      ]
    },
    {
      "cell_type": "code",
      "metadata": {
        "id": "j2hjiV0_-j_R"
      },
      "source": [
        "import folium\n",
        "import pandas as pd\n",
        "import networkx as nx\n",
        "import numpy as np\n",
        "\n",
        "\n",
        "nodes = pd.read_csv(\"/content/drive/MyDrive/Colab Notebooks/수리적 빅데이터 개론/Daegu_node_1.csv\")\n",
        "\n",
        "nodes_x , nodes_y , nodes_id = nodes['X'], nodes['Y'] , nodes['NODE_ID']\n",
        "# x는 경도 y는 위도\n",
        "\n",
        "G = nx.Graph()\n",
        "nodes1 = nodes[['NODE_ID', 'X', 'Y']]\n",
        "\n",
        "\n",
        "\n",
        "y = nodes_y.mean()\n",
        "x = nodes_x.mean()\n",
        "\n",
        "daegu = folium.Map(location = [y,x] , zoom_start = 12) # 지도의 위도 / 경도 , 줌 상태\n",
        "layer1 = folium.FeatureGroup(name = 'Reg')\n",
        "layer2 = folium.FeatureGroup(name = 'DC')\n",
        "layer3 = folium.FeatureGroup(name = 'CC')\n",
        "layer4 = folium.FeatureGroup(name = 'BC')\n",
        "layer5 = folium.FeatureGroup(name = 'Degree')\n",
        "\n",
        "\n"
      ],
      "execution_count": null,
      "outputs": []
    },
    {
      "cell_type": "markdown",
      "metadata": {
        "id": "gyKcSRo00_mP"
      },
      "source": [
        "\n",
        "\n",
        "**데이터 전처리 과정(Daegu_nodes 내에 있는 nodes들 끼리의 Line만 표시하고 싶음)**\n",
        "\n",
        "\n",
        "\n",
        "\n",
        "\n",
        "\n"
      ]
    },
    {
      "cell_type": "markdown",
      "metadata": {
        "id": "v2mOD-CDpb7s"
      },
      "source": [
        "\n",
        "\n",
        "\n",
        " F_link와 T_link는 node_id 를 이용하여 나타낸 점이다. \n",
        "이 때, node_id 내에 없는 T_linke와 F_link들을 삭제해주기 위해 \n",
        "node_id내에 없는 F_link와 T_link들을 0으로(임의의 값) 바꿔준 후, \n",
        "0에 해당하는 index들을 뽑아내어서 그 index에 있는 F_link, T_link들을 삭제해준다.\n",
        "\n",
        "\n"
      ]
    },
    {
      "cell_type": "code",
      "metadata": {
        "id": "98bY9uQyzGO6",
        "colab": {
          "base_uri": "https://localhost:8080/"
        },
        "outputId": "9cc7634f-800e-4824-a855-8752d4cc6168"
      },
      "source": [
        "links = pd.read_csv(\"/content/drive/MyDrive/Colab Notebooks/수리적 빅데이터 개론/Daegu_link_1.csv\")\n",
        "\n",
        "links_f , links_t , link_id = links['F_NODE'] , links['T_NODE'], links['LINK_ID']\n",
        "\n",
        "nodes_id = list(nodes_id)\n",
        "\n",
        "\n",
        "for i in range(len(links_f)):\n",
        "  if links_f[i] not in nodes_id:\n",
        "    links_f[i] = 0\n",
        "\n",
        "for i in range(len(links_t)):\n",
        "  if links_t[i] not in nodes_id:\n",
        "    links_t[i] = 0\n",
        "\n",
        "# node_id 에 없는(즉, 대구 밖에서 들어오거나 대구 밖으로 나가는) T,F link들을 임의의 값인 0으로 바꿔줌.\n",
        "\n",
        "\n",
        "A = np.where(links_t == 0)  # T_link가 0인 index 추출\n",
        "B = np.where(links_f == 0)  # F_link가 0인 index 추출\n",
        "out_city = np.hstack([A, B]) # A, B 합치기\n",
        "out_city = np.unique(out_city) # 중복 제거. 이제 이 index에 해당하는 부분들을 T_link, F_link에서 전부 지워주면 됨.\n",
        "\n",
        "# np.delete 함수를 이용하기 위한 셋팅.\n",
        "out_city = list(out_city)\n",
        "links_f = np.array([links_f])\n",
        "links_t = np.array([links_t])\n",
        "\n",
        "\n",
        "links_f = np.delete(links_f, out_city)\n",
        "links_t = np.delete(links_t, out_city)\n",
        "\n",
        "\n",
        "\n",
        "print(len(links_f))\n",
        "print(len(links_t))\n",
        "\n",
        "# print(np.where(links_f == 0)) links_f, links_t 중 0을 값으로 가지는 인덱스가 있는지 확인\n",
        "# print(np.where(links_t == 0))\n",
        "\n",
        "links_f = list(links_f)\n",
        "links_t = list(links_t) # 다시 list 형태로 복구\n",
        "\n"
      ],
      "execution_count": null,
      "outputs": [
        {
          "output_type": "stream",
          "text": [
            "/usr/local/lib/python3.6/dist-packages/ipykernel_launcher.py:10: SettingWithCopyWarning: \n",
            "A value is trying to be set on a copy of a slice from a DataFrame\n",
            "\n",
            "See the caveats in the documentation: https://pandas.pydata.org/pandas-docs/stable/user_guide/indexing.html#returning-a-view-versus-a-copy\n",
            "  # Remove the CWD from sys.path while we load stuff.\n",
            "/usr/local/lib/python3.6/dist-packages/ipykernel_launcher.py:14: SettingWithCopyWarning: \n",
            "A value is trying to be set on a copy of a slice from a DataFrame\n",
            "\n",
            "See the caveats in the documentation: https://pandas.pydata.org/pandas-docs/stable/user_guide/indexing.html#returning-a-view-versus-a-copy\n",
            "  \n"
          ],
          "name": "stderr"
        },
        {
          "output_type": "stream",
          "text": [
            "5665\n",
            "5665\n"
          ],
          "name": "stdout"
        }
      ]
    },
    {
      "cell_type": "markdown",
      "metadata": {
        "id": "wI0QZ6st3fTs"
      },
      "source": [
        "\n",
        "\n",
        "\n",
        "데이터 전처리가 끝났으니 이제 점을 찍고 연결해주어야함.\n",
        "\n"
      ]
    },
    {
      "cell_type": "code",
      "metadata": {
        "id": "uXL4ggGn3epm"
      },
      "source": [
        "# 그래프 그리기\n",
        "for idx,row in nodes1.iterrows():\n",
        "  # add node to Graph G\n",
        "  G.add_node(row['NODE_ID'],latitude=row['Y'], longitude=row['X'])\n",
        "\n",
        "for x in range(len(links_f)):\n",
        "  G.add_edge(links_f[x], links_t[x])\n",
        "\n",
        "DC = nx.degree_centrality(G)\n",
        "CC = nx.closeness_centrality(G)\n",
        "BC = nx.betweenness_centrality(G)\n",
        "\n",
        "# 엣지 그리기\n",
        "\n",
        "for i in range(len(links_f)):\n",
        "  nodes_f = nodes_id.index(links_t[i])\n",
        "  nodes_t = nodes_id.index(links_f[i])\n",
        "  \n",
        "  long1 = nodes_x[nodes_f]\n",
        "  lati1 = nodes_y[nodes_f]\n",
        "  \n",
        "  long2 = nodes_x[nodes_t]\n",
        "  lati2 = nodes_y[nodes_t]\n",
        "\n",
        "  folium.PolyLine([(lati1, long1), (lati2, long2)], color = 'black', weight = 1, opacity = 0.5).add_to(layer1) \n",
        "  folium.PolyLine([(lati1, long1), (lati2, long2)], color = 'black', weight = 1, opacity = 0.5).add_to(layer2) \n",
        "  folium.PolyLine([(lati1, long1), (lati2, long2)], color = 'black', weight = 1, opacity = 0.5).add_to(layer3) \n",
        "  folium.PolyLine([(lati1, long1), (lati2, long2)], color = 'black', weight = 1, opacity = 0.5).add_to(layer4) \n",
        "  folium.PolyLine([(lati1, long1), (lati2, long2)], color = 'black', weight = 1, opacity = 0.5).add_to(layer5)\n",
        "  \n",
        "\n",
        "# 점찍기\n",
        "\n",
        "for i in range(len(nodes)):\n",
        "  folium.CircleMarker([nodes_y[i], nodes_x[i]], radius = 5, color = 'green',\n",
        "                      popup = 'nodes_id : %d'%nodes_id[i]).add_to(layer1)\n",
        "  \n",
        "  folium.CircleMarker([nodes_y[i], nodes_x[i]], radius = DC[nodes_id[i]] * 3000, \n",
        "                      color = 'red', popup = 'DC of %d : %.6f'%(nodes_id[i], DC[nodes_id[i]])).add_to(layer2)\n",
        "\n",
        "  folium.CircleMarker([nodes_y[i], nodes_x[i]], radius = CC[nodes_id[i]] * 100, \n",
        "                      color = 'blue', popup = 'CC of %d : %.6f'%(nodes_id[i], CC[nodes_id[i]])).add_to(layer3)\n",
        "\n",
        "  folium.CircleMarker([nodes_y[i], nodes_x[i]], radius = BC[nodes_id[i]] * 100 , color = 'purple',\n",
        "                      popup = 'BC of %d : %.6f'%(nodes_id[i], BC[nodes_id[i]])).add_to(layer4) \n",
        "\n",
        "  folium.CircleMarker([nodes_y[i], nodes_x[i]], radius = G.degree[nodes_id[i]] * 3 , color = 'yellow',\n",
        "                      popup = 'degree of %d : %d'%(nodes_id[i], G.degree[nodes_id[i]])).add_to(layer5) \n",
        "                     \n",
        "\n",
        "\n"
      ],
      "execution_count": null,
      "outputs": []
    },
    {
      "cell_type": "code",
      "metadata": {
        "id": "fLLBC7nMwwmw"
      },
      "source": [
        "daegu.add_child(layer1)\n",
        "\n",
        "daegu.add_child(layer2)\n",
        "\n",
        "daegu.add_child(layer3)\n",
        "\n",
        "daegu.add_child(layer4)\n",
        "\n",
        "daegu.add_child(layer5)\n",
        "\n",
        "daegu.add_child(folium.LayerControl())\n",
        "\n"
      ],
      "execution_count": null,
      "outputs": []
    },
    {
      "cell_type": "code",
      "metadata": {
        "id": "j0PGoaCAU0WG"
      },
      "source": [
        "daegu.save('dague.html')\n"
      ],
      "execution_count": null,
      "outputs": []
    },
    {
      "cell_type": "code",
      "metadata": {
        "id": "5Mfe8mWj9d8l",
        "colab": {
          "base_uri": "https://localhost:8080/"
        },
        "outputId": "fd35cc70-ea2f-48e0-dec4-18a491ba271e"
      },
      "source": [
        "\n",
        "sum = 0\n",
        "for i in DC.keys():\n",
        "  sum += DC[i]\n",
        "  \n",
        "sum / len(DC)\n"
      ],
      "execution_count": null,
      "outputs": [
        {
          "output_type": "execute_result",
          "data": {
            "text/plain": [
              "0.001681551751860067"
            ]
          },
          "metadata": {
            "tags": []
          },
          "execution_count": 9
        }
      ]
    },
    {
      "cell_type": "code",
      "metadata": {
        "id": "mWRASmpp_7Vs",
        "colab": {
          "base_uri": "https://localhost:8080/"
        },
        "outputId": "8fa89b55-1254-466f-ffbb-d6461bf8dcd2"
      },
      "source": [
        "\n",
        "sum = 0\n",
        "for i in BC.keys():\n",
        "  sum += BC[i]\n",
        " \n",
        "sum / len(BC)\n"
      ],
      "execution_count": null,
      "outputs": [
        {
          "output_type": "execute_result",
          "data": {
            "text/plain": [
              "0.013020386495237743"
            ]
          },
          "metadata": {
            "tags": []
          },
          "execution_count": 10
        }
      ]
    },
    {
      "cell_type": "code",
      "metadata": {
        "id": "qx1SAwsw_7vS",
        "colab": {
          "base_uri": "https://localhost:8080/"
        },
        "outputId": "bda42b9a-d171-4506-84e2-1d97b3e64650"
      },
      "source": [
        "\n",
        "sum = 0\n",
        "for i in CC.keys():\n",
        "  sum += CC[i]\n",
        "  \n",
        "sum / len(CC)\n"
      ],
      "execution_count": null,
      "outputs": [
        {
          "output_type": "execute_result",
          "data": {
            "text/plain": [
              "0.040389928479988915"
            ]
          },
          "metadata": {
            "tags": []
          },
          "execution_count": 11
        }
      ]
    },
    {
      "cell_type": "code",
      "metadata": {
        "id": "qlJxWsYpT7ky"
      },
      "source": [
        ""
      ],
      "execution_count": null,
      "outputs": []
    }
  ]
}