{
  "nbformat": 4,
  "nbformat_minor": 0,
  "metadata": {
    "colab": {
      "name": "밑바닥부터 시작하는 딥러닝 6장-",
      "provenance": [],
      "collapsed_sections": [],
      "toc_visible": true
    },
    "kernelspec": {
      "name": "python3",
      "display_name": "Python 3"
    }
  },
  "cells": [
    {
      "cell_type": "code",
      "metadata": {
        "id": "wHeweAl6DeuK"
      },
      "source": [
        "class SGD:\n",
        "  def __init__(self, lr=0.01):\n",
        "    self.lr = lr\n",
        "\n",
        "  def update(self, params, grads):\n",
        "    for key in params.key():\n",
        "      params[key] -= self.lr*grads[key]"
      ],
      "execution_count": null,
      "outputs": []
    },
    {
      "cell_type": "code",
      "metadata": {
        "id": "TmHhrKY868_K"
      },
      "source": [
        "class Momentum:\n",
        "  def __init__(self, lr=0.01, momentum=0.9):\n",
        "    self.lr = lr\n",
        "    self.momentum = momentum\n",
        "    self.v = None\n",
        "\n",
        "  def update(self, params, grads):\n",
        "    if self.v is None:\n",
        "      self.v = {}\n",
        "      for key, val in params.items():\n",
        "        self.v[key] = np.zeros_like(val)\n",
        "\n",
        "    for key in params.keys():\n",
        "      self.v[key] = self.momentum * self.v[key] - self.lr * grads[key]\n",
        "      params[key] += self.v[key]"
      ],
      "execution_count": null,
      "outputs": []
    },
    {
      "cell_type": "code",
      "metadata": {
        "id": "S5b5X4r29b2I"
      },
      "source": [
        "class AdaGrad:\n",
        "  def __init__(self, lr=0.01):\n",
        "    self.lr = lr\n",
        "    self.h = None\n",
        "\n",
        "  def update(self, params, grads):\n",
        "    if self.h is None:\n",
        "      self.h = {}\n",
        "      for key, val in params.items():\n",
        "        self.h[key] = np.zeros_like(val)\n",
        "\n",
        "    for key in params.keys():\n",
        "      self.h[key] += grads[key] * grads[key]\n",
        "      params[keys] -= self.lr * grads[key] / (np.sqrt(self.h[key] + 1e-7))"
      ],
      "execution_count": null,
      "outputs": []
    },
    {
      "cell_type": "code",
      "metadata": {
        "id": "pasGx8PVB1zg",
        "colab": {
          "base_uri": "https://localhost:8080/",
          "height": 315
        },
        "outputId": "b647ea16-a7c2-4224-e310-ef1688f414bd"
      },
      "source": [
        "import numpy as np\n",
        "import matplotlib.pyplot as plt\n",
        "\n",
        "def sigmoid(x):\n",
        "  return 1 / (1 + np.exp(-x))\n",
        "\n",
        "x = np.random.randn(1000,100) # 1000개의 데이터\n",
        "node_num = 100 # 각 은닉층의 노드(뉴런) 수\n",
        "hidden_layer_size = 5 # 은닉층이 5개\n",
        "activations = {} # 이곳에 활성화 결과(활성화값)를 저장\n",
        "\n",
        "for i in range(hidden_layer_size):\n",
        "  if i != 0:\n",
        "    x = activations[i-1]\n",
        "\n",
        "  w = np.random.randn(node_num, node_num) * 1\n",
        "  a = np.dot(x, w)\n",
        "  z = sigmoid(a)\n",
        "  activations[i] = z\n",
        "\n",
        "# 히스토그램 그리기\n",
        "for i, a in activations.items():\n",
        "  plt.subplot(1, len(activations), i+1)\n",
        "  plt.title(str(i+1) + \"-layer\")\n",
        "  plt.tight_layout(pad = 0.2)\n",
        "  plt.hist(a.flatten(), 30, range = (0,1))\n",
        "  plt.ylim(0,40000)\n",
        "plt.show()"
      ],
      "execution_count": null,
      "outputs": [
        {
          "output_type": "display_data",
          "data": {
            "image/png": "[encoded data removed]",
            "text/plain": [
              "<Figure size 432x288 with 5 Axes>"
            ]
          },
          "metadata": {
            "tags": [],
            "needs_background": "light"
          }
        }
      ]
    },
    {
      "cell_type": "code",
      "metadata": {
        "id": "EbJO8hjUPyMH",
        "colab": {
          "base_uri": "https://localhost:8080/",
          "height": 315
        },
        "outputId": "443f3ae2-9f5d-4b21-cb30-f7d6c1178ffb"
      },
      "source": [
        "import numpy as np\n",
        "import matplotlib.pyplot as plt\n",
        "\n",
        "def sigmoid(x):\n",
        "  return 1 / (1 + np.exp(-x))\n",
        "\n",
        "x = np.random.randn(1000,100) # 1000개의 데이터\n",
        "node_num = 100 # 각 은닉층의 노드(뉴런) 수\n",
        "hidden_layer_size = 5 # 은닉층이 5개\n",
        "activations = {} # 이곳에 활성화 결과(활성화값)를 저장\n",
        "\n",
        "for i in range(hidden_layer_size):\n",
        "  if i != 0:\n",
        "    x = activations[i-1]\n",
        "\n",
        "  # w = np.random.randn(node_num, node_num) * 1\n",
        "  w = np.random.randn(node_num, node_num) * 0.01 # 가중치의 표준편차를 0.01로 바꿔봄.\n",
        "  a = np.dot(x, w)\n",
        "  z = sigmoid(a)\n",
        "  activations[i] = z\n",
        "\n",
        "# 히스토그램 그리기\n",
        "for i, a in activations.items():\n",
        "  plt.subplot(1, len(activations), i+1)\n",
        "  plt.title(str(i+1) + \"-layer\")\n",
        "  plt.tight_layout(pad = 0.2)\n",
        "  plt.hist(a.flatten(), 30, range = (0,1))\n",
        "  plt.ylim(0,40000)\n",
        "plt.show()"
      ],
      "execution_count": null,
      "outputs": [
        {
          "output_type": "display_data",
          "data": {
            "image/png": "[encoded data removed]",
            "text/plain": [
              "<Figure size 432x288 with 5 Axes>"
            ]
          },
          "metadata": {
            "tags": [],
            "needs_background": "light"
          }
        }
      ]
    },
    {
      "cell_type": "code",
      "metadata": {
        "id": "mlBk7U5SRyll",
        "colab": {
          "base_uri": "https://localhost:8080/",
          "height": 315
        },
        "outputId": "e6eeb6f7-6d14-4a79-bf48-1536864e88f4"
      },
      "source": [
        "import numpy as np\n",
        "import matplotlib.pyplot as plt\n",
        "\n",
        "def sigmoid(x):\n",
        "  return 1 / (1 + np.exp(-x))\n",
        "\n",
        "x = np.random.randn(1000,100) # 1000개의 데이터\n",
        "node_num = 100 # 각 은닉층의 노드(뉴런) 수\n",
        "hidden_layer_size = 5 # 은닉층이 5개\n",
        "activations = {} # 이곳에 활성화 결과(활성화값)를 저장\n",
        "\n",
        "for i in range(hidden_layer_size):\n",
        "  if i != 0:\n",
        "    x = activations[i-1]\n",
        "\n",
        "  # w = np.random.randn(node_num, node_num) * 1\n",
        "  # w = np.random.randn(node_num, node_num) * 0.01 # 가중치의 표준편차를 0.01로 바꿔봄.\n",
        "  w = np.random.randn(node_num, node_num) / np.sqrt(node_num)\n",
        "\n",
        "  # 위 그림들을 보면 알겠지만, 뉴런들이 같은 값들을 출력한다는 것은 별로 의미가 없음.\n",
        "  # 그래서 Xavier 초깃값을 이용할 것임.\n",
        "  # Xavier 초깃값은 표준편차로 1/sqrt(n) 을 이용하는 것.\n",
        "  a = np.dot(x, w)\n",
        "  z = sigmoid(a)\n",
        "  activations[i] = z\n",
        "\n",
        "# 히스토그램 그리기\n",
        "for i, a in activations.items():\n",
        "  plt.subplot(1, len(activations), i+1)\n",
        "  plt.title(str(i+1) + \"-layer\")\n",
        "  plt.tight_layout(pad = 0.2)\n",
        "  plt.hist(a.flatten(), 30, range = (0,1))\n",
        "  plt.ylim(0,6000)\n",
        "plt.show()\n",
        "# 확실히 넓게 분포됨."
      ],
      "execution_count": null,
      "outputs": [
        {
          "output_type": "display_data",
          "data": {
            "image/png": "[encoded data removed]",
            "text/plain": [
              "<Figure size 432x288 with 5 Axes>"
            ]
          },
          "metadata": {
            "tags": [],
            "needs_background": "light"
          }
        }
      ]
    },
    {
      "cell_type": "code",
      "metadata": {
        "id": "wV71mFZKWPou",
        "colab": {
          "base_uri": "https://localhost:8080/",
          "height": 315
        },
        "outputId": "200221a4-58a1-49a2-861f-d7e2c97d0def"
      },
      "source": [
        "# 활성화 함수로 sigmoid 가 아닌 Relu 함수를 사용할 경우\n",
        "\n",
        "\n",
        "import numpy as np\n",
        "import matplotlib.pyplot as plt\n",
        "\n",
        "def Relu(x):\n",
        "  return np.maximum(0, x)\n",
        "  \n",
        "x = np.random.randn(1000,100) # 1000개의 데이터\n",
        "node_num = 100 # 각 은닉층의 노드(뉴런) 수\n",
        "hidden_layer_size = 5 # 은닉층이 5개\n",
        "activations = {} # 이곳에 활성화 결과(활성화값)를 저장\n",
        "\n",
        "for i in range(hidden_layer_size):\n",
        "  if i != 0:\n",
        "    x = activations[i-1]\n",
        "\n",
        "  w = np.random.randn(node_num, node_num) * 0.01\n",
        "  a = np.dot(x, w)\n",
        "  z = Relu(a)\n",
        "  activations[i] = z\n",
        "\n",
        "# 히스토그램 그리기\n",
        "for i, a in activations.items():\n",
        "  plt.subplot(1, len(activations), i+1)\n",
        "  plt.title(str(i+1) + \"-layer\")\n",
        "  plt.tight_layout(pad = 0.2)\n",
        "  plt.hist(a.flatten(), 30, range = (0,1))\n",
        "  plt.ylim(0,7000)\n",
        "\n",
        "plt.show()"
      ],
      "execution_count": null,
      "outputs": [
        {
          "output_type": "display_data",
          "data": {
            "image/png": "[encoded data removed]",
            "text/plain": [
              "<Figure size 432x288 with 5 Axes>"
            ]
          },
          "metadata": {
            "tags": [],
            "needs_background": "light"
          }
        }
      ]
    },
    {
      "cell_type": "code",
      "metadata": {
        "id": "iXwYMNXrXbxw",
        "colab": {
          "base_uri": "https://localhost:8080/",
          "height": 315
        },
        "outputId": "f089047e-3548-435b-c809-b253ee1fc3d6"
      },
      "source": [
        "# 활성화 함수로 sigmoid 가 아닌 Relu 함수를 사용할 경우\n",
        "\n",
        "\n",
        "import numpy as np\n",
        "import matplotlib.pyplot as plt\n",
        "\n",
        "def Relu(x):\n",
        "  return np.maximum(0, x)\n",
        "  \n",
        "x = np.random.randn(1000,100) # 1000개의 데이터\n",
        "node_num = 100 # 각 은닉층의 노드(뉴런) 수\n",
        "hidden_layer_size = 5 # 은닉층이 5개\n",
        "activations = {} # 이곳에 활성화 결과(활성화값)를 저장\n",
        "\n",
        "for i in range(hidden_layer_size):\n",
        "  if i != 0:\n",
        "    x = activations[i-1]\n",
        "\n",
        "  w = np.random.randn(node_num, node_num) / np.sqrt(node_num) # Xavier 초깃값\n",
        "  a = np.dot(x, w)\n",
        "  z = Relu(a)\n",
        "  activations[i] = z\n",
        "\n",
        "# 히스토그램 그리기\n",
        "for i, a in activations.items():\n",
        "  \n",
        "  plt.subplot(1, len(activations), i+1)\n",
        "  plt.title(str(i+1) + \"-layer\")\n",
        "  plt.tight_layout(pad = 0.2)\n",
        "  plt.hist(a.flatten(), 30, range = (0,1))\n",
        "  plt.ylim(0,7000)\n",
        "\n",
        "plt.show()"
      ],
      "execution_count": null,
      "outputs": [
        {
          "output_type": "display_data",
          "data": {
            "image/png": "[encoded data removed]",
            "text/plain": [
              "<Figure size 432x288 with 5 Axes>"
            ]
          },
          "metadata": {
            "tags": [],
            "needs_background": "light"
          }
        }
      ]
    },
    {
      "cell_type": "code",
      "metadata": {
        "id": "h3HXjopAX3Go",
        "colab": {
          "base_uri": "https://localhost:8080/",
          "height": 315
        },
        "outputId": "db33ed9b-d104-4d52-ca48-534428e8b248"
      },
      "source": [
        "# 활성화 함수로 sigmoid 가 아닌 Relu 함수를 사용할 경우\n",
        "\n",
        "\n",
        "import numpy as np\n",
        "import matplotlib.pyplot as plt\n",
        "\n",
        "def Relu(x):\n",
        "  return np.maximum(0, x)\n",
        "  \n",
        "x = np.random.randn(1000,100) # 1000개의 데이터\n",
        "node_num = 100 # 각 은닉층의 노드(뉴런) 수\n",
        "hidden_layer_size = 5 # 은닉층이 5개\n",
        "activations = {} # 이곳에 활성화 결과(활성화값)를 저장\n",
        "\n",
        "for i in range(hidden_layer_size):\n",
        "  if i != 0:\n",
        "    x = activations[i-1]\n",
        "\n",
        "  w = np.random.randn(node_num, node_num) * np.sqrt(2/node_num) # He 초깃값 사용.\n",
        "  a = np.dot(x, w)\n",
        "  z = Relu(a)\n",
        "  activations[i] = z\n",
        "\n",
        "# 히스토그램 그리기\n",
        "for i, a in activations.items():\n",
        "  \n",
        "  plt.subplot(1, len(activations), i+1)\n",
        "  plt.title(str(i+1) + \"-layer\")\n",
        "  plt.tight_layout(pad = 0.2)\n",
        "  plt.hist(a.flatten(), 30, range = (0,1))\n",
        "  plt.ylim(0,7000)\n",
        "\n",
        "plt.show()"
      ],
      "execution_count": null,
      "outputs": [
        {
          "output_type": "display_data",
          "data": {
            "image/png": "[encoded data removed]",
            "text/plain": [
              "<Figure size 432x288 with 5 Axes>"
            ]
          },
          "metadata": {
            "tags": [],
            "needs_background": "light"
          }
        }
      ]
    },
    {
      "cell_type": "code",
      "metadata": {
        "id": "Yh88X7FZYBEv",
        "colab": {
          "base_uri": "https://localhost:8080/",
          "height": 53
        },
        "outputId": "2f0a422a-7e85-46c0-f4a0-3e705c736219"
      },
      "source": [
        "'''\n",
        "따라서, 활성화 함수로 Relu 함수를 이용하면 He 초깃값을,\n",
        "sigmoid나 tanh 등의 S자 모양 곡선일 때는 Xavier 초깃값을 쓰는게 \n",
        "현재의 모범사례라고 할 수 있음.\n",
        "'''"
      ],
      "execution_count": null,
      "outputs": [
        {
          "output_type": "execute_result",
          "data": {
            "application/vnd.google.colaboratory.intrinsic+json": {
              "type": "string"
            },
            "text/plain": [
              "'\\n따라서, 활성화 함수로 Relu 함수를 이용하면 He 초깃값을,\\nsigmoid나 tanh 등의 S자 모양 곡선일 때는 Xavier 초깃값을 쓰는게 \\n현재의 모범사례라고 할 수 있음.\\n'"
            ]
          },
          "metadata": {
            "tags": []
          },
          "execution_count": 10
        }
      ]
    },
    {
      "cell_type": "code",
      "metadata": {
        "id": "XbkjbA0ZaHBi"
      },
      "source": [
        "class Dropout:\n",
        "  def __init__(self, dropout_ratio = 0.5):\n",
        "    self.dropout_ratio = dropout_ratio\n",
        "    self.mask = None\n",
        "\n",
        "  def forward(self, x, train_flg = True):\n",
        "    if train_flg:\n",
        "      self.mask = np.random.rand(*x.shape) > self.dropout_ratio\n",
        "      return x * self.mask\n",
        "    else:\n",
        "      return x * (1.0 - self.dropout_ratio)\n",
        "\n",
        "    def backward(self, dout):\n",
        "      return dout * self.mask"
      ],
      "execution_count": null,
      "outputs": []
    },
    {
      "cell_type": "code",
      "metadata": {
        "id": "3Oh1_-2hkPF2"
      },
      "source": [
        "import sys, os\n",
        "os.chdir(\"/content/drive/My Drive/Colab Notebooks/data/deep-learning-from-scratch-master\")\n",
        "sys.path.append(os.pardir)\n",
        "import numpy as np\n",
        "from dataset.mnist import load_mnist \n",
        "from common.util import shuffle_dataset\n",
        "(x_train, t_train), (x_test, t_test) = load_mnist()\n",
        "\n",
        "# 훈련 데이터를 뒤섞는다.\n",
        "x_train, t_train = shuffle_dataset(x_train, t_train)\n",
        "\n",
        "# 20%를 검증 데이터로 분할\n",
        "validation_rate = 0.20\n",
        "validation_num = int(x_train.shape[0] * validation_rate)\n",
        "\n",
        "x_val = x_train[:validation_num] # 0번부터 20%수준까지 슬라이싱\n",
        "t_val = t_train[:validation_num]\n",
        "x_train = x_train[validation_num:] # 20% 수준부터 나머지 전부\n",
        "t_train = t_train[validation_num:]\n",
        "\n",
        "weight_decay = 10 ** np.random.uniform(-8, -4)\n",
        "lr = 10 ** np.random.uniform(-6, -2)\n"
      ],
      "execution_count": null,
      "outputs": []
    },
    {
      "cell_type": "markdown",
      "metadata": {
        "id": "D0p5UoKI3_8M"
      },
      "source": [
        "## 7장 - 합성곱 신경망(CNN)"
      ]
    },
    {
      "cell_type": "code",
      "metadata": {
        "id": "lcL7VvGs3-Z3",
        "colab": {
          "base_uri": "https://localhost:8080/",
          "height": 34
        },
        "outputId": "60442e01-ef5a-4907-c3c2-35e085ea054e"
      },
      "source": [
        "x = np.random.rand(10, 1, 28, 28) # 무작위로 데이터 생성\n",
        "x.shape"
      ],
      "execution_count": null,
      "outputs": [
        {
          "output_type": "execute_result",
          "data": {
            "text/plain": [
              "(10, 1, 28, 28)"
            ]
          },
          "metadata": {
            "tags": []
          },
          "execution_count": 12
        }
      ]
    },
    {
      "cell_type": "code",
      "metadata": {
        "id": "aOFleNPMGouo",
        "colab": {
          "base_uri": "https://localhost:8080/",
          "height": 52
        },
        "outputId": "c66c2474-3800-4af7-c5fc-b6292a55f566"
      },
      "source": [
        "print(x[0].shape)\n",
        "print(x[1].shape)\n",
        "# print(x[0, 0])"
      ],
      "execution_count": null,
      "outputs": [
        {
          "output_type": "stream",
          "text": [
            "(1, 28, 28)\n",
            "(1, 28, 28)\n"
          ],
          "name": "stdout"
        }
      ]
    },
    {
      "cell_type": "code",
      "metadata": {
        "id": "aF8-Hrt0GuHx",
        "colab": {
          "base_uri": "https://localhost:8080/",
          "height": 52
        },
        "outputId": "d86f8f05-6d65-4d65-c97d-a6232f627bac"
      },
      "source": [
        "import sys, os\n",
        "os.chdir(\"/content/drive/My Drive/Colab Notebooks/data/deep-learning-from-scratch-master\")\n",
        "sys.path.append(os.pardir)\n",
        "from common.util import im2col\n",
        "\n",
        "x1 = np.random.rand(1, 3, 7, 7) # (데이터 수, 채널 수, 높이, 너비)\n",
        "col1 = im2col(x1, 5, 5, stride = 1, pad = 0)\n",
        "print(col1.shape) # (9, 75)\n",
        "\n",
        "x2 = np.random.rand(10, 3, 7, 7) # 데이터 10개\n",
        "col2 = im2col(x2, 5, 5, stride = 1, pad = 0)\n",
        "print(col2.shape) # (90, 75)"
      ],
      "execution_count": null,
      "outputs": [
        {
          "output_type": "stream",
          "text": [
            "(9, 75)\n",
            "(90, 75)\n"
          ],
          "name": "stdout"
        }
      ]
    },
    {
      "cell_type": "code",
      "metadata": {
        "id": "MUY32mxKIjan"
      },
      "source": [
        "class Convolution:\n",
        "  def __init__(self, W, b, stride=1, pad = 0):\n",
        "    self.W = W\n",
        "    self.b = b\n",
        "    self.stride = stride\n",
        "    self.pad = pad\n",
        "\n",
        "  def forward(self, x):\n",
        "    FN, C, FH, FW = self.W.shape\n",
        "    N, C, H, W = x.shape\n",
        "    out_h = int(1 + (H + 2*self.pad - FH) / self.stride)\n",
        "    out_w = int(1 + (W + 2*self.pad - FW) / self.stride)\n",
        "\n",
        "    col = im2col(x, FH, FW, self.stride, self.pad)\n",
        "    col_W = self.W.reshape(FN, - 1).T # 필터 전개\n",
        "    out = np.dot(col, col_W) + self.b\n",
        "\n",
        "    out = out.reshape(N, out_h, out_w, -1).transpose(0, 3, 1, 2)\n",
        "    return out"
      ],
      "execution_count": null,
      "outputs": []
    },
    {
      "cell_type": "code",
      "metadata": {
        "id": "Rh9_IW6_M6VF"
      },
      "source": [
        "class Pooling:\n",
        "  def __init__(self, pool_h, pool_W, stride = 1, pad = 0):\n",
        "    self.pool_h = pool_h\n",
        "    self.pool_w = pool_w\n",
        "    self.stride = stride\n",
        "    self.pad = pad\n",
        "\n",
        "  def forward(self, x):\n",
        "    N, C, H, W = x.shape\n",
        "    out_h = int(1 + ( H - self.pool_h) / self.stride)\n",
        "    out_w = int(1 + ( W - self.pool_w) / self.stride)\n",
        "\n",
        "    # 전개 (1)\n",
        "\n",
        "    col = im2col(x, self.pool_h, self.pool_w, self.stride, self.pad)\n",
        "    col = col.reshape(-1, self.pool_h*self.pool_w)\n",
        "\n",
        "    # 최댓값(2)\n",
        "    out = np.max(col, axis = 1)\n",
        "\n",
        "    # 성형(3)\n",
        "    out = out.reshape(N, out_h, out_w, C).transpose(0, 3, 1, 2)\n",
        "\n",
        "    return out"
      ],
      "execution_count": null,
      "outputs": []
    },
    {
      "cell_type": "code",
      "metadata": {
        "id": "0BShlzStOJzW",
        "colab": {
          "base_uri": "https://localhost:8080/",
          "height": 34
        },
        "outputId": "85d437f1-260b-439b-f7e6-fabb5c0ad1da"
      },
      "source": [
        "X = np.random.rand(10, 1, 28, 28)\n",
        "#print(X.shape)\n",
        "X = X.reshape(10, 1, 28, 28).transpose(0, 3, 1, 2)\n",
        "print(X.shape)"
      ],
      "execution_count": null,
      "outputs": [
        {
          "output_type": "stream",
          "text": [
            "(10, 28, 1, 28)\n"
          ],
          "name": "stdout"
        }
      ]
    },
    {
      "cell_type": "code",
      "metadata": {
        "id": "FIA8JplGPGti"
      },
      "source": [
        "class SimpleConvNet:\n",
        "  def __init__(self, input_dim = (1, 28, 28), conv_param=  {'filter_num' : 30, 'filter_size':5, 'pad':0, 'stride':1},\n",
        "               hidden_size = 100, output_size =10, weight_init_std=0.01):\n",
        "    filter_num = conv_param['filter_num']\n",
        "    filter_size = conv_param['filter_size']\n",
        "    filter_pad = conv_param['pad']\n",
        "    filter_stride = conv_param['stride']\n",
        "    input_size = input_dim[1]\n",
        "    conv_output_size = (input_size - filter_size + 2*filter_pad) / filter_stride + 1\n",
        "    pool_output_size = int(filter_num * (conv_ouput_size/2) * (conv_output_size/2))\n",
        "\n",
        "    # 가중치 매개변수 초기화\n",
        "    self.params = {}\n",
        "    self.params['W1'] = weight_init_std * np.random.randn(filter_num, input_dim[0], filter_size, filter_size)\n",
        "    self.params['b1'] = np.zeros(filter_num)\n",
        "    self.params['W2'] = weight_init_std * np.random.randn(pool_output_size, hidden_size)\n",
        "    self.params['b2'] = np.zeros(hidden_size)\n",
        "    self.params['W3'] = weight_init_std * np.random.randn(hidden_size, output_size)\n",
        "    self.params['b3'] = np.zeros(output_size)\n",
        "\n",
        "\n",
        "    # 계층 생성\n",
        "    self.layers = OrderedDict()\n",
        "    self.layer['Conv1'] = Convolution(self.params['W1'], self.params['b1'], conv_param['stride'], conv_param['pad'])\n",
        "    self.layers['Relu1'] = Relu()\n",
        "    self.layers['Pool1'] = Pooling(pool_h = 2, pool_w= 2, stride= 2)\n",
        "    self.layers['Affine1'] = Affine(self.params['W2'], self.params['b2'])\n",
        "    self.layers['Relu2'] = Relu()\n",
        "    self.layers['Affine2'] = Affine(self.params['W3'], self.params['b3'])\n",
        "\n",
        "    self.last_Layer = SoftmaxWithLoss()\n",
        "\n",
        "\n",
        "  def predict(self, x):\n",
        "    for layer in self.layers.values():\n",
        "      x = layer.forward(x)\n",
        "\n",
        "    return x\n",
        "\n",
        "  # x : 입력 데이터, t : 정답 레이블\n",
        "  \n",
        "  def loss(self, x ,t):\n",
        "    y = self.predict(x)\n",
        "    return self.last_Layer.forward(y, t)\n",
        "\n",
        "\n",
        "  def gradient(self, x, t):\n",
        "    # 순전파\n",
        "    self.loss(x, t)\n",
        "\n",
        "    #역전파\n",
        "    dout = 1\n",
        "    dout = self.last_Layer.backward(dout)\n",
        "\n",
        "    layers = list(self.layers.values())\n",
        "    layers.reverse()\n",
        "    for layer in layers:\n",
        "      dout = layer.backward(dout)\n",
        "\n",
        "    # 결과 저장\n",
        "    grads = {}\n",
        "    grads['W1'] = self.layers['Conv1'].dW\n",
        "    grads['b1'] = self.layers['Conv1'].db\n",
        "    grads['W2'] = self.layers['Affine1'].dW\n",
        "    grads['b2'] = self.layers['Affine1'].db\n",
        "    grads['W3'] = self.layers['Affine2'].dW\n",
        "    grads['b3'] = self.layers['Affine2'].db\n",
        "\n",
        "    return grads"
      ],
      "execution_count": null,
      "outputs": []
    },
    {
      "cell_type": "code",
      "metadata": {
        "id": "dk87cynPQqBR",
        "colab": {
          "base_uri": "https://localhost:8080/",
          "height": 1000
        },
        "outputId": "cf93aa69-749a-4feb-8393-9dc46c521159"
      },
      "source": [
        "# coding: utf-8\n",
        "import sys, os\n",
        "os.chdir(\"/content/drive/My Drive/Colab Notebooks/data/deep-learning-from-scratch-master\")\n",
        "os.chdir(\"/content/drive/My Drive/Colab Notebooks/data/deep-learning-from-scratch-master/ch07\")\n",
        "sys.path.append(os.pardir)  # 부모 디렉터리의 파일을 가져올 수 있도록 설정\n",
        "import numpy as np\n",
        "import matplotlib.pyplot as plt\n",
        "from dataset.mnist import load_mnist\n",
        "from simple_convnet import SimpleConvNet\n",
        "from common.trainer import Trainer\n",
        "\n",
        "# 데이터 읽기\n",
        "(x_train, t_train), (x_test, t_test) = load_mnist(flatten=False)\n",
        "\n",
        " #시간이 오래 걸릴 경우 데이터를 줄인다.\n",
        "x_train, t_train = x_train[:5000], t_train[:5000]\n",
        "x_test, t_test = x_test[:1000], t_test[:1000]\n",
        "\n",
        "max_epochs = 5\n",
        "\n",
        "network = SimpleConvNet(input_dim=(1,28,28), \n",
        "                        conv_param = {'filter_num': 30, 'filter_size': 5, 'pad': 0, 'stride': 1},\n",
        "                        hidden_size=100, output_size=10, weight_init_std=0.01)\n",
        "                        \n",
        "trainer = Trainer(network, x_train, t_train, x_test, t_test,\n",
        "                  epochs=max_epochs, mini_batch_size=100,\n",
        "                  optimizer='Adam', optimizer_param={'lr': 0.001},\n",
        "                  evaluate_sample_num_per_epoch=1000)\n",
        "trainer.train()\n",
        "\n",
        "# 매개변수 보존\n",
        "network.save_params(\"params.pkl\")\n",
        "print(\"Saved Network Parameters!\")\n",
        "\n",
        "# 그래프 그리기\n",
        "markers = {'train': 'o', 'test': 's'}\n",
        "x = np.arange(max_epochs)\n",
        "plt.plot(x, trainer.train_acc_list, marker='o', label='train', markevery=2)\n",
        "plt.plot(x, trainer.test_acc_list, marker='s', label='test', markevery=2)\n",
        "plt.xlabel(\"epochs\")\n",
        "plt.ylabel(\"accuracy\")\n",
        "plt.ylim(0, 1.0)\n",
        "plt.legend(loc='lower right')\n",
        "plt.show()\n"
      ],
      "execution_count": null,
      "outputs": [
        {
          "output_type": "stream",
          "text": [
            "train loss:2.3000626466939447\n",
            "=== epoch:1, train acc:0.19, test acc:0.163 ===\n",
            "train loss:2.296430552663603\n",
            "train loss:2.2926099081925204\n",
            "train loss:2.2863620577028114\n",
            "train loss:2.2818074681070892\n",
            "train loss:2.273417462840656\n",
            "train loss:2.263812984356161\n",
            "train loss:2.236057444068274\n",
            "train loss:2.214089732387353\n",
            "train loss:2.18994278880419\n",
            "train loss:2.144914695475682\n",
            "train loss:2.1334806206730232\n",
            "train loss:2.1366535292955358\n",
            "train loss:2.028124834817767\n",
            "train loss:1.9949631704380177\n",
            "train loss:1.958481285140655\n",
            "train loss:1.8365323039204684\n",
            "train loss:1.8085953297765318\n",
            "train loss:1.717356778256858\n",
            "train loss:1.5885983604547127\n",
            "train loss:1.6075150471202553\n",
            "train loss:1.4836917761449453\n",
            "train loss:1.4573960812454354\n",
            "train loss:1.3493587786372243\n",
            "train loss:1.159734824021079\n",
            "train loss:1.1819418496460634\n",
            "train loss:1.1352346829322675\n",
            "train loss:1.1684790672151015\n",
            "train loss:1.0111377000551887\n",
            "train loss:0.9147267578719342\n",
            "train loss:0.8769087422039281\n",
            "train loss:0.8897761074631336\n",
            "train loss:0.7475677009798791\n",
            "train loss:0.7769142067930908\n",
            "train loss:0.6171504704727561\n",
            "train loss:0.6716967155355996\n",
            "train loss:0.8083537696946159\n",
            "train loss:0.7218234176556968\n",
            "train loss:0.689255816515372\n",
            "train loss:0.6597618708977104\n",
            "train loss:0.6982062081053505\n",
            "train loss:0.7290807664995168\n",
            "train loss:0.512714542064601\n",
            "train loss:0.48429729683515454\n",
            "train loss:0.5310652152729969\n",
            "train loss:0.571711847158195\n",
            "train loss:0.6259916151055215\n",
            "train loss:0.4820646614478889\n",
            "train loss:0.48813277741247907\n",
            "train loss:0.5297598451223972\n",
            "train loss:0.3934246217047658\n",
            "=== epoch:2, train acc:0.803, test acc:0.782 ===\n",
            "train loss:0.5048467884445836\n",
            "train loss:0.42960422351668\n",
            "train loss:0.3671468516414518\n",
            "train loss:0.4753591175909178\n",
            "train loss:0.3664367895066805\n",
            "train loss:0.6375957886241022\n",
            "train loss:0.37813817694109697\n",
            "train loss:0.40865846768234726\n",
            "train loss:0.47292430267505325\n",
            "train loss:0.3149924033602347\n",
            "train loss:0.749766591590281\n",
            "train loss:0.5503022546376531\n",
            "train loss:0.4736909115779524\n",
            "train loss:0.5435950035150467\n",
            "train loss:0.46508823401975746\n",
            "train loss:0.3658848472953264\n",
            "train loss:0.5412277968250764\n",
            "train loss:0.38233710744617916\n",
            "train loss:0.4312087519276737\n",
            "train loss:0.39387430439762006\n",
            "train loss:0.29791749796825046\n",
            "train loss:0.313876116711636\n",
            "train loss:0.47746877317751063\n",
            "train loss:0.379682645826922\n",
            "train loss:0.3760536131013087\n",
            "train loss:0.4518250612340342\n",
            "train loss:0.28372877902739546\n",
            "train loss:0.2502818640939779\n",
            "train loss:0.36486161610398304\n",
            "train loss:0.3515967014937436\n",
            "train loss:0.35800965884887753\n",
            "train loss:0.5826331249872977\n",
            "train loss:0.38010519402529847\n",
            "train loss:0.32513210128054354\n",
            "train loss:0.38141884960907235\n",
            "train loss:0.32486301830167796\n",
            "train loss:0.31391454353567283\n",
            "train loss:0.4380026165744173\n",
            "train loss:0.2387700228221996\n",
            "train loss:0.5639049782205892\n",
            "train loss:0.4465756264498905\n",
            "train loss:0.3850654389365701\n",
            "train loss:0.3310941402975366\n",
            "train loss:0.3255106593126061\n",
            "train loss:0.49999061540374207\n",
            "train loss:0.2449399134020842\n",
            "train loss:0.38383863990766154\n",
            "train loss:0.4432863837773162\n",
            "train loss:0.35489401757284994\n",
            "train loss:0.32117210111890715\n",
            "=== epoch:3, train acc:0.868, test acc:0.874 ===\n",
            "train loss:0.39509536013141305\n",
            "train loss:0.29496714080231157\n",
            "train loss:0.2830497602282876\n",
            "train loss:0.40858777321202167\n",
            "train loss:0.31281318306784717\n",
            "train loss:0.3116739950403338\n",
            "train loss:0.36818072841761534\n",
            "train loss:0.39656247456600335\n",
            "train loss:0.302882619493881\n",
            "train loss:0.4252484190461323\n",
            "train loss:0.25786463372496793\n",
            "train loss:0.27308477897903044\n",
            "train loss:0.29882329944142816\n",
            "train loss:0.2581199328354614\n",
            "train loss:0.4143158299659421\n",
            "train loss:0.30804277448270556\n",
            "train loss:0.4181441583778778\n",
            "train loss:0.5450880352164195\n",
            "train loss:0.28933200365734046\n",
            "train loss:0.23210300365134068\n",
            "train loss:0.28789355180655796\n",
            "train loss:0.28389667872220087\n",
            "train loss:0.3385491611578964\n",
            "train loss:0.2637483344990259\n",
            "train loss:0.22198309772864294\n",
            "train loss:0.2788981215729022\n",
            "train loss:0.2570801085153516\n",
            "train loss:0.30527716904558955\n",
            "train loss:0.2282003048385116\n",
            "train loss:0.22591662135767396\n",
            "train loss:0.21806590108552978\n",
            "train loss:0.29622961248887164\n",
            "train loss:0.2695368318358987\n",
            "train loss:0.3550312560407782\n",
            "train loss:0.23857842295836051\n",
            "train loss:0.2530379331041226\n",
            "train loss:0.3261998728600908\n",
            "train loss:0.2520044095840397\n",
            "train loss:0.3076243460313697\n",
            "train loss:0.465392437200201\n",
            "train loss:0.41467607477244584\n",
            "train loss:0.2606983514426649\n",
            "train loss:0.3283536300720729\n",
            "train loss:0.27241755008493984\n",
            "train loss:0.3577676971934337\n",
            "train loss:0.22454265166040002\n",
            "train loss:0.2349360972770452\n",
            "train loss:0.4549606581344943\n",
            "train loss:0.2575684544833182\n",
            "train loss:0.33634174894805624\n",
            "=== epoch:4, train acc:0.903, test acc:0.897 ===\n",
            "train loss:0.22140505681695416\n",
            "train loss:0.29701249745282055\n",
            "train loss:0.5025024454261391\n",
            "train loss:0.48045347226633356\n",
            "train loss:0.2677760271086529\n",
            "train loss:0.36862255118573756\n",
            "train loss:0.22757394402370654\n",
            "train loss:0.2774709725106658\n",
            "train loss:0.2418786568562082\n",
            "train loss:0.22765552229327043\n",
            "train loss:0.43091248276088534\n",
            "train loss:0.4401803956821924\n",
            "train loss:0.3997812228008057\n",
            "train loss:0.20673666470873564\n",
            "train loss:0.4069728401941719\n",
            "train loss:0.25939362471069144\n",
            "train loss:0.1723059352893799\n",
            "train loss:0.20487767842928925\n",
            "train loss:0.15722360846184166\n",
            "train loss:0.2924812604943875\n",
            "train loss:0.2107872340036846\n",
            "train loss:0.25393563358487276\n",
            "train loss:0.22078886644218088\n",
            "train loss:0.23783253271906027\n",
            "train loss:0.26729432853894974\n",
            "train loss:0.23450484401826724\n",
            "train loss:0.263645170748021\n",
            "train loss:0.14901256214799924\n",
            "train loss:0.2158904880020999\n",
            "train loss:0.37105061052813915\n",
            "train loss:0.2660522780491188\n",
            "train loss:0.20369393121115284\n",
            "train loss:0.22115796091573778\n",
            "train loss:0.1703415629040171\n",
            "train loss:0.12544906430407188\n",
            "train loss:0.3029403706152917\n",
            "train loss:0.16750146811256297\n",
            "train loss:0.3310676460175901\n",
            "train loss:0.2641923553299082\n",
            "train loss:0.2503853533975203\n",
            "train loss:0.16998017452886174\n",
            "train loss:0.241912206675285\n",
            "train loss:0.29092600041380223\n",
            "train loss:0.18668950394563452\n",
            "train loss:0.3883155956267606\n",
            "train loss:0.28991199352025016\n",
            "train loss:0.17651588393603831\n",
            "train loss:0.18868036576212804\n",
            "train loss:0.14870415886628044\n",
            "train loss:0.12423969670916078\n",
            "=== epoch:5, train acc:0.915, test acc:0.898 ===\n",
            "train loss:0.24294056815255602\n",
            "train loss:0.23139838774207927\n",
            "train loss:0.16755501744427967\n",
            "train loss:0.15672554584848972\n",
            "train loss:0.3418097328684425\n",
            "train loss:0.2504071839169839\n",
            "train loss:0.17420838716569606\n",
            "train loss:0.24311316203126693\n",
            "train loss:0.1251821922837889\n",
            "train loss:0.48608727811045066\n",
            "train loss:0.15439751227464973\n",
            "train loss:0.13486307978892284\n",
            "train loss:0.22735493274734464\n",
            "train loss:0.16034482133470163\n",
            "train loss:0.22272073764866754\n",
            "train loss:0.20752594457264883\n",
            "train loss:0.12342469352461068\n",
            "train loss:0.19202871371713037\n",
            "train loss:0.25611734222628324\n",
            "train loss:0.24684467071511873\n",
            "train loss:0.13430389808840693\n",
            "train loss:0.284515926556319\n",
            "train loss:0.24262469675719095\n",
            "train loss:0.3032781265096454\n",
            "train loss:0.2839482403348017\n",
            "train loss:0.13124997464250188\n",
            "train loss:0.2521689347728297\n",
            "train loss:0.17937055297890997\n",
            "train loss:0.1634684685724898\n",
            "train loss:0.10533693915611994\n",
            "train loss:0.29684830385754657\n",
            "train loss:0.1510818271810392\n",
            "train loss:0.2622068835875084\n",
            "train loss:0.21938051440778497\n",
            "train loss:0.2670303498747243\n",
            "train loss:0.14508047816640193\n",
            "train loss:0.13632637428259745\n",
            "train loss:0.18901554988131772\n",
            "train loss:0.27879866161313144\n",
            "train loss:0.21129587412406178\n",
            "train loss:0.12917689047190462\n",
            "train loss:0.2672522138556752\n",
            "train loss:0.2331907307094316\n",
            "train loss:0.2126965742511403\n",
            "train loss:0.23813348410686155\n",
            "train loss:0.17569034688985724\n",
            "train loss:0.11295446641996419\n",
            "train loss:0.14671172962047913\n",
            "train loss:0.19395520285815632\n",
            "=============== Final Test Accuracy ===============\n",
            "test acc:0.919\n",
            "Saved Network Parameters!\n"
          ],
          "name": "stdout"
        },
        {
          "output_type": "display_data",
          "data": {
            "image/png": "[encoded data removed]",
            "text/plain": [
              "<Figure size 432x288 with 1 Axes>"
            ]
          },
          "metadata": {
            "tags": [],
            "needs_background": "light"
          }
        }
      ]
    },
    {
      "cell_type": "code",
      "metadata": {
        "id": "BJtTEO1FVP3h"
      },
      "source": [
        ""
      ],
      "execution_count": null,
      "outputs": []
    }
  ]
}