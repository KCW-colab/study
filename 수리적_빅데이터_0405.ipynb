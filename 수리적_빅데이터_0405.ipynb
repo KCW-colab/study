{
  "nbformat": 4,
  "nbformat_minor": 0,
  "metadata": {
    "colab": {
      "name": "수리적 빅데이터 0405.ipynb",
      "provenance": [],
      "collapsed_sections": []
    },
    "kernelspec": {
      "name": "python3",
      "display_name": "Python 3"
    },
    "language_info": {
      "name": "python"
    }
  },
  "cells": [
    {
      "cell_type": "markdown",
      "metadata": {
        "id": "TJIj2pCP-snu"
      },
      "source": [
        "1번 과제\n",
        "\n",
        "다음 주어진 10개의 x, y 데이터를 이용하여 5차까지의 polynomial regression을 만드시오.\n",
        "외부 라이브러리, optimal form 둘 다 각각 만드시오.\n",
        " "
      ]
    },
    {
      "cell_type": "code",
      "metadata": {
        "id": "HZVURbBhwOlq"
      },
      "source": [
        "height = [66, 68, 60, 70, 65, 61, 74, 73, 75, 67]\n",
        "weight = [160, 170, 110, 178, 155, 120, 223, 215, 235, 164]"
      ],
      "execution_count": 1,
      "outputs": []
    },
    {
      "cell_type": "code",
      "metadata": {
        "colab": {
          "base_uri": "https://localhost:8080/"
        },
        "id": "e7q-5ZM8wfSz",
        "outputId": "1432152f-73b3-4c80-b9c5-3120f8581e69"
      },
      "source": [
        "len(height)\n",
        "len(weight)"
      ],
      "execution_count": 2,
      "outputs": [
        {
          "output_type": "execute_result",
          "data": {
            "text/plain": [
              "10"
            ]
          },
          "metadata": {
            "tags": []
          },
          "execution_count": 2
        }
      ]
    },
    {
      "cell_type": "code",
      "metadata": {
        "colab": {
          "base_uri": "https://localhost:8080/"
        },
        "id": "5JNeSqlTwhNh",
        "outputId": "e5d0abb0-15c2-422c-9d64-7d6a8baa48ec"
      },
      "source": [
        "import scipy as sp\n",
        "import numpy as np\n",
        "import math\n",
        "from numpy import linalg as LA\n",
        "def polynomial_regression(x, y, p):\n",
        "  coefs = sp.polyfit(x, y, p)\n",
        "  print(coefs)\n",
        "p_list = [1, 2, 3, 4, 5]\n",
        "for i in p_list:\n",
        "  polynomial_regression(height, weight, i) # 외부 모듈을 이용한 coefficients 추출port scipy as sp\n",
        "  import numpy as np\n",
        "  import math\n",
        "  from numpy import linalg as LA\n",
        "  def polynomial_regression(x, y, p):\n",
        "    coefs = sp.polyfit(x, y, p)\n",
        "      print(coefs)\n",
        "      p_list = [1, 2, 3, 4, 5]\n",
        "      for i in p_list:\n",
        "        polynomial_regression(height, weight, i) # 외부 모듈을 이용한 coefficients 추출\n",
        "        \n",
        "  "
      ],
      "execution_count": 13,
      "outputs": [
        {
          "output_type": "stream",
          "text": [
            "[   7.96180988 -367.60689083]\n",
            "[ 0.08974148 -4.17787681 40.77094023]\n",
            "[ 5.25818087e-02 -1.05381378e+01  7.09488569e+02 -1.58802027e+04]\n",
            "[-4.10703622e-03  1.16583062e+00 -1.23470947e+02  5.79087719e+03\n",
            " -1.01441279e+05]\n",
            "[-1.49684452e-03  5.02390738e-01 -6.72843541e+01  4.49474093e+03\n",
            " -1.49759779e+05  1.99101232e+06]\n"
          ],
          "name": "stdout"
        },
        {
          "output_type": "stream",
          "text": [
            "/usr/local/lib/python3.7/dist-packages/ipykernel_launcher.py:6: DeprecationWarning: scipy.polyfit is deprecated and will be removed in SciPy 2.0.0, use numpy.polyfit instead\n",
            "  \n"
          ],
          "name": "stderr"
        }
      ]
    },
    {
      "cell_type": "code",
      "metadata": {
        "colab": {
          "base_uri": "https://localhost:8080/"
        },
        "id": "r3i7pp4y2BKc",
        "outputId": "c91602ab-f9a0-4120-aa93-7b889e06caec"
      },
      "source": [
        "y = np.c_[height]\n",
        "print(y)"
      ],
      "execution_count": 34,
      "outputs": [
        {
          "output_type": "stream",
          "text": [
            "[[66]\n",
            " [68]\n",
            " [60]\n",
            " [70]\n",
            " [65]\n",
            " [61]\n",
            " [74]\n",
            " [73]\n",
            " [75]\n",
            " [67]]\n"
          ],
          "name": "stdout"
        }
      ]
    },
    {
      "cell_type": "code",
      "metadata": {
        "id": "FWWkUgpS3GgJ"
      },
      "source": [
        "def make_X(x, p):\n",
        "  X = []\n",
        "  for i in range(p + 1):\n",
        "    X.append([x[j]**i for j in range(len(x))])\n",
        "  A = [X[k] for k in range(len(X))]\n",
        "  return np.c_[A].transpose()\n",
        "  "
      ],
      "execution_count": 101,
      "outputs": []
    },
    {
      "cell_type": "code",
      "metadata": {
        "colab": {
          "base_uri": "https://localhost:8080/"
        },
        "id": "eFjWlFXR3f99",
        "outputId": "cc8fbb20-d3a6-4f0d-90f7-00b95b713456"
      },
      "source": [
        "print(make_X(height, 3))\n"
      ],
      "execution_count": 102,
      "outputs": [
        {
          "output_type": "stream",
          "text": [
            "[[     1     66   4356 287496]\n",
            " [     1     68   4624 314432]\n",
            " [     1     60   3600 216000]\n",
            " [     1     70   4900 343000]\n",
            " [     1     65   4225 274625]\n",
            " [     1     61   3721 226981]\n",
            " [     1     74   5476 405224]\n",
            " [     1     73   5329 389017]\n",
            " [     1     75   5625 421875]\n",
            " [     1     67   4489 300763]]\n"
          ],
          "name": "stdout"
        }
      ]
    },
    {
      "cell_type": "code",
      "metadata": {
        "id": "8y3u7U_C3h_w"
      },
      "source": [
        "from numpy.linalg import inv\n",
        "# optimal form에서의 coefficients 추출\n",
        "def explicit_polynomial_regression_solution(p):\n",
        "    x_data = make_X(height, p)\n",
        "    y_data = weight\n",
        "    coeffs = inv(x_data.transpose().dot(x_data)).dot(x_data.transpose()).dot(y_data)\n",
        "    print(coeffs)"
      ],
      "execution_count": 104,
      "outputs": []
    },
    {
      "cell_type": "code",
      "metadata": {
        "colab": {
          "base_uri": "https://localhost:8080/"
        },
        "id": "7nJzebDE5Kw_",
        "outputId": "211b8d35-3e5b-4be8-e589-6bd97530edb0"
      },
      "source": [
        "for i in p_list:\n",
        "  explicit_polynomial_regression_solution(i)"
      ],
      "execution_count": 106,
      "outputs": [
        {
          "output_type": "stream",
          "text": [
            "[-367.60689083    7.96180988]\n",
            "[40.77094022 -4.17787681  0.08974148]\n",
            "[-1.58802025e+04  7.09488561e+02 -1.05381377e+01  5.25818081e-02]\n",
            "[-1.01437886e+05  5.79067584e+03 -1.23466474e+02  1.16578654e+00\n",
            " -4.10687371e-03]\n",
            "[-1.01441751e+05  5.79090535e+03 -1.23471573e+02  1.16583679e+00\n",
            " -4.10705894e-03  1.13406123e-15]\n"
          ],
          "name": "stdout"
        }
      ]
    },
    {
      "cell_type": "markdown",
      "metadata": {
        "id": "hwiNjW5X-56m"
      },
      "source": [
        "2번 과제\n",
        "다음 real estate 파일을 이용하여 훈련 데이터를 370까지, 그 뒤는 테스트 데이터로 분리하라. 그 후 linear regression 함수를 찾고 SSE를 계산하여라."
      ]
    },
    {
      "cell_type": "code",
      "metadata": {
        "colab": {
          "base_uri": "https://localhost:8080/",
          "height": 279
        },
        "id": "sIQ0WIBj9jYL",
        "outputId": "b87c2485-1234-49f8-bb86-b06f487689e7"
      },
      "source": [
        "import pandas as pd\n",
        "\n",
        "df= pd.read_excel('/content/Real estate.xlsx')\n",
        "df.head()\n"
      ],
      "execution_count": 179,
      "outputs": [
        {
          "output_type": "execute_result",
          "data": {
            "text/html": [
              "<div>\n",
              "<style scoped>\n",
              "    .dataframe tbody tr th:only-of-type {\n",
              "        vertical-align: middle;\n",
              "    }\n",
              "\n",
              "    .dataframe tbody tr th {\n",
              "        vertical-align: top;\n",
              "    }\n",
              "\n",
              "    .dataframe thead th {\n",
              "        text-align: right;\n",
              "    }\n",
              "</style>\n",
              "<table border=\"1\" class=\"dataframe\">\n",
              "  <thead>\n",
              "    <tr style=\"text-align: right;\">\n",
              "      <th></th>\n",
              "      <th>No</th>\n",
              "      <th>X1 transaction date</th>\n",
              "      <th>X2 house age</th>\n",
              "      <th>X3 distance to the nearest MRT station</th>\n",
              "      <th>X4 number of convenience stores</th>\n",
              "      <th>X5 latitude</th>\n",
              "      <th>X6 longitude</th>\n",
              "      <th>Y house price of unit area</th>\n",
              "    </tr>\n",
              "  </thead>\n",
              "  <tbody>\n",
              "    <tr>\n",
              "      <th>0</th>\n",
              "      <td>1</td>\n",
              "      <td>2012.917</td>\n",
              "      <td>32.0</td>\n",
              "      <td>84.87882</td>\n",
              "      <td>10</td>\n",
              "      <td>24.98298</td>\n",
              "      <td>121.54024</td>\n",
              "      <td>37.9</td>\n",
              "    </tr>\n",
              "    <tr>\n",
              "      <th>1</th>\n",
              "      <td>2</td>\n",
              "      <td>2012.917</td>\n",
              "      <td>19.5</td>\n",
              "      <td>306.59470</td>\n",
              "      <td>9</td>\n",
              "      <td>24.98034</td>\n",
              "      <td>121.53951</td>\n",
              "      <td>42.2</td>\n",
              "    </tr>\n",
              "    <tr>\n",
              "      <th>2</th>\n",
              "      <td>3</td>\n",
              "      <td>2013.583</td>\n",
              "      <td>13.3</td>\n",
              "      <td>561.98450</td>\n",
              "      <td>5</td>\n",
              "      <td>24.98746</td>\n",
              "      <td>121.54391</td>\n",
              "      <td>47.3</td>\n",
              "    </tr>\n",
              "    <tr>\n",
              "      <th>3</th>\n",
              "      <td>4</td>\n",
              "      <td>2013.500</td>\n",
              "      <td>13.3</td>\n",
              "      <td>561.98450</td>\n",
              "      <td>5</td>\n",
              "      <td>24.98746</td>\n",
              "      <td>121.54391</td>\n",
              "      <td>54.8</td>\n",
              "    </tr>\n",
              "    <tr>\n",
              "      <th>4</th>\n",
              "      <td>5</td>\n",
              "      <td>2012.833</td>\n",
              "      <td>5.0</td>\n",
              "      <td>390.56840</td>\n",
              "      <td>5</td>\n",
              "      <td>24.97937</td>\n",
              "      <td>121.54245</td>\n",
              "      <td>43.1</td>\n",
              "    </tr>\n",
              "  </tbody>\n",
              "</table>\n",
              "</div>"
            ],
            "text/plain": [
              "   No  X1 transaction date  ...  X6 longitude  Y house price of unit area\n",
              "0   1             2012.917  ...     121.54024                        37.9\n",
              "1   2             2012.917  ...     121.53951                        42.2\n",
              "2   3             2013.583  ...     121.54391                        47.3\n",
              "3   4             2013.500  ...     121.54391                        54.8\n",
              "4   5             2012.833  ...     121.54245                        43.1\n",
              "\n",
              "[5 rows x 8 columns]"
            ]
          },
          "metadata": {
            "tags": []
          },
          "execution_count": 179
        }
      ]
    },
    {
      "cell_type": "code",
      "metadata": {
        "id": "wVAiLfbgEEDK"
      },
      "source": [
        "data_X = np.c_[df['X1 transaction date'] , df['X2 house age'], df['X3 distance to the nearest MRT station'],\n",
        "             df['X4 number of convenience stores'], df['X5 latitude'], df['X6 longitude']]\n",
        "data_Y = np.hstack(df['Y house price of unit area'])\n"
      ],
      "execution_count": 180,
      "outputs": []
    },
    {
      "cell_type": "code",
      "metadata": {
        "colab": {
          "base_uri": "https://localhost:8080/"
        },
        "id": "QYCz0DxNA2_0",
        "outputId": "bfeb6067-d7b8-40f0-c3de-9edca386504f"
      },
      "source": [
        "data_train_X = data_X[:370]\n",
        "data_train_Y = data_Y[:370]\n",
        "data_test_X = data_X[370:]\n",
        "data_test_Y = data_Y[370:]\n",
        "print(data_train_Y)\n",
        "print(data_train_X)"
      ],
      "execution_count": 181,
      "outputs": [
        {
          "output_type": "stream",
          "text": [
            "[ 37.9  42.2  47.3  54.8  43.1  32.1  40.3  46.7  18.8  22.1  41.4  58.1\n",
            "  39.3  23.8  34.3  50.5  70.1  37.4  42.3  47.7  29.3  51.6  24.6  47.9\n",
            "  38.8  27.   56.2  33.6  47.   57.1  22.1  25.   34.2  49.3  55.1  27.3\n",
            "  22.9  25.3  47.7  46.2  15.9  18.2  34.7  34.1  53.9  38.3  42.   61.5\n",
            "  13.4  13.2  44.2  20.7  27.   38.9  51.7  13.7  41.9  53.5  22.6  42.4\n",
            "  21.3  63.2  27.7  55.   25.3  44.3  50.7  56.8  36.2  42.   59.   40.8\n",
            "  36.3  20.   54.4  29.5  36.8  25.6  29.8  26.5  40.3  36.8  48.1  17.7\n",
            "  43.7  50.8  27.   18.3  48.   25.3  45.4  43.2  21.8  16.1  41.   51.8\n",
            "  59.5  34.6  51.   62.2  38.2  32.9  54.4  45.7  30.5  71.   47.1  26.6\n",
            "  34.1  28.4  51.6  39.4  23.1   7.6  53.3  46.4  12.2  13.   30.6  59.6\n",
            "  31.3  48.   32.5  45.5  57.4  48.6  62.9  55.   60.7  41.   37.5  30.7\n",
            "  37.5  39.5  42.2  20.8  46.8  47.4  43.5  42.5  51.4  28.9  37.5  40.1\n",
            "  28.4  45.5  52.2  43.2  45.1  39.7  48.5  44.7  28.9  40.9  20.7  15.6\n",
            "  18.3  35.6  39.4  37.4  57.8  39.6  11.6  55.5  55.2  30.6  73.6  43.4\n",
            "  37.4  23.5  14.4  58.8  58.1  35.1  45.2  36.5  19.2  42.   36.7  42.6\n",
            "  15.5  55.9  23.6  18.8  21.8  21.5  25.7  22.   44.3  20.5  42.3  37.8\n",
            "  42.7  49.3  29.3  34.6  36.6  48.2  39.1  31.6  25.5  45.9  31.5  46.1\n",
            "  26.6  21.4  44.   34.2  26.2  40.9  52.2  43.5  31.1  58.   20.9  48.1\n",
            "  39.7  40.8  43.8  40.2  78.3  38.5  48.5  42.3  46.   49.   12.8  40.2\n",
            "  46.6  19.   33.4  14.7  17.4  32.4  23.9  39.3  61.9  39.   40.6  29.7\n",
            "  28.8  41.4  33.4  48.2  21.7  40.8  40.6  23.1  22.3  15.   30.   13.8\n",
            "  52.7  25.9  51.8  17.4  26.5  43.9  63.3  28.8  30.7  24.4  53.   31.7\n",
            "  40.6  38.1  23.7  41.1  40.1  23.  117.5  26.5  40.5  29.3  41.   49.7\n",
            "  34.   27.7  44.   31.1  45.4  44.8  25.6  23.5  34.4  55.3  56.3  32.9\n",
            "  51.   44.5  37.   54.4  24.5  42.5  38.1  21.8  34.1  28.5  16.7  46.1\n",
            "  36.9  35.7  23.2  38.4  29.4  55.   50.2  24.7  53.   19.1  24.7  42.2\n",
            "  78.   42.8  41.6  27.3  42.   37.5  49.8  26.9  18.6  37.7  33.1  42.5\n",
            "  31.3  38.1  62.1  36.7  23.6  19.2  12.8  15.6  39.6  38.4  22.8  36.5\n",
            "  35.6  30.9  36.3  50.4  42.9  37.   53.5  46.6  41.2  37.9  30.8  11.2\n",
            "  53.7  47.   42.3  28.6  25.7  31.3  30.1  60.7  45.3  44.9  45.1  24.7\n",
            "  47.1  63.3  40.   48.   33.1  29.5  24.8  20.9  43.1  22.8]\n",
            "[[2.0129170e+03 3.2000000e+01 8.4878820e+01 1.0000000e+01 2.4982980e+01\n",
            "  1.2154024e+02]\n",
            " [2.0129170e+03 1.9500000e+01 3.0659470e+02 9.0000000e+00 2.4980340e+01\n",
            "  1.2153951e+02]\n",
            " [2.0135830e+03 1.3300000e+01 5.6198450e+02 5.0000000e+00 2.4987460e+01\n",
            "  1.2154391e+02]\n",
            " ...\n",
            " [2.0128330e+03 1.5000000e+01 1.8283190e+03 2.0000000e+00 2.4964640e+01\n",
            "  1.2151531e+02]\n",
            " [2.0134170e+03 1.8200000e+01 3.5085150e+02 1.0000000e+00 2.4975440e+01\n",
            "  1.2153119e+02]\n",
            " [2.0126670e+03 2.0200000e+01 2.1851280e+03 3.0000000e+00 2.4963220e+01\n",
            "  1.2151237e+02]]\n"
          ],
          "name": "stdout"
        }
      ]
    },
    {
      "cell_type": "code",
      "metadata": {
        "colab": {
          "base_uri": "https://localhost:8080/"
        },
        "id": "BmlrO9UaBPda",
        "outputId": "119a49a7-04bd-49f7-cf93-1baf46069019"
      },
      "source": [
        "print(len(data_train))\n",
        "print(len(data_test))"
      ],
      "execution_count": 182,
      "outputs": [
        {
          "output_type": "stream",
          "text": [
            "6\n",
            "44\n"
          ],
          "name": "stdout"
        }
      ]
    },
    {
      "cell_type": "code",
      "metadata": {
        "colab": {
          "base_uri": "https://localhost:8080/"
        },
        "id": "uhlKMg9sBUPt",
        "outputId": "74d08f6e-39a7-45cb-f1be-e5395a91410a"
      },
      "source": [
        "from sklearn.linear_model import LinearRegression\n",
        "\n",
        "LR = LinearRegression() # sklearn에서 모델 사용\n",
        "LR.fit(data_train_X, data_train_Y)\n",
        "print(LR.coef_)\n",
        "print(LR.intercept_)"
      ],
      "execution_count": 183,
      "outputs": [
        {
          "output_type": "stream",
          "text": [
            "[ 5.22546644e+00 -2.70431480e-01 -4.25853518e-03  1.13015730e+00\n",
            "  2.56875318e+02 -9.97263765e+00]\n",
            "-15678.8337730268\n"
          ],
          "name": "stdout"
        }
      ]
    },
    {
      "cell_type": "code",
      "metadata": {
        "colab": {
          "base_uri": "https://localhost:8080/"
        },
        "id": "oy36etU-G-4E",
        "outputId": "6329275e-d771-4694-c48a-82102ebb9a0e"
      },
      "source": [
        "LR.predict(data_test_X) \n",
        "np.sum((LR.predict(data_test_X) - data_test_Y)**2) # sklearn 모델의 SSE 계산"
      ],
      "execution_count": 186,
      "outputs": [
        {
          "output_type": "execute_result",
          "data": {
            "text/plain": [
              "3068.9345959586303"
            ]
          },
          "metadata": {
            "tags": []
          },
          "execution_count": 186
        }
      ]
    },
    {
      "cell_type": "code",
      "metadata": {
        "colab": {
          "base_uri": "https://localhost:8080/"
        },
        "id": "yAVDvJXTIunI",
        "outputId": "4f46016e-a3cb-4402-f8f4-49b3b76bd2d7"
      },
      "source": [
        "A_0 = [1 for i in range(len(data_train_X))]\n",
        "new_X = np.c_[A_0, data_train_X]\n",
        "print(new_X)"
      ],
      "execution_count": 195,
      "outputs": [
        {
          "output_type": "stream",
          "text": [
            "[[1.0000000e+00 2.0129170e+03 3.2000000e+01 ... 1.0000000e+01\n",
            "  2.4982980e+01 1.2154024e+02]\n",
            " [1.0000000e+00 2.0129170e+03 1.9500000e+01 ... 9.0000000e+00\n",
            "  2.4980340e+01 1.2153951e+02]\n",
            " [1.0000000e+00 2.0135830e+03 1.3300000e+01 ... 5.0000000e+00\n",
            "  2.4987460e+01 1.2154391e+02]\n",
            " ...\n",
            " [1.0000000e+00 2.0128330e+03 1.5000000e+01 ... 2.0000000e+00\n",
            "  2.4964640e+01 1.2151531e+02]\n",
            " [1.0000000e+00 2.0134170e+03 1.8200000e+01 ... 1.0000000e+00\n",
            "  2.4975440e+01 1.2153119e+02]\n",
            " [1.0000000e+00 2.0126670e+03 2.0200000e+01 ... 3.0000000e+00\n",
            "  2.4963220e+01 1.2151237e+02]]\n"
          ],
          "name": "stdout"
        }
      ]
    },
    {
      "cell_type": "code",
      "metadata": {
        "id": "A-bgKETABdW5"
      },
      "source": [
        "from numpy.linalg import inv\n",
        "# optimal form을 이용한 해 찾기\n",
        "def explicit_linear_regression_solution():\n",
        "    x_data = new_X\n",
        "    y_data = data_train_Y\n",
        "    coeffs = inv(x_data.transpose().dot(x_data)).dot(x_data.transpose()).dot(y_data)\n",
        "    return coeffs"
      ],
      "execution_count": 204,
      "outputs": []
    },
    {
      "cell_type": "code",
      "metadata": {
        "colab": {
          "base_uri": "https://localhost:8080/"
        },
        "id": "kxtyonJ-Gaf-",
        "outputId": "598ff571-4837-40e1-be9d-0e78655cc5c8"
      },
      "source": [
        "coef = explicit_linear_regression_solution() \n",
        "print(coef)"
      ],
      "execution_count": 197,
      "outputs": [
        {
          "output_type": "stream",
          "text": [
            "[-1.56788342e+04  5.22546638e+00 -2.70431480e-01 -4.25853513e-03\n",
            "  1.13015730e+00  2.56875317e+02 -9.97263277e+00]\n"
          ],
          "name": "stdout"
        }
      ]
    },
    {
      "cell_type": "code",
      "metadata": {
        "id": "BzAX9iyXGbym"
      },
      "source": [
        "predict = []\n",
        "for i in range(len(data_test_X)):\n",
        "  sum = 0\n",
        "  for j in range(len(coef) - 1):\n",
        "    sum += data_test_X[i][j] * coef[j+1]\n",
        "  sum += coef[0]\n",
        "  predict.append(sum)"
      ],
      "execution_count": 202,
      "outputs": []
    },
    {
      "cell_type": "code",
      "metadata": {
        "colab": {
          "base_uri": "https://localhost:8080/"
        },
        "id": "MSC6kInhHuNh",
        "outputId": "72e3926b-8328-4c36-d8b6-5bf668629fc0"
      },
      "source": [
        "np.sum((predict - data_test_Y)**2) # 손코딩 SSE 계산"
      ],
      "execution_count": 203,
      "outputs": [
        {
          "output_type": "execute_result",
          "data": {
            "text/plain": [
              "3068.9345399026897"
            ]
          },
          "metadata": {
            "tags": []
          },
          "execution_count": 203
        }
      ]
    }
  ]
}